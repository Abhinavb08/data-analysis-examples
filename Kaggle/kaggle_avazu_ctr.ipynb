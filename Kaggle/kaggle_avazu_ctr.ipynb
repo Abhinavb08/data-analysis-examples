{
 "metadata": {
  "name": "",
  "signature": "sha256:22574ceadba69da01af9887330d5933c501c198abbf321598f28e97b5e10c386"
 },
 "nbformat": 3,
 "nbformat_minor": 0,
 "worksheets": [
  {
   "cells": [
    {
     "cell_type": "heading",
     "level": 1,
     "metadata": {},
     "source": [
      "Kaggle Avazu CTR Competition\n"
     ]
    },
    {
     "cell_type": "code",
     "collapsed": false,
     "input": [
      "import numpy as np\n",
      "import datetime as dt\n",
      "import pandas as pd\n",
      "import matplotlib.pyplot as plt\n",
      "from sklearn.preprocessing import scale, OneHotEncoder, LabelEncoder, StandardScaler\n",
      "from sklearn.cluster import KMeans\n",
      "from sklearn.feature_extraction import DictVectorizer, FeatureHasher\n",
      "from sklearn.feature_extraction.text import TfidfVectorizer\n",
      "from sklearn import metrics  # For stats like\n",
      "from sklearn.neighbors import KNeighborsClassifier\n",
      "from sklearn.linear_model import SGDClassifier, LogisticRegression, LinearRegression\n",
      "from sklearn.cross_validation import cross_val_score, train_test_split, KFold\n",
      "from sklearn.naive_bayes import GaussianNB\n",
      "import statsmodels.api as sm\n",
      "import seaborn as sns\n",
      "#import pyprind as pp\n",
      "#import time\n",
      "\n",
      "%matplotlib inline"
     ],
     "language": "python",
     "metadata": {},
     "outputs": [],
     "prompt_number": 2
    },
    {
     "cell_type": "code",
     "collapsed": false,
     "input": [
      "import sys\n",
      "print 'Python version ' + sys.version\n",
      "print 'Pandas version ' + pd.__version__"
     ],
     "language": "python",
     "metadata": {},
     "outputs": [
      {
       "output_type": "stream",
       "stream": "stdout",
       "text": [
        "Python version 2.7.9 |Anaconda 2.1.0 (x86_64)| (default, Dec 15 2014, 10:37:34) \n",
        "[GCC 4.2.1 (Apple Inc. build 5577)]\n",
        "Pandas version 0.15.2\n"
       ]
      }
     ],
     "prompt_number": 3
    },
    {
     "cell_type": "code",
     "collapsed": false,
     "input": [
      "### Get Path to files\n",
      "print \"Getting path to files...\"\n",
      "train_file = r'/Users/williamliu/Desktop/Kaggle_Avazu/train'\n",
      "test_file = r'/Users/williamliu/Desktop/Kaggle_Avazu/test'"
     ],
     "language": "python",
     "metadata": {},
     "outputs": [
      {
       "output_type": "stream",
       "stream": "stdout",
       "text": [
        "Getting path to files...\n"
       ]
      }
     ],
     "prompt_number": 4
    },
    {
     "cell_type": "code",
     "collapsed": false,
     "input": [
      "train = pd.read_csv(filepath_or_buffer=train_file,\n",
      "            sep=\",\",\n",
      "            #usecols=['click', 'hour', 'banner_pos', 'C18'],  # Feature Extraction\n",
      "            dtype={\n",
      "                   'click':np.int32,\n",
      "                   'banner_pos':pd.Categorical,\n",
      "                   'hour':np.str,\n",
      "                   'C18':pd.Categorical},\n",
      "            #converters={'hour':make_date},\n",
      "            #parse_dates=['hour']\n",
      "            #low_memory=False\n",
      "            )\n",
      "test = pd.read_csv(filepath_or_buffer=test_file,\n",
      "            sep=\",\",\n",
      "            #usecols=['hour', 'banner_pos', 'C18'],\n",
      "            dtype={\n",
      "                   'banner_pos':pd.Categorical,\n",
      "                   'hour':np.str,\n",
      "                   'C18':pd.Categorical},\n",
      "            #converters={'hour':make_date},\n",
      "            #parse_dates=['hour']\n",
      "            )"
     ],
     "language": "python",
     "metadata": {},
     "outputs": [
      {
       "output_type": "stream",
       "stream": "stderr",
       "text": [
        "/Users/williamliu/anaconda/lib/python2.7/site-packages/pandas/io/parsers.py:1159: DtypeWarning: Columns (0) have mixed types. Specify dtype option on import or set low_memory=False.\n",
        "  data = self._reader.read(nrows)\n"
       ]
      }
     ],
     "prompt_number": 5
    },
    {
     "cell_type": "code",
     "collapsed": false,
     "input": [
      "train.info()"
     ],
     "language": "python",
     "metadata": {},
     "outputs": [
      {
       "output_type": "stream",
       "stream": "stdout",
       "text": [
        "<class 'pandas.core.frame.DataFrame'>\n",
        "Int64Index: 40428967 entries, 0 to 40428966\n",
        "Data columns (total 24 columns):\n",
        "id                  object\n",
        "click               int32\n",
        "hour                object\n",
        "C1                  int64\n",
        "banner_pos          object\n",
        "site_id             object\n",
        "site_domain         object\n",
        "site_category       object\n",
        "app_id              object\n",
        "app_domain          object\n",
        "app_category        object\n",
        "device_id           object\n",
        "device_ip           object\n",
        "device_model        object\n",
        "device_type         int64\n",
        "device_conn_type    int64\n",
        "C14                 int64\n",
        "C15                 int64\n",
        "C16                 int64\n",
        "C17                 int64\n",
        "C18                 object\n",
        "C19                 int64\n",
        "C20                 int64\n",
        "C21                 int64\n",
        "dtypes: int32(1), int64(10), object(13)\n",
        "memory usage: 7.4+ GB\n"
       ]
      }
     ],
     "prompt_number": 7
    },
    {
     "cell_type": "code",
     "collapsed": false,
     "input": [
      "test.info()"
     ],
     "language": "python",
     "metadata": {},
     "outputs": [
      {
       "output_type": "stream",
       "stream": "stdout",
       "text": [
        "<class 'pandas.core.frame.DataFrame'>\n",
        "Int64Index: 4577464 entries, 0 to 4577463\n",
        "Data columns (total 23 columns):\n",
        "id                  object\n",
        "hour                object\n",
        "C1                  int64\n",
        "banner_pos          object\n",
        "site_id             object\n",
        "site_domain         object\n",
        "site_category       object\n",
        "app_id              object\n",
        "app_domain          object\n",
        "app_category        object\n",
        "device_id           object\n",
        "device_ip           object\n",
        "device_model        object\n",
        "device_type         int64\n",
        "device_conn_type    int64\n",
        "C14                 int64\n",
        "C15                 int64\n",
        "C16                 int64\n",
        "C17                 int64\n",
        "C18                 object\n",
        "C19                 int64\n",
        "C20                 int64\n",
        "C21                 int64\n",
        "dtypes: int64(10), object(13)\n",
        "memory usage: 838.2+ MB\n"
       ]
      }
     ],
     "prompt_number": 8
    },
    {
     "cell_type": "code",
     "collapsed": false,
     "input": [
      "# Make copies of raw data\n",
      "train_data = train\n",
      "test_data = test"
     ],
     "language": "python",
     "metadata": {},
     "outputs": [],
     "prompt_number": 28
    },
    {
     "cell_type": "code",
     "collapsed": false,
     "input": [
      "# Put Day and Hours\n",
      "train_data['time_day'] = train_data['hour'].str[4:6]  # Days: 22-31\n",
      "train_data['time_hour'] = train_data['hour'].str[6:8]  # Hours: 00-23\n",
      "test_data['time_day'] = test_data['hour'].str[4:6]  # Days: 22-31\n",
      "test_data['time_hour'] = test_data['hour'].str[6:8]  # Hours: 00-23"
     ],
     "language": "python",
     "metadata": {},
     "outputs": [],
     "prompt_number": 29
    },
    {
     "cell_type": "code",
     "collapsed": false,
     "input": [
      "# Only get the fields we're interested in\n",
      "train_data = train_data[['click', 'time_day', 'time_hour', 'banner_pos', 'C18']]\n",
      "test_data = test_data[['time_day', 'time_hour', 'banner_pos', 'C18']]"
     ],
     "language": "python",
     "metadata": {},
     "outputs": [],
     "prompt_number": 30
    },
    {
     "cell_type": "code",
     "collapsed": false,
     "input": [
      "type(train_data)\n",
      "print train_data.describe()\n",
      "print train_data.info()"
     ],
     "language": "python",
     "metadata": {},
     "outputs": [
      {
       "output_type": "stream",
       "stream": "stdout",
       "text": [
        "                 click\n",
        "count  40428967.000000\n",
        "mean          0.169806\n",
        "std           0.375462\n",
        "min           0.000000\n",
        "25%           0.000000\n",
        "50%           0.000000\n",
        "75%           0.000000\n",
        "max           1.000000\n",
        "<class 'pandas.core.frame.DataFrame'>\n",
        "Int64Index: 40428967 entries, 0 to 40428966\n",
        "Data columns (total 5 columns):\n",
        "click         int32\n",
        "time_day      object\n",
        "time_hour     object\n",
        "banner_pos    object\n",
        "C18           object\n",
        "dtypes: int32(1), object(4)\n",
        "memory usage: 1.7+ GB\n",
        "None\n"
       ]
      }
     ],
     "prompt_number": 51
    },
    {
     "cell_type": "code",
     "collapsed": false,
     "input": [
      "train_data.time_day = train_data.time_day.astype(np.int32)\n",
      "train_data.time_hour = train_data.time_hour.astype(np.int32)\n",
      "train_data.banner_pos = train_data.banner_pos.astype(np.int32)\n",
      "train_data.C18 = train_data.C18.astype(np.int32)"
     ],
     "language": "python",
     "metadata": {},
     "outputs": [
      {
       "output_type": "stream",
       "stream": "stderr",
       "text": [
        "/Users/williamliu/anaconda/lib/python2.7/site-packages/pandas/core/generic.py:1974: SettingWithCopyWarning: \n",
        "A value is trying to be set on a copy of a slice from a DataFrame.\n",
        "Try using .loc[row_indexer,col_indexer] = value instead\n",
        "\n",
        "See the the caveats in the documentation: http://pandas.pydata.org/pandas-docs/stable/indexing.html#indexing-view-versus-copy\n",
        "  self[name] = value\n"
       ]
      }
     ],
     "prompt_number": 53
    },
    {
     "cell_type": "code",
     "collapsed": false,
     "input": [
      "train_data.tail()"
     ],
     "language": "python",
     "metadata": {},
     "outputs": [
      {
       "html": [
        "<div style=\"max-height:1000px;max-width:1500px;overflow:auto;\">\n",
        "<table border=\"1\" class=\"dataframe\">\n",
        "  <thead>\n",
        "    <tr style=\"text-align: right;\">\n",
        "      <th></th>\n",
        "      <th>click</th>\n",
        "      <th>time_day</th>\n",
        "      <th>time_hour</th>\n",
        "      <th>banner_pos</th>\n",
        "      <th>C18</th>\n",
        "    </tr>\n",
        "  </thead>\n",
        "  <tbody>\n",
        "    <tr>\n",
        "      <th>40428962</th>\n",
        "      <td> 1</td>\n",
        "      <td> 30</td>\n",
        "      <td> 23</td>\n",
        "      <td> 1</td>\n",
        "      <td> 3</td>\n",
        "    </tr>\n",
        "    <tr>\n",
        "      <th>40428963</th>\n",
        "      <td> 0</td>\n",
        "      <td> 30</td>\n",
        "      <td> 23</td>\n",
        "      <td> 0</td>\n",
        "      <td> 0</td>\n",
        "    </tr>\n",
        "    <tr>\n",
        "      <th>40428964</th>\n",
        "      <td> 0</td>\n",
        "      <td> 30</td>\n",
        "      <td> 23</td>\n",
        "      <td> 1</td>\n",
        "      <td> 0</td>\n",
        "    </tr>\n",
        "    <tr>\n",
        "      <th>40428965</th>\n",
        "      <td> 1</td>\n",
        "      <td> 30</td>\n",
        "      <td> 23</td>\n",
        "      <td> 0</td>\n",
        "      <td> 3</td>\n",
        "    </tr>\n",
        "    <tr>\n",
        "      <th>40428966</th>\n",
        "      <td> 0</td>\n",
        "      <td> 30</td>\n",
        "      <td> 23</td>\n",
        "      <td> 0</td>\n",
        "      <td> 0</td>\n",
        "    </tr>\n",
        "  </tbody>\n",
        "</table>\n",
        "</div>"
       ],
       "metadata": {},
       "output_type": "pyout",
       "prompt_number": 54,
       "text": [
        "          click  time_day  time_hour  banner_pos  C18\n",
        "40428962      1        30         23           1    3\n",
        "40428963      0        30         23           0    0\n",
        "40428964      0        30         23           1    0\n",
        "40428965      1        30         23           0    3\n",
        "40428966      0        30         23           0    0"
       ]
      }
     ],
     "prompt_number": 54
    },
    {
     "cell_type": "code",
     "collapsed": false,
     "input": [
      "test_data.time_day = test_data.time_day.astype(np.int32)\n",
      "test_data.time_hour = test_data.time_hour.astype(np.int32)\n",
      "test_data.banner_pos = test_data.banner_pos.astype(np.int32)\n",
      "test_data.C18 = test_data.C18.astype(np.int32)"
     ],
     "language": "python",
     "metadata": {},
     "outputs": [],
     "prompt_number": 56
    },
    {
     "cell_type": "code",
     "collapsed": false,
     "input": [
      "test_data.info()"
     ],
     "language": "python",
     "metadata": {},
     "outputs": [
      {
       "output_type": "stream",
       "stream": "stdout",
       "text": [
        "<class 'pandas.core.frame.DataFrame'>\n",
        "Int64Index: 4577464 entries, 0 to 4577463\n",
        "Data columns (total 4 columns):\n",
        "time_day      int32\n",
        "time_hour     int32\n",
        "banner_pos    int32\n",
        "C18           int32\n",
        "dtypes: int32(4)\n",
        "memory usage: 104.8 MB\n"
       ]
      }
     ],
     "prompt_number": 58
    },
    {
     "cell_type": "code",
     "collapsed": false,
     "input": [
      "X_train, X_test, y_train, y_test = train_test_split(train_data[['time_day', 'time_hour', 'banner_pos', 'C18']], train_data[['click']], train_size=.8)\n",
      "print \"X train shape is: \", X_train.shape, \"  \", \"X test shape is: \", X_test.shape\n",
      "print \"y train shape is: \", y_train.shape, \"  \", \"y test shape is: \", y_test.shape"
     ],
     "language": "python",
     "metadata": {},
     "outputs": [
      {
       "output_type": "stream",
       "stream": "stdout",
       "text": [
        "X train shape is:  (32343173, 4)    X test shape is:  (8085794, 4)\n",
        "y train shape is:  (32343173, 1)    y test shape is:  (8085794, 1)\n"
       ]
      }
     ],
     "prompt_number": 59
    },
    {
     "cell_type": "code",
     "collapsed": false,
     "input": [
      "print type(X_train)\n",
      "print X_train"
     ],
     "language": "python",
     "metadata": {},
     "outputs": [
      {
       "output_type": "stream",
       "stream": "stdout",
       "text": [
        "<type 'numpy.ndarray'>\n",
        "[[28  5  0  2]\n",
        " [21  4  0  3]\n",
        " [25 13  0  3]\n",
        " ..., \n",
        " [27 14  0  2]\n",
        " [24 17  0  3]\n",
        " [25 19  1  3]]\n"
       ]
      }
     ],
     "prompt_number": 60
    },
    {
     "cell_type": "code",
     "collapsed": false,
     "input": [
      "#enc = OneHotEncoder()\n",
      "#X_train = enc.fit_transform(X_train[['time_day', 'time_hour', 'banner_pos', 'C18']])\n",
      "#X_test = enc.fit_transform(X_test[['time_day', 'time_hour', 'banner_pos', 'C18']])"
     ],
     "language": "python",
     "metadata": {},
     "outputs": [],
     "prompt_number": 61
    },
    {
     "cell_type": "code",
     "collapsed": false,
     "input": [
      "clf = SGDClassifier(loss='log', penalty='l2', n_iter=10,\n",
      "            random_state=1234, shuffle=True,\n",
      "            n_jobs=4)"
     ],
     "language": "python",
     "metadata": {},
     "outputs": [],
     "prompt_number": 62
    },
    {
     "cell_type": "code",
     "collapsed": false,
     "input": [
      "clf.fit(X_train, y_train)"
     ],
     "language": "python",
     "metadata": {},
     "outputs": [
      {
       "output_type": "stream",
       "stream": "stderr",
       "text": [
        "/Users/williamliu/anaconda/lib/python2.7/site-packages/sklearn/linear_model/stochastic_gradient.py:321: DataConversionWarning: A column-vector y was passed when a 1d array was expected. Please change the shape of y to (n_samples, ), for example using ravel().\n",
        "  y = column_or_1d(y, warn=True)\n"
       ]
      },
      {
       "metadata": {},
       "output_type": "pyout",
       "prompt_number": 63,
       "text": [
        "SGDClassifier(alpha=0.0001, class_weight=None, epsilon=0.1, eta0=0.0,\n",
        "       fit_intercept=True, l1_ratio=0.15, learning_rate='optimal',\n",
        "       loss='log', n_iter=10, n_jobs=4, penalty='l2', power_t=0.5,\n",
        "       random_state=1234, shuffle=True, verbose=0, warm_start=False)"
       ]
      }
     ],
     "prompt_number": 63
    },
    {
     "cell_type": "code",
     "collapsed": false,
     "input": [
      "clf.score(X_test, y_test)"
     ],
     "language": "python",
     "metadata": {},
     "outputs": [
      {
       "metadata": {},
       "output_type": "pyout",
       "prompt_number": 64,
       "text": [
        "0.83024499511117889"
       ]
      }
     ],
     "prompt_number": 64
    },
    {
     "cell_type": "code",
     "collapsed": false,
     "input": [
      "results = clf.predict_proba(test_data)"
     ],
     "language": "python",
     "metadata": {},
     "outputs": [],
     "prompt_number": 80
    },
    {
     "cell_type": "code",
     "collapsed": false,
     "input": [
      "type(results)"
     ],
     "language": "python",
     "metadata": {},
     "outputs": [
      {
       "metadata": {},
       "output_type": "pyout",
       "prompt_number": 81,
       "text": [
        "numpy.ndarray"
       ]
      }
     ],
     "prompt_number": 81
    },
    {
     "cell_type": "code",
     "collapsed": false,
     "input": [
      "print results"
     ],
     "language": "python",
     "metadata": {},
     "outputs": [
      {
       "output_type": "stream",
       "stream": "stdout",
       "text": [
        "[[ 0.85874644  0.14125356]\n",
        " [ 0.8726243   0.1273757 ]\n",
        " [ 0.8726243   0.1273757 ]\n",
        " ..., \n",
        " [ 0.86647021  0.13352979]\n",
        " [ 0.87101003  0.12898997]\n",
        " [ 0.87541769  0.12458231]]\n"
       ]
      }
     ],
     "prompt_number": 82
    },
    {
     "cell_type": "code",
     "collapsed": false,
     "input": [
      "print results[1]"
     ],
     "language": "python",
     "metadata": {},
     "outputs": [
      {
       "output_type": "stream",
       "stream": "stdout",
       "text": [
        "[ 0.8726243  0.1273757]\n"
       ]
      }
     ],
     "prompt_number": 95
    },
    {
     "cell_type": "code",
     "collapsed": false,
     "input": [
      "click = [\"%f\" % x[1] for x in results]"
     ],
     "language": "python",
     "metadata": {},
     "outputs": [],
     "prompt_number": 101
    },
    {
     "cell_type": "code",
     "collapsed": false,
     "input": [
      "len(click)"
     ],
     "language": "python",
     "metadata": {},
     "outputs": [
      {
       "metadata": {},
       "output_type": "pyout",
       "prompt_number": 120,
       "text": [
        "4577464"
       ]
      }
     ],
     "prompt_number": 120
    },
    {
     "cell_type": "code",
     "collapsed": false,
     "input": [
      "test_data.info()"
     ],
     "language": "python",
     "metadata": {},
     "outputs": [
      {
       "output_type": "stream",
       "stream": "stdout",
       "text": [
        "<class 'pandas.core.frame.DataFrame'>\n",
        "Int64Index: 4577464 entries, 0 to 4577463\n",
        "Data columns (total 4 columns):\n",
        "time_day      int32\n",
        "time_hour     int32\n",
        "banner_pos    int32\n",
        "C18           int32\n",
        "dtypes: int32(4)\n",
        "memory usage: 104.8 MB\n"
       ]
      }
     ],
     "prompt_number": 102
    },
    {
     "cell_type": "code",
     "collapsed": false,
     "input": [
      "id = test.id"
     ],
     "language": "python",
     "metadata": {},
     "outputs": [],
     "prompt_number": 121
    },
    {
     "cell_type": "code",
     "collapsed": false,
     "input": [
      "submit = zip(id, click)"
     ],
     "language": "python",
     "metadata": {},
     "outputs": [],
     "prompt_number": 122
    },
    {
     "cell_type": "code",
     "collapsed": false,
     "input": [
      "df_out = pd.DataFrame(data=submit, columns=['id', 'click'])"
     ],
     "language": "python",
     "metadata": {},
     "outputs": [],
     "prompt_number": 123
    },
    {
     "cell_type": "code",
     "collapsed": false,
     "input": [
      "df_out = df_out.set_index('id')"
     ],
     "language": "python",
     "metadata": {},
     "outputs": [],
     "prompt_number": 124
    },
    {
     "cell_type": "code",
     "collapsed": false,
     "input": [
      "df_out.to_csv(r'/Users/williamliu/Desktop/Kaggle_Avazu/will_submission.csv')"
     ],
     "language": "python",
     "metadata": {},
     "outputs": [],
     "prompt_number": 126
    },
    {
     "cell_type": "code",
     "collapsed": false,
     "input": [],
     "language": "python",
     "metadata": {},
     "outputs": []
    }
   ],
   "metadata": {}
  }
 ]
}