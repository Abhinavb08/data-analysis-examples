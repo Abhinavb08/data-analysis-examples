{
 "metadata": {
  "name": ""
 },
 "nbformat": 3,
 "nbformat_minor": 0,
 "worksheets": [
  {
   "cells": [
    {
     "cell_type": "code",
     "collapsed": false,
     "input": [
      "import pandas as pd\n",
      "import matplotlib.pyplot as plt\n",
      "\n",
      "%matplotlib inline\n",
      "#%pylab inline\n",
      "#plt.xkcd() # Comment out to plot regular graphs instead of xkcd style"
     ],
     "language": "python",
     "metadata": {},
     "outputs": [
      {
       "output_type": "stream",
       "stream": "stdout",
       "text": [
        "cannot import name hashtable\n"
       ]
      },
      {
       "ename": "ImportError",
       "evalue": "cannot import name hashtable",
       "output_type": "pyerr",
       "traceback": [
        "\u001b[1;31m---------------------------------------------------------------------------\u001b[0m\n\u001b[1;31mImportError\u001b[0m                               Traceback (most recent call last)",
        "\u001b[1;32m<ipython-input-3-b5f69a077796>\u001b[0m in \u001b[0;36m<module>\u001b[1;34m()\u001b[0m\n\u001b[1;32m----> 1\u001b[1;33m \u001b[1;32mimport\u001b[0m \u001b[0mpandas\u001b[0m \u001b[1;32mas\u001b[0m \u001b[0mpd\u001b[0m\u001b[1;33m\u001b[0m\u001b[0m\n\u001b[0m\u001b[0;32m      2\u001b[0m \u001b[1;32mimport\u001b[0m \u001b[0mmatplotlib\u001b[0m\u001b[1;33m.\u001b[0m\u001b[0mpyplot\u001b[0m \u001b[1;32mas\u001b[0m \u001b[0mplt\u001b[0m\u001b[1;33m\u001b[0m\u001b[0m\n\u001b[0;32m      3\u001b[0m \u001b[1;33m\u001b[0m\u001b[0m\n\u001b[0;32m      4\u001b[0m \u001b[0mget_ipython\u001b[0m\u001b[1;33m(\u001b[0m\u001b[1;33m)\u001b[0m\u001b[1;33m.\u001b[0m\u001b[0mmagic\u001b[0m\u001b[1;33m(\u001b[0m\u001b[1;34mu'matplotlib inline'\u001b[0m\u001b[1;33m)\u001b[0m\u001b[1;33m\u001b[0m\u001b[0m\n\u001b[0;32m      5\u001b[0m \u001b[1;31m#%pylab inline\u001b[0m\u001b[1;33m\u001b[0m\u001b[1;33m\u001b[0m\u001b[0m\n",
        "\u001b[1;32mc:\\Users\\wliu\\AppData\\Local\\Continuum\\Anaconda\\lib\\site-packages\\pandas\\__init__.py\u001b[0m in \u001b[0;36m<module>\u001b[1;34m()\u001b[0m\n\u001b[0;32m      4\u001b[0m \u001b[1;33m\u001b[0m\u001b[0m\n\u001b[0;32m      5\u001b[0m \u001b[1;32mtry\u001b[0m\u001b[1;33m:\u001b[0m\u001b[1;33m\u001b[0m\u001b[0m\n\u001b[1;32m----> 6\u001b[1;33m     \u001b[1;32mfrom\u001b[0m \u001b[1;33m.\u001b[0m \u001b[1;32mimport\u001b[0m \u001b[0mhashtable\u001b[0m\u001b[1;33m,\u001b[0m \u001b[0mtslib\u001b[0m\u001b[1;33m,\u001b[0m \u001b[0mlib\u001b[0m\u001b[1;33m\u001b[0m\u001b[0m\n\u001b[0m\u001b[0;32m      7\u001b[0m \u001b[1;32mexcept\u001b[0m \u001b[0mException\u001b[0m\u001b[1;33m:\u001b[0m  \u001b[1;31m# pragma: no cover\u001b[0m\u001b[1;33m\u001b[0m\u001b[0m\n\u001b[0;32m      8\u001b[0m     \u001b[1;32mimport\u001b[0m \u001b[0msys\u001b[0m\u001b[1;33m\u001b[0m\u001b[0m\n",
        "\u001b[1;31mImportError\u001b[0m: cannot import name hashtable"
       ]
      }
     ],
     "prompt_number": 3
    },
    {
     "cell_type": "code",
     "collapsed": false,
     "input": [
      "df = pd.DataFrame.from_csv('C:\\Users\\wliu\\Desktop\\QueueMetricsAvgCallWait.csv')"
     ],
     "language": "python",
     "metadata": {},
     "outputs": [],
     "prompt_number": 300
    },
    {
     "cell_type": "code",
     "collapsed": false,
     "input": [
      "df.describe()"
     ],
     "language": "python",
     "metadata": {},
     "outputs": [
      {
       "html": [
        "<div style=\"max-height:1000px;max-width:1500px;overflow:auto;\">\n",
        "<table border=\"1\" class=\"dataframe\">\n",
        "  <thead>\n",
        "    <tr style=\"text-align: right;\">\n",
        "      <th></th>\n",
        "      <th>Wait</th>\n",
        "      <th>Duration</th>\n",
        "      <th>DNISNumber</th>\n",
        "    </tr>\n",
        "  </thead>\n",
        "  <tbody>\n",
        "    <tr>\n",
        "      <th>count</th>\n",
        "      <td> 502133.000000</td>\n",
        "      <td> 397001.000000</td>\n",
        "      <td> 499561.000000</td>\n",
        "    </tr>\n",
        "    <tr>\n",
        "      <th>mean</th>\n",
        "      <td>    111.239206</td>\n",
        "      <td>    467.218609</td>\n",
        "      <td>   6006.281908</td>\n",
        "    </tr>\n",
        "    <tr>\n",
        "      <th>std</th>\n",
        "      <td>    258.375938</td>\n",
        "      <td>    541.904818</td>\n",
        "      <td>    621.749327</td>\n",
        "    </tr>\n",
        "    <tr>\n",
        "      <th>min</th>\n",
        "      <td>      0.000000</td>\n",
        "      <td>      0.000000</td>\n",
        "      <td>      0.000000</td>\n",
        "    </tr>\n",
        "    <tr>\n",
        "      <th>25%</th>\n",
        "      <td>      7.000000</td>\n",
        "      <td>    104.000000</td>\n",
        "      <td>   5774.000000</td>\n",
        "    </tr>\n",
        "    <tr>\n",
        "      <th>50%</th>\n",
        "      <td>     12.000000</td>\n",
        "      <td>    310.000000</td>\n",
        "      <td>   6310.000000</td>\n",
        "    </tr>\n",
        "    <tr>\n",
        "      <th>75%</th>\n",
        "      <td>    104.000000</td>\n",
        "      <td>    616.000000</td>\n",
        "      <td>   6310.000000</td>\n",
        "    </tr>\n",
        "    <tr>\n",
        "      <th>max</th>\n",
        "      <td>  31963.000000</td>\n",
        "      <td>  24031.000000</td>\n",
        "      <td>   8302.000000</td>\n",
        "    </tr>\n",
        "  </tbody>\n",
        "</table>\n",
        "<p>8 rows \u00d7 3 columns</p>\n",
        "</div>"
       ],
       "metadata": {},
       "output_type": "pyout",
       "prompt_number": 301,
       "text": [
        "                Wait       Duration     DNISNumber\n",
        "count  502133.000000  397001.000000  499561.000000\n",
        "mean      111.239206     467.218609    6006.281908\n",
        "std       258.375938     541.904818     621.749327\n",
        "min         0.000000       0.000000       0.000000\n",
        "25%         7.000000     104.000000    5774.000000\n",
        "50%        12.000000     310.000000    6310.000000\n",
        "75%       104.000000     616.000000    6310.000000\n",
        "max     31963.000000   24031.000000    8302.000000\n",
        "\n",
        "[8 rows x 3 columns]"
       ]
      }
     ],
     "prompt_number": 301
    },
    {
     "cell_type": "code",
     "collapsed": false,
     "input": [
      "df.head()"
     ],
     "language": "python",
     "metadata": {},
     "outputs": [
      {
       "ename": "NameError",
       "evalue": "name 'df' is not defined",
       "output_type": "pyerr",
       "traceback": [
        "\u001b[1;31m---------------------------------------------------------------------------\u001b[0m\n\u001b[1;31mNameError\u001b[0m                                 Traceback (most recent call last)",
        "\u001b[1;32m<ipython-input-1-2569c44faf66>\u001b[0m in \u001b[0;36m<module>\u001b[1;34m()\u001b[0m\n\u001b[1;32m----> 1\u001b[1;33m \u001b[0mdf\u001b[0m\u001b[1;33m.\u001b[0m\u001b[0mhead\u001b[0m\u001b[1;33m(\u001b[0m\u001b[1;33m)\u001b[0m\u001b[1;33m\u001b[0m\u001b[0m\n\u001b[0m",
        "\u001b[1;31mNameError\u001b[0m: name 'df' is not defined"
       ]
      }
     ],
     "prompt_number": 1
    },
    {
     "cell_type": "code",
     "collapsed": false,
     "input": [
      "df['Disconnection'].replace(to_replace=['Answer', 'Abandon', 'T', 'O', 'K', 'ABANDON', 'Q'], value=[1, 0, 1, 0, 0, 0, 0], inplace=True)\n",
      "df_small = df[['Disconnection', 'Wait']]\n",
      "pd.unique(df_small['Disconnection'].values)\n",
      "df_small.dropna(subset=['Disconnection', 'Wait'], inplace=True)\n",
      "df_small = df_small.query('Wait < 100')\n",
      "df_small['Wait'] = df_small['Wait'].astype(int)\n",
      "#df_small['Wait'] = df_small['Wait'].astype(int)/60"
     ],
     "language": "python",
     "metadata": {},
     "outputs": [
      {
       "output_type": "stream",
       "stream": "stderr",
       "text": [
        "C:\\Users\\wliu\\AppData\\Local\\Continuum\\Anaconda\\lib\\site-packages\\pandas\\computation\\ops.py:62: DeprecationWarning: object() takes no parameters\n",
        "  return supr_new(klass, name, env, side=side, encoding=encoding)\n",
        "C:\\Users\\wliu\\AppData\\Local\\Continuum\\Anaconda\\lib\\site-packages\\pandas\\computation\\ops.py:62: DeprecationWarning: object() takes no parameters\n",
        "  return supr_new(klass, name, env, side=side, encoding=encoding)\n"
       ]
      }
     ],
     "prompt_number": 303
    },
    {
     "cell_type": "code",
     "collapsed": false,
     "input": [
      "print df_small.head()\n",
      "print df_small.describe()"
     ],
     "language": "python",
     "metadata": {},
     "outputs": [
      {
       "output_type": "stream",
       "stream": "stdout",
       "text": [
        "                     Disconnection  Wait\n",
        "\ufeffCallTime                               \n",
        "2011-04-15 05:22:35              1    49\n",
        "2011-04-15 05:28:03              1     9\n",
        "2011-04-15 05:48:09              1    73\n",
        "2011-04-15 06:03:38              1     9\n",
        "2011-04-15 06:21:58              1     5\n",
        "\n",
        "[5 rows x 2 columns]\n",
        "       Disconnection           Wait\n",
        "count  373612.000000  373612.000000\n",
        "mean        0.824679      18.813202\n",
        "std         0.380242      22.619863\n",
        "min         0.000000       0.000000\n",
        "25%         1.000000       6.000000\n",
        "50%         1.000000       8.000000\n",
        "75%         1.000000      21.000000\n",
        "max         1.000000      99.000000\n",
        "\n",
        "[8 rows x 2 columns]"
       ]
      },
      {
       "output_type": "stream",
       "stream": "stdout",
       "text": [
        "\n"
       ]
      }
     ],
     "prompt_number": 304
    },
    {
     "cell_type": "code",
     "collapsed": false,
     "input": [
      "# Create Train and Test Data\n",
      "from sklearn.cross_validation import cross_val_score\n",
      "from sklearn.cross_validation import train_test_split\n",
      "\n",
      "X_train, X_test, y_train, y_test = train_test_split(\n",
      "    df_small['Wait'], df_small['Disconnection'], test_size=0.25, random_state=0)\n",
      "print \"X train:\", X_train.shape, \"  \", \"X test:\", X_test.shape\n",
      "print \"y train:\", y_train.shape, \"  \", \"y test:\", y_test.shape"
     ],
     "language": "python",
     "metadata": {},
     "outputs": [
      {
       "output_type": "stream",
       "stream": "stdout",
       "text": [
        "X train: (280209L,)    X test: (93403L,)\n",
        "y train: (280209L,)    y test: (93403L,)\n"
       ]
      }
     ],
     "prompt_number": 305
    },
    {
     "cell_type": "code",
     "collapsed": false,
     "input": [
      "from sklearn.linear_model import LogisticRegression\n",
      "from sklearn.metrics import classification_report\n",
      "\n",
      "classifier = LogisticRegression(fit_intercept=True, random_state=0) # Create the Logistic Regression object\n",
      "classifier.fit(X_train.reshape(-1,1), y_train) # Train the model using the training set\n",
      "print \"Cross validating ROC score:\", np.mean(\n",
      "    cross_val_score(classifier, X_test.reshape(-1,1), y_test, scoring='roc_auc', cv=3))\n",
      "\n",
      "print \"Cross validating with ROC:\", np.mean(cross_val_score(classifier, X_test.reshape(-1,1), y_test, scoring='roc_auc', cv=3))\n",
      "print classification_report(y_test, classifier.predict(X_test.reshape(-1,1)))"
     ],
     "language": "python",
     "metadata": {},
     "outputs": [
      {
       "output_type": "stream",
       "stream": "stdout",
       "text": [
        "Cross validating ROC score: "
       ]
      },
      {
       "output_type": "stream",
       "stream": "stdout",
       "text": [
        "0.655990212551\n",
        "Cross validating with ROC: "
       ]
      },
      {
       "output_type": "stream",
       "stream": "stdout",
       "text": [
        "0.655990212551\n",
        "             precision    recall  f1-score   support\n",
        "\n",
        "          0       0.33      0.04      0.07     16437\n",
        "          1       0.83      0.98      0.90     76966\n",
        "\n",
        "avg / total       0.74      0.82      0.75     93403\n",
        "\n"
       ]
      }
     ],
     "prompt_number": 306
    },
    {
     "cell_type": "code",
     "collapsed": false,
     "input": [
      "#KNN\n",
      "from sklearn.neighbors import KNeighborsClassifier\n",
      "\n",
      "classifier = KNeighborsClassifier(n_neighbors=500)\n",
      "classifier.fit(X_train.reshape(-1,1), y_train)"
     ],
     "language": "python",
     "metadata": {},
     "outputs": [
      {
       "metadata": {},
       "output_type": "pyout",
       "prompt_number": 313,
       "text": [
        "KNeighborsClassifier(algorithm='auto', leaf_size=30, metric='minkowski',\n",
        "           n_neighbors=500, p=2, weights='uniform')"
       ]
      }
     ],
     "prompt_number": 313
    },
    {
     "cell_type": "code",
     "collapsed": false,
     "input": [
      "print \"Cross validating ROC score:\", np.mean(\n",
      "    cross_val_score(classifier, X_test.reshape(-1,1), y_test, scoring='roc_auc', cv=3))\n",
      "\n",
      "print \"Cross validating with ROC:\", np.mean(cross_val_score(classifier, X_test.reshape(-1,1), y_test, scoring='roc_auc', cv=3))\n",
      "print classification_report(y_test, classifier.predict(X_test.reshape(-1,1)))"
     ],
     "language": "python",
     "metadata": {},
     "outputs": [
      {
       "output_type": "stream",
       "stream": "stdout",
       "text": [
        "Cross validating ROC score: "
       ]
      },
      {
       "output_type": "stream",
       "stream": "stdout",
       "text": [
        "0.758572450476\n",
        "Cross validating with ROC: "
       ]
      },
      {
       "output_type": "stream",
       "stream": "stdout",
       "text": [
        "0.758572450476\n",
        "             precision    recall  f1-score   support\n",
        "\n",
        "          0       0.58      0.22      0.31     16437\n",
        "          1       0.85      0.97      0.91     76966\n",
        "\n",
        "avg / total       0.80      0.83      0.80     93403\n"
       ]
      },
      {
       "output_type": "stream",
       "stream": "stdout",
       "text": [
        "\n"
       ]
      }
     ],
     "prompt_number": 314
    },
    {
     "cell_type": "code",
     "collapsed": false,
     "input": [
      "timespent, helpful = X_train.reshape(-1,1), y_train\n",
      "jitter = .05\n",
      "helpful = [y + random.uniform(-jitter, jitter) for y in helpful] # Add jitter to space out points\n",
      "plt.scatter(timespent, helpful, alpha=.005)\n",
      "\n",
      "axes=plt.plot()\n",
      "plt.title('Probability of Calls Answered')\n",
      "plt.xlabel('Wait Time (seconds)')\n",
      "plt.ylabel('Probability')\n",
      "\n",
      "x_temp = np.linspace(0,120,30)\n",
      "prob = classifier.predict_proba(x_temp.reshape(-1,1))[:,1]\n",
      "predicts = classifier.predict(x_temp.reshape(-1,1))\n",
      "plt.plot(x_temp, prob, '--', alpha=1, color='green')\n",
      "plt.show()"
     ],
     "language": "python",
     "metadata": {},
     "outputs": [
      {
       "metadata": {},
       "output_type": "display_data",
       "png": "[encoded data removed]",
       "text": [
        "<matplotlib.figure.Figure at 0x7d36e208>"
       ]
      }
     ],
     "prompt_number": 315
    },
    {
     "cell_type": "code",
     "collapsed": false,
     "input": [],
     "language": "python",
     "metadata": {},
     "outputs": [],
     "prompt_number": 264
    }
   ],
   "metadata": {}
  }
 ]
}