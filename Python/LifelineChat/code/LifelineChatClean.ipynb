{
 "metadata": {
  "name": "",
  "signature": "sha256:f905990081f681073cce8903ba854921a9f189fdec1ec32be82913ef6844bcd8"
 },
 "nbformat": 3,
 "nbformat_minor": 0,
 "worksheets": [
  {
   "cells": [
    {
     "cell_type": "code",
     "collapsed": false,
     "input": [
      "from dateutil.parser import parse # Allows automatic parsing of dates\n",
      "from ggplot import *\n",
      "import pandas as pd\n",
      "import numpy as np\n",
      "import pandas.tools.rplot as rplot\n",
      "from pandas.tools.plotting import scatter_matrix\n",
      "import matplotlib.pyplot as plt\n",
      "import re\n",
      "import matplotlib\n",
      "import pylab\n",
      "from numpy.random import randn\n",
      "#%matplotlib inline\n",
      "#%load '.../sample.py'"
     ],
     "language": "python",
     "metadata": {},
     "outputs": [],
     "prompt_number": 3
    },
    {
     "cell_type": "code",
     "collapsed": false,
     "input": [
      "pd.set_option('expand_frame_repr', True) # expand text on build\n",
      "pd.set_option('display.max_columns', 0) # Display any number of columns\n",
      "pd.set_option('display.max_rows', 0) # Display any number of rows"
     ],
     "language": "python",
     "metadata": {},
     "outputs": [],
     "prompt_number": 4
    },
    {
     "cell_type": "code",
     "collapsed": false,
     "input": [
      "survey = pd.read_csv(\n",
      "    r'/Users/williamliu/GitHub/MHAPython/Lifeline/Chats/final_clean.csv'\n",
      "    #dtype={'Did you find this chat service helpful?':}, parse_dates=True\n",
      "    )\n",
      "survey['counter'] = 1"
     ],
     "language": "python",
     "metadata": {},
     "outputs": [
      {
       "output_type": "stream",
       "stream": "stderr",
       "text": [
        "/Library/Python/2.7/site-packages/pandas/io/parsers.py:1070: DtypeWarning: Columns (5,7,8,9,10,18,20,23,24,25,26,27,28,29,30,31) have mixed types. Specify dtype option on import or set low_memory=False.\n",
        "  data = self._reader.read(nrows)\n"
       ]
      }
     ],
     "prompt_number": 5
    },
    {
     "cell_type": "code",
     "collapsed": false,
     "input": [
      "#Pre-Chat: Age\n",
      "survey['Age'].replace(to_replace='[\\D].+', value=np.nan, regex=True, inplace=True)\n",
      "survey = survey.convert_objects(convert_numeric=True)\n",
      "#print survey['Age'].describe()\n",
      "survey.Age[survey.Age > 117] = 0\n",
      "grouped = survey.groupby('Age')\n",
      "grouped['counter'].sum().head()#.plot(kind='barh')\n",
      "#plt.show()\n",
      "\n",
      "survey.Age.hist(range=(0,100), alpha=.5, bins=40)\n",
      "plt.show()"
     ],
     "language": "python",
     "metadata": {},
     "outputs": [],
     "prompt_number": 6
    },
    {
     "cell_type": "code",
     "collapsed": false,
     "input": [
      "#print type(survey['StartTime']) # <class 'pandas.core.series.Series'>\n",
      "#survey = survey.set_index(pd.to_datetime(survey.StartTime))\n",
      "#print type(survey.index) # <class 'pandas.tseries.index.DatetimeIndex'>\n",
      "#survey.head()\n",
      "\n",
      "# X-Axis for time calculations\n",
      "ts = pd.date_range(start='3/1/2013', end='3/31/2014', freq='D')\n",
      "\n",
      "#mod_starttime = pd.to_datetime(survey.StartTime)\n",
      "#print type(mod_starttime)\n",
      "#grouped = survey.groupby(pd.to_datetime(survey.StartTime), coerce=True)\n",
      "#print grouped.head()"
     ],
     "language": "python",
     "metadata": {},
     "outputs": [],
     "prompt_number": 7
    },
    {
     "cell_type": "code",
     "collapsed": false,
     "input": [
      "#survey.describe()\n",
      "#survey.count()\n",
      "\n",
      "#ts = pd.to_datetime(survey.StartTime)\n",
      "#survey = survey.set_index(ts)\n",
      "#print type(survey.index)\n",
      "#print survey.index\n",
      "#survey.head()"
     ],
     "language": "python",
     "metadata": {},
     "outputs": [],
     "prompt_number": 8
    },
    {
     "cell_type": "code",
     "collapsed": false,
     "input": [
      "#Pre-Chat: Gender\n",
      "survey.Gender = survey.Gender.replace('Transgendered', 'Transgender') #Data Cleaning\n",
      "grouped = survey.groupby('Gender')\n",
      "grouped['counter'].sum()#.plot(kind='bar')\n",
      "#plt.show()"
     ],
     "language": "python",
     "metadata": {},
     "outputs": [
      {
       "metadata": {},
       "output_type": "pyout",
       "prompt_number": 9,
       "text": [
        "Gender\n",
        "Female         55778\n",
        "Male           14164\n",
        "Questioning     1211\n",
        "Transgender     1086\n",
        "Name: counter, dtype: int64"
       ]
      }
     ],
     "prompt_number": 9
    },
    {
     "cell_type": "code",
     "collapsed": false,
     "input": [
      "#Pre-Chat: What are you concerned about today?\n",
      "survey['What are you concerned about today?'].replace(to_replace='[Bullying]{8}.*', value=\"Bullying/Problems in School\", regex=True, inplace=True)\n",
      "survey['What are you concerned about today?'].replace(to_replace='[Family]{5}.*', value=\"Family Issues\", regex=True, inplace=True)\n",
      "survey['What are you concerned about today?'].replace(to_replace='[Financial]{9}.*', value=\"Financial Issues\", regex=True, inplace=True)\n",
      "#survey['What are you concerned about today?'].replace(to_replace='[Other]{5}.*', value=\"Other/Prefer not to comment\", regex=True, inplace=True)\n",
      "survey['What are you concerned about today?'].replace(to_replace='[Relationship issues]{19}.*', value=\"Relationship Issues/Violence\", regex=True, inplace=True)\n",
      "survey['What are you concerned about today?'].replace(to_replace='[Self\\-| Harm]{8}.*', value=\"Self-harm\", regex=True, inplace=True)\n",
      "survey['What are you concerned about today?'].replace(to_replace='[Sexuality]{9}.*', value=\"Sexuality\", regex=True, inplace=True)\n",
      "survey['What are you concerned about today?'].replace(to_replace='[Physical H|health]{14}.*', value=\"Physical Health\", regex=True, inplace=True)\n",
      "survey['What are you concerned about today?'].replace(to_replace='[Physical, Sexual, and/or Emotional Abuse]{24}.*', value=\"Physical, Sexual, and/or Emotional Abuse\", regex=True, inplace=True)\n",
      "survey['What are you concerned about today?'] = survey['What are you concerned about today?'].replace('Other', '') #Data Cleaning\n",
      "\n",
      "grouped = survey.groupby('What are you concerned about today?')\n",
      "grouped['counter'].sum()#.plot(kind='barh')\n",
      "#plt.show()\n",
      "#print grouped\n",
      "\n",
      "plt.figure()\n",
      "myctab = pd.crosstab(survey['Gender'], survey['What are you concerned about today?'], rownames=['Gender'])\n",
      "myctab.plot(kind='barh')\n",
      "plt.show()"
     ],
     "language": "python",
     "metadata": {},
     "outputs": [],
     "prompt_number": 8
    },
    {
     "cell_type": "code",
     "collapsed": false,
     "input": [
      "#Pre-Chat: Do you have thoughts of suicide?\n",
      "survey['Do you have thoughts of suicide?'] = survey['Do you have thoughts of suicide?'].replace( \\\n",
      "     {'Yes - Current (within the past 24 hours)':'Yes - Current (within the past 24 hours)',\n",
      "      'Yes \ufffd Current (within the past 24 hours)':'Yes - Current (within the past 24 hours)',\n",
      "      'Yes- Current (within the past 24 hours)':'Yes - Current (within the past 24 hours)',\n",
      "      'Yes \ufffd Recent Past (within the past few days)':'Yes - Recent Past (within the past few days)',\n",
      "      'Yes - currently':'Yes - Current (within the past 24 hours)',\n",
      "      'Yes - recent past':'Yes - Recent Past (within the past few days)',\n",
      "      'Yes - within the past 48 hours': 'Yes - Recent Past (within the past few days)',\n",
      "      'Yes- Recent (withing the past few days)':'Yes - Recent Past (within the past few days)',\n",
      "      'Yes- Recent Past (within the past few days)':'Yes - Recent Past (within the past few days)',\n",
      "      'No ':'No' \n",
      "      }) #Data Cleaning\n",
      "survey['Do you have thoughts of suicide?'].replace(to_replace='[Yes].*[Current (within the past 24 hours)]{33}', value=\"Yes - Current (within the past 24 hours)\", regex=True, inplace=True)\n",
      "survey['Do you have thoughts of suicide?'].replace(to_replace='[Yes].*[Recent Past (within the past few days)]{33}', value=\"Yes - Recent Past (within the past few days)\", regex=True, inplace=True)\n",
      "\n",
      "grouped = survey.groupby('Do you have thoughts of suicide?')\n",
      "grouped['counter'].sum()"
     ],
     "language": "python",
     "metadata": {},
     "outputs": [
      {
       "metadata": {},
       "output_type": "pyout",
       "prompt_number": 9,
       "text": [
        "Do you have thoughts of suicide?\n",
        "No                                              12835\n",
        "Yes - Current (within the past 24 hours)        34568\n",
        "Yes - Recent Past (within the past few days)    19355\n",
        "Name: counter, dtype: int64"
       ]
      }
     ],
     "prompt_number": 9
    },
    {
     "cell_type": "code",
     "collapsed": false,
     "input": [
      "#Pre-Chat: How upset are you?\n",
      "survey['On a scale of 1-5, how upset are you?'].replace(to_replace='[1].*', value=\"1 - I'm doing okay\", regex=True, inplace=True)\n",
      "survey['On a scale of 1-5, how upset are you?'].replace(to_replace='[2].*', value=\"2 - A little upset\", regex=True, inplace=True)\n",
      "survey['On a scale of 1-5, how upset are you?'].replace(to_replace='[3].*', value=\"3 - Moderately upset\", regex=True, inplace=True)\n",
      "survey['On a scale of 1-5, how upset are you?'].replace(to_replace='[4].*', value=\"4 - Very upset\", regex=True, inplace=True)\n",
      "survey['On a scale of 1-5, how upset are you?'].replace(to_replace='[5].*', value=\"5 - Extremely upset\", regex=True, inplace=True)\n",
      "\n",
      "grouped = survey.groupby('On a scale of 1-5, how upset are you?')\n",
      "grouped['counter'].sum()#.plot(kind='barh')\n",
      "#plt.show()\n",
      "\n",
      "dummies = pd.get_dummies(survey['On a scale of 1-5, how upset are you?'])\n",
      "print dummies.head()"
     ],
     "language": "python",
     "metadata": {},
     "outputs": [
      {
       "output_type": "stream",
       "stream": "stdout",
       "text": [
        "   1 - I'm doing okay  2 - A little upset  3 - Moderately upset  \\\n",
        "0                   0                   1                     0   \n",
        "1                   0                   1                     0   \n",
        "2                   1                   0                     0   \n",
        "3                   0                   1                     0   \n",
        "4                   1                   0                     0   \n",
        "\n",
        "   4 - Very upset  5 - Extremely upset  \n",
        "0               0                    0  \n",
        "1               0                    0  \n",
        "2               0                    0  \n",
        "3               0                    0  \n",
        "4               0                    0  \n",
        "\n",
        "[5 rows x 5 columns]\n"
       ]
      }
     ],
     "prompt_number": 10
    },
    {
     "cell_type": "code",
     "collapsed": false,
     "input": [
      "#Post-Chat: How upset are you?\n",
      "survey['Now that you have finished your chat session, how upset are you?'].replace(to_replace='[1].*', value=\"1 - I'm doing okay\", regex=True, inplace=True)\n",
      "survey['Now that you have finished your chat session, how upset are you?'].replace(to_replace='[2].*', value=\"2 - A little upset\", regex=True, inplace=True)\n",
      "survey['Now that you have finished your chat session, how upset are you?'].replace(to_replace='[3].*', value=\"3 - Moderately upset\", regex=True, inplace=True)\n",
      "survey['Now that you have finished your chat session, how upset are you?'].replace(to_replace='[4].*', value=\"4 - Very upset\", regex=True, inplace=True)\n",
      "survey['Now that you have finished your chat session, how upset are you?'].replace(to_replace='[5].*', value=\"5 - Extremely upset\", regex=True, inplace=True)\n",
      "\n",
      "grouped = survey.groupby('Now that you have finished your chat session, how upset are you?')\n",
      "grouped['counter'].sum()#.plot(kind='barh')\n",
      "#plt.show()"
     ],
     "language": "python",
     "metadata": {},
     "outputs": [
      {
       "metadata": {},
       "output_type": "pyout",
       "prompt_number": 11,
       "text": [
        "Now that you have finished your chat session, how upset are you?\n",
        "1 - I'm doing okay                                              5225\n",
        "2 - A little upset                                              3977\n",
        "3 - Moderately upset                                            3617\n",
        "4 - Very upset                                                  2210\n",
        "5 - Extremely upset                                             2859\n",
        "Name: counter, dtype: int64"
       ]
      }
     ],
     "prompt_number": 11
    },
    {
     "cell_type": "code",
     "collapsed": false,
     "input": [
      "#Pre-Chat: State\n",
      "survey['State'].replace(to_replace='[^a-zA-Z]', value=np.nan, regex=True, inplace=True) # Clean State (was seeing numbers, etc)\n",
      "\n",
      "grouped = survey.groupby('State')\n",
      "grouped['counter'].sum()"
     ],
     "language": "python",
     "metadata": {},
     "outputs": [
      {
       "metadata": {},
       "output_type": "pyout",
       "prompt_number": 12,
       "text": [
        "State\n",
        "0        1\n",
        "2        1\n",
        "3        1\n",
        "4        1\n",
        "6        9\n",
        "7        3\n",
        "8        5\n",
        "9        1\n",
        "10       1\n",
        "11       1\n",
        "12       1\n",
        "13       1\n",
        "15       1\n",
        "19       1\n",
        "28       2\n",
        "29       1\n",
        "45       2\n",
        "90       1\n",
        "Name: counter, dtype: int64"
       ]
      }
     ],
     "prompt_number": 12
    },
    {
     "cell_type": "code",
     "collapsed": false,
     "input": [
      "#Post-Chat: Is Service Helpful?\n",
      "grouped = survey.groupby('Did you find this chat service helpful?')\n",
      "grouped['counter'].sum()"
     ],
     "language": "python",
     "metadata": {},
     "outputs": [
      {
       "metadata": {},
       "output_type": "pyout",
       "prompt_number": 13,
       "text": [
        "Did you find this chat service helpful?\n",
        "No                                          4808\n",
        "Yes                                        10897\n",
        "Name: counter, dtype: int64"
       ]
      }
     ],
     "prompt_number": 13
    },
    {
     "cell_type": "code",
     "collapsed": false,
     "input": [
      "survey['Did you find this chat service helpful?'].value_counts()"
     ],
     "language": "python",
     "metadata": {},
     "outputs": [
      {
       "metadata": {},
       "output_type": "pyout",
       "prompt_number": 14,
       "text": [
        "Yes    10897\n",
        "No      4808\n",
        "dtype: int64"
       ]
      }
     ],
     "prompt_number": 14
    },
    {
     "cell_type": "code",
     "collapsed": false,
     "input": [
      "# Create dummies for Chat Service Helpful\n",
      "dummies = pd.get_dummies(survey['Did you find this chat service helpful?'])\n",
      "print dummies.head()"
     ],
     "language": "python",
     "metadata": {},
     "outputs": [
      {
       "output_type": "stream",
       "stream": "stdout",
       "text": [
        "   No  Yes\n",
        "0   0    0\n",
        "1   0    0\n",
        "2   0    0\n",
        "3   0    0\n",
        "4   0    0\n",
        "\n",
        "[5 rows x 2 columns]\n"
       ]
      }
     ],
     "prompt_number": 15
    },
    {
     "cell_type": "code",
     "collapsed": false,
     "input": [
      "grouped = survey.groupby('CrisisCenter')\n",
      "grouped['counter'].sum()"
     ],
     "language": "python",
     "metadata": {},
     "outputs": [
      {
       "metadata": {},
       "output_type": "pyout",
       "prompt_number": 16,
       "text": [
        "CrisisCenter\n",
        "211LIFELINEChat                                               13281\n",
        "ArkansasCrisisCenter                                           1745\n",
        "CA Culver City - Didi Hirsch - Instant Messaging                752\n",
        "CA Sacramento - The Effort - Instant Messaging Sheet            243\n",
        "CA_ContraCosta                                                  572\n",
        "CA_SFSP                                                        2116\n",
        "FL Tampa - Criisis Center of Tampa Bay - Instant Messaging        9\n",
        "FL_211pbtc                                                        6\n",
        "FL_Switchboard                                                16263\n",
        "GA_BHL                                                          423\n",
        "...\n",
        "NJ Ewing - CONTACT of Mercer County - Instant Messaging           497\n",
        "NM Albuquerque - Agora Crisis Center - Instant Messaging         1943\n",
        "NY New York - MHA-NYC - NSPL Chat                                 252\n",
        "NY_LifelineAlbany                                                 105\n",
        "OH_MentalHealthServices                                          2852\n",
        "OK_Heartline                                                        5\n",
        "SC_211Hotline                                                    1286\n",
        "TN Nashville - Centerstone - Instant Messaging                     65\n",
        "WA Seattle - Crisis Clinic (Crisis Center) - Instant Messaging      490\n",
        "WA_VolunteersOfAmerica                                          11364\n",
        "Name: counter, Length: 28, dtype: int64"
       ]
      }
     ],
     "prompt_number": 16
    },
    {
     "cell_type": "code",
     "collapsed": false,
     "input": [
      "# iCarol Only\n",
      "grouped = survey.groupby('Suicide Risk Screening - Was user at imminent risk for suicide?')\n",
      "grouped['counter'].sum()"
     ],
     "language": "python",
     "metadata": {},
     "outputs": [
      {
       "metadata": {},
       "output_type": "pyout",
       "prompt_number": 17,
       "text": [
        "Suicide Risk Screening - Was user at imminent risk for suicide?\n",
        "No                                                              6748\n",
        "Yes                                                              384\n",
        "Name: counter, dtype: int64"
       ]
      }
     ],
     "prompt_number": 17
    },
    {
     "cell_type": "code",
     "collapsed": false,
     "input": [
      "# Create dummies for Suicidal Risk Screening\n",
      "dummies = pd.get_dummies(survey['Suicide Risk Screening - Was user at imminent risk for suicide?'])\n",
      "print dummies.head()\n",
      "dummies.describe()"
     ],
     "language": "python",
     "metadata": {},
     "outputs": [
      {
       "output_type": "stream",
       "stream": "stdout",
       "text": [
        "   No  Yes\n",
        "0   0    0\n",
        "1   0    0\n",
        "2   0    0\n",
        "3   0    0\n",
        "4   0    0\n",
        "\n",
        "[5 rows x 2 columns]\n"
       ]
      },
      {
       "html": [
        "<div style=\"max-height:1000px;max-width:1500px;overflow:auto;\">\n",
        "<table border=\"1\" class=\"dataframe\">\n",
        "  <thead>\n",
        "    <tr style=\"text-align: right;\">\n",
        "      <th></th>\n",
        "      <th>No</th>\n",
        "      <th>Yes</th>\n",
        "    </tr>\n",
        "  </thead>\n",
        "  <tbody>\n",
        "    <tr>\n",
        "      <th>count</th>\n",
        "      <td> 72644.000000</td>\n",
        "      <td> 72644.000000</td>\n",
        "    </tr>\n",
        "    <tr>\n",
        "      <th>mean</th>\n",
        "      <td>     0.092891</td>\n",
        "      <td>     0.005286</td>\n",
        "    </tr>\n",
        "    <tr>\n",
        "      <th>std</th>\n",
        "      <td>     0.290282</td>\n",
        "      <td>     0.072513</td>\n",
        "    </tr>\n",
        "    <tr>\n",
        "      <th>min</th>\n",
        "      <td>     0.000000</td>\n",
        "      <td>     0.000000</td>\n",
        "    </tr>\n",
        "    <tr>\n",
        "      <th>25%</th>\n",
        "      <td>     0.000000</td>\n",
        "      <td>     0.000000</td>\n",
        "    </tr>\n",
        "    <tr>\n",
        "      <th>50%</th>\n",
        "      <td>     0.000000</td>\n",
        "      <td>     0.000000</td>\n",
        "    </tr>\n",
        "    <tr>\n",
        "      <th>75%</th>\n",
        "      <td>     0.000000</td>\n",
        "      <td>     0.000000</td>\n",
        "    </tr>\n",
        "    <tr>\n",
        "      <th>max</th>\n",
        "      <td>     1.000000</td>\n",
        "      <td>     1.000000</td>\n",
        "    </tr>\n",
        "  </tbody>\n",
        "</table>\n",
        "<p>8 rows \u00d7 2 columns</p>\n",
        "</div>"
       ],
       "metadata": {},
       "output_type": "pyout",
       "prompt_number": 18,
       "text": [
        "                 No           Yes\n",
        "count  72644.000000  72644.000000\n",
        "mean       0.092891      0.005286\n",
        "std        0.290282      0.072513\n",
        "min        0.000000      0.000000\n",
        "25%        0.000000      0.000000\n",
        "50%        0.000000      0.000000\n",
        "75%        0.000000      0.000000\n",
        "max        1.000000      1.000000\n",
        "\n",
        "[8 rows x 2 columns]"
       ]
      }
     ],
     "prompt_number": 18
    },
    {
     "cell_type": "code",
     "collapsed": false,
     "input": [
      "#test = survey.groupby(['On a scale of 1-5, how upset are you?',\n",
      "#                       'Now that you have finished your chat session, how upset are you?'])\n",
      "#test['counter'].sum()"
     ],
     "language": "python",
     "metadata": {},
     "outputs": [],
     "prompt_number": 19
    },
    {
     "cell_type": "code",
     "collapsed": false,
     "input": [
      "#explore = survey.groupby(['Gender', \n",
      "#                          'On a scale of 1-5, how upset are you?',\n",
      "#                          'Now that you have finished your chat session, how upset are you?',\n",
      "#                          'Do you have thoughts of suicide?'])\n",
      "#data = explore['counter'].sum().reset_index()\n",
      "#print data.head()"
     ],
     "language": "python",
     "metadata": {},
     "outputs": [],
     "prompt_number": 20
    },
    {
     "cell_type": "code",
     "collapsed": false,
     "input": [
      "#TO-DO Try out Trellis Plot for demographics\n",
      "#plot = rplot.RPlot(survey, x='', y='')\n",
      "#plot.add(rplot.TrellisGrid(['Gender','Do you have thoughts of suicide?']))\n",
      "#plot.add(rplot.GeomHistogram())\n",
      "#plot.render(plt.gcf())\n",
      "#plt.show()"
     ],
     "language": "python",
     "metadata": {},
     "outputs": [],
     "prompt_number": 21
    },
    {
     "cell_type": "code",
     "collapsed": false,
     "input": [
      "#survey.groupby([survey.index.date, 'CallReportNum']).count().plot(kind='line')"
     ],
     "language": "python",
     "metadata": {},
     "outputs": []
    },
    {
     "cell_type": "code",
     "collapsed": false,
     "input": [
      "# Plot Chats by Time\n",
      "# Resample the time-series index\n",
      "survey = survey.set_index(pd.to_datetime(survey.StartTime, coerce=True))\n",
      "resampled_ts = survey.StartTime.resample('MS', how='sum') #D for Days, H for Hours, MS for MonthBegin\n",
      "\n",
      "#print type(resampled) # <class 'pandas.core.series.Series'>\n",
      "mydict = {\n",
      "           'ChatsPerDay': resampled\n",
      "        }\n",
      "mydf = pd.DataFrame(mydict)\n",
      "\n",
      "mydf.plot(kind='bar')\n",
      "plt.show()\n"
     ],
     "language": "python",
     "metadata": {},
     "outputs": []
    },
    {
     "cell_type": "code",
     "collapsed": false,
     "input": [
      "myctab = pd.crosstab(survey['Gender'], survey['Suicide Risk Screening - Was user at imminent risk for suicide?'], rownames=['Gender'])\n",
      "print myctab"
     ],
     "language": "python",
     "metadata": {},
     "outputs": [
      {
       "ename": "NameError",
       "evalue": "name 'pd' is not defined",
       "output_type": "pyerr",
       "traceback": [
        "\u001b[0;31m---------------------------------------------------------------------------\u001b[0m\n\u001b[0;31mNameError\u001b[0m                                 Traceback (most recent call last)",
        "\u001b[0;32m<ipython-input-2-36bb71e5ebc0>\u001b[0m in \u001b[0;36m<module>\u001b[0;34m()\u001b[0m\n\u001b[0;32m----> 1\u001b[0;31m \u001b[0mmyctab\u001b[0m \u001b[0;34m=\u001b[0m \u001b[0mpd\u001b[0m\u001b[0;34m.\u001b[0m\u001b[0mcrosstab\u001b[0m\u001b[0;34m(\u001b[0m\u001b[0msurvey\u001b[0m\u001b[0;34m[\u001b[0m\u001b[0;34m'Gender'\u001b[0m\u001b[0;34m]\u001b[0m\u001b[0;34m,\u001b[0m \u001b[0msurvey\u001b[0m\u001b[0;34m[\u001b[0m\u001b[0;34m'Suicide Risk Screening - Was user at imminent risk for suicide?'\u001b[0m\u001b[0;34m]\u001b[0m\u001b[0;34m,\u001b[0m \u001b[0mrownames\u001b[0m\u001b[0;34m=\u001b[0m\u001b[0;34m[\u001b[0m\u001b[0;34m'Gender'\u001b[0m\u001b[0;34m]\u001b[0m\u001b[0;34m)\u001b[0m\u001b[0;34m\u001b[0m\u001b[0m\n\u001b[0m\u001b[1;32m      2\u001b[0m \u001b[0;32mprint\u001b[0m \u001b[0mmyctab\u001b[0m\u001b[0;34m\u001b[0m\u001b[0m\n",
        "\u001b[0;31mNameError\u001b[0m: name 'pd' is not defined"
       ]
      }
     ],
     "prompt_number": 2
    },
    {
     "cell_type": "code",
     "collapsed": false,
     "input": [
      "# Plot matrix - Example at http://matplotlib.org/examples/pylab_examples/matshow.html\n",
      "#data = pd.DataFrame(columns = ['On a scale of 1-5, how upset are you?',\n",
      "#                               'Now that you have finished your chat session, how upset are you?'])\n",
      "#plt.matshow(data, cmap=plt.cm.Blues)"
     ],
     "language": "python",
     "metadata": {},
     "outputs": []
    },
    {
     "cell_type": "code",
     "collapsed": false,
     "input": [
      "survey.to_csv('survey_clean.csv')"
     ],
     "language": "python",
     "metadata": {},
     "outputs": []
    },
    {
     "cell_type": "code",
     "collapsed": false,
     "input": [],
     "language": "python",
     "metadata": {},
     "outputs": []
    }
   ],
   "metadata": {}
  }
 ]
}