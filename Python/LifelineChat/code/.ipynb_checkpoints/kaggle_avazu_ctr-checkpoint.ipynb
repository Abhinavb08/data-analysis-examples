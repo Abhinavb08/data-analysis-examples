{
 "metadata": {
  "name": "",
  "signature": "sha256:0edaf5d6abe5f284f2bb009f7458cb5d7b88caf507d6ba60cf0a11f51b0cc822"
 },
 "nbformat": 3,
 "nbformat_minor": 0,
 "worksheets": [
  {
   "cells": [
    {
     "cell_type": "code",
     "collapsed": false,
     "input": [
      "import numpy as np\n",
      "import pandas as pd\n",
      "import matplotlib.pyplot as plt\n",
      "from sklearn.preprocessing import scale\n",
      "from sklearn.cluster import KMeans\n",
      "from sklearn.feature_extraction import DictVectorizer\n",
      "from sklearn.linear_model import SGDClassifier\n",
      "from sklearn.linear_model import LogisticRegression\n",
      "\n",
      "# Running Logistic Regression with Train and Test Data\n",
      "from sklearn.cross_validation import cross_val_score\n",
      "from sklearn.cross_validation import train_test_split\n",
      "\n",
      "%matplotlib inline"
     ],
     "language": "python",
     "metadata": {},
     "outputs": [],
     "prompt_number": 1
    },
    {
     "cell_type": "code",
     "collapsed": false,
     "input": [
      "# Path to files\n",
      "train_file = r'/Users/williamliu/Desktop/Kaggle_Avazu/train.csv'\n",
      "test_file = r'/Users/williamliu/Desktop/Kaggle_Avazu/test.csv'\n",
      "submission_file = r'/Users/williamliu/Desktop/Kaggle_Avazu/submission_scikitlearn.csv'"
     ],
     "language": "python",
     "metadata": {},
     "outputs": []
    },
    {
     "cell_type": "code",
     "collapsed": false,
     "input": [
      "# Load files into dataframes\n",
      "df_train_file = pd.DataFrame.from_csv(train_file)\n",
      "df_test_file = pd.DataFrame.from_csv(test_file)"
     ],
     "language": "python",
     "metadata": {},
     "outputs": []
    },
    {
     "cell_type": "code",
     "collapsed": false,
     "input": [
      "# Look at the data\n",
      "df_train_file.info()\n",
      "df_train_file.head()"
     ],
     "language": "python",
     "metadata": {},
     "outputs": []
    },
    {
     "cell_type": "code",
     "collapsed": false,
     "input": [
      "# Get small file\n",
      "small_train_file = r'/Users/williamliu/Desktop/Kaggle_Avazu/small_train.csv'\n",
      "df_small_train_file = pd.DataFrame.from_csv(small_train_file)"
     ],
     "language": "python",
     "metadata": {},
     "outputs": []
    },
    {
     "cell_type": "code",
     "collapsed": false,
     "input": [
      "# Step to make specifc columns categories?"
     ],
     "language": "python",
     "metadata": {},
     "outputs": []
    },
    {
     "cell_type": "code",
     "collapsed": false,
     "input": [
      "# Filter for specific columns\n",
      "#my_data = df_small_train_file[['click', 'banner_pos', 'app_domain', 'app_category', 'device_type']]\n",
      "my_data = df_train_file[['click', 'banner_pos', 'app_domain', 'app_category', 'device_type']]"
     ],
     "language": "python",
     "metadata": {},
     "outputs": []
    },
    {
     "cell_type": "code",
     "collapsed": false,
     "input": [
      "my_data.info()\n",
      "my_data.head()"
     ],
     "language": "python",
     "metadata": {},
     "outputs": []
    },
    {
     "cell_type": "code",
     "collapsed": false,
     "input": [],
     "language": "python",
     "metadata": {},
     "outputs": []
    },
    {
     "cell_type": "code",
     "collapsed": false,
     "input": [
      "categorical_features = my_data[['click', 'banner_pos', 'app_domain', 'app_category', 'device_type']]\n",
      "dv = DictVectorizer()\n",
      "cat_matrix = dv.fit_transform(categorical_features.T.to_dict().values())\n",
      "cat_matrix.todense()"
     ],
     "language": "python",
     "metadata": {},
     "outputs": []
    },
    {
     "cell_type": "code",
     "collapsed": false,
     "input": [],
     "language": "python",
     "metadata": {},
     "outputs": []
    },
    {
     "cell_type": "code",
     "collapsed": false,
     "input": [],
     "language": "python",
     "metadata": {},
     "outputs": []
    },
    {
     "cell_type": "code",
     "collapsed": false,
     "input": [
      "# Train and Test Data\n",
      "X_train, X_test, y_train, y_test = train_test_split(\n",
      "    my_data['banner_pos'], my_data['click'], test_size=0.4, random_state=0)\n",
      "print \"X train:\", X_train.shape, \"  \", \"X test:\", X_test.shape\n",
      "print \"y train:\", y_train.shape, \"  \", \"y test:\", y_test.shape"
     ],
     "language": "python",
     "metadata": {},
     "outputs": []
    },
    {
     "cell_type": "code",
     "collapsed": false,
     "input": [
      "\n",
      "classifier = LogisticRegression(random_state=123)  # Create the Logistic Regression object\n",
      "classifier.fit(X_train.reshape(-1,1), y_train)  # Train the model using the training set"
     ],
     "language": "python",
     "metadata": {},
     "outputs": []
    },
    {
     "cell_type": "code",
     "collapsed": false,
     "input": [
      "plt.scatter(X_train, y_train, color='pink', alpha=.5)  # Actual training set"
     ],
     "language": "python",
     "metadata": {},
     "outputs": []
    },
    {
     "cell_type": "code",
     "collapsed": false,
     "input": [
      "guesses = np.linspace(0, 300, 30) # Will be our guesses\n",
      "probs = classifier.predict_proba(guesses.reshape(-1,1))[:, 1] # returns the probability that a new observation that categorical label\n",
      "plt.plot(guesses, probs, marker='s', color='green', alpha=.5) # Predict probability of helpfulness\n",
      "\n",
      "predicts = classifier.predict(guesses.reshape(-1,1)) # predict the label of a new set of data and returns the learned label for each object in the array\n",
      "plt.scatter(guesses, predicts, marker='s', color=\"blue\", alpha=.4)\n",
      "\n",
      "print \"Logistic Regression Score: \", classifier.score(X_test.reshape(-1,1), y_test)\n",
      "\n",
      "# Use predicited Y instead of X\n",
      "print \"Cross validating:\"\n",
      "print np.mean(cross_val_score(classifier, X_test.reshape(-1,1), y_test, scoring='roc_auc', cv=3))"
     ],
     "language": "python",
     "metadata": {},
     "outputs": []
    },
    {
     "cell_type": "code",
     "collapsed": false,
     "input": [],
     "language": "python",
     "metadata": {},
     "outputs": []
    }
   ],
   "metadata": {}
  }
 ]
}