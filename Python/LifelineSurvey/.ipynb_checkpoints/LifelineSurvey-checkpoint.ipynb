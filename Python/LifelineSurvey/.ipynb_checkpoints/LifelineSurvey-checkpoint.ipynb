{
 "cells": [
  {
   "cell_type": "markdown",
   "metadata": {},
   "source": [
    "### Lifeline Network Survey 2014-2015"
   ]
  },
  {
   "cell_type": "code",
   "execution_count": 22,
   "metadata": {
    "collapsed": false
   },
   "outputs": [],
   "source": [
    "import pandas as pd\n",
    "import numpy as np\n",
    "import matplotlib.pyplot as plt\n",
    "import seaborn as sns"
   ]
  },
  {
   "cell_type": "code",
   "execution_count": 23,
   "metadata": {
    "collapsed": true
   },
   "outputs": [],
   "source": [
    "import sys  \n",
    "\n",
    "reload(sys)  \n",
    "sys.setdefaultencoding('utf8')"
   ]
  },
  {
   "cell_type": "code",
   "execution_count": 24,
   "metadata": {
    "collapsed": false
   },
   "outputs": [],
   "source": [
    "pd.set_option('display.max_colwidth', -1)\n",
    "pd.set_option('max_info_columns', -1)\n",
    "pd.set_option('max_info_rows', -1)\n",
    "#pd.options.display.max_colwidth = 0\n",
    "pd.set_option('expand_frame_repr', False)\n",
    "pd.set_option('display.precision', 3)\n",
    "\n",
    "%matplotlib inline"
   ]
  },
  {
   "cell_type": "code",
   "execution_count": 25,
   "metadata": {
    "collapsed": false
   },
   "outputs": [],
   "source": [
    "data = pd.read_csv('C:/Users/WLiu/Desktop/LifelineSurvey/survey.csv')"
   ]
  },
  {
   "cell_type": "code",
   "execution_count": 26,
   "metadata": {
    "collapsed": false
   },
   "outputs": [
    {
     "data": {
      "text/html": [
       "<div style=\"max-height:1000px;max-width:1500px;overflow:auto;\">\n",
       "<table border=\"1\" class=\"dataframe\">\n",
       "  <thead>\n",
       "    <tr style=\"text-align: right;\">\n",
       "      <th></th>\n",
       "      <th>CrisisCenterKey</th>\n",
       "      <th>Calls Routed</th>\n",
       "      <th>Calls Answered</th>\n",
       "      <th>ACD Adjusted</th>\n",
       "      <th>RespondentID</th>\n",
       "      <th>IP Address</th>\n",
       "      <th>Name of crisis center completing this survey (please choose from the drop-down menu):</th>\n",
       "      <th>What is the (first and last) name and title of the person completing this form? - Open-Ended Response</th>\n",
       "      <th>How long has your crisis center been operating in your community?</th>\n",
       "      <th>Is the crisis center a separate and distinct service that is part of a larger organization/agency that provides various other services?</th>\n",
       "      <th>...</th>\n",
       "      <th>In your opinion, how valuable do you find the following Lifeline benefits: - Support/advocacy Letters</th>\n",
       "      <th>In your opinion, how valuable do you find the following Lifeline benefits: - National evaluations</th>\n",
       "      <th>In your opinion, how valuable do you find the following Lifeline benefits: - Clinical consultation</th>\n",
       "      <th>In your opinion, how valuable do you find the following Lifeline benefits: - Attempt survivor resources</th>\n",
       "      <th>In your opinion, how valuable do you find the following Lifeline benefits: - Veterans help resources</th>\n",
       "      <th>In your opinion, how valuable do you find the following Lifeline benefits: - Data/reports</th>\n",
       "      <th>In your opinion, how valuable do you find the following Lifeline benefits: - Other</th>\n",
       "      <th>In your opinion, how valuable do you find the following Lifeline benefits: - Other (please specify)</th>\n",
       "      <th>How much value do you think being a member of the Lifeline adds to the development of your crisis center?</th>\n",
       "      <th>In your opinion, what benefits does being a member of the Lifeline best provide?  How could the Lifeline improve?   - Open-Ended Response</th>\n",
       "    </tr>\n",
       "  </thead>\n",
       "  <tbody>\n",
       "    <tr>\n",
       "      <th>0</th>\n",
       "      <td> FL230000</td>\n",
       "      <td> 1,921</td>\n",
       "      <td> 1,691</td>\n",
       "      <td> 1,575</td>\n",
       "      <td> 3703695010</td>\n",
       "      <td> 173.10.201.158</td>\n",
       "      <td> 2-1-1 Big Bend (Tallahassee, FL)</td>\n",
       "      <td> Randall Nicklaus, President</td>\n",
       "      <td> 41-50 years</td>\n",
       "      <td> No</td>\n",
       "      <td>...</td>\n",
       "      <td> Our center has not used this resource</td>\n",
       "      <td> Our center has not used this resource</td>\n",
       "      <td> Our center has not used this resource</td>\n",
       "      <td> Our center has not used this resource</td>\n",
       "      <td> Our center has not used this resource</td>\n",
       "      <td> Valuable</td>\n",
       "      <td> Our center has not used this resource</td>\n",
       "      <td> NaN</td>\n",
       "      <td> Some</td>\n",
       "      <td> Valuable:  Access to information and research; some funding; ASIST training of trainers.  How it could improve: more funding to smaller crisis centers; regular ASIST training of trainers</td>\n",
       "    </tr>\n",
       "    <tr>\n",
       "      <th>1</th>\n",
       "      <td> FL240000</td>\n",
       "      <td> 1,276</td>\n",
       "      <td> 655</td>\n",
       "      <td> 655</td>\n",
       "      <td> 3703340436</td>\n",
       "      <td> 71.43.146.146</td>\n",
       "      <td> 211 Brevard (Rockledge, FL)</td>\n",
       "      <td> Libby Donoghue, Executive Director</td>\n",
       "      <td> 50+ years</td>\n",
       "      <td> No</td>\n",
       "      <td>...</td>\n",
       "      <td> NaN</td>\n",
       "      <td> NaN</td>\n",
       "      <td> NaN</td>\n",
       "      <td> NaN</td>\n",
       "      <td> NaN</td>\n",
       "      <td> NaN</td>\n",
       "      <td> NaN</td>\n",
       "      <td> I wasn't sure whether you really mean 'invaluable' or meant 'not valuable'.  For the ones not checked, \"not particularly valuable\" would be the correct response.  ASIST training would be useful if more accessible.</td>\n",
       "      <td> A bit</td>\n",
       "      <td> It sounds nice to say we're part of a national network.  It is consistent with our mission.  Some of the training &amp; best practice info, along with the marketing materials, are good.  The expectations of being a member of the network are not commensurate with the funding, so increasing the funding would be an improvement.</td>\n",
       "    </tr>\n",
       "    <tr>\n",
       "      <th>2</th>\n",
       "      <td> FL954000</td>\n",
       "      <td> 3,660</td>\n",
       "      <td> 3,387</td>\n",
       "      <td> 3,387</td>\n",
       "      <td> 3708486727</td>\n",
       "      <td> 216.199.130.168</td>\n",
       "      <td> 2-1-1 Broward (Oakland Park, FL)</td>\n",
       "      <td> Francisco Isaza, Program Director</td>\n",
       "      <td> 11-20 years</td>\n",
       "      <td> No</td>\n",
       "      <td>...</td>\n",
       "      <td> Extremely Valuable</td>\n",
       "      <td> Extremely Valuable</td>\n",
       "      <td> Extremely Valuable</td>\n",
       "      <td> Extremely Valuable</td>\n",
       "      <td> Extremely Valuable</td>\n",
       "      <td> Extremely Valuable</td>\n",
       "      <td> NaN</td>\n",
       "      <td> NaN</td>\n",
       "      <td> Very Much</td>\n",
       "      <td> the credibility of being part of a national network, and the certification provided</td>\n",
       "    </tr>\n",
       "    <tr>\n",
       "      <th>3</th>\n",
       "      <td> SC843000</td>\n",
       "      <td> 11,218</td>\n",
       "      <td> 10,978</td>\n",
       "      <td> 7,923</td>\n",
       "      <td> 3728076762</td>\n",
       "      <td> 75.148.56.233</td>\n",
       "      <td> 211 Hotline (N. Charleston, SC)</td>\n",
       "      <td> Charlotte Anderson</td>\n",
       "      <td> 31-40 years</td>\n",
       "      <td> Yes</td>\n",
       "      <td>...</td>\n",
       "      <td> Our center has not used this resource</td>\n",
       "      <td> Our center has not used this resource</td>\n",
       "      <td> Our center has not used this resource</td>\n",
       "      <td> Extremely Valuable</td>\n",
       "      <td> Extremely Valuable</td>\n",
       "      <td> Valuable</td>\n",
       "      <td> NaN</td>\n",
       "      <td> NaN</td>\n",
       "      <td> Very Much</td>\n",
       "      <td> Best practice information and being a connecting point between centers</td>\n",
       "    </tr>\n",
       "    <tr>\n",
       "      <th>4</th>\n",
       "      <td> FL350000</td>\n",
       "      <td> 4,888</td>\n",
       "      <td> 4,674</td>\n",
       "      <td> 4,341</td>\n",
       "      <td> 3725622345</td>\n",
       "      <td> 50.248.22.253</td>\n",
       "      <td> 211 Palm Beach/ Treasure Coast (Lantana, FL)</td>\n",
       "      <td> Sharon L'Herrou, Director of Programs &amp; Services</td>\n",
       "      <td> 31-40 years</td>\n",
       "      <td> Yes</td>\n",
       "      <td>...</td>\n",
       "      <td> Valuable</td>\n",
       "      <td> Valuable</td>\n",
       "      <td> Somewhat Valuable</td>\n",
       "      <td> Somewhat Valuable</td>\n",
       "      <td> Somewhat Valuable</td>\n",
       "      <td> Valuable</td>\n",
       "      <td> NaN</td>\n",
       "      <td> NaN</td>\n",
       "      <td> Very Much</td>\n",
       "      <td> Benefits include information on resources &amp; data</td>\n",
       "    </tr>\n",
       "  </tbody>\n",
       "</table>\n",
       "<p>5 rows × 205 columns</p>\n",
       "</div>"
      ],
      "text/plain": [
       "  CrisisCenterKey Calls Routed Calls Answered ACD Adjusted  RespondentID       IP Address Name of crisis center completing this survey (please choose from the drop-down menu): What is the (first and last) name and title of the person completing this form? - Open-Ended Response How long has your crisis center been operating in your community? Is the crisis center a separate and distinct service that is part of a larger organization/agency that provides various other services?                                                                                                                                                                 ...                                                                                                                                                                 In your opinion, how valuable do you find the following Lifeline benefits: - Support/advocacy Letters In your opinion, how valuable do you find the following Lifeline benefits: - National evaluations In your opinion, how valuable do you find the following Lifeline benefits: - Clinical consultation In your opinion, how valuable do you find the following Lifeline benefits: - Attempt survivor resources In your opinion, how valuable do you find the following Lifeline benefits: - Veterans help resources  In your opinion, how valuable do you find the following Lifeline benefits: - Data/reports In your opinion, how valuable do you find the following Lifeline benefits: - Other                                                                                                                    In your opinion, how valuable do you find the following Lifeline benefits: - Other (please specify) How much value do you think being a member of the Lifeline adds to the development of your crisis center?                                                                                                                                                                                           In your opinion, what benefits does being a member of the Lifeline best provide?  How could the Lifeline improve?   - Open-Ended Response\n",
       "0  FL230000        1,921        1,691          1,575        3703695010    173.10.201.158   2-1-1 Big Bend (Tallahassee, FL)                                                      Randall Nicklaus, President                                                                           41-50 years                                                       No                                                                                                                                                                                                                                                                                                     ...                                                                                                                                                                  Our center has not used this resource                                                                 Our center has not used this resource                                                             Our center has not used this resource                                                              Our center has not used this resource                                                                   Our center has not used this resource                                                                Valuable                                                                                   Our center has not used this resource                                              NaN                                                                                                                                                                                                                    Some                                                                                                      Valuable:  Access to information and research; some funding; ASIST training of trainers.  How it could improve: more funding to smaller crisis centers; regular ASIST training of trainers                                                                                                                                        \n",
       "1  FL240000        1,276        655            655          3703340436    71.43.146.146    211 Brevard (Rockledge, FL)                                                           Libby Donoghue, Executive Director                                                                    50+ years                                                         No                                                                                                                                                                                                                                                                                                     ...                                                                                                                                                                  NaN                                                                                                   NaN                                                                                               NaN                                                                                                NaN                                                                                                     NaN                                                                                                  NaN                                                                                        NaN                                                                                I wasn't sure whether you really mean 'invaluable' or meant 'not valuable'.  For the ones not checked, \"not particularly valuable\" would be the correct response.  ASIST training would be useful if more accessible.  A bit                                                                                                     It sounds nice to say we're part of a national network.  It is consistent with our mission.  Some of the training & best practice info, along with the marketing materials, are good.  The expectations of being a member of the network are not commensurate with the funding, so increasing the funding would be an improvement.\n",
       "2  FL954000        3,660        3,387          3,387        3708486727    216.199.130.168  2-1-1 Broward (Oakland Park, FL)                                                      Francisco Isaza, Program Director                                                                     11-20 years                                                       No                                                                                                                                                                                                                                                                                                     ...                                                                                                                                                                  Extremely Valuable                                                                                    Extremely Valuable                                                                                Extremely Valuable                                                                                 Extremely Valuable                                                                                      Extremely Valuable                                                                                   Extremely Valuable                                                                         NaN                                                                                NaN                                                                                                                                                                                                                    Very Much                                                                                                 the credibility of being part of a national network, and the certification provided                                                                                                                                                                                                                                               \n",
       "3  SC843000        11,218       10,978         7,923        3728076762    75.148.56.233    211 Hotline (N. Charleston, SC)                                                       Charlotte Anderson                                                                                    31-40 years                                                       Yes                                                                                                                                                                                                                                                                                                    ...                                                                                                                                                                  Our center has not used this resource                                                                 Our center has not used this resource                                                             Our center has not used this resource                                                              Extremely Valuable                                                                                      Extremely Valuable                                                                                   Valuable                                                                                   NaN                                                                                NaN                                                                                                                                                                                                                    Very Much                                                                                                 Best practice information and being a connecting point between centers                                                                                                                                                                                                                                                            \n",
       "4  FL350000        4,888        4,674          4,341        3725622345    50.248.22.253    211 Palm Beach/ Treasure Coast (Lantana, FL)                                          Sharon L'Herrou, Director of Programs & Services                                                      31-40 years                                                       Yes                                                                                                                                                                                                                                                                                                    ...                                                                                                                                                                  Valuable                                                                                              Valuable                                                                                          Somewhat Valuable                                                                                  Somewhat Valuable                                                                                       Somewhat Valuable                                                                                    Valuable                                                                                   NaN                                                                                NaN                                                                                                                                                                                                                    Very Much                                                                                                 Benefits include information on resources & data                                                                                                                                                                                                                                                                                  \n",
       "\n",
       "[5 rows x 205 columns]"
      ]
     },
     "execution_count": 26,
     "metadata": {},
     "output_type": "execute_result"
    }
   ],
   "source": [
    "data.head()"
   ]
  },
  {
   "cell_type": "code",
   "execution_count": 27,
   "metadata": {
    "collapsed": false
   },
   "outputs": [],
   "source": [
    "data = data.dropna(axis=1, how='all')  # if all values are NA, drop that label"
   ]
  },
  {
   "cell_type": "code",
   "execution_count": 33,
   "metadata": {
    "collapsed": false
   },
   "outputs": [
    {
     "data": {
      "text/html": [
       "<div style=\"max-height:1000px;max-width:1500px;overflow:auto;\">\n",
       "<table border=\"1\" class=\"dataframe\">\n",
       "  <thead>\n",
       "    <tr style=\"text-align: right;\">\n",
       "      <th></th>\n",
       "      <th>CrisisCenterKey</th>\n",
       "      <th>Calls Routed</th>\n",
       "      <th>Calls Answered</th>\n",
       "      <th>ACD Adjusted</th>\n",
       "      <th>RespondentID</th>\n",
       "      <th>IP Address</th>\n",
       "      <th>Name of crisis center completing this survey (please choose from the drop-down menu):</th>\n",
       "      <th>What is the (first and last) name and title of the person completing this form? - Open-Ended Response</th>\n",
       "      <th>How long has your crisis center been operating in your community?</th>\n",
       "      <th>Is the crisis center a separate and distinct service that is part of a larger organization/agency that provides various other services?</th>\n",
       "      <th>...</th>\n",
       "      <th>In your opinion, how valuable do you find the following Lifeline benefits: - Support/advocacy Letters</th>\n",
       "      <th>In your opinion, how valuable do you find the following Lifeline benefits: - National evaluations</th>\n",
       "      <th>In your opinion, how valuable do you find the following Lifeline benefits: - Clinical consultation</th>\n",
       "      <th>In your opinion, how valuable do you find the following Lifeline benefits: - Attempt survivor resources</th>\n",
       "      <th>In your opinion, how valuable do you find the following Lifeline benefits: - Veterans help resources</th>\n",
       "      <th>In your opinion, how valuable do you find the following Lifeline benefits: - Data/reports</th>\n",
       "      <th>In your opinion, how valuable do you find the following Lifeline benefits: - Other</th>\n",
       "      <th>In your opinion, how valuable do you find the following Lifeline benefits: - Other (please specify)</th>\n",
       "      <th>How much value do you think being a member of the Lifeline adds to the development of your crisis center?</th>\n",
       "      <th>In your opinion, what benefits does being a member of the Lifeline best provide?  How could the Lifeline improve?   - Open-Ended Response</th>\n",
       "    </tr>\n",
       "  </thead>\n",
       "  <tbody>\n",
       "    <tr>\n",
       "      <th>0</th>\n",
       "      <td> FL230000</td>\n",
       "      <td> 1,921</td>\n",
       "      <td> 1,691</td>\n",
       "      <td> 1,575</td>\n",
       "      <td> 3703695010</td>\n",
       "      <td> 173.10.201.158</td>\n",
       "      <td> 2-1-1 Big Bend (Tallahassee, FL)</td>\n",
       "      <td> Randall Nicklaus, President</td>\n",
       "      <td> 41-50 years</td>\n",
       "      <td> No</td>\n",
       "      <td>...</td>\n",
       "      <td> Our center has not used this resource</td>\n",
       "      <td> Our center has not used this resource</td>\n",
       "      <td> Our center has not used this resource</td>\n",
       "      <td> Our center has not used this resource</td>\n",
       "      <td> Our center has not used this resource</td>\n",
       "      <td> Valuable</td>\n",
       "      <td> Our center has not used this resource</td>\n",
       "      <td> NaN</td>\n",
       "      <td> Some</td>\n",
       "      <td> Valuable:  Access to information and research; some funding; ASIST training of trainers.  How it could improve: more funding to smaller crisis centers; regular ASIST training of trainers</td>\n",
       "    </tr>\n",
       "    <tr>\n",
       "      <th>1</th>\n",
       "      <td> FL240000</td>\n",
       "      <td> 1,276</td>\n",
       "      <td> 655</td>\n",
       "      <td> 655</td>\n",
       "      <td> 3703340436</td>\n",
       "      <td> 71.43.146.146</td>\n",
       "      <td> 211 Brevard (Rockledge, FL)</td>\n",
       "      <td> Libby Donoghue, Executive Director</td>\n",
       "      <td> 50+ years</td>\n",
       "      <td> No</td>\n",
       "      <td>...</td>\n",
       "      <td> NaN</td>\n",
       "      <td> NaN</td>\n",
       "      <td> NaN</td>\n",
       "      <td> NaN</td>\n",
       "      <td> NaN</td>\n",
       "      <td> NaN</td>\n",
       "      <td> NaN</td>\n",
       "      <td> I wasn't sure whether you really mean 'invaluable' or meant 'not valuable'.  For the ones not checked, \"not particularly valuable\" would be the correct response.  ASIST training would be useful if more accessible.</td>\n",
       "      <td> A bit</td>\n",
       "      <td> It sounds nice to say we're part of a national network.  It is consistent with our mission.  Some of the training &amp; best practice info, along with the marketing materials, are good.  The expectations of being a member of the network are not commensurate with the funding, so increasing the funding would be an improvement.</td>\n",
       "    </tr>\n",
       "    <tr>\n",
       "      <th>2</th>\n",
       "      <td> FL954000</td>\n",
       "      <td> 3,660</td>\n",
       "      <td> 3,387</td>\n",
       "      <td> 3,387</td>\n",
       "      <td> 3708486727</td>\n",
       "      <td> 216.199.130.168</td>\n",
       "      <td> 2-1-1 Broward (Oakland Park, FL)</td>\n",
       "      <td> Francisco Isaza, Program Director</td>\n",
       "      <td> 11-20 years</td>\n",
       "      <td> No</td>\n",
       "      <td>...</td>\n",
       "      <td> Extremely Valuable</td>\n",
       "      <td> Extremely Valuable</td>\n",
       "      <td> Extremely Valuable</td>\n",
       "      <td> Extremely Valuable</td>\n",
       "      <td> Extremely Valuable</td>\n",
       "      <td> Extremely Valuable</td>\n",
       "      <td> NaN</td>\n",
       "      <td> NaN</td>\n",
       "      <td> Very Much</td>\n",
       "      <td> the credibility of being part of a national network, and the certification provided</td>\n",
       "    </tr>\n",
       "    <tr>\n",
       "      <th>3</th>\n",
       "      <td> SC843000</td>\n",
       "      <td> 11,218</td>\n",
       "      <td> 10,978</td>\n",
       "      <td> 7,923</td>\n",
       "      <td> 3728076762</td>\n",
       "      <td> 75.148.56.233</td>\n",
       "      <td> 211 Hotline (N. Charleston, SC)</td>\n",
       "      <td> Charlotte Anderson</td>\n",
       "      <td> 31-40 years</td>\n",
       "      <td> Yes</td>\n",
       "      <td>...</td>\n",
       "      <td> Our center has not used this resource</td>\n",
       "      <td> Our center has not used this resource</td>\n",
       "      <td> Our center has not used this resource</td>\n",
       "      <td> Extremely Valuable</td>\n",
       "      <td> Extremely Valuable</td>\n",
       "      <td> Valuable</td>\n",
       "      <td> NaN</td>\n",
       "      <td> NaN</td>\n",
       "      <td> Very Much</td>\n",
       "      <td> Best practice information and being a connecting point between centers</td>\n",
       "    </tr>\n",
       "    <tr>\n",
       "      <th>4</th>\n",
       "      <td> FL350000</td>\n",
       "      <td> 4,888</td>\n",
       "      <td> 4,674</td>\n",
       "      <td> 4,341</td>\n",
       "      <td> 3725622345</td>\n",
       "      <td> 50.248.22.253</td>\n",
       "      <td> 211 Palm Beach/ Treasure Coast (Lantana, FL)</td>\n",
       "      <td> Sharon L'Herrou, Director of Programs &amp; Services</td>\n",
       "      <td> 31-40 years</td>\n",
       "      <td> Yes</td>\n",
       "      <td>...</td>\n",
       "      <td> Valuable</td>\n",
       "      <td> Valuable</td>\n",
       "      <td> Somewhat Valuable</td>\n",
       "      <td> Somewhat Valuable</td>\n",
       "      <td> Somewhat Valuable</td>\n",
       "      <td> Valuable</td>\n",
       "      <td> NaN</td>\n",
       "      <td> NaN</td>\n",
       "      <td> Very Much</td>\n",
       "      <td> Benefits include information on resources &amp; data</td>\n",
       "    </tr>\n",
       "  </tbody>\n",
       "</table>\n",
       "<p>5 rows × 204 columns</p>\n",
       "</div>"
      ],
      "text/plain": [
       "  CrisisCenterKey Calls Routed Calls Answered ACD Adjusted  RespondentID       IP Address Name of crisis center completing this survey (please choose from the drop-down menu): What is the (first and last) name and title of the person completing this form? - Open-Ended Response How long has your crisis center been operating in your community? Is the crisis center a separate and distinct service that is part of a larger organization/agency that provides various other services?                                                                                                                                                                 ...                                                                                                                                                                 In your opinion, how valuable do you find the following Lifeline benefits: - Support/advocacy Letters In your opinion, how valuable do you find the following Lifeline benefits: - National evaluations In your opinion, how valuable do you find the following Lifeline benefits: - Clinical consultation In your opinion, how valuable do you find the following Lifeline benefits: - Attempt survivor resources In your opinion, how valuable do you find the following Lifeline benefits: - Veterans help resources In your opinion, how valuable do you find the following Lifeline benefits: - Data/reports In your opinion, how valuable do you find the following Lifeline benefits: - Other                                                                                                                    In your opinion, how valuable do you find the following Lifeline benefits: - Other (please specify) How much value do you think being a member of the Lifeline adds to the development of your crisis center?                                                                                                                                                                                           In your opinion, what benefits does being a member of the Lifeline best provide?  How could the Lifeline improve?   - Open-Ended Response\n",
       "0  FL230000        1,921        1,691          1,575        3703695010    173.10.201.158   2-1-1 Big Bend (Tallahassee, FL)                                                      Randall Nicklaus, President                                                                           41-50 years                                                       No                                                                                                                                                                                                                                                                                                     ...                                                                                                                                                                  Our center has not used this resource                                                                 Our center has not used this resource                                                             Our center has not used this resource                                                              Our center has not used this resource                                                                   Our center has not used this resource                                                                Valuable                                                                                  Our center has not used this resource                                              NaN                                                                                                                                                                                                                    Some                                                                                                      Valuable:  Access to information and research; some funding; ASIST training of trainers.  How it could improve: more funding to smaller crisis centers; regular ASIST training of trainers                                                                                                                                        \n",
       "1  FL240000        1,276        655            655          3703340436    71.43.146.146    211 Brevard (Rockledge, FL)                                                           Libby Donoghue, Executive Director                                                                    50+ years                                                         No                                                                                                                                                                                                                                                                                                     ...                                                                                                                                                                  NaN                                                                                                   NaN                                                                                               NaN                                                                                                NaN                                                                                                     NaN                                                                                                  NaN                                                                                       NaN                                                                                I wasn't sure whether you really mean 'invaluable' or meant 'not valuable'.  For the ones not checked, \"not particularly valuable\" would be the correct response.  ASIST training would be useful if more accessible.  A bit                                                                                                     It sounds nice to say we're part of a national network.  It is consistent with our mission.  Some of the training & best practice info, along with the marketing materials, are good.  The expectations of being a member of the network are not commensurate with the funding, so increasing the funding would be an improvement.\n",
       "2  FL954000        3,660        3,387          3,387        3708486727    216.199.130.168  2-1-1 Broward (Oakland Park, FL)                                                      Francisco Isaza, Program Director                                                                     11-20 years                                                       No                                                                                                                                                                                                                                                                                                     ...                                                                                                                                                                  Extremely Valuable                                                                                    Extremely Valuable                                                                                Extremely Valuable                                                                                 Extremely Valuable                                                                                      Extremely Valuable                                                                                   Extremely Valuable                                                                        NaN                                                                                NaN                                                                                                                                                                                                                    Very Much                                                                                                 the credibility of being part of a national network, and the certification provided                                                                                                                                                                                                                                               \n",
       "3  SC843000        11,218       10,978         7,923        3728076762    75.148.56.233    211 Hotline (N. Charleston, SC)                                                       Charlotte Anderson                                                                                    31-40 years                                                       Yes                                                                                                                                                                                                                                                                                                    ...                                                                                                                                                                  Our center has not used this resource                                                                 Our center has not used this resource                                                             Our center has not used this resource                                                              Extremely Valuable                                                                                      Extremely Valuable                                                                                   Valuable                                                                                  NaN                                                                                NaN                                                                                                                                                                                                                    Very Much                                                                                                 Best practice information and being a connecting point between centers                                                                                                                                                                                                                                                            \n",
       "4  FL350000        4,888        4,674          4,341        3725622345    50.248.22.253    211 Palm Beach/ Treasure Coast (Lantana, FL)                                          Sharon L'Herrou, Director of Programs & Services                                                      31-40 years                                                       Yes                                                                                                                                                                                                                                                                                                    ...                                                                                                                                                                  Valuable                                                                                              Valuable                                                                                          Somewhat Valuable                                                                                  Somewhat Valuable                                                                                       Somewhat Valuable                                                                                    Valuable                                                                                  NaN                                                                                NaN                                                                                                                                                                                                                    Very Much                                                                                                 Benefits include information on resources & data                                                                                                                                                                                                                                                                                  \n",
       "\n",
       "[5 rows x 204 columns]"
      ]
     },
     "execution_count": 33,
     "metadata": {},
     "output_type": "execute_result"
    }
   ],
   "source": [
    "data.head()"
   ]
  },
  {
   "cell_type": "code",
   "execution_count": 36,
   "metadata": {
    "collapsed": false
   },
   "outputs": [],
   "source": [
    "data.dtypes.to_csv('mycolumns.csv')"
   ]
  },
  {
   "cell_type": "code",
   "execution_count": 39,
   "metadata": {
    "collapsed": true
   },
   "outputs": [],
   "source": [
    "datacut = data[['RespondentID', 'CrisisCenterKey', 'Calls Routed', 'Calls Answered', 'ACD Adjusted']]"
   ]
  },
  {
   "cell_type": "code",
   "execution_count": 40,
   "metadata": {
    "collapsed": false
   },
   "outputs": [
    {
     "data": {
      "text/html": [
       "<div style=\"max-height:1000px;max-width:1500px;overflow:auto;\">\n",
       "<table border=\"1\" class=\"dataframe\">\n",
       "  <thead>\n",
       "    <tr style=\"text-align: right;\">\n",
       "      <th></th>\n",
       "      <th>RespondentID</th>\n",
       "      <th>CrisisCenterKey</th>\n",
       "      <th>Calls Routed</th>\n",
       "      <th>Calls Answered</th>\n",
       "      <th>ACD Adjusted</th>\n",
       "    </tr>\n",
       "  </thead>\n",
       "  <tbody>\n",
       "    <tr>\n",
       "      <th>0</th>\n",
       "      <td> 3703695010</td>\n",
       "      <td> FL230000</td>\n",
       "      <td> 1,921</td>\n",
       "      <td> 1,691</td>\n",
       "      <td> 1,575</td>\n",
       "    </tr>\n",
       "    <tr>\n",
       "      <th>1</th>\n",
       "      <td> 3703340436</td>\n",
       "      <td> FL240000</td>\n",
       "      <td> 1,276</td>\n",
       "      <td> 655</td>\n",
       "      <td> 655</td>\n",
       "    </tr>\n",
       "    <tr>\n",
       "      <th>2</th>\n",
       "      <td> 3708486727</td>\n",
       "      <td> FL954000</td>\n",
       "      <td> 3,660</td>\n",
       "      <td> 3,387</td>\n",
       "      <td> 3,387</td>\n",
       "    </tr>\n",
       "    <tr>\n",
       "      <th>3</th>\n",
       "      <td> 3728076762</td>\n",
       "      <td> SC843000</td>\n",
       "      <td> 11,218</td>\n",
       "      <td> 10,978</td>\n",
       "      <td> 7,923</td>\n",
       "    </tr>\n",
       "    <tr>\n",
       "      <th>4</th>\n",
       "      <td> 3725622345</td>\n",
       "      <td> FL350000</td>\n",
       "      <td> 4,888</td>\n",
       "      <td> 4,674</td>\n",
       "      <td> 4,341</td>\n",
       "    </tr>\n",
       "  </tbody>\n",
       "</table>\n",
       "</div>"
      ],
      "text/plain": [
       "   RespondentID CrisisCenterKey Calls Routed Calls Answered ACD Adjusted\n",
       "0  3703695010    FL230000        1,921        1,691          1,575      \n",
       "1  3703340436    FL240000        1,276        655            655        \n",
       "2  3708486727    FL954000        3,660        3,387          3,387      \n",
       "3  3728076762    SC843000        11,218       10,978         7,923      \n",
       "4  3725622345    FL350000        4,888        4,674          4,341      "
      ]
     },
     "execution_count": 40,
     "metadata": {},
     "output_type": "execute_result"
    }
   ],
   "source": [
    "datacut.head()"
   ]
  },
  {
   "cell_type": "code",
   "execution_count": 42,
   "metadata": {
    "collapsed": false
   },
   "outputs": [
    {
     "ename": "ValueError",
     "evalue": "zero-size array to reduction operation maximum which has no identity",
     "output_type": "error",
     "traceback": [
      "\u001b[1;31m---------------------------------------------------------------------------\u001b[0m",
      "\u001b[1;31mValueError\u001b[0m                                Traceback (most recent call last)",
      "\u001b[1;32m<ipython-input-42-61ef30a854fc>\u001b[0m in \u001b[0;36m<module>\u001b[1;34m()\u001b[0m\n\u001b[0;32m      1\u001b[0m \u001b[1;31m# Correlation Plot\u001b[0m\u001b[1;33m\u001b[0m\u001b[1;33m\u001b[0m\u001b[0m\n\u001b[0;32m      2\u001b[0m \u001b[0msns\u001b[0m\u001b[1;33m.\u001b[0m\u001b[0mset_context\u001b[0m\u001b[1;33m(\u001b[0m\u001b[0mrc\u001b[0m\u001b[1;33m=\u001b[0m\u001b[1;33m{\u001b[0m\u001b[1;34m\"figure.figsize\"\u001b[0m\u001b[1;33m:\u001b[0m \u001b[1;33m(\u001b[0m\u001b[1;36m30\u001b[0m\u001b[1;33m,\u001b[0m\u001b[1;36m30\u001b[0m\u001b[1;33m)\u001b[0m\u001b[1;33m}\u001b[0m\u001b[1;33m)\u001b[0m  \u001b[1;31m# set size\u001b[0m\u001b[1;33m\u001b[0m\u001b[0m\n\u001b[1;32m----> 3\u001b[1;33m \u001b[0msns\u001b[0m\u001b[1;33m.\u001b[0m\u001b[0mcorrplot\u001b[0m\u001b[1;33m(\u001b[0m\u001b[0mdatacut\u001b[0m\u001b[1;33m,\u001b[0m \u001b[0msig_stars\u001b[0m\u001b[1;33m=\u001b[0m\u001b[0mTrue\u001b[0m\u001b[1;33m,\u001b[0m \u001b[0mcbar\u001b[0m\u001b[1;33m=\u001b[0m\u001b[0mTrue\u001b[0m\u001b[1;33m,\u001b[0m \u001b[0mmethod\u001b[0m\u001b[1;33m=\u001b[0m\u001b[1;34m'pearson'\u001b[0m\u001b[1;33m)\u001b[0m  \u001b[1;31m# pearson, kendall, spearman\u001b[0m\u001b[1;33m\u001b[0m\u001b[0m\n\u001b[0m",
      "\u001b[1;32mC:\\Users\\WLiu\\AppData\\Local\\Continuum\\Anaconda\\lib\\site-packages\\seaborn\\linearmodels.pyc\u001b[0m in \u001b[0;36mcorrplot\u001b[1;34m(data, names, annot, sig_stars, sig_tail, sig_corr, cmap, cmap_range, cbar, diag_names, method, ax, **kwargs)\u001b[0m\n\u001b[0;32m   1551\u001b[0m     \u001b[1;32mif\u001b[0m \u001b[0mcmap_range\u001b[0m \u001b[1;32mis\u001b[0m \u001b[0mNone\u001b[0m\u001b[1;33m:\u001b[0m\u001b[1;33m\u001b[0m\u001b[0m\n\u001b[0;32m   1552\u001b[0m         \u001b[0mtriu\u001b[0m \u001b[1;33m=\u001b[0m \u001b[0mnp\u001b[0m\u001b[1;33m.\u001b[0m\u001b[0mtriu_indices\u001b[0m\u001b[1;33m(\u001b[0m\u001b[0mlen\u001b[0m\u001b[1;33m(\u001b[0m\u001b[0mcorrmat\u001b[0m\u001b[1;33m)\u001b[0m\u001b[1;33m,\u001b[0m \u001b[1;36m1\u001b[0m\u001b[1;33m)\u001b[0m\u001b[1;33m\u001b[0m\u001b[0m\n\u001b[1;32m-> 1553\u001b[1;33m         \u001b[0mvmax\u001b[0m \u001b[1;33m=\u001b[0m \u001b[0mmin\u001b[0m\u001b[1;33m(\u001b[0m\u001b[1;36m1\u001b[0m\u001b[1;33m,\u001b[0m \u001b[0mnp\u001b[0m\u001b[1;33m.\u001b[0m\u001b[0mmax\u001b[0m\u001b[1;33m(\u001b[0m\u001b[0mnp\u001b[0m\u001b[1;33m.\u001b[0m\u001b[0mabs\u001b[0m\u001b[1;33m(\u001b[0m\u001b[0mcorrmat\u001b[0m\u001b[1;33m.\u001b[0m\u001b[0mvalues\u001b[0m\u001b[1;33m[\u001b[0m\u001b[0mtriu\u001b[0m\u001b[1;33m]\u001b[0m\u001b[1;33m)\u001b[0m\u001b[1;33m)\u001b[0m \u001b[1;33m*\u001b[0m \u001b[1;36m1.15\u001b[0m\u001b[1;33m)\u001b[0m\u001b[1;33m\u001b[0m\u001b[0m\n\u001b[0m\u001b[0;32m   1554\u001b[0m         \u001b[0mvmin\u001b[0m \u001b[1;33m=\u001b[0m \u001b[1;33m-\u001b[0m\u001b[0mvmax\u001b[0m\u001b[1;33m\u001b[0m\u001b[0m\n\u001b[0;32m   1555\u001b[0m         \u001b[1;32mif\u001b[0m \u001b[0msig_tail\u001b[0m \u001b[1;33m==\u001b[0m \u001b[1;34m\"both\"\u001b[0m\u001b[1;33m:\u001b[0m\u001b[1;33m\u001b[0m\u001b[0m\n",
      "\u001b[1;32mC:\\Users\\WLiu\\AppData\\Local\\Continuum\\Anaconda\\lib\\site-packages\\numpy\\core\\fromnumeric.pyc\u001b[0m in \u001b[0;36mamax\u001b[1;34m(a, axis, out, keepdims)\u001b[0m\n\u001b[0;32m   2130\u001b[0m     \u001b[1;32melse\u001b[0m\u001b[1;33m:\u001b[0m\u001b[1;33m\u001b[0m\u001b[0m\n\u001b[0;32m   2131\u001b[0m         return _methods._amax(a, axis=axis,\n\u001b[1;32m-> 2132\u001b[1;33m                             out=out, keepdims=keepdims)\n\u001b[0m\u001b[0;32m   2133\u001b[0m \u001b[1;33m\u001b[0m\u001b[0m\n\u001b[0;32m   2134\u001b[0m \u001b[1;32mdef\u001b[0m \u001b[0mamin\u001b[0m\u001b[1;33m(\u001b[0m\u001b[0ma\u001b[0m\u001b[1;33m,\u001b[0m \u001b[0maxis\u001b[0m\u001b[1;33m=\u001b[0m\u001b[0mNone\u001b[0m\u001b[1;33m,\u001b[0m \u001b[0mout\u001b[0m\u001b[1;33m=\u001b[0m\u001b[0mNone\u001b[0m\u001b[1;33m,\u001b[0m \u001b[0mkeepdims\u001b[0m\u001b[1;33m=\u001b[0m\u001b[0mFalse\u001b[0m\u001b[1;33m)\u001b[0m\u001b[1;33m:\u001b[0m\u001b[1;33m\u001b[0m\u001b[0m\n",
      "\u001b[1;32mC:\\Users\\WLiu\\AppData\\Local\\Continuum\\Anaconda\\lib\\site-packages\\numpy\\core\\_methods.pyc\u001b[0m in \u001b[0;36m_amax\u001b[1;34m(a, axis, out, keepdims)\u001b[0m\n\u001b[0;32m     24\u001b[0m \u001b[1;31m# small reductions\u001b[0m\u001b[1;33m\u001b[0m\u001b[1;33m\u001b[0m\u001b[0m\n\u001b[0;32m     25\u001b[0m \u001b[1;32mdef\u001b[0m \u001b[0m_amax\u001b[0m\u001b[1;33m(\u001b[0m\u001b[0ma\u001b[0m\u001b[1;33m,\u001b[0m \u001b[0maxis\u001b[0m\u001b[1;33m=\u001b[0m\u001b[0mNone\u001b[0m\u001b[1;33m,\u001b[0m \u001b[0mout\u001b[0m\u001b[1;33m=\u001b[0m\u001b[0mNone\u001b[0m\u001b[1;33m,\u001b[0m \u001b[0mkeepdims\u001b[0m\u001b[1;33m=\u001b[0m\u001b[0mFalse\u001b[0m\u001b[1;33m)\u001b[0m\u001b[1;33m:\u001b[0m\u001b[1;33m\u001b[0m\u001b[0m\n\u001b[1;32m---> 26\u001b[1;33m     \u001b[1;32mreturn\u001b[0m \u001b[0mumr_maximum\u001b[0m\u001b[1;33m(\u001b[0m\u001b[0ma\u001b[0m\u001b[1;33m,\u001b[0m \u001b[0maxis\u001b[0m\u001b[1;33m,\u001b[0m \u001b[0mNone\u001b[0m\u001b[1;33m,\u001b[0m \u001b[0mout\u001b[0m\u001b[1;33m,\u001b[0m \u001b[0mkeepdims\u001b[0m\u001b[1;33m)\u001b[0m\u001b[1;33m\u001b[0m\u001b[0m\n\u001b[0m\u001b[0;32m     27\u001b[0m \u001b[1;33m\u001b[0m\u001b[0m\n\u001b[0;32m     28\u001b[0m \u001b[1;32mdef\u001b[0m \u001b[0m_amin\u001b[0m\u001b[1;33m(\u001b[0m\u001b[0ma\u001b[0m\u001b[1;33m,\u001b[0m \u001b[0maxis\u001b[0m\u001b[1;33m=\u001b[0m\u001b[0mNone\u001b[0m\u001b[1;33m,\u001b[0m \u001b[0mout\u001b[0m\u001b[1;33m=\u001b[0m\u001b[0mNone\u001b[0m\u001b[1;33m,\u001b[0m \u001b[0mkeepdims\u001b[0m\u001b[1;33m=\u001b[0m\u001b[0mFalse\u001b[0m\u001b[1;33m)\u001b[0m\u001b[1;33m:\u001b[0m\u001b[1;33m\u001b[0m\u001b[0m\n",
      "\u001b[1;31mValueError\u001b[0m: zero-size array to reduction operation maximum which has no identity"
     ]
    }
   ],
   "source": [
    "# Correlation Plot\n",
    "sns.set_context(rc={\"figure.figsize\": (30,30)})  # set size\n",
    "sns.corrplot(datacut, sig_stars=True, annot=True, cbar=True)  # pearson, kendall, spearman"
   ]
  },
  {
   "cell_type": "code",
   "execution_count": null,
   "metadata": {
    "collapsed": false
   },
   "outputs": [],
   "source": []
  }
 ],
 "metadata": {
  "kernelspec": {
   "display_name": "Python 2",
   "language": "python",
   "name": "python2"
  },
  "language_info": {
   "codemirror_mode": {
    "name": "ipython",
    "version": 2
   },
   "file_extension": ".py",
   "mimetype": "text/x-python",
   "name": "python",
   "nbconvert_exporter": "python",
   "pygments_lexer": "ipython2",
   "version": "2.7.8"
  }
 },
 "nbformat": 4,
 "nbformat_minor": 0
}
