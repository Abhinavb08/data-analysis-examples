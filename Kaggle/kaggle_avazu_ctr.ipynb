{
 "metadata": {
  "name": "",
  "signature": "sha256:f41afa92d0a97a98fbc17fe025037e8687614ac3095ecf8ea2268800c43659b6"
 },
 "nbformat": 3,
 "nbformat_minor": 0,
 "worksheets": [
  {
   "cells": [
    {
     "cell_type": "heading",
     "level": 1,
     "metadata": {},
     "source": [
      "What are the data types of each dataframe?\n",
      "\n",
      "What is correlated to click?  Do a correlation matrix.  Get those fields that are high correlation.\n",
      "\n",
      "Plot <click> to <correlated variable>\n",
      "Plot <hour> to <correlated variable>\n"
     ]
    },
    {
     "cell_type": "code",
     "collapsed": false,
     "input": [
      "import numpy as np\n",
      "import pandas as pd\n",
      "import matplotlib.pyplot as plt\n",
      "from sklearn.preprocessing import scale\n",
      "from sklearn.cluster import KMeans\n",
      "from sklearn.feature_extraction import DictVectorizer\n",
      "from sklearn.linear_model import SGDClassifier\n",
      "from sklearn.linear_model import LogisticRegression\n",
      "\n",
      "# Running Logistic Regression with Train and Test Data\n",
      "from sklearn.cross_validation import cross_val_score\n",
      "from sklearn.cross_validation import train_test_split\n",
      "\n",
      "%matplotlib inline"
     ],
     "language": "python",
     "metadata": {},
     "outputs": [],
     "prompt_number": 3
    },
    {
     "cell_type": "code",
     "collapsed": false,
     "input": [
      "import sys\n",
      "print 'Python version ' + sys.version\n",
      "print 'Pandas version ' + pd.__version__"
     ],
     "language": "python",
     "metadata": {},
     "outputs": [
      {
       "output_type": "stream",
       "stream": "stdout",
       "text": [
        "Python version 2.7.9 |Anaconda 2.1.0 (x86_64)| (default, Dec 15 2014, 10:37:34) \n",
        "[GCC 4.2.1 (Apple Inc. build 5577)]\n",
        "Pandas version 0.14.1\n"
       ]
      }
     ],
     "prompt_number": 43
    },
    {
     "cell_type": "code",
     "collapsed": false,
     "input": [
      "# Path to files\n",
      "train_file = r'/Users/williamliu/Desktop/Kaggle_Avazu/train.csv'\n",
      "small_train_file = r'/Users/williamliu/Desktop/Kaggle_Avazu/small_train.csv'\n",
      "test_file = r'/Users/williamliu/Desktop/Kaggle_Avazu/test.csv'\n",
      "submission_file = r'/Users/williamliu/Desktop/Kaggle_Avazu/submission_scikitlearn.csv'"
     ],
     "language": "python",
     "metadata": {},
     "outputs": [],
     "prompt_number": 4
    },
    {
     "cell_type": "code",
     "collapsed": false,
     "input": [
      "# Load files into dataframes\n",
      "#train_file = pd.DataFrame.from_csv(train_file)\n",
      "small_train = pd.DataFrame.from_csv(small_train_file)\n",
      "test = pd.DataFrame.from_csv(test_file)"
     ],
     "language": "python",
     "metadata": {},
     "outputs": [],
     "prompt_number": 13
    },
    {
     "cell_type": "code",
     "collapsed": false,
     "input": [
      "# Look at the data\n",
      "#df_train_file.info()\n",
      "#df_train_file.head()\n",
      "\n",
      "small_train.info()\n",
      "#small_train.head()\n",
      "#small_train.describe()"
     ],
     "language": "python",
     "metadata": {},
     "outputs": [
      {
       "output_type": "stream",
       "stream": "stdout",
       "text": [
        "<class 'pandas.core.frame.DataFrame'>\n",
        "Float64Index: 9999 entries, 1.00000941815e+18 to 1.13846580109e+19\n",
        "Data columns (total 23 columns):\n",
        "click               9999 non-null int64\n",
        "hour                9999 non-null int64\n",
        "C1                  9999 non-null int64\n",
        "banner_pos          9999 non-null int64\n",
        "site_id             9999 non-null object\n",
        "site_domain         9999 non-null object\n",
        "site_category       9999 non-null object\n",
        "app_id              9999 non-null object\n",
        "app_domain          9999 non-null object\n",
        "app_category        9999 non-null object\n",
        "device_id           9999 non-null object\n",
        "device_ip           9999 non-null object\n",
        "device_model        9999 non-null object\n",
        "device_type         9999 non-null int64\n",
        "device_conn_type    9999 non-null int64\n",
        "C14                 9999 non-null int64\n",
        "C15                 9999 non-null int64\n",
        "C16                 9999 non-null int64\n",
        "C17                 9999 non-null int64\n",
        "C18                 9999 non-null int64\n",
        "C19                 9999 non-null int64\n",
        "C20                 9999 non-null int64\n",
        "C21                 9999 non-null int64\n",
        "dtypes: int64(14), object(9)"
       ]
      }
     ],
     "prompt_number": 24
    },
    {
     "cell_type": "code",
     "collapsed": false,
     "input": [],
     "language": "python",
     "metadata": {},
     "outputs": []
    },
    {
     "cell_type": "code",
     "collapsed": false,
     "input": [
      "# Step to make specifc columns categories? (factors?)\n",
      "#small_train[\"test\"] = pd.Categorical(small_train[\"C1\"])\n",
      "#small_train[\"banner_pos\"] = pd.Categorical(small_train[\"banner_pos\"])\n",
      "#small_train[\"site_id\"] = pd.Categorical(small_train[\"site_id\"])\n",
      "#small_train[\"site_domain\"] = pd.Categorical(small_train[\"site_domain\"])\n",
      "#small_train[\"site_category\"] = pd.Categorical(small_train[\"site_category\"])\n",
      "#small_train[\"test\"] = small_train[\"C1\"].astype(\"category\")\n",
      "small_train[\"test\"] = pd.Categorical(small_train[\"C1\"])\n",
      "\n",
      "print small_train[\"test\"]\n",
      "#type(small_train[\"C1\"])\n",
      "#type(pd.Categorical(small_train[\"C1\"]))\n"
     ],
     "language": "python",
     "metadata": {},
     "outputs": [
      {
       "output_type": "stream",
       "stream": "stdout",
       "text": [
        "id\n",
        "1.000009e+18    1005\n",
        "1.000017e+19    1005\n",
        "1.000037e+19    1005\n",
        "1.000064e+19    1005\n",
        "1.000068e+19    1005\n",
        "1.000072e+19    1005\n",
        "1.000072e+19    1005\n",
        "1.000092e+19    1005\n",
        "1.000095e+19    1005\n",
        "1.000126e+19    1002\n",
        "1.000187e+19    1005\n",
        "1.000197e+19    1005\n",
        "1.000203e+19    1005\n",
        "1.000204e+19    1005\n",
        "1.000252e+19    1005\n",
        "...\n",
        "1.138318e+19    1005\n",
        "1.138328e+19    1005\n",
        "1.138365e+19    1005\n",
        "1.138376e+19    1005\n",
        "1.138381e+19    1005\n",
        "1.138384e+18    1005\n",
        "1.138396e+19    1005\n",
        "1.138399e+19    1005\n",
        "1.138400e+19    1005\n",
        "1.138405e+19    1005\n",
        "1.138411e+19    1005\n",
        "1.138429e+19    1005\n",
        "1.138440e+19    1005\n",
        "1.138442e+19    1005\n",
        "1.138466e+19    1005\n",
        "Name: test, Length: 9999, dtype: int64\n"
       ]
      }
     ],
     "prompt_number": 41
    },
    {
     "cell_type": "code",
     "collapsed": false,
     "input": [
      "small_train.info()"
     ],
     "language": "python",
     "metadata": {},
     "outputs": [
      {
       "output_type": "stream",
       "stream": "stdout",
       "text": [
        "<class 'pandas.core.frame.DataFrame'>\n",
        "Float64Index: 9999 entries, 1.00000941815e+18 to 1.13846580109e+19\n",
        "Data columns (total 23 columns):\n",
        "click               9999 non-null int64\n",
        "hour                9999 non-null int64\n",
        "C1                  9999 non-null int64\n",
        "banner_pos          9999 non-null int64\n",
        "site_id             9999 non-null object\n",
        "site_domain         9999 non-null object\n",
        "site_category       9999 non-null object\n",
        "app_id              9999 non-null object\n",
        "app_domain          9999 non-null object\n",
        "app_category        9999 non-null object\n",
        "device_id           9999 non-null object\n",
        "device_ip           9999 non-null object\n",
        "device_model        9999 non-null object\n",
        "device_type         9999 non-null int64\n",
        "device_conn_type    9999 non-null int64\n",
        "C14                 9999 non-null int64\n",
        "C15                 9999 non-null int64\n",
        "C16                 9999 non-null int64\n",
        "C17                 9999 non-null int64\n",
        "C18                 9999 non-null int64\n",
        "C19                 9999 non-null int64\n",
        "C20                 9999 non-null int64\n",
        "C21                 9999 non-null int64\n",
        "dtypes: int64(14), object(9)"
       ]
      }
     ],
     "prompt_number": 23
    },
    {
     "cell_type": "code",
     "collapsed": false,
     "input": [
      "# Correlation Matrix\n",
      "my_data = df_small_train_file[['click', 'hour', 'C1', 'banner_pos',\n",
      "                               'device_type', 'device_conn_type', 'C14', 'C15', 'C16', 'C17', 'C18', 'C19', 'C20',\n",
      "                               'C21']]\n",
      "corr_matrix = np.corrcoef(my_data)"
     ],
     "language": "python",
     "metadata": {},
     "outputs": [],
     "prompt_number": 8
    },
    {
     "cell_type": "code",
     "collapsed": false,
     "input": [
      "# Plotting the correlation matrix\n",
      "#plt.imshow(corr_matrix, interpolation='bilinear')\n",
      "#plt.colorbar()\n",
      "#plt.show()\n",
      "\n",
      "plt.pcolor(corr_matrix)\n",
      "plt.colorbar()\n",
      "#yticks(arange(0.5,10.5),range(0,10))\n",
      "#xticks(arange(0.5,10.5),range(0,10))\n",
      "plt.show()"
     ],
     "language": "python",
     "metadata": {},
     "outputs": [
      {
       "ename": "KeyboardInterrupt",
       "evalue": "",
       "output_type": "pyerr",
       "traceback": [
        "\u001b[0;31m---------------------------------------------------------------------------\u001b[0m\n\u001b[0;31mKeyboardInterrupt\u001b[0m                         Traceback (most recent call last)",
        "\u001b[0;32m<ipython-input-9-b5d1ee58ff2d>\u001b[0m in \u001b[0;36m<module>\u001b[0;34m()\u001b[0m\n\u001b[1;32m      4\u001b[0m \u001b[0;31m#plt.show()\u001b[0m\u001b[0;34m\u001b[0m\u001b[0;34m\u001b[0m\u001b[0m\n\u001b[1;32m      5\u001b[0m \u001b[0;34m\u001b[0m\u001b[0m\n\u001b[0;32m----> 6\u001b[0;31m \u001b[0mplt\u001b[0m\u001b[0;34m.\u001b[0m\u001b[0mpcolor\u001b[0m\u001b[0;34m(\u001b[0m\u001b[0mcorr_matrix\u001b[0m\u001b[0;34m)\u001b[0m\u001b[0;34m\u001b[0m\u001b[0m\n\u001b[0m\u001b[1;32m      7\u001b[0m \u001b[0mplt\u001b[0m\u001b[0;34m.\u001b[0m\u001b[0mcolorbar\u001b[0m\u001b[0;34m(\u001b[0m\u001b[0;34m)\u001b[0m\u001b[0;34m\u001b[0m\u001b[0m\n\u001b[1;32m      8\u001b[0m \u001b[0;31m#yticks(arange(0.5,10.5),range(0,10))\u001b[0m\u001b[0;34m\u001b[0m\u001b[0;34m\u001b[0m\u001b[0m\n",
        "\u001b[0;32m/Users/williamliu/anaconda/lib/python2.7/site-packages/matplotlib/pyplot.pyc\u001b[0m in \u001b[0;36mpcolor\u001b[0;34m(*args, **kwargs)\u001b[0m\n\u001b[1;32m   3010\u001b[0m         \u001b[0max\u001b[0m\u001b[0;34m.\u001b[0m\u001b[0mhold\u001b[0m\u001b[0;34m(\u001b[0m\u001b[0mhold\u001b[0m\u001b[0;34m)\u001b[0m\u001b[0;34m\u001b[0m\u001b[0m\n\u001b[1;32m   3011\u001b[0m     \u001b[0;32mtry\u001b[0m\u001b[0;34m:\u001b[0m\u001b[0;34m\u001b[0m\u001b[0m\n\u001b[0;32m-> 3012\u001b[0;31m         \u001b[0mret\u001b[0m \u001b[0;34m=\u001b[0m \u001b[0max\u001b[0m\u001b[0;34m.\u001b[0m\u001b[0mpcolor\u001b[0m\u001b[0;34m(\u001b[0m\u001b[0;34m*\u001b[0m\u001b[0margs\u001b[0m\u001b[0;34m,\u001b[0m \u001b[0;34m**\u001b[0m\u001b[0mkwargs\u001b[0m\u001b[0;34m)\u001b[0m\u001b[0;34m\u001b[0m\u001b[0m\n\u001b[0m\u001b[1;32m   3013\u001b[0m         \u001b[0mdraw_if_interactive\u001b[0m\u001b[0;34m(\u001b[0m\u001b[0;34m)\u001b[0m\u001b[0;34m\u001b[0m\u001b[0m\n\u001b[1;32m   3014\u001b[0m     \u001b[0;32mfinally\u001b[0m\u001b[0;34m:\u001b[0m\u001b[0;34m\u001b[0m\u001b[0m\n",
        "\u001b[0;32m/Users/williamliu/anaconda/lib/python2.7/site-packages/matplotlib/axes/_axes.pyc\u001b[0m in \u001b[0;36mpcolor\u001b[0;34m(self, *args, **kwargs)\u001b[0m\n\u001b[1;32m   4942\u001b[0m         \u001b[0mkwargs\u001b[0m\u001b[0;34m.\u001b[0m\u001b[0msetdefault\u001b[0m\u001b[0;34m(\u001b[0m\u001b[0;34m'snap'\u001b[0m\u001b[0;34m,\u001b[0m \u001b[0mFalse\u001b[0m\u001b[0;34m)\u001b[0m\u001b[0;34m\u001b[0m\u001b[0m\n\u001b[1;32m   4943\u001b[0m \u001b[0;34m\u001b[0m\u001b[0m\n\u001b[0;32m-> 4944\u001b[0;31m         \u001b[0mcollection\u001b[0m \u001b[0;34m=\u001b[0m \u001b[0mmcoll\u001b[0m\u001b[0;34m.\u001b[0m\u001b[0mPolyCollection\u001b[0m\u001b[0;34m(\u001b[0m\u001b[0mverts\u001b[0m\u001b[0;34m,\u001b[0m \u001b[0;34m**\u001b[0m\u001b[0mkwargs\u001b[0m\u001b[0;34m)\u001b[0m\u001b[0;34m\u001b[0m\u001b[0m\n\u001b[0m\u001b[1;32m   4945\u001b[0m \u001b[0;34m\u001b[0m\u001b[0m\n\u001b[1;32m   4946\u001b[0m         \u001b[0mcollection\u001b[0m\u001b[0;34m.\u001b[0m\u001b[0mset_alpha\u001b[0m\u001b[0;34m(\u001b[0m\u001b[0malpha\u001b[0m\u001b[0;34m)\u001b[0m\u001b[0;34m\u001b[0m\u001b[0m\n",
        "\u001b[0;32m/Users/williamliu/anaconda/lib/python2.7/site-packages/matplotlib/collections.pyc\u001b[0m in \u001b[0;36m__init__\u001b[0;34m(self, verts, sizes, closed, **kwargs)\u001b[0m\n\u001b[1;32m    799\u001b[0m         \u001b[0mCollection\u001b[0m\u001b[0;34m.\u001b[0m\u001b[0m__init__\u001b[0m\u001b[0;34m(\u001b[0m\u001b[0mself\u001b[0m\u001b[0;34m,\u001b[0m \u001b[0;34m**\u001b[0m\u001b[0mkwargs\u001b[0m\u001b[0;34m)\u001b[0m\u001b[0;34m\u001b[0m\u001b[0m\n\u001b[1;32m    800\u001b[0m         \u001b[0mself\u001b[0m\u001b[0;34m.\u001b[0m\u001b[0mset_sizes\u001b[0m\u001b[0;34m(\u001b[0m\u001b[0msizes\u001b[0m\u001b[0;34m)\u001b[0m\u001b[0;34m\u001b[0m\u001b[0m\n\u001b[0;32m--> 801\u001b[0;31m         \u001b[0mself\u001b[0m\u001b[0;34m.\u001b[0m\u001b[0mset_verts\u001b[0m\u001b[0;34m(\u001b[0m\u001b[0mverts\u001b[0m\u001b[0;34m,\u001b[0m \u001b[0mclosed\u001b[0m\u001b[0;34m)\u001b[0m\u001b[0;34m\u001b[0m\u001b[0m\n\u001b[0m\u001b[1;32m    802\u001b[0m \u001b[0;34m\u001b[0m\u001b[0m\n\u001b[1;32m    803\u001b[0m     \u001b[0;32mdef\u001b[0m \u001b[0mset_verts\u001b[0m\u001b[0;34m(\u001b[0m\u001b[0mself\u001b[0m\u001b[0;34m,\u001b[0m \u001b[0mverts\u001b[0m\u001b[0;34m,\u001b[0m \u001b[0mclosed\u001b[0m\u001b[0;34m=\u001b[0m\u001b[0mTrue\u001b[0m\u001b[0;34m)\u001b[0m\u001b[0;34m:\u001b[0m\u001b[0;34m\u001b[0m\u001b[0m\n",
        "\u001b[0;32m/Users/williamliu/anaconda/lib/python2.7/site-packages/matplotlib/collections.pyc\u001b[0m in \u001b[0;36mset_verts\u001b[0;34m(self, verts, closed)\u001b[0m\n\u001b[1;32m    814\u001b[0m                     \u001b[0;32melse\u001b[0m\u001b[0;34m:\u001b[0m\u001b[0;34m\u001b[0m\u001b[0m\n\u001b[1;32m    815\u001b[0m                         \u001b[0mxy\u001b[0m \u001b[0;34m=\u001b[0m \u001b[0mnp\u001b[0m\u001b[0;34m.\u001b[0m\u001b[0masarray\u001b[0m\u001b[0;34m(\u001b[0m\u001b[0mxy\u001b[0m\u001b[0;34m)\u001b[0m\u001b[0;34m\u001b[0m\u001b[0m\n\u001b[0;32m--> 816\u001b[0;31m                         \u001b[0mxy\u001b[0m \u001b[0;34m=\u001b[0m \u001b[0mnp\u001b[0m\u001b[0;34m.\u001b[0m\u001b[0mconcatenate\u001b[0m\u001b[0;34m(\u001b[0m\u001b[0;34m[\u001b[0m\u001b[0mxy\u001b[0m\u001b[0;34m,\u001b[0m \u001b[0mxy\u001b[0m\u001b[0;34m[\u001b[0m\u001b[0;36m0\u001b[0m\u001b[0;34m:\u001b[0m\u001b[0;36m1\u001b[0m\u001b[0;34m]\u001b[0m\u001b[0;34m]\u001b[0m\u001b[0;34m)\u001b[0m\u001b[0;34m\u001b[0m\u001b[0m\n\u001b[0m\u001b[1;32m    817\u001b[0m                     \u001b[0mcodes\u001b[0m \u001b[0;34m=\u001b[0m \u001b[0mnp\u001b[0m\u001b[0;34m.\u001b[0m\u001b[0mempty\u001b[0m\u001b[0;34m(\u001b[0m\u001b[0mxy\u001b[0m\u001b[0;34m.\u001b[0m\u001b[0mshape\u001b[0m\u001b[0;34m[\u001b[0m\u001b[0;36m0\u001b[0m\u001b[0;34m]\u001b[0m\u001b[0;34m,\u001b[0m \u001b[0mdtype\u001b[0m\u001b[0;34m=\u001b[0m\u001b[0mmpath\u001b[0m\u001b[0;34m.\u001b[0m\u001b[0mPath\u001b[0m\u001b[0;34m.\u001b[0m\u001b[0mcode_type\u001b[0m\u001b[0;34m)\u001b[0m\u001b[0;34m\u001b[0m\u001b[0m\n\u001b[1;32m    818\u001b[0m                     \u001b[0mcodes\u001b[0m\u001b[0;34m[\u001b[0m\u001b[0;34m:\u001b[0m\u001b[0;34m]\u001b[0m \u001b[0;34m=\u001b[0m \u001b[0mmpath\u001b[0m\u001b[0;34m.\u001b[0m\u001b[0mPath\u001b[0m\u001b[0;34m.\u001b[0m\u001b[0mLINETO\u001b[0m\u001b[0;34m\u001b[0m\u001b[0m\n",
        "\u001b[0;31mKeyboardInterrupt\u001b[0m: "
       ]
      },
      {
       "metadata": {},
       "output_type": "display_data",
       "png": "[encoded data removed]",
       "text": [
        "<matplotlib.figure.Figure at 0x158172210>"
       ]
      }
     ],
     "prompt_number": 9
    },
    {
     "cell_type": "code",
     "collapsed": false,
     "input": [
      "# Filter for specific columns\n",
      "#my_data = df_train_file[['click', 'hour', 'C1', 'banner_pos', 'site_id', 'site_domain', 'site_category', \n",
      "#                               'app_id', 'app_domain', 'app_category', 'device_id', 'device_ip', 'device_model',\n",
      "#                               'device_type', 'device_conn_type', 'C14', 'C15', 'C16', 'C17', 'C18', 'C19', 'C20',\n",
      "#                               'C21']]\n",
      "my_data = df_small_train_file[['click', 'hour', 'C1', 'banner_pos', 'site_id', 'site_domain', 'site_category', \n",
      "                               'app_id', 'app_domain', 'app_category', 'device_id', 'device_ip', 'device_model',\n",
      "                               'device_type', 'device_conn_type', 'C14', 'C15', 'C16', 'C17', 'C18', 'C19', 'C20',\n",
      "                               'C21']]"
     ],
     "language": "python",
     "metadata": {},
     "outputs": []
    },
    {
     "cell_type": "code",
     "collapsed": false,
     "input": [
      "#my_data.info()\n",
      "#my_data.head()"
     ],
     "language": "python",
     "metadata": {},
     "outputs": []
    },
    {
     "cell_type": "code",
     "collapsed": false,
     "input": [
      "#categorical_features = my_data[['click', 'banner_pos', 'app_domain', 'app_category', 'device_type']]\n",
      "#dv = DictVectorizer()\n",
      "#cat_matrix = dv.fit_transform(categorical_features.T.to_dict().values())\n",
      "#cat_matrix.todense()"
     ],
     "language": "python",
     "metadata": {},
     "outputs": []
    },
    {
     "cell_type": "code",
     "collapsed": false,
     "input": [
      "# Train and Test Data\n",
      "#X_train, X_test, y_train, y_test = train_test_split(\n",
      "#    my_data['banner_pos'], my_data['click'], test_size=0.4, random_state=0)\n",
      "X_train, X_test, y_train, y_test = train_test_split(\n",
      "    my_data['banner_pos'], my_data['click'], test_size=0.4, random_state=0)\n",
      "print \"X train:\", X_train.shape, \"  \", \"X test:\", X_test.shape\n",
      "print \"y train:\", y_train.shape, \"  \", \"y test:\", y_test.shape"
     ],
     "language": "python",
     "metadata": {},
     "outputs": []
    },
    {
     "cell_type": "code",
     "collapsed": false,
     "input": [
      "# LogisticRegression Classifier\n",
      "classifier = LogisticRegression(random_state=123)  # Create the Logistic Regression object\n",
      "#classifier.fit(X_train.reshape(-1,1), y_train)  # Train the model using the training set\n",
      "classifier.fit(X_train, y_train)  # Train the model using the training set"
     ],
     "language": "python",
     "metadata": {},
     "outputs": []
    },
    {
     "cell_type": "code",
     "collapsed": false,
     "input": [
      "# SGD Classifier\n",
      "#classifier = SGDClassifier(loss=\"hinge\", penalty=\"l2\")  # Create the Stochastic Gradient Descent\n",
      "#classifier = SGDClassifier(loss=\"log\")  # Create the Stochastic Gradient Descent\n",
      "#classifier.fit(X_train.reshape(-1,1), y_train)  # Train the model using the training set"
     ],
     "language": "python",
     "metadata": {},
     "outputs": []
    },
    {
     "cell_type": "code",
     "collapsed": false,
     "input": [
      "#plt.scatter(X_train, y_train, color='pink', alpha=.5)  # Actual training set"
     ],
     "language": "python",
     "metadata": {},
     "outputs": []
    },
    {
     "cell_type": "code",
     "collapsed": false,
     "input": [
      "# Get Score\n",
      "\n",
      "guesses = np.linspace(0, 300, 30) # Will be our guesses\n",
      "probs = classifier.predict_proba(guesses.reshape(-1,1))[:, 1] # returns the probability that a new observation that categorical label\n",
      "plt.plot(guesses, probs, marker='s', color='green', alpha=.5) # Predict probability of helpfulness\n",
      "\n",
      "predicts = classifier.predict(guesses.reshape(-1,1)) # predict the label of a new set of data and returns the learned label for each object in the array\n",
      "plt.scatter(guesses, predicts, marker='s', color=\"blue\", alpha=.4)\n",
      "\n",
      "print \"Logistic Regression Score: \", classifier.score(X_test.reshape(-1,1), y_test)\n",
      "\n",
      "# Use predicited Y instead of X\n",
      "print \"Cross validating:\"\n",
      "print np.mean(cross_val_score(classifier, X_test.reshape(-1,1), y_test, scoring='roc_auc', cv=3))"
     ],
     "language": "python",
     "metadata": {},
     "outputs": []
    },
    {
     "cell_type": "code",
     "collapsed": false,
     "input": [],
     "language": "python",
     "metadata": {},
     "outputs": []
    },
    {
     "cell_type": "code",
     "collapsed": false,
     "input": [],
     "language": "python",
     "metadata": {},
     "outputs": []
    }
   ],
   "metadata": {}
  }
 ]
}