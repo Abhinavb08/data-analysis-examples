{
 "metadata": {
  "name": "",
  "signature": "sha256:621598484f7b4805bdf80d41f081dddf595f84a20ea452cabab9856a6c910aa8"
 },
 "nbformat": 3,
 "nbformat_minor": 0,
 "worksheets": [
  {
   "cells": [
    {
     "cell_type": "heading",
     "level": 1,
     "metadata": {},
     "source": [
      "Query SightMax Survey Data"
     ]
    },
    {
     "cell_type": "code",
     "collapsed": false,
     "input": [
      "import os\n",
      "import csv\n",
      "import sqlalchemy\n",
      "\n",
      "# Setup server and database connection\n",
      "DB_DRIVER = '{SQL Server}'\n",
      "DB_SERVER = 'www.lifeline-chat.org'\n",
      "DB_DATABASE = 'SightMaxDB'\n",
      "DB_UID = 'sa'\n",
      "DB_PWD = '<put in actual password>'\n",
      "DB_DRIVER_SQLALCHEMY = 'mssql'\n",
      "SQLALCHEMY_CONNECTION = (DB_DRIVER_SQLALCHEMY + '://'\n",
      "        + DB_UID + \":\" + DB_PWD + \"@\" + DB_SERVER + \"/\" + DB_DATABASE \n",
      "        )\n",
      "\n",
      "# Setup table connections\n",
      "engine = sqlalchemy.create_engine(SQLALCHEMY_CONNECTION, echo=True)\n",
      "metadata = sqlalchemy.MetaData(bind=engine)\n",
      "try:\n",
      "    SurveyResults = sqlalchemy.Table( \\\n",
      "        'SurveyResultsWithAnswer', metadata, autoload=True)\n",
      "    print \"Successfully loaded tables\"\n",
      "except IOError as my_msg:\n",
      "    print \"Error connecting:\", my_msg\n",
      "metadata.create_all(engine)\n",
      "conn = engine.connect()\n",
      "\n",
      "def run_sql():\n",
      "    \"\"\" Get SightMax Survey Data from custom View \"\"\"\n",
      "\n",
      "    print \"Running SQL Step\"\n",
      "    try:\n",
      "        # Run SQL\n",
      "        result = conn.execute(\"\"\"SELECT * FROM \n",
      "            [SightMaxDB].[dbo].[SurveyResultsWithAnswer]\"\"\")\n",
      "        print \"Successfully ran SQL\"\n",
      "        return result\n",
      "\n",
      "    except IOError as my_msg:\n",
      "        print \"Error running SQL:\", my_msg\n",
      "\n",
      "outfile = open('SightMax_Survey_ChatID.csv', 'wb')\n",
      "outcsv = csv.writer(outfile)\n",
      "result = conn.execute(\"\"\"SELECT * FROM \n",
      "        [SightMaxDB].[dbo].[SurveyResultsWithAnswer]\"\"\")\n",
      "outcsv.writerows(result.fetchall())\n",
      "conn.close()"
     ],
     "language": "python",
     "metadata": {},
     "outputs": []
    },
    {
     "cell_type": "heading",
     "level": 1,
     "metadata": {},
     "source": [
      "Query SightMax Chat Data"
     ]
    },
    {
     "cell_type": "code",
     "collapsed": false,
     "input": [
      "\n",
      "#Setup table connections\n",
      "engine = sqlalchemy.create_engine(SQLALCHEMY_CONNECTION, echo=True)\n",
      "metadata = sqlalchemy.MetaData(bind=engine)\n",
      "try:\n",
      "    SurveyResults = sqlalchemy.Table( \\\n",
      "        'ChatSegment', metadata, autoload=True)\n",
      "    print \"Successfully loaded tables\"\n",
      "except IOError as my_msg:\n",
      "    print \"Error connecting:\", my_msg\n",
      "metadata.create_all(engine)\n",
      "conn = engine.connect()\n",
      "\n",
      "def run_sql():\n",
      "    \"\"\" Get SightMax Chat data \"\"\"\n",
      "\n",
      "    print \"Running SQL Step\"\n",
      "    try:\n",
      "        # Run SQL\n",
      "        result = conn.execute(\"\"\"SELECT * FROM \n",
      "            [SightMaxDB].[dbo].[ChatSegment]\"\"\")\n",
      "        print \"Successfully ran SQL\"\n",
      "        return result\n",
      "\n",
      "    except IOError as my_msg:\n",
      "        print \"Error running SQL:\", my_msg\n",
      "\n",
      "def write_file_df_clean():\n",
      "    \"\"\" Write file to dataframe, clean, then from dataframe to csv\"\"\"\n",
      "    df = pd.read_csv('output.csv' #, dtype={'SegmentText':np.unicode}\n",
      "        )\n",
      "    df['SegmentText'] = df['SegmentText'].str.decode('iso-8859-1').str.encode('utf-8')\n",
      "    df.to_csv('output.csv')\n",
      "\n",
      "myresult = run_sql()\n",
      "write_file_df_clean()\n",
      "outfile = open('output.csv', 'wb')\n",
      "outcsv = csv.writer(outfile)\n",
      "\n",
      "conn.close()"
     ],
     "language": "python",
     "metadata": {},
     "outputs": []
    },
    {
     "cell_type": "heading",
     "level": 1,
     "metadata": {},
     "source": [
      "Load iCarol Surveys"
     ]
    },
    {
     "cell_type": "code",
     "collapsed": false,
     "input": [
      "# -*- coding: utf-8 -*-\n",
      "# pylint: disable=I0011,C0103,W0142\n",
      "\n",
      "#from pandas import concat, DataFrame\n",
      "import numpy as np\n",
      "import pandas as pd\n",
      "import matplotlib.pyplot as plt\n",
      "\n",
      "%matplotlib inline"
     ],
     "language": "python",
     "metadata": {},
     "outputs": []
    },
    {
     "cell_type": "code",
     "collapsed": false,
     "input": [
      "# Will's PC Settings\n",
      "#mydirectory = str(r'C:\\iCarolFTPFiles\\Chat')\n",
      "#myfilename = 'iCarolExportChat.csv'\n",
      "#myoutputfilename = 'iCarolExportChatClean.csv'\n",
      "#myfinalfilename = 'iCarolExportFinal.csv'\n",
      "\n",
      "# Will's Mac Settings\n",
      "mydirectory = str(r'/Users/williamliu/Dropbox/GA/OriginalData')\n",
      "myfilename = 'ic_survey_download.csv'\n",
      "myoutputfilename = 'ic_survey_clean.csv'"
     ],
     "language": "python",
     "metadata": {},
     "outputs": []
    },
    {
     "cell_type": "code",
     "collapsed": false,
     "input": [
      "### Initialize File Location\n",
      "os.chdir(mydirectory)\n",
      "myfullfilepath = os.path.join(mydirectory, myfilename)"
     ],
     "language": "python",
     "metadata": {},
     "outputs": []
    },
    {
     "cell_type": "code",
     "collapsed": false,
     "input": [
      "def merge_columns(maindataframe, column1, column2, newname):\n",
      "    \"\"\" Merging data from two columns \"\"\"\n",
      "\n",
      "    df1 = pd.DataFrame(maindataframe[column1])\n",
      "    df1.rename(columns={column1:newname}, inplace=True)\n",
      "    #print \"Dataframe 1 \\n\", df1, \"\\n\"\n",
      "\n",
      "    df2 = pd.DataFrame(maindataframe[column2])\n",
      "    df2.rename(columns={column2:newname}, inplace=True)\n",
      "    #print \"Dataframe 2 \\n\", df2, \"\\n\"\n",
      "\n",
      "    df3 = df1.combine_first(df2) # Replaces df1's NaNs with df2's values\n",
      "    #print \"Dataframe 3 \\n\", df3, \"\\n\"\n",
      "\n",
      "    # Delete old columns on main dataframe\n",
      "    maindataframe = maindataframe.drop(column1, axis=1) # Remove first column\n",
      "    if column1 != column2:\n",
      "        maindataframe = maindataframe.drop(column2, axis=1)\n",
      "        # Remove second column\n",
      "    #print maindataframe\n",
      "\n",
      "    maindataframe = pd.concat([maindataframe, df3], axis=1)\n",
      "\n",
      "    return maindataframe"
     ],
     "language": "python",
     "metadata": {},
     "outputs": []
    },
    {
     "cell_type": "code",
     "collapsed": false,
     "input": [
      "\n",
      "def clean_file(infilename, outfilename):\n",
      "    \"\"\"Write file from original directory to a clean directory\"\"\"\n",
      "\n",
      "    myinputfile = codecs.open(filename=infilename, mode='rb',\n",
      "        encoding='utf-8', errors='ignore')\n",
      "    myoutputfile = codecs.open(filename=outfilename, mode='wb',\n",
      "        encoding='utf-8', errors='ignore')\n",
      "\n",
      "    #myinputfile.next() #Skip first row\n",
      "    #myinputfile.next() #Skip second row, header on third row\n",
      "\n",
      "    for line in myinputfile:\n",
      "        try:\n",
      "            #newline = unicode(line, decoding='utf-8', errors='ignore')\n",
      "            newline = line.encode('utf-8', errors='replace')\n",
      "\n",
      "        except UnicodeDecodeError:\n",
      "            print \"Decode Error\"\n",
      "            newline = line.decode('utf-8', errors='ignore')\n",
      "        #newline = line.encode('utf-8', errors='replace')\n",
      "        newline = newline.decode('ascii', errors='ignore')\n",
      "        myoutputfile.write(newline)\n",
      "\n",
      "    myinputfile.close()\n",
      "    myoutputfile.close()"
     ],
     "language": "python",
     "metadata": {},
     "outputs": []
    },
    {
     "cell_type": "code",
     "collapsed": false,
     "input": [
      "### Define iCarol Questions schema\n",
      "mydict = {\n",
      "    0:'CallReportNum',\n",
      "    1:'ReportVersion',\n",
      "    2:'LinkedToCallReportNum',\n",
      "    3:'CallDateAndTimeStart',\n",
      "    4:'CallDateAndTimeEnd',\n",
      "    5:'CallLength',\n",
      "    6:'CallerNum',\n",
      "    7:'CallerName',\n",
      "    8:'CallerMiddleName',\n",
      "    9:'CallerLastName',\n",
      "    10:'PhoneWorkerNum',\n",
      "    11:'PhoneWorkerName',\n",
      "    12:'WasRealCall',\n",
      "    13:'WasHangup',\n",
      "    14:'WasSexCall',\n",
      "    15:'WasWrongNumber',\n",
      "    16:'WasPrankCall',\n",
      "    17:'WasSilentCall',\n",
      "    18:'GeoCode',\n",
      "    19:'GeoAssignment',\n",
      "    20:'CallerAddress',\n",
      "    21:'Neighborhood',\n",
      "    22:'CityName',\n",
      "    23:'CountyName',\n",
      "    24:'StateProvince',\n",
      "    25:'CountryName',\n",
      "    26:'PostalCode',\n",
      "    27:'CensusDivision',\n",
      "    28:'CensusTrack',\n",
      "    29:'CensusReportingArea',\n",
      "    30:'PhoneNumberFull',\n",
      "    31:'PhoneExtension',\n",
      "    32:'PhoneType',\n",
      "    33:'ThirdPartyName',\n",
      "    34:'ThirdPartyOrganization',\n",
      "    35:'ThirdPartyPhoneNumber',\n",
      "    36:'ThirdPartyAddress',\n",
      "    37:'ThirdPartyCity',\n",
      "    38:'ThirdPartyCounty',\n",
      "    39:'ThirdPartyStateProvince',\n",
      "    40:'ThirdPartyPostalCode',\n",
      "    41:'Narrative',\n",
      "    42:'VolunteerComments',\n",
      "    43:'Feedback',\n",
      "    44:'CallersFeedback',\n",
      "    45:'TextField2',\n",
      "    46:'TextField3',\n",
      "    47:'TextField4',\n",
      "    48:'TextField5',\n",
      "    49:'TextField6',\n",
      "    50:'TextField7',\n",
      "    51:'TextField8',\n",
      "    52:'TextField9',\n",
      "    53:'TextField10',\n",
      "    54:'EnteredByWorkerNum',\n",
      "    55:'EnteredByName',\n",
      "    56:'EnteredOn',\n",
      "    57:'Supervisor',\n",
      "    58:'Reviewed',\n",
      "    59:'FeedbackStatus',\n",
      "    60:'FeedbackFromPhoneWorkerNum',\n",
      "    61:'FeedbackFromPhoneWorkerName',\n",
      "    62:'ReferralsMade',\n",
      "    63:'IM Demographics - Age',\n",
      "    64:'IM Demographics - Contact Info',\n",
      "    65:'IM Demographics - Other please specify',\n",
      "    66:'Post-Chat Survey - Feedback',\n",
      "    67:'IM Demographics - Do you have thoughts of suicide?',\n",
      "    68:'IM Demographics - Do you have thoughts of suicide? ',\n",
      "    69:'IM Demographics - Ethnicity',\n",
      "    70:'IM Demographics - Gender',\n",
      "    71:'IM Demographics - How did you find out about Crisis Chat?',\n",
      "    72:'IM Demographics - How upset are you? [Scale of 1\u20135]',\n",
      "    73:'IM Demographics - How upset are you? [Scale of 1\u20135] ',\n",
      "    74:'IM Demographics - How upset are you today? [Scale of 1\u20135]',\n",
      "    75:'IM Demographics - How upset are you today? [Scale of 1\u20135)',\n",
      "    76:'IM Demographics - If you didn\u2019t connect with us who would you connect with?',\n",
      "    77:'IM Demographics - Origin of Chat',\n",
      "    78:'IM Demographics - Race \u2013 How do you identify yourself?',\n",
      "    79:'IM Demographics - What is your main concern?',\n",
      "    80:'IM Demographics - What is your main concern? ',\n",
      "    81:'Post-Chat Survey - Did you find this chat helpful?',\n",
      "    82:'Post-Chat Survey - Now that you have finished your chat session how upset are you? [Scale of 1\u20135]',\n",
      "    83:'Post-Chat Survey - Now that you have finished your chat session how upset are you? [Scale of 1\u20135] ',\n",
      "    84:'Suicide Risk Screening - Was emergency rescue dispatched?',\n",
      "    85:'Suicide Risk Screening - Was suicidal ideation present?',\n",
      "    86:'Suicide Risk Screening - Was suicidal ideation present? ',\n",
      "    87:'Suicide Risk Screening - Was user at imminent risk for suicide?'\n",
      "}\n"
     ],
     "language": "python",
     "metadata": {},
     "outputs": []
    },
    {
     "cell_type": "code",
     "collapsed": false,
     "input": [
      "# Load data frame from CSV file\n",
      "ic_svy = pd.DataFrame.from_csv(path=myfullfilepath, \\\n",
      "    header=2, sep=',')\n",
      "\n",
      "### Clean data\n",
      "ic_svy = merge_columns(ic_svy, \\\n",
      "    mydict[76], mydict[76], \\\n",
      "    \"IM Demographics - If you didn't connect with us who would you connect with?\")\n",
      "\n",
      "ic_svy = merge_columns(ic_svy, \\\n",
      "    mydict[78], mydict[78], \\\n",
      "    'IM Demographics - Race - How do you identify yourself?')\n",
      "\n",
      "ic_svy = merge_columns(ic_svy, \\\n",
      "    mydict[79], mydict[80], \\\n",
      "    'IM Demographics - What is your main concern?')\n",
      "\n",
      "ic_svy = merge_columns(ic_svy, \\\n",
      "    mydict[82], mydict[83], \\\n",
      "    'Post-Chat Survey - Now that you have finished your chat session how upset are you?  Scale of 1-5')\n",
      "\n",
      "ic_svy = merge_columns(ic_svy, \\\n",
      "    mydict[85], mydict[86], \\\n",
      "    'Suicide Risk Screening - Was suicidal ideation present?')\n",
      "\n",
      "ic_svy = merge_columns(ic_svy, \\\n",
      "    mydict[67], mydict[68], \\\n",
      "    'IM Demographics - Do you have thoughts of suicide?')\n",
      "#print \"First run \\n\", ic_svy\n",
      "\n",
      "ic_svy = merge_columns(ic_svy, \\\n",
      "    mydict[72], mydict[73], \\\n",
      "    'IM Demographics - How upset are you? Scale of 1-5')\n"
     ],
     "language": "python",
     "metadata": {},
     "outputs": []
    },
    {
     "cell_type": "code",
     "collapsed": false,
     "input": [
      "# Select only the data we need - remove unnecessary columns\n",
      "ic_svy = ic_svy[['ReportVersion', 'CallDateAndTimeStart',\n",
      "    'CallDateAndTimeEnd', 'PhoneWorkerName', 'CityName', 'CountyName',\n",
      "    'StateProvince', 'PostalCode', 'IM Demographics - Age',\n",
      "    'IM Demographics - Other please specify', 'Post-Chat Survey - Feedback',\n",
      "    'IM Demographics - Ethnicity', 'IM Demographics - Gender',\n",
      "    'IM Demographics - How did you find out about Crisis Chat?',\n",
      "    'IM Demographics - Origin of Chat',\n",
      "    'Post-Chat Survey - Did you find this chat helpful?',\n",
      "    'Suicide Risk Screening - Was emergency rescue dispatched?',\n",
      "    'Suicide Risk Screening - Was user at imminent risk for suicide?',\n",
      "    \"IM Demographics - If you didn't connect with us who would you connect with?\",\n",
      "    'IM Demographics - Race - How do you identify yourself?',\n",
      "    'IM Demographics - What is your main concern?',\n",
      "    'Post-Chat Survey - Now that you have finished your chat session how upset are you?  Scale of 1-5',\n",
      "    'Suicide Risk Screening - Was suicidal ideation present?',\n",
      "    'IM Demographics - Do you have thoughts of suicide?',\n",
      "    'IM Demographics - How upset are you? Scale of 1-5']]\n",
      "\n",
      "ic_svy.rename(columns={\n",
      "    'ReportVersion':'CrisisCenter',\n",
      "    'CallDateAndTimeStart':'StartTime', 'CallDateAndTimeEnd':'EndTime',\n",
      "    'CityName':'City', 'CountyName':'County', 'StateProvince': 'State',\n",
      "    'PostalCode':'ZipCode', 'IM Demographics - Age':'Age',\n",
      "    'IM Demographics - Other please specify':'If Other, please specify:',\n",
      "    'Post-Chat Survey - Feedback':'Feedback (Optional)',\n",
      "    'IM Demographics - Ethnicity':'Ethnicity',\n",
      "    'IM Demographics - Gender':'Gender',\n",
      "    'IM Demographics - How did you find out about Crisis Chat?':\n",
      "    'How did you hear about crisis chat?',\n",
      "    'Post-Chat Survey - Did you find this chat helpful?':\n",
      "    'Did you find this chat service helpful?',\n",
      "    'IM Demographics - What is your main concern?':\n",
      "    'What are you concerned about today?',\n",
      "    'Post-Chat Survey - Now that you have finished your chat session how upset are you?  Scale of 1-5':\n",
      "    'Now that you have finished your chat session, how upset are you?',\n",
      "    'IM Demographics - Do you have thoughts of suicide?':\n",
      "    'Do you have thoughts of suicide?',\n",
      "    'IM Demographics - How upset are you? Scale of 1-5':\n",
      "    'On a scale of 1-5, how upset are you?'\n",
      "    }, inplace=True)"
     ],
     "language": "python",
     "metadata": {},
     "outputs": []
    },
    {
     "cell_type": "heading",
     "level": 1,
     "metadata": {},
     "source": [
      "Load SightMax Surveys"
     ]
    },
    {
     "cell_type": "code",
     "collapsed": false,
     "input": [
      "# Load SightMax Data\n",
      "sm_svy = pd.read_csv(\n",
      "    #r'C:\\Users\\wliu\\Desktop\\Lifeline Chat\\SightMax_Survey2small.csv'\n",
      "    #r'/Users/williamliu/Dropbox/GA/OriginalData/SightMax_Survey_small.csv'\n",
      "    r'/Users/williamliu/Dropbox/GA/OriginalData/SightMax_Survey_ChatID.csv'\n",
      "    #, index_col='SessionID'\n",
      "    )"
     ],
     "language": "python",
     "metadata": {},
     "outputs": []
    },
    {
     "cell_type": "code",
     "collapsed": false,
     "input": [
      "# Columns for SightMax Schema\n",
      "mydict = {\n",
      "    0:'ChatID',\n",
      "    1:'StartTime',\n",
      "    2:'EndTime',\n",
      "    3:'City_x',\n",
      "    4:'Region',\n",
      "    5:'Country (optional)',\n",
      "    6:'<strong>Do you have thoughts of suicide?</strong>',\n",
      "    7:'<strong>Now that you have finished your chat session, how upset are you?</strong>',\n",
      "    8:'<strong>On a scale of 1-5: How upset are you?</strong>',\n",
      "    9:'Age',\n",
      "    10:'Age:',\n",
      "    11:'City_y',\n",
      "    12:'City of Residence:',\n",
      "    13:'Company Name:',\n",
      "    14:'Contact Number',\n",
      "    15:'Did you find this chat service helpful?',\n",
      "    16:'Do you have thoughts of Suicide?',\n",
      "    17:'Do you have thoughts of suicide?',\n",
      "    18:'E-mail address',\n",
      "    19:'Email Address',\n",
      "    20:'Email Address:',\n",
      "    21:'Feedback (optiona):',\n",
      "    22:'Feedback (optional):',\n",
      "    23:'Gender',\n",
      "    24:'Gender:',\n",
      "    25:'How did you find out about crisis chat?',\n",
      "    26:'How upset are you today? [Scale of 1 - 5]',\n",
      "    27:'How upset are you?',\n",
      "    28:'If Other, please specify:',\n",
      "    29:'In order to provide the best service possible, we would like to receive feedback on your experience with the Lifeline Chat',\n",
      "    30:'MissingLabel',\n",
      "    31:'Name/Alias',\n",
      "    32:'Name/Alias:',\n",
      "    33:'Now that you have finished your chat session, how upset are you?',\n",
      "    34:'On a scale of 1-5: How upset are you?',\n",
      "    35:'Other (Please list):',\n",
      "    36:'Phone Number',\n",
      "    37:'Phone Number(optional):',\n",
      "    38:'Phone number (optional)',\n",
      "    39:'Please choose one:',\n",
      "    40:'School Name',\n",
      "    41:'Should our chat session end unexpectedly is there an email address or phone number we may reach you at?',\n",
      "    42:'Should our chat session ends unexpectedly is there an email address or phone number we may reach you at?',\n",
      "    43:'State',\n",
      "    44:'What are you concerned about today?',\n",
      "    45:'What is your main concern?',\n",
      "    46:'Where did you hear about us?',\n",
      "    47:'Your Name or Alias:',\n",
      "    48:'Your Name:',\n",
      "    49:'Zip Code',\n",
      "    50:'Message:'\n",
      "}"
     ],
     "language": "python",
     "metadata": {},
     "outputs": []
    },
    {
     "cell_type": "code",
     "collapsed": false,
     "input": [
      "# Clean SightMax Survey data\n",
      "\n",
      "# sm_svy['Label'] has a lot of blanks, causes issues if you pivot\n",
      "sm_svy['Label'] = sm_svy['Label'].fillna('MissingLabel')\n",
      "sm_svy.drop_duplicates(['ChatID', 'Label'], inplace=True)\n",
      "\n",
      "#Pivot on Question/Answers to be their own columns to match iCarol data\n",
      "#sm_svy = sm_svy.drop_duplicates(['ChatID', 'Label','Answer'])\n",
      "df_answers = sm_svy.pivot(columns='Label', values='Answer', index='ChatID')\n",
      "df_answers = df_answers.reset_index()\n",
      "\n",
      "# Demographics Details\n",
      "df_demo = sm_svy[['ChatID','Expr1', 'StartTime', 'EndTime', 'City',\n",
      "    'Region', 'Country']]\n",
      "df_demo.drop_duplicates(inplace=True)\n",
      "#print \"DataFrame Demographics\\n\", df_demo.head()\n",
      "\n",
      "df_merged = pd.merge(df_demo, df_answers, on=\"ChatID\", how=\"inner\")\n",
      "\n",
      "### Clean data through mergining, renaming, and dropping columns\n",
      "\n",
      "# Thoughts of suicide\n",
      "df_merged = merge_columns(df_merged, \\\n",
      "    mydict[16], mydict[17], \\\n",
      "    \"Do you have thoughts of suicide?\")\n",
      "df_merged = merge_columns(df_merged, \\\n",
      "    \"Do you have thoughts of suicide?\", mydict[6], \\\n",
      "    \"Do you have thoughts of suicide?\")\n",
      "\n",
      "#Age\n",
      "df_merged = merge_columns(df_merged, \\\n",
      "    mydict[10], mydict[9], \\\n",
      "    \"Age\")\n",
      "\n",
      "#City\n",
      "df_merged = merge_columns(df_merged, \\\n",
      "    mydict[3], mydict[11], \\\n",
      "    \"City\")\n",
      "df_merged = merge_columns(df_merged, \\\n",
      "    \"City\", mydict[12], \\\n",
      "    \"City\")\n",
      "\n",
      "#Now that you finished your chat session, how upset are you?\n",
      "df_merged = merge_columns(df_merged, \\\n",
      "    mydict[7], mydict[33], \\\n",
      "    \"Now that you have finished your chat session, how upset are you?\")\n",
      "\n",
      "#On a scale of 1-5, how upset are you?\n",
      "df_merged = merge_columns(df_merged, \\\n",
      "    mydict[8], mydict[34], \\\n",
      "    \"On a scale of 1-5, how upset are you?\")\n",
      "df_merged = merge_columns(df_merged, \\\n",
      "    \"On a scale of 1-5, how upset are you?\", mydict[26], \\\n",
      "    \"On a scale of 1-5, how upset are you?\")\n",
      "df_merged = merge_columns(df_merged, \\\n",
      "    \"On a scale of 1-5, how upset are you?\", mydict[27], \\\n",
      "    \"On a scale of 1-5, how upset are you?\")\n",
      "\n",
      "#Feedback (Optional)\n",
      "df_merged = merge_columns(df_merged, \\\n",
      "    mydict[22], mydict[21], \\\n",
      "    \"Feedback (Optional)\")\n",
      "df_merged = merge_columns(df_merged, \\\n",
      "    \"Feedback (Optional)\", mydict[29], \\\n",
      "    \"Feedback (Optional)\")\n",
      "df_merged = merge_columns(df_merged, \\\n",
      "    \"Feedback (Optional)\", mydict[50], \\\n",
      "    \"Feedback (Optional)\")\n",
      "\n",
      "#Gender\n",
      "df_merged = merge_columns(df_merged, \\\n",
      "    mydict[23], mydict[24], \\\n",
      "    \"Gender\")\n",
      "\n",
      "#Name\n",
      "df_merged = merge_columns(df_merged, \\\n",
      "    mydict[31], mydict[32], \\\n",
      "    \"Name\")\n",
      "df_merged = merge_columns(df_merged, \\\n",
      "    \"Name\", mydict[47], \\\n",
      "    \"Name\")\n",
      "df_merged = merge_columns(df_merged, \\\n",
      "    \"Name\", mydict[48], \\\n",
      "    \"Name\")\n",
      "\n",
      "#Email\n",
      "df_merged = merge_columns(df_merged, \\\n",
      "    mydict[18], mydict[19], \\\n",
      "    \"Email\")\n",
      "df_merged = merge_columns(df_merged, \\\n",
      "    \"Email\", mydict[20], \\\n",
      "    \"Email\")\n",
      "df_merged = merge_columns(df_merged, \\\n",
      "    \"Email\", mydict[41], \\\n",
      "    \"Email\")\n",
      "df_merged = merge_columns(df_merged, \\\n",
      "    \"Email\", mydict[42], \\\n",
      "    \"Email\")\n",
      "\n",
      "#Phone Number\n",
      "df_merged = merge_columns(df_merged, \\\n",
      "    mydict[36], mydict[37], \\\n",
      "    \"Phone Number\")\n",
      "df_merged = merge_columns(df_merged, \\\n",
      "    \"Phone Number\", mydict[38], \\\n",
      "    \"Phone Number\")\n",
      "df_merged = merge_columns(df_merged, \\\n",
      "    \"Phone Number\", mydict[14], \\\n",
      "    \"Phone Number\")\n",
      "\n",
      "#What are you concerned about today?\n",
      "df_merged = merge_columns(df_merged, \\\n",
      "    mydict[44], mydict[45], \\\n",
      "    \"What are you concerned about today?\")\n",
      "\n",
      "#How did you hear about crisis chat?\n",
      "df_merged = merge_columns(df_merged, \\\n",
      "    mydict[25], mydict[46], \\\n",
      "    \"How did you hear about crisis chat?\")\n",
      "\n",
      "#State\n",
      "df_merged = merge_columns(df_merged, \\\n",
      "    mydict[4], mydict[43], \\\n",
      "    \"State\")\n",
      "\n",
      "#Crisis Center - Rename\n",
      "df_merged.rename(columns={'Expr1':'CrisisCenter'}, inplace=True)\n",
      "\n",
      "#Zip Code\n",
      "df_merged.rename(columns={'Zip Code':'ZipCode'}, inplace=True)\n",
      "\n",
      "\n",
      "### Remove unnecessary columns\n",
      "del df_merged['Company Name:']\n",
      "del df_merged['School Name']\n",
      "del df_merged['Email']\n",
      "del df_merged['Phone Number']\n",
      "del df_merged['(optional)'] # Not Used\n",
      "del df_merged['Other (Please list):'] # Not Used\n"
     ],
     "language": "python",
     "metadata": {},
     "outputs": []
    },
    {
     "cell_type": "heading",
     "level": 1,
     "metadata": {},
     "source": [
      "Merge iCarol and SightMax Survey data, then clean"
     ]
    },
    {
     "cell_type": "code",
     "collapsed": false,
     "input": [
      "#Survey Data\n",
      "survey = pd.merge(df_merged, ic_svy, how=\"outer\")\n",
      "survey.to_csv('final_clean.csv')\n",
      "survey['counter'] = 1"
     ],
     "language": "python",
     "metadata": {},
     "outputs": []
    },
    {
     "cell_type": "heading",
     "level": 6,
     "metadata": {},
     "source": [
      "Age"
     ]
    },
    {
     "cell_type": "code",
     "collapsed": false,
     "input": [
      "#Pre-Chat: Age\n",
      "survey['Age'].replace(to_replace='[\\D].+', value=np.nan, regex=True, inplace=True)\n",
      "survey = survey.convert_objects(convert_numeric=True)\n",
      "#print survey['Age'].describe()\n",
      "survey.Age[survey.Age > 117] = 0\n",
      "grouped = survey.groupby('Age')\n",
      "grouped['counter'].sum().head()#.plot(kind='barh')\n",
      "\n",
      "survey.Age.hist(range=(0,100), alpha=.5, bins=40)\n",
      "plt.show()"
     ],
     "language": "python",
     "metadata": {},
     "outputs": []
    },
    {
     "cell_type": "heading",
     "level": 6,
     "metadata": {},
     "source": [
      "Gender"
     ]
    },
    {
     "cell_type": "code",
     "collapsed": false,
     "input": [
      "#Pre-Chat: Gender\n",
      "survey.Gender = survey.Gender.replace('Transgendered', 'Transgender') #Data Cleaning\n",
      "grouped = survey.groupby('Gender')\n",
      "grouped['counter'].sum().plot(kind='bar')"
     ],
     "language": "python",
     "metadata": {},
     "outputs": []
    },
    {
     "cell_type": "heading",
     "level": 6,
     "metadata": {},
     "source": [
      "What are you concerned about today?"
     ]
    },
    {
     "cell_type": "code",
     "collapsed": false,
     "input": [
      "#Pre-Chat: What are you concerned about today?\n",
      "survey['What are you concerned about today?'].replace(to_replace='[Bullying]{8}.*', value=\"Bullying/Problems in School\", regex=True, inplace=True)\n",
      "survey['What are you concerned about today?'].replace(to_replace='[Family]{5}.*', value=\"Family Issues\", regex=True, inplace=True)\n",
      "survey['What are you concerned about today?'].replace(to_replace='[Financial]{9}.*', value=\"Financial Issues\", regex=True, inplace=True)\n",
      "#survey['What are you concerned about today?'].replace(to_replace='[Other]{5}.*', value=\"Other/Prefer not to comment\", regex=True, inplace=True)\n",
      "survey['What are you concerned about today?'].replace(to_replace='[Relationship issues]{19}.*', value=\"Relationship Issues/Violence\", regex=True, inplace=True)\n",
      "survey['What are you concerned about today?'].replace(to_replace='[Self\\-| Harm]{8}.*', value=\"Self-harm\", regex=True, inplace=True)\n",
      "survey['What are you concerned about today?'].replace(to_replace='[Sexuality]{9}.*', value=\"Sexuality\", regex=True, inplace=True)\n",
      "survey['What are you concerned about today?'].replace(to_replace='[Physical H|health]{14}.*', value=\"Physical Health\", regex=True, inplace=True)\n",
      "survey['What are you concerned about today?'].replace(to_replace='[Physical, Sexual, and/or Emotional Abuse]{24}.*', value=\"Physical, Sexual, and/or Emotional Abuse\", regex=True, inplace=True)\n",
      "survey['What are you concerned about today?'] = survey['What are you concerned about today?'].replace('Other', '') #Data Cleaning\n",
      "\n",
      "grouped = survey.groupby('What are you concerned about today?')\n",
      "grouped['counter'].sum().plot(kind='barh')"
     ],
     "language": "python",
     "metadata": {},
     "outputs": []
    },
    {
     "cell_type": "heading",
     "level": 6,
     "metadata": {},
     "source": [
      "Do you have thoughts of suicide?"
     ]
    },
    {
     "cell_type": "code",
     "collapsed": false,
     "input": [
      "#Pre-Chat: Do you have thoughts of suicide?\n",
      "survey['Do you have thoughts of suicide?'] = survey['Do you have thoughts of suicide?'].replace( \\\n",
      "     {'Yes - Current (within the past 24 hours)':'Yes - Current (within the past 24 hours)',\n",
      "      'Yes \ufffd Current (within the past 24 hours)':'Yes - Current (within the past 24 hours)',\n",
      "      'Yes- Current (within the past 24 hours)':'Yes - Current (within the past 24 hours)',\n",
      "      'Yes \ufffd Recent Past (within the past few days)':'Yes - Recent Past (within the past few days)',\n",
      "      'Yes - currently':'Yes - Current (within the past 24 hours)',\n",
      "      'Yes - recent past':'Yes - Recent Past (within the past few days)',\n",
      "      'Yes - within the past 48 hours': 'Yes - Recent Past (within the past few days)',\n",
      "      'Yes- Recent (withing the past few days)':'Yes - Recent Past (within the past few days)',\n",
      "      'Yes- Recent Past (within the past few days)':'Yes - Recent Past (within the past few days)',\n",
      "      'No ':'No' \n",
      "      }) #Data Cleaning\n",
      "survey['Do you have thoughts of suicide?'].replace(to_replace='[Yes].*[Current (within the past 24 hours)]{33}', value=\"Yes - Current (within the past 24 hours)\", regex=True, inplace=True)\n",
      "survey['Do you have thoughts of suicide?'].replace(to_replace='[Yes].*[Recent Past (within the past few days)]{33}', value=\"Yes - Recent Past (within the past few days)\", regex=True, inplace=True)\n",
      "\n",
      "grouped = survey.groupby('Do you have thoughts of suicide?')\n",
      "grouped['counter'].sum()"
     ],
     "language": "python",
     "metadata": {},
     "outputs": []
    },
    {
     "cell_type": "heading",
     "level": 6,
     "metadata": {},
     "source": [
      "Pre-Chat: How upset are you?"
     ]
    },
    {
     "cell_type": "code",
     "collapsed": false,
     "input": [
      "#Pre-Chat: How upset are you?\n",
      "survey['On a scale of 1-5, how upset are you?'].replace(to_replace='[1].*', value=\"1 - I'm doing okay\", regex=True, inplace=True)\n",
      "survey['On a scale of 1-5, how upset are you?'].replace(to_replace='[2].*', value=\"2 - A little upset\", regex=True, inplace=True)\n",
      "survey['On a scale of 1-5, how upset are you?'].replace(to_replace='[3].*', value=\"3 - Moderately upset\", regex=True, inplace=True)\n",
      "survey['On a scale of 1-5, how upset are you?'].replace(to_replace='[4].*', value=\"4 - Very upset\", regex=True, inplace=True)\n",
      "survey['On a scale of 1-5, how upset are you?'].replace(to_replace='[5].*', value=\"5 - Extremely upset\", regex=True, inplace=True)\n",
      "\n",
      "grouped = survey.groupby('On a scale of 1-5, how upset are you?')\n",
      "grouped['counter'].sum().plot(kind='barh')\n",
      "plt.show()"
     ],
     "language": "python",
     "metadata": {},
     "outputs": []
    },
    {
     "cell_type": "heading",
     "level": 6,
     "metadata": {},
     "source": [
      "Post-Chat: How upset are you?"
     ]
    },
    {
     "cell_type": "code",
     "collapsed": false,
     "input": [
      "#Post-Chat: How upset are you?\n",
      "survey['Now that you have finished your chat session, how upset are you?'].replace(to_replace='[1].*', value=\"1 - I'm doing okay\", regex=True, inplace=True)\n",
      "survey['Now that you have finished your chat session, how upset are you?'].replace(to_replace='[2].*', value=\"2 - A little upset\", regex=True, inplace=True)\n",
      "survey['Now that you have finished your chat session, how upset are you?'].replace(to_replace='[3].*', value=\"3 - Moderately upset\", regex=True, inplace=True)\n",
      "survey['Now that you have finished your chat session, how upset are you?'].replace(to_replace='[4].*', value=\"4 - Very upset\", regex=True, inplace=True)\n",
      "survey['Now that you have finished your chat session, how upset are you?'].replace(to_replace='[5].*', value=\"5 - Extremely upset\", regex=True, inplace=True)\n",
      "\n",
      "grouped = survey.groupby('Now that you have finished your chat session, how upset are you?')\n",
      "grouped['counter'].sum().plot(kind='barh')\n",
      "plt.show()"
     ],
     "language": "python",
     "metadata": {},
     "outputs": []
    },
    {
     "cell_type": "heading",
     "level": 1,
     "metadata": {},
     "source": [
      "Scatter Plot of Upset (Pre and Post Chat Surveys)"
     ]
    },
    {
     "cell_type": "code",
     "collapsed": false,
     "input": [
      "from pandas.tools.plotting import scatter_matrix\n",
      "\n",
      "survey['On a scale of 1-5, how upset are you?'].replace(to_replace='[1].*', value=1, regex=True, inplace=True)\n",
      "survey['On a scale of 1-5, how upset are you?'].replace(to_replace='[2].*', value=2, regex=True, inplace=True)\n",
      "survey['On a scale of 1-5, how upset are you?'].replace(to_replace='[3].*', value=3, regex=True, inplace=True)\n",
      "survey['On a scale of 1-5, how upset are you?'].replace(to_replace='[4].*', value=4, regex=True, inplace=True)\n",
      "survey['On a scale of 1-5, how upset are you?'].replace(to_replace='[5].*', value=5, regex=True, inplace=True)\n",
      "\n",
      "survey['Now that you have finished your chat session, how upset are you?'].replace(to_replace='[1].*', value=1, regex=True, inplace=True)\n",
      "survey['Now that you have finished your chat session, how upset are you?'].replace(to_replace='[2].*', value=2, regex=True, inplace=True)\n",
      "survey['Now that you have finished your chat session, how upset are you?'].replace(to_replace='[3].*', value=3, regex=True, inplace=True)\n",
      "survey['Now that you have finished your chat session, how upset are you?'].replace(to_replace='[4].*', value=4, regex=True, inplace=True)\n",
      "survey['Now that you have finished your chat session, how upset are you?'].replace(to_replace='[5].*', value=5, regex=True, inplace=True)\n",
      "\n",
      "smaller_frame=survey[['On a scale of 1-5, how upset are you?' , 'Now that you have finished your chat session, how upset are you?']]\n",
      "scatter_matrix(smaller_frame, alpha=0.8, figsize=(12, 12), diagonal=\"kde\")"
     ],
     "language": "python",
     "metadata": {},
     "outputs": []
    },
    {
     "cell_type": "heading",
     "level": 6,
     "metadata": {},
     "source": [
      "State"
     ]
    },
    {
     "cell_type": "code",
     "collapsed": false,
     "input": [
      "#Pre-Chat: State\n",
      "survey['State'].replace(to_replace='[^a-zA-Z]', value=np.nan, regex=True, inplace=True) # Clean State (was seeing numbers, etc)\n",
      "#survey.State.value_counts()"
     ],
     "language": "python",
     "metadata": {},
     "outputs": []
    },
    {
     "cell_type": "heading",
     "level": 6,
     "metadata": {},
     "source": [
      "Is Service Helpful?"
     ]
    },
    {
     "cell_type": "code",
     "collapsed": false,
     "input": [
      "#Post-Chat: Is Service Helpful?\n",
      "grouped = survey.groupby('Did you find this chat service helpful?')"
     ],
     "language": "python",
     "metadata": {},
     "outputs": []
    },
    {
     "cell_type": "heading",
     "level": 1,
     "metadata": {},
     "source": [
      "Get SightMax Chat Logs"
     ]
    },
    {
     "cell_type": "code",
     "collapsed": false,
     "input": [
      "# Get Chat Logs from SightMax\n",
      "chats = pd.read_csv(\n",
      "    #r'/Users/williamliu/Dropbox/GA/OriginalData/chatsegments_small.csv'\n",
      "    r'/Users/williamliu/Dropbox/GA/OriginalData/output.csv'\n",
      "    )"
     ],
     "language": "python",
     "metadata": {},
     "outputs": []
    },
    {
     "cell_type": "code",
     "collapsed": false,
     "input": [
      "# Clean up data\n",
      "chats['ChatStartTime'] = pd.to_datetime(chats['ChatStartTime'])\n",
      "chats['ChatEndTime'] = pd.to_datetime(chats['ChatEndTime'])\n",
      "chats['TimeSpent'] = chats['ChatEndTime'] - chats['ChatStartTime']\n",
      "\n",
      "chats = chats[chats['SegmentType'] == 19] # Get only user chat (not counselor responses or welcome messages)"
     ],
     "language": "python",
     "metadata": {},
     "outputs": []
    },
    {
     "cell_type": "code",
     "collapsed": false,
     "input": [
      "def concat_vals(x):\n",
      "    \"\"\" Group by 'ChatID', then concat all text strings into one giant string \"\"\"\n",
      "    chatseg = ''\n",
      "    try:\n",
      "        for i in x.SegmentText:\n",
      "            chatseg = chatseg + i + ' '\n",
      "        return chatseg\n",
      "    except Exception, e:\n",
      "        print x\n",
      "        return ''\n",
      "cgb = chats[['ChatID', 'SegmentText']].groupby('ChatID')\n",
      "cgb = cgb.agg(concat_vals)"
     ],
     "language": "python",
     "metadata": {},
     "outputs": []
    },
    {
     "cell_type": "code",
     "collapsed": false,
     "input": [
      "cgb = cgb.reset_index()"
     ],
     "language": "python",
     "metadata": {},
     "outputs": []
    },
    {
     "cell_type": "code",
     "collapsed": false,
     "input": [
      "# Take only the columns we need\n",
      "temp = chats[['ChatID', 'ChatStartTime', 'ChatEndTime', 'TimeSpent']]\n",
      "temp.drop_duplicates(inplace=True)"
     ],
     "language": "python",
     "metadata": {},
     "outputs": []
    },
    {
     "cell_type": "code",
     "collapsed": false,
     "input": [
      "cgb = pd.merge(cgb, temp, on=\"ChatID\", how=\"left\")"
     ],
     "language": "python",
     "metadata": {},
     "outputs": []
    },
    {
     "cell_type": "heading",
     "level": 1,
     "metadata": {},
     "source": [
      "Merge Cleaned Surveys and Chat Log"
     ]
    },
    {
     "cell_type": "code",
     "collapsed": false,
     "input": [
      "df_merged = pd.merge(survey, cgb, on=\"ChatID\", how=\"left\")\n",
      "#print survey.head()\n",
      "df_merged.info()"
     ],
     "language": "python",
     "metadata": {},
     "outputs": []
    },
    {
     "cell_type": "heading",
     "level": 1,
     "metadata": {},
     "source": [
      "K-Means Clustering"
     ]
    },
    {
     "cell_type": "code",
     "collapsed": false,
     "input": [
      "# Make a copy of dataframe for K-Means Clustering\n",
      "df_km = df_merged[['Gender', 'Age', 'City', 'Do you have thoughts of suicide?', 'What are you concerned about today?', \n",
      "               'On a scale of 1-5, how upset are you?', 'TimeSpent']]\n",
      "df_km.dropna(inplace=True)"
     ],
     "language": "python",
     "metadata": {},
     "outputs": []
    },
    {
     "cell_type": "code",
     "collapsed": false,
     "input": [
      "from sklearn.feature_extraction import DictVectorizer\n",
      "\n",
      "categorical_features = df_km[['Gender', 'Age', 'City', 'Do you have thoughts of suicide?', 'What are you concerned about today?', \n",
      "               'On a scale of 1-5, how upset are you?', 'TimeSpent']]\n",
      "\n",
      "dv = DictVectorizer()\n",
      "cat_matrix = dv.fit_transform(categorical_features.T.to_dict().values())\n",
      "cat_matrix.todense() "
     ],
     "language": "python",
     "metadata": {},
     "outputs": []
    },
    {
     "cell_type": "code",
     "collapsed": false,
     "input": [
      "from sklearn.preprocessing import scale\n",
      "from sklearn.cluster import KMeans\n",
      "\n",
      "cat_matrix = scale(cat_matrix.todense())\n",
      "\n",
      "clustering_model = KMeans(n_clusters = 25)\n",
      "clustering_model.fit(cat_matrix)\n",
      "\n",
      "clusters = clustering_model.predict(cat_matrix)\n",
      "#clusters"
     ],
     "language": "python",
     "metadata": {},
     "outputs": []
    },
    {
     "cell_type": "code",
     "collapsed": false,
     "input": [
      "results = pd.DataFrame({ 'cluster' : clusters, \n",
      "                        'What are you concerned about today?' : df_km['What are you concerned about today?'],\n",
      "                        'Do you have thoughts of suicide?': df_km['Do you have thoughts of suicide?'],\n",
      "                        'Gender': df_km['Gender'],\n",
      "                        'Age': df_km['Age'],\n",
      "                        'City': df_km['City'],\n",
      "                        'On a scale of 1-5, how upset are you?': df_km['On a scale of 1-5, how upset are you?']\n",
      "                        })\n",
      "cluster_counts = results.groupby('cluster').agg(len)\n"
     ],
     "language": "python",
     "metadata": {},
     "outputs": []
    },
    {
     "cell_type": "code",
     "collapsed": false,
     "input": [
      "# Print clusters\n",
      "for cluster_name, group in results.groupby('cluster'):\n",
      "    print \"Cluster\", cluster_name\n",
      "    print pd.crosstab(results.Gender, results['Do you have thoughts of suicide?'] )"
     ],
     "language": "python",
     "metadata": {},
     "outputs": []
    },
    {
     "cell_type": "heading",
     "level": 1,
     "metadata": {},
     "source": [
      "Logistic Regression"
     ]
    },
    {
     "cell_type": "code",
     "collapsed": false,
     "input": [
      "from sklearn.linear_model import LogisticRegression\n",
      "\n",
      "# Create copy of dataframe for Logistic Regression analysis, then transform data\n",
      "df_logreg = df_merged\n",
      "#df_logreg['ChatStartTime'] = pd.to_datetime(df_logreg['ChatStartTime'])\n",
      "#df_logreg['ChatEndTime'] = pd.to_datetime(df_logreg['ChatEndTime'])\n",
      "#df_logreg['TimeSpent'] = (df_logreg['ChatEndTime'] - df_logreg['ChatStartTime']).astype(int)/60000000000 # from nanoseconds to minutes\n",
      "\n",
      "# Transform data for Logistic Regression\n",
      "df_logreg.dropna(subset=['Did you find this chat service helpful?'], inplace=True)\n",
      "#df_logreg.dropna(subset=['TimeSpent'], inplace=True)\n",
      "#df_logreg = df_logreg[pd.notnull(df_logreg['TimeSpent'])]\n",
      "df_logreg = df_logreg[['TimeSpent','Did you find this chat service helpful?']]\n",
      "df_logreg['Did you find this chat service helpful?'] = [1 if field=='Yes' else 0 for field in df_logreg['Did you find this chat service helpful?']]\n",
      "df_logreg['TimeSpent'] = df_logreg['TimeSpent'].astype(int)/60000000000\n",
      "df_logreg.TimeSpent[df_logreg.TimeSpent < 0] = -1 # Remove any negative time\n",
      "\n",
      "#df_logreg['TimeSpent'] = df_logreg['TimeSpent'].apply(lambda x: float(x.item().seconds)/60)\n",
      "data = np.array(df_logreg)\n",
      "print data"
     ],
     "language": "python",
     "metadata": {},
     "outputs": [
      {
       "output_type": "stream",
       "stream": "stdout",
       "text": [
        "[[ 29.19366667   1.        ]\n",
        " [ 44.92195      0.        ]\n",
        " [ 32.98783333   1.        ]\n",
        " ..., \n",
        " [ 17.53356667   1.        ]\n",
        " [ 44.5941       0.        ]\n",
        " [ 17.86283333   1.        ]]\n"
       ]
      }
     ],
     "prompt_number": 718
    },
    {
     "cell_type": "code",
     "collapsed": false,
     "input": [
      "timespent, helpful = data[:,0], data[:,1]\n",
      "plt.scatter(timespent, helpful, alpha=.02)\n",
      "axes=plt.gca()\n",
      "axes.grid(False)"
     ],
     "language": "python",
     "metadata": {},
     "outputs": [
      {
       "metadata": {},
       "output_type": "display_data",
       "png": "[encoded data removed]",
       "text": [
        "<matplotlib.figure.Figure at 0x1294b9ed0>"
       ]
      }
     ],
     "prompt_number": 719
    },
    {
     "cell_type": "code",
     "collapsed": false,
     "input": [
      "# Printing out 'Time' versus 'Helpful? Yes/No'\n",
      "classifier = LogisticRegression()\n",
      "classifier.fit(timespent.reshape(-1,1), helpful)\n",
      "probs = classifier.predict_proba(timespent.reshape(-1,1))\n",
      "predicts = classifier.predict(timespent.reshape(-1,1))\n",
      "\n",
      "plt.plot(timespent, probs, marker='s')"
     ],
     "language": "python",
     "metadata": {},
     "outputs": [
      {
       "metadata": {},
       "output_type": "pyout",
       "prompt_number": 720,
       "text": [
        "[<matplotlib.lines.Line2D at 0x1be76e750>,\n",
        " <matplotlib.lines.Line2D at 0x1be76ea10>]"
       ]
      },
      {
       "metadata": {},
       "output_type": "display_data",
       "png": "[encoded data removed]",
       "text": [
        "<matplotlib.figure.Figure at 0x14fb10d50>"
       ]
      }
     ],
     "prompt_number": 720
    },
    {
     "cell_type": "code",
     "collapsed": false,
     "input": [
      "# Cleaning up graph to \n",
      "classifier = LogisticRegression(C=1)\n",
      "classifier.fit(df_logreg['TimeSpent'].reshape(-1,1), df_logreg['Did you find this chat service helpful?'])\n",
      "probs = classifier.predict_proba(df_logreg['TimeSpent'].reshape(-1,1))[:, 1]\n",
      "predicts = classifier.predict(df_logreg['TimeSpent'].reshape(-1,1))\n",
      "\n",
      "test = df_logreg['TimeSpent']\n",
      "plt.plot(test, probs, marker='d', color='blue', alpha=.05)\n",
      "plt.scatter(test, predicts, marker='s', color=\"green\", alpha=.05)"
     ],
     "language": "python",
     "metadata": {},
     "outputs": [
      {
       "metadata": {},
       "output_type": "pyout",
       "prompt_number": 721,
       "text": [
        "<matplotlib.collections.PathCollection at 0x1be6a0f10>"
       ]
      },
      {
       "metadata": {},
       "output_type": "display_data",
       "png": "[encoded data removed]",
       "text": [
        "<matplotlib.figure.Figure at 0x1be764190>"
       ]
      }
     ],
     "prompt_number": 721
    },
    {
     "cell_type": "code",
     "collapsed": false,
     "input": [
      "# Running Logistic Regression with Train and Test Data\n",
      "from sklearn.cross_validation import cross_val_score\n",
      "from sklearn.cross_validation import train_test_split\n",
      "\n",
      "X_train, X_test, y_train, y_test = train_test_split(\n",
      "    df_logreg['TimeSpent'], df_logreg['Did you find this chat service helpful?'], test_size=0.4, random_state=0)\n",
      "print \"X train:\", X_train.shape, \"  \", \"X test:\", X_test.shape\n",
      "print \"y train:\", y_train.shape, \"  \", \"y test:\", y_test.shape\n",
      "\n",
      "axes=plt.gca()\n",
      "axes.grid(False)\n",
      "axes.set_title('Probability of Helpfulness with Time Spent')\n",
      "axes.set_xlabel('Time (minutes)')\n",
      "axes.set_ylabel('Helpfulness (Yes = 1, No = 0)')\n",
      "\n",
      "classifier = LogisticRegression() # Create the Logistic Regression object\n",
      "\n",
      "classifier.fit(X_train.reshape(-1,1), y_train) # Train the model using the training set\n",
      "plt.scatter(X_train, y_train, color='pink', alpha=.2) # Actual training set\n",
      "\n",
      "guesses = np.linspace(0, 300, 30) # Will be our guesses\n",
      "probs = classifier.predict_proba(guesses.reshape(-1,1))[:, 1] # returns the probability that a new observation that categorical label\n",
      "plt.plot(guesses, probs, marker='s', color='green', alpha=.5) # Predict probability of helpfulness\n",
      "\n",
      "predicts = classifier.predict(guesses.reshape(-1,1)) # predict the label of a new set of data and returns the learned label for each object in the array\n",
      "plt.scatter(guesses, predicts, marker='s', color=\"blue\", alpha=.4)\n",
      "\n",
      "print \"Logistic Regression Score: \", classifier.score(X_test.reshape(-1,1), y_test)\n",
      "\n",
      "\n",
      "# Use predicited Y instead of X\n",
      "print \"Cross validating:\"\n",
      "print np.mean(cross_val_score(classifier, X_test.reshape(-1,1), y_test, scoring='roc_auc', cv=3))"
     ],
     "language": "python",
     "metadata": {},
     "outputs": [
      {
       "output_type": "stream",
       "stream": "stdout",
       "text": [
        "X train: (6668,)    X test: (4446,)\n",
        "y train: (6668,)    y test: (4446,)\n",
        "Logistic Regression Score: "
       ]
      },
      {
       "output_type": "stream",
       "stream": "stdout",
       "text": [
        " 0.777103013945\n",
        "Cross validating:\n",
        "0.710250855898\n"
       ]
      },
      {
       "metadata": {},
       "output_type": "display_data",
       "png": "[encoded data removed]",
       "text": [
        "<matplotlib.figure.Figure at 0x12f25fb50>"
       ]
      }
     ],
     "prompt_number": 768
    },
    {
     "cell_type": "heading",
     "level": 1,
     "metadata": {},
     "source": [
      "Naive Bayes Text Classification"
     ]
    },
    {
     "cell_type": "code",
     "collapsed": false,
     "input": [
      "from sklearn.feature_extraction.text import CountVectorizer\n",
      "from sklearn.feature_extraction.text import TfidfVectorizer\n",
      "from sklearn.naive_bayes import MultinomialNB\n",
      "\n",
      "df_nb = df_merged\n",
      "df_nb.dropna(subset=['SegmentText'], inplace=True)\n",
      "df_nb.dropna(subset=['Do you have thoughts of suicide?'], inplace=True)\n",
      "df_nb.info()"
     ],
     "language": "python",
     "metadata": {},
     "outputs": []
    },
    {
     "cell_type": "heading",
     "level": 1,
     "metadata": {},
     "source": [
      "Using K-Fold Cross Validation"
     ]
    },
    {
     "cell_type": "code",
     "collapsed": false,
     "input": [
      "from sklearn.cross_validation import KFold\n",
      "from sklearn.cross_validation import cross_val_score\n",
      "\n",
      "# Clean Data\n",
      "df_nb['Do you have thoughts of suicide?'] = [ 1 if field=='Yes - Current (within the past 24 hours)' or field=='Yes - Recent Past (within the past few days)' else 0 for field in df_nb['Do you have thoughts of suicide?']]\n",
      "\n",
      "k_fold = KFold(n=len(df_nb['Do you have thoughts of suicide?']), n_folds=4, indices=False, random_state=0)\n",
      "print k_fold\n",
      "\n",
      "#scores = []\n",
      "for train_indices, test_indices in k_fold:\n",
      "    train_X = np.asarray(df_nb[train_indices]['SegmentText'])\n",
      "    train_y = np.asarray(df_nb[train_indices]['Do you have thoughts of suicide?'])\n",
      "    \n",
      "    test_X = np.asarray(df_nb[test_indices]['SegmentText'])\n",
      "    test_y = np.asarray(df_nb[test_indices]['Do you have thoughts of suicide?'])\n",
      "\n",
      "print train_X.shape, train_y.shape\n",
      "print test_X.shape, test_y.shape"
     ],
     "language": "python",
     "metadata": {},
     "outputs": [
      {
       "output_type": "stream",
       "stream": "stdout",
       "text": [
        "sklearn.cross_validation.KFold(n=30618, n_folds=4)\n",
        "(22964,)"
       ]
      },
      {
       "output_type": "stream",
       "stream": "stdout",
       "text": [
        " (22964,)\n",
        "(7654,) (7654,)\n"
       ]
      }
     ],
     "prompt_number": 713
    },
    {
     "cell_type": "code",
     "collapsed": false,
     "input": [
      "# fit_transform will learn the vocabulary of our chats and extracts the\n",
      "# word count features; in return we get a 'word' and a 'count' as our features\n",
      "\n",
      "count_vectorizer = CountVectorizer(ngram_range=(1,2), stop_words='english')\n",
      "#counts = count_vectorizer.fit_transform(np.asarray(df_nb['SegmentText'].str.decode('iso-8859-1').str.encode('utf-8')))\n",
      "\n",
      "#Working\n",
      "#counts = count_vectorizer.fit_transform(df_nb['SegmentText'].str.decode('iso-8859-1').str.encode('utf-8'))\n",
      "counts = count_vectorizer.fit_transform(train_X)\n"
     ],
     "language": "python",
     "metadata": {},
     "outputs": [],
     "prompt_number": 714
    },
    {
     "cell_type": "code",
     "collapsed": false,
     "input": [
      "# Next step is to train a classifier and classify individual chats\n",
      "# using Naive Bayes Classifier (meaning Naive Independence Assumptions)\n",
      "# Each word count is independent from one another and contributes the same\n",
      "\n",
      "\n",
      "# Working\n",
      "#targets = df_nb['Do you have thoughts of suicide?']\n",
      "targets = train_y\n",
      "\n",
      "classifier = MultinomialNB()\n",
      "classifier.fit(counts, targets)\n",
      "\n",
      "# TO-DO Use predictions to check against .score\n",
      "mypredict = classifier.predict(test_y)\n"
     ],
     "language": "python",
     "metadata": {},
     "outputs": [
      {
       "ename": "ValueError",
       "evalue": "matrices are not aligned",
       "output_type": "pyerr",
       "traceback": [
        "\u001b[0;31m---------------------------------------------------------------------------\u001b[0m\n\u001b[0;31mValueError\u001b[0m                                Traceback (most recent call last)",
        "\u001b[0;32m<ipython-input-716-f051aace0ecd>\u001b[0m in \u001b[0;36m<module>\u001b[0;34m()\u001b[0m\n\u001b[1;32m     12\u001b[0m \u001b[0;34m\u001b[0m\u001b[0m\n\u001b[1;32m     13\u001b[0m \u001b[0;31m# TO-DO Use predictions to check against .score\u001b[0m\u001b[0;34m\u001b[0m\u001b[0;34m\u001b[0m\u001b[0m\n\u001b[0;32m---> 14\u001b[0;31m \u001b[0mmypredict\u001b[0m \u001b[0;34m=\u001b[0m \u001b[0mclassifier\u001b[0m\u001b[0;34m.\u001b[0m\u001b[0mpredict\u001b[0m\u001b[0;34m(\u001b[0m\u001b[0mtest_y\u001b[0m\u001b[0;34m.\u001b[0m\u001b[0mreshape\u001b[0m\u001b[0;34m(\u001b[0m\u001b[0;34m-\u001b[0m\u001b[0;36m1\u001b[0m\u001b[0;34m,\u001b[0m\u001b[0;36m1\u001b[0m\u001b[0;34m)\u001b[0m\u001b[0;34m)\u001b[0m\u001b[0;34m\u001b[0m\u001b[0m\n\u001b[0m",
        "\u001b[0;32m/Library/Python/2.7/site-packages/sklearn/naive_bayes.pyc\u001b[0m in \u001b[0;36mpredict\u001b[0;34m(self, X)\u001b[0m\n\u001b[1;32m     61\u001b[0m             \u001b[0mPredicted\u001b[0m \u001b[0mtarget\u001b[0m \u001b[0mvalues\u001b[0m \u001b[0;32mfor\u001b[0m \u001b[0mX\u001b[0m\u001b[0;34m\u001b[0m\u001b[0m\n\u001b[1;32m     62\u001b[0m         \"\"\"\n\u001b[0;32m---> 63\u001b[0;31m         \u001b[0mjll\u001b[0m \u001b[0;34m=\u001b[0m \u001b[0mself\u001b[0m\u001b[0;34m.\u001b[0m\u001b[0m_joint_log_likelihood\u001b[0m\u001b[0;34m(\u001b[0m\u001b[0mX\u001b[0m\u001b[0;34m)\u001b[0m\u001b[0;34m\u001b[0m\u001b[0m\n\u001b[0m\u001b[1;32m     64\u001b[0m         \u001b[0;32mreturn\u001b[0m \u001b[0mself\u001b[0m\u001b[0;34m.\u001b[0m\u001b[0mclasses_\u001b[0m\u001b[0;34m[\u001b[0m\u001b[0mnp\u001b[0m\u001b[0;34m.\u001b[0m\u001b[0margmax\u001b[0m\u001b[0;34m(\u001b[0m\u001b[0mjll\u001b[0m\u001b[0;34m,\u001b[0m \u001b[0maxis\u001b[0m\u001b[0;34m=\u001b[0m\u001b[0;36m1\u001b[0m\u001b[0;34m)\u001b[0m\u001b[0;34m]\u001b[0m\u001b[0;34m\u001b[0m\u001b[0m\n\u001b[1;32m     65\u001b[0m \u001b[0;34m\u001b[0m\u001b[0m\n",
        "\u001b[0;32m/Library/Python/2.7/site-packages/sklearn/naive_bayes.pyc\u001b[0m in \u001b[0;36m_joint_log_likelihood\u001b[0;34m(self, X)\u001b[0m\n\u001b[1;32m    455\u001b[0m         \u001b[0;34m\"\"\"Calculate the posterior log probability of the samples X\"\"\"\u001b[0m\u001b[0;34m\u001b[0m\u001b[0m\n\u001b[1;32m    456\u001b[0m         \u001b[0mX\u001b[0m \u001b[0;34m=\u001b[0m \u001b[0matleast2d_or_csr\u001b[0m\u001b[0;34m(\u001b[0m\u001b[0mX\u001b[0m\u001b[0;34m)\u001b[0m\u001b[0;34m\u001b[0m\u001b[0m\n\u001b[0;32m--> 457\u001b[0;31m         return (safe_sparse_dot(X, self.feature_log_prob_.T)\n\u001b[0m\u001b[1;32m    458\u001b[0m                 + self.class_log_prior_)\n\u001b[1;32m    459\u001b[0m \u001b[0;34m\u001b[0m\u001b[0m\n",
        "\u001b[0;32m/Library/Python/2.7/site-packages/sklearn/utils/extmath.pyc\u001b[0m in \u001b[0;36msafe_sparse_dot\u001b[0;34m(a, b, dense_output)\u001b[0m\n\u001b[1;32m     81\u001b[0m         \u001b[0;32mreturn\u001b[0m \u001b[0mret\u001b[0m\u001b[0;34m\u001b[0m\u001b[0m\n\u001b[1;32m     82\u001b[0m     \u001b[0;32melse\u001b[0m\u001b[0;34m:\u001b[0m\u001b[0;34m\u001b[0m\u001b[0m\n\u001b[0;32m---> 83\u001b[0;31m         \u001b[0;32mreturn\u001b[0m \u001b[0mnp\u001b[0m\u001b[0;34m.\u001b[0m\u001b[0mdot\u001b[0m\u001b[0;34m(\u001b[0m\u001b[0ma\u001b[0m\u001b[0;34m,\u001b[0m \u001b[0mb\u001b[0m\u001b[0;34m)\u001b[0m\u001b[0;34m\u001b[0m\u001b[0m\n\u001b[0m\u001b[1;32m     84\u001b[0m \u001b[0;34m\u001b[0m\u001b[0m\n\u001b[1;32m     85\u001b[0m \u001b[0;34m\u001b[0m\u001b[0m\n",
        "\u001b[0;31mValueError\u001b[0m: matrices are not aligned"
       ]
      }
     ],
     "prompt_number": 716
    },
    {
     "cell_type": "code",
     "collapsed": false,
     "input": [
      "print classifier.score(mypredict, test_y) # Predicted Y's instead of actual Y's"
     ],
     "language": "python",
     "metadata": {},
     "outputs": []
    },
    {
     "cell_type": "code",
     "collapsed": false,
     "input": [],
     "language": "python",
     "metadata": {},
     "outputs": []
    },
    {
     "cell_type": "code",
     "collapsed": false,
     "input": [],
     "language": "python",
     "metadata": {},
     "outputs": []
    }
   ],
   "metadata": {}
  }
 ]
}