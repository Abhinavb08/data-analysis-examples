{
 "metadata": {
  "name": "",
  "signature": "sha256:77d0c98e87fb17fffb6deb21c20a630e75498ffe2e6a3e7e2fde6b4ad28780e7"
 },
 "nbformat": 3,
 "nbformat_minor": 0,
 "worksheets": [
  {
   "cells": [
    {
     "cell_type": "code",
     "collapsed": false,
     "input": [
      "import numpy as np\n",
      "import datetime as dt\n",
      "import random\n",
      "import pandas as pd\n",
      "import matplotlib.pyplot as plt"
     ],
     "language": "python",
     "metadata": {},
     "outputs": [],
     "prompt_number": 1
    },
    {
     "cell_type": "code",
     "collapsed": false,
     "input": [
      "# vw click.train_original_data.vw -l .1 --holdout_off -f train.model\n",
      "data_file = r'/Users/williamliu/Desktop/Kaggle_Avazu/train_invert_hash_simple_model_copy'\n",
      "data = pd.read_csv(filepath_or_buffer=data_file,\n",
      "            sep=\":\" #, dtype={'cat':np.str, 'weight':np.int64}\n",
      "            )"
     ],
     "language": "python",
     "metadata": {},
     "outputs": [],
     "prompt_number": 2
    },
    {
     "cell_type": "code",
     "collapsed": false,
     "input": [
      "data.head()\n",
      "data.info()"
     ],
     "language": "python",
     "metadata": {},
     "outputs": [
      {
       "output_type": "stream",
       "stream": "stdout",
       "text": [
        "<class 'pandas.core.frame.DataFrame'>\n",
        "Int64Index: 9449186 entries, 0 to 9449185\n",
        "Data columns (total 3 columns):\n",
        "cat       object\n",
        "n         int64\n",
        "weight    float64\n",
        "dtypes: float64(1), int64(1), object(1)\n",
        "memory usage: 288.4+ MB\n"
       ]
      }
     ],
     "prompt_number": 3
    },
    {
     "cell_type": "heading",
     "level": 4,
     "metadata": {},
     "source": [
      "Good Data"
     ]
    },
    {
     "cell_type": "code",
     "collapsed": false,
     "input": [
      "data_good = data[data['n'] > 1000]\n",
      "data_good = data_good[data_good['weight'] > .05]\n",
      "data_good.sort('weight', ascending=False).to_csv('weight_sort_good.csv')"
     ],
     "language": "python",
     "metadata": {},
     "outputs": [],
     "prompt_number": 4
    },
    {
     "cell_type": "code",
     "collapsed": false,
     "input": [
      "# Manually added id col name\n",
      "data_good = pd.read_csv(filepath_or_buffer='weight_sort_good.csv',\n",
      "            sep=\",\" \n",
      "            )"
     ],
     "language": "python",
     "metadata": {},
     "outputs": [],
     "prompt_number": 5
    },
    {
     "cell_type": "code",
     "collapsed": false,
     "input": [
      "data_good.info()"
     ],
     "language": "python",
     "metadata": {},
     "outputs": [
      {
       "output_type": "stream",
       "stream": "stdout",
       "text": [
        "<class 'pandas.core.frame.DataFrame'>\n",
        "Int64Index: 223318 entries, 0 to 223317\n",
        "Data columns (total 4 columns):\n",
        "Unnamed: 0    223318 non-null int64\n",
        "cat           223318 non-null object\n",
        "n             223318 non-null int64\n",
        "weight        223318 non-null float64\n",
        "dtypes: float64(1), int64(2), object(1)\n",
        "memory usage: 8.5+ MB\n"
       ]
      }
     ],
     "prompt_number": 6
    },
    {
     "cell_type": "code",
     "collapsed": false,
     "input": [
      "data_good.head()"
     ],
     "language": "python",
     "metadata": {},
     "outputs": [
      {
       "html": [
        "<div style=\"max-height:1000px;max-width:1500px;overflow:auto;\">\n",
        "<table border=\"1\" class=\"dataframe\">\n",
        "  <thead>\n",
        "    <tr style=\"text-align: right;\">\n",
        "      <th></th>\n",
        "      <th>Unnamed: 0</th>\n",
        "      <th>cat</th>\n",
        "      <th>n</th>\n",
        "      <th>weight</th>\n",
        "    </tr>\n",
        "  </thead>\n",
        "  <tbody>\n",
        "    <tr>\n",
        "      <th>0</th>\n",
        "      <td> 1191360</td>\n",
        "      <td> c11^717d644f</td>\n",
        "      <td> 237661</td>\n",
        "      <td> 1.270281</td>\n",
        "    </tr>\n",
        "    <tr>\n",
        "      <th>1</th>\n",
        "      <td> 3746892</td>\n",
        "      <td> c12^28596fd2</td>\n",
        "      <td> 237661</td>\n",
        "      <td> 1.270281</td>\n",
        "    </tr>\n",
        "    <tr>\n",
        "      <th>2</th>\n",
        "      <td> 6336011</td>\n",
        "      <td> c12^8ac90827</td>\n",
        "      <td> 237661</td>\n",
        "      <td> 1.270281</td>\n",
        "    </tr>\n",
        "    <tr>\n",
        "      <th>3</th>\n",
        "      <td> 1543085</td>\n",
        "      <td> c11^9304af06</td>\n",
        "      <td> 237661</td>\n",
        "      <td> 1.270281</td>\n",
        "    </tr>\n",
        "    <tr>\n",
        "      <th>4</th>\n",
        "      <td> 8344921</td>\n",
        "      <td> c12^d7340ddd</td>\n",
        "      <td> 237661</td>\n",
        "      <td> 1.270281</td>\n",
        "    </tr>\n",
        "  </tbody>\n",
        "</table>\n",
        "</div>"
       ],
       "metadata": {},
       "output_type": "pyout",
       "prompt_number": 7,
       "text": [
        "   Unnamed: 0           cat       n    weight\n",
        "0     1191360  c11^717d644f  237661  1.270281\n",
        "1     3746892  c12^28596fd2  237661  1.270281\n",
        "2     6336011  c12^8ac90827  237661  1.270281\n",
        "3     1543085  c11^9304af06  237661  1.270281\n",
        "4     8344921  c12^d7340ddd  237661  1.270281"
       ]
      }
     ],
     "prompt_number": 7
    },
    {
     "cell_type": "code",
     "collapsed": false,
     "input": [
      "good_features = data_good['cat'].tolist()\n",
      "print type(good_features)\n",
      "#good_features"
     ],
     "language": "python",
     "metadata": {},
     "outputs": [
      {
       "output_type": "stream",
       "stream": "stdout",
       "text": [
        "<type 'list'>\n"
       ]
      }
     ],
     "prompt_number": 8
    },
    {
     "cell_type": "heading",
     "level": 3,
     "metadata": {},
     "source": [
      "Bad Data"
     ]
    },
    {
     "cell_type": "code",
     "collapsed": false,
     "input": [
      "data_bad = data[data['n'] > 1000]\n",
      "data_bad = data_bad[data_bad['weight'] < .05]\n",
      "data_bad.sort('weight', ascending=True).to_csv('weight_sort_bad.csv')"
     ],
     "language": "python",
     "metadata": {},
     "outputs": [],
     "prompt_number": 9
    },
    {
     "cell_type": "code",
     "collapsed": false,
     "input": [
      "data_bad.info()"
     ],
     "language": "python",
     "metadata": {},
     "outputs": [
      {
       "output_type": "stream",
       "stream": "stdout",
       "text": [
        "<class 'pandas.core.frame.DataFrame'>\n",
        "Int64Index: 9190113 entries, 0 to 9449185\n",
        "Data columns (total 3 columns):\n",
        "cat       object\n",
        "n         int64\n",
        "weight    float64\n",
        "dtypes: float64(1), int64(1), object(1)\n",
        "memory usage: 280.5+ MB\n"
       ]
      }
     ],
     "prompt_number": 10
    },
    {
     "cell_type": "code",
     "collapsed": false,
     "input": [
      "data_bad.tail()"
     ],
     "language": "python",
     "metadata": {},
     "outputs": [
      {
       "html": [
        "<div style=\"max-height:1000px;max-width:1500px;overflow:auto;\">\n",
        "<table border=\"1\" class=\"dataframe\">\n",
        "  <thead>\n",
        "    <tr style=\"text-align: right;\">\n",
        "      <th></th>\n",
        "      <th>cat</th>\n",
        "      <th>n</th>\n",
        "      <th>weight</th>\n",
        "    </tr>\n",
        "  </thead>\n",
        "  <tbody>\n",
        "    <tr>\n",
        "      <th>9449181</th>\n",
        "      <td> hr^19</td>\n",
        "      <td> 24332</td>\n",
        "      <td>-0.134503</td>\n",
        "    </tr>\n",
        "    <tr>\n",
        "      <th>9449182</th>\n",
        "      <td> hr^20</td>\n",
        "      <td> 24333</td>\n",
        "      <td>-0.147145</td>\n",
        "    </tr>\n",
        "    <tr>\n",
        "      <th>9449183</th>\n",
        "      <td> hr^21</td>\n",
        "      <td> 24334</td>\n",
        "      <td>-0.139230</td>\n",
        "    </tr>\n",
        "    <tr>\n",
        "      <th>9449184</th>\n",
        "      <td> hr^22</td>\n",
        "      <td> 24335</td>\n",
        "      <td>-0.136159</td>\n",
        "    </tr>\n",
        "    <tr>\n",
        "      <th>9449185</th>\n",
        "      <td> hr^23</td>\n",
        "      <td> 24336</td>\n",
        "      <td>-0.124644</td>\n",
        "    </tr>\n",
        "  </tbody>\n",
        "</table>\n",
        "</div>"
       ],
       "metadata": {},
       "output_type": "pyout",
       "prompt_number": 11,
       "text": [
        "           cat      n    weight\n",
        "9449181  hr^19  24332 -0.134503\n",
        "9449182  hr^20  24333 -0.147145\n",
        "9449183  hr^21  24334 -0.139230\n",
        "9449184  hr^22  24335 -0.136159\n",
        "9449185  hr^23  24336 -0.124644"
       ]
      }
     ],
     "prompt_number": 11
    },
    {
     "cell_type": "heading",
     "level": 3,
     "metadata": {},
     "source": [
      "Filter out bad weights"
     ]
    },
    {
     "cell_type": "code",
     "collapsed": false,
     "input": [
      "bad_data = pd.read_csv(filepath_or_buffer='weight_sort_bad.csv',\n",
      "            sep=\",\" \n",
      "            )"
     ],
     "language": "python",
     "metadata": {},
     "outputs": [],
     "prompt_number": 12
    },
    {
     "cell_type": "code",
     "collapsed": false,
     "input": [
      "bad_data.head()"
     ],
     "language": "python",
     "metadata": {},
     "outputs": [
      {
       "html": [
        "<div style=\"max-height:1000px;max-width:1500px;overflow:auto;\">\n",
        "<table border=\"1\" class=\"dataframe\">\n",
        "  <thead>\n",
        "    <tr style=\"text-align: right;\">\n",
        "      <th></th>\n",
        "      <th>Unnamed: 0</th>\n",
        "      <th>cat</th>\n",
        "      <th>n</th>\n",
        "      <th>weight</th>\n",
        "    </tr>\n",
        "  </thead>\n",
        "  <tbody>\n",
        "    <tr>\n",
        "      <th>0</th>\n",
        "      <td> 5956238</td>\n",
        "      <td> c12^7c581418</td>\n",
        "      <td> 20864</td>\n",
        "      <td>-0.833462</td>\n",
        "    </tr>\n",
        "    <tr>\n",
        "      <th>1</th>\n",
        "      <td> 8635519</td>\n",
        "      <td> c12^e24a1e40</td>\n",
        "      <td> 20864</td>\n",
        "      <td>-0.833462</td>\n",
        "    </tr>\n",
        "    <tr>\n",
        "      <th>2</th>\n",
        "      <td> 4686895</td>\n",
        "      <td> c12^4c11a6a7</td>\n",
        "      <td> 20864</td>\n",
        "      <td>-0.833462</td>\n",
        "    </tr>\n",
        "    <tr>\n",
        "      <th>3</th>\n",
        "      <td>  621588</td>\n",
        "      <td> c11^3b3630a5</td>\n",
        "      <td> 20864</td>\n",
        "      <td>-0.833462</td>\n",
        "    </tr>\n",
        "    <tr>\n",
        "      <th>4</th>\n",
        "      <td> 2635697</td>\n",
        "      <td> c11^fb2cfd78</td>\n",
        "      <td> 20864</td>\n",
        "      <td>-0.833462</td>\n",
        "    </tr>\n",
        "  </tbody>\n",
        "</table>\n",
        "</div>"
       ],
       "metadata": {},
       "output_type": "pyout",
       "prompt_number": 13,
       "text": [
        "   Unnamed: 0           cat      n    weight\n",
        "0     5956238  c12^7c581418  20864 -0.833462\n",
        "1     8635519  c12^e24a1e40  20864 -0.833462\n",
        "2     4686895  c12^4c11a6a7  20864 -0.833462\n",
        "3      621588  c11^3b3630a5  20864 -0.833462\n",
        "4     2635697  c11^fb2cfd78  20864 -0.833462"
       ]
      }
     ],
     "prompt_number": 13
    },
    {
     "cell_type": "code",
     "collapsed": false,
     "input": [
      "bad_features = bad_data['cat'].tolist()\n",
      "print type(bad_features)\n",
      "#print bad_features"
     ],
     "language": "python",
     "metadata": {},
     "outputs": [
      {
       "output_type": "stream",
       "stream": "stdout",
       "text": [
        "<type 'list'>\n"
       ]
      }
     ],
     "prompt_number": 14
    },
    {
     "cell_type": "code",
     "collapsed": false,
     "input": [
      "feature_nam = [item.split('^')[0] for item in bad_data['cat']]\n",
      "feature_hex = [item.split('^')[1] for item in bad_data['cat']]"
     ],
     "language": "python",
     "metadata": {},
     "outputs": [],
     "prompt_number": 15
    },
    {
     "cell_type": "code",
     "collapsed": false,
     "input": [
      "bad_data['nam'] = feature_nam\n",
      "bad_data['feature'] = feature_hex"
     ],
     "language": "python",
     "metadata": {},
     "outputs": [],
     "prompt_number": 16
    },
    {
     "cell_type": "code",
     "collapsed": false,
     "input": [
      "bad_data.head()"
     ],
     "language": "python",
     "metadata": {},
     "outputs": [
      {
       "html": [
        "<div style=\"max-height:1000px;max-width:1500px;overflow:auto;\">\n",
        "<table border=\"1\" class=\"dataframe\">\n",
        "  <thead>\n",
        "    <tr style=\"text-align: right;\">\n",
        "      <th></th>\n",
        "      <th>Unnamed: 0</th>\n",
        "      <th>cat</th>\n",
        "      <th>n</th>\n",
        "      <th>weight</th>\n",
        "      <th>nam</th>\n",
        "      <th>feature</th>\n",
        "    </tr>\n",
        "  </thead>\n",
        "  <tbody>\n",
        "    <tr>\n",
        "      <th>0</th>\n",
        "      <td> 5956238</td>\n",
        "      <td> c12^7c581418</td>\n",
        "      <td> 20864</td>\n",
        "      <td>-0.833462</td>\n",
        "      <td> c12</td>\n",
        "      <td> 7c581418</td>\n",
        "    </tr>\n",
        "    <tr>\n",
        "      <th>1</th>\n",
        "      <td> 8635519</td>\n",
        "      <td> c12^e24a1e40</td>\n",
        "      <td> 20864</td>\n",
        "      <td>-0.833462</td>\n",
        "      <td> c12</td>\n",
        "      <td> e24a1e40</td>\n",
        "    </tr>\n",
        "    <tr>\n",
        "      <th>2</th>\n",
        "      <td> 4686895</td>\n",
        "      <td> c12^4c11a6a7</td>\n",
        "      <td> 20864</td>\n",
        "      <td>-0.833462</td>\n",
        "      <td> c12</td>\n",
        "      <td> 4c11a6a7</td>\n",
        "    </tr>\n",
        "    <tr>\n",
        "      <th>3</th>\n",
        "      <td>  621588</td>\n",
        "      <td> c11^3b3630a5</td>\n",
        "      <td> 20864</td>\n",
        "      <td>-0.833462</td>\n",
        "      <td> c11</td>\n",
        "      <td> 3b3630a5</td>\n",
        "    </tr>\n",
        "    <tr>\n",
        "      <th>4</th>\n",
        "      <td> 2635697</td>\n",
        "      <td> c11^fb2cfd78</td>\n",
        "      <td> 20864</td>\n",
        "      <td>-0.833462</td>\n",
        "      <td> c11</td>\n",
        "      <td> fb2cfd78</td>\n",
        "    </tr>\n",
        "  </tbody>\n",
        "</table>\n",
        "</div>"
       ],
       "metadata": {},
       "output_type": "pyout",
       "prompt_number": 17,
       "text": [
        "   Unnamed: 0           cat      n    weight  nam   feature\n",
        "0     5956238  c12^7c581418  20864 -0.833462  c12  7c581418\n",
        "1     8635519  c12^e24a1e40  20864 -0.833462  c12  e24a1e40\n",
        "2     4686895  c12^4c11a6a7  20864 -0.833462  c12  4c11a6a7\n",
        "3      621588  c11^3b3630a5  20864 -0.833462  c11  3b3630a5\n",
        "4     2635697  c11^fb2cfd78  20864 -0.833462  c11  fb2cfd78"
       ]
      }
     ],
     "prompt_number": 17
    },
    {
     "cell_type": "code",
     "collapsed": false,
     "input": [
      "bad_data['feature_name'] = bad_data['nam'] + ' ' + bad_data['feature']"
     ],
     "language": "python",
     "metadata": {},
     "outputs": [],
     "prompt_number": 18
    },
    {
     "cell_type": "code",
     "collapsed": false,
     "input": [
      "bad_data.head()"
     ],
     "language": "python",
     "metadata": {},
     "outputs": [
      {
       "html": [
        "<div style=\"max-height:1000px;max-width:1500px;overflow:auto;\">\n",
        "<table border=\"1\" class=\"dataframe\">\n",
        "  <thead>\n",
        "    <tr style=\"text-align: right;\">\n",
        "      <th></th>\n",
        "      <th>Unnamed: 0</th>\n",
        "      <th>cat</th>\n",
        "      <th>n</th>\n",
        "      <th>weight</th>\n",
        "      <th>nam</th>\n",
        "      <th>feature</th>\n",
        "      <th>feature_name</th>\n",
        "    </tr>\n",
        "  </thead>\n",
        "  <tbody>\n",
        "    <tr>\n",
        "      <th>0</th>\n",
        "      <td> 5956238</td>\n",
        "      <td> c12^7c581418</td>\n",
        "      <td> 20864</td>\n",
        "      <td>-0.833462</td>\n",
        "      <td> c12</td>\n",
        "      <td> 7c581418</td>\n",
        "      <td> c12 7c581418</td>\n",
        "    </tr>\n",
        "    <tr>\n",
        "      <th>1</th>\n",
        "      <td> 8635519</td>\n",
        "      <td> c12^e24a1e40</td>\n",
        "      <td> 20864</td>\n",
        "      <td>-0.833462</td>\n",
        "      <td> c12</td>\n",
        "      <td> e24a1e40</td>\n",
        "      <td> c12 e24a1e40</td>\n",
        "    </tr>\n",
        "    <tr>\n",
        "      <th>2</th>\n",
        "      <td> 4686895</td>\n",
        "      <td> c12^4c11a6a7</td>\n",
        "      <td> 20864</td>\n",
        "      <td>-0.833462</td>\n",
        "      <td> c12</td>\n",
        "      <td> 4c11a6a7</td>\n",
        "      <td> c12 4c11a6a7</td>\n",
        "    </tr>\n",
        "    <tr>\n",
        "      <th>3</th>\n",
        "      <td>  621588</td>\n",
        "      <td> c11^3b3630a5</td>\n",
        "      <td> 20864</td>\n",
        "      <td>-0.833462</td>\n",
        "      <td> c11</td>\n",
        "      <td> 3b3630a5</td>\n",
        "      <td> c11 3b3630a5</td>\n",
        "    </tr>\n",
        "    <tr>\n",
        "      <th>4</th>\n",
        "      <td> 2635697</td>\n",
        "      <td> c11^fb2cfd78</td>\n",
        "      <td> 20864</td>\n",
        "      <td>-0.833462</td>\n",
        "      <td> c11</td>\n",
        "      <td> fb2cfd78</td>\n",
        "      <td> c11 fb2cfd78</td>\n",
        "    </tr>\n",
        "  </tbody>\n",
        "</table>\n",
        "</div>"
       ],
       "metadata": {},
       "output_type": "pyout",
       "prompt_number": 19,
       "text": [
        "   Unnamed: 0           cat      n    weight  nam   feature  feature_name\n",
        "0     5956238  c12^7c581418  20864 -0.833462  c12  7c581418  c12 7c581418\n",
        "1     8635519  c12^e24a1e40  20864 -0.833462  c12  e24a1e40  c12 e24a1e40\n",
        "2     4686895  c12^4c11a6a7  20864 -0.833462  c12  4c11a6a7  c12 4c11a6a7\n",
        "3      621588  c11^3b3630a5  20864 -0.833462  c11  3b3630a5  c11 3b3630a5\n",
        "4     2635697  c11^fb2cfd78  20864 -0.833462  c11  fb2cfd78  c11 fb2cfd78"
       ]
      }
     ],
     "prompt_number": 19
    },
    {
     "cell_type": "code",
     "collapsed": false,
     "input": [
      "mypivot = bad_data.pivot('cat', 'weight')"
     ],
     "language": "python",
     "metadata": {},
     "outputs": []
    },
    {
     "cell_type": "code",
     "collapsed": false,
     "input": [
      "# vw click.train_original_data.vw -l .1 --holdout_off -f train.model\n",
      "train_data = r'/Users/williamliu/Desktop/click.train_original_data.vw'\n",
      "train_data = pd.read_csv(filepath_or_buffer=train_data,\n",
      "            sep=\"|\" #, dtype={'cat':np.str, 'weight':np.int64}\n",
      "            )"
     ],
     "language": "python",
     "metadata": {},
     "outputs": [],
     "prompt_number": 30
    },
    {
     "cell_type": "code",
     "collapsed": false,
     "input": [
      "train_data.head()"
     ],
     "language": "python",
     "metadata": {},
     "outputs": [
      {
       "html": [
        "<div style=\"max-height:1000px;max-width:1500px;overflow:auto;\">\n",
        "<table border=\"1\" class=\"dataframe\">\n",
        "  <thead>\n",
        "    <tr style=\"text-align: right;\">\n",
        "      <th></th>\n",
        "      <th>-1 '1000009418151094273  </th>\n",
        "      <th>hr 00 </th>\n",
        "      <th>day Tuesday</th>\n",
        "      <th>c3 1005</th>\n",
        "      <th>c4 0</th>\n",
        "      <th>c5 1fbe01fe</th>\n",
        "      <th>c6 f3845767</th>\n",
        "      <th>c7 28905ebd</th>\n",
        "      <th>c8 ecad2386</th>\n",
        "      <th>c9 7801e8d9</th>\n",
        "      <th>...</th>\n",
        "      <th>c14 1</th>\n",
        "      <th>c15 2</th>\n",
        "      <th>c16 15706</th>\n",
        "      <th>c17 320</th>\n",
        "      <th>c18 50</th>\n",
        "      <th>c19 1722</th>\n",
        "      <th>c20 0</th>\n",
        "      <th>c21 35</th>\n",
        "      <th>c22 -1</th>\n",
        "      <th>c23 79</th>\n",
        "    </tr>\n",
        "  </thead>\n",
        "  <tbody>\n",
        "    <tr>\n",
        "      <th>0</th>\n",
        "      <td> -1 '10000169349117863715  </td>\n",
        "      <td> hr 00 </td>\n",
        "      <td> day Tuesday</td>\n",
        "      <td> c3 1005</td>\n",
        "      <td> c4 0</td>\n",
        "      <td> c5 1fbe01fe</td>\n",
        "      <td> c6 f3845767</td>\n",
        "      <td> c7 28905ebd</td>\n",
        "      <td> c8 ecad2386</td>\n",
        "      <td> c9 7801e8d9</td>\n",
        "      <td>...</td>\n",
        "      <td> c14 1</td>\n",
        "      <td> c15 0</td>\n",
        "      <td> c16 15704</td>\n",
        "      <td> c17 320</td>\n",
        "      <td> c18 50</td>\n",
        "      <td> c19 1722</td>\n",
        "      <td> c20 0</td>\n",
        "      <td>  c21 35</td>\n",
        "      <td> c22 100084</td>\n",
        "      <td>  c23 79</td>\n",
        "    </tr>\n",
        "    <tr>\n",
        "      <th>1</th>\n",
        "      <td> -1 '10000371904215119486  </td>\n",
        "      <td> hr 00 </td>\n",
        "      <td> day Tuesday</td>\n",
        "      <td> c3 1005</td>\n",
        "      <td> c4 0</td>\n",
        "      <td> c5 1fbe01fe</td>\n",
        "      <td> c6 f3845767</td>\n",
        "      <td> c7 28905ebd</td>\n",
        "      <td> c8 ecad2386</td>\n",
        "      <td> c9 7801e8d9</td>\n",
        "      <td>...</td>\n",
        "      <td> c14 1</td>\n",
        "      <td> c15 0</td>\n",
        "      <td> c16 15704</td>\n",
        "      <td> c17 320</td>\n",
        "      <td> c18 50</td>\n",
        "      <td> c19 1722</td>\n",
        "      <td> c20 0</td>\n",
        "      <td>  c21 35</td>\n",
        "      <td> c22 100084</td>\n",
        "      <td>  c23 79</td>\n",
        "    </tr>\n",
        "    <tr>\n",
        "      <th>2</th>\n",
        "      <td> -1 '10000640724480838376  </td>\n",
        "      <td> hr 00 </td>\n",
        "      <td> day Tuesday</td>\n",
        "      <td> c3 1005</td>\n",
        "      <td> c4 0</td>\n",
        "      <td> c5 1fbe01fe</td>\n",
        "      <td> c6 f3845767</td>\n",
        "      <td> c7 28905ebd</td>\n",
        "      <td> c8 ecad2386</td>\n",
        "      <td> c9 7801e8d9</td>\n",
        "      <td>...</td>\n",
        "      <td> c14 1</td>\n",
        "      <td> c15 0</td>\n",
        "      <td> c16 15706</td>\n",
        "      <td> c17 320</td>\n",
        "      <td> c18 50</td>\n",
        "      <td> c19 1722</td>\n",
        "      <td> c20 0</td>\n",
        "      <td>  c21 35</td>\n",
        "      <td> c22 100084</td>\n",
        "      <td>  c23 79</td>\n",
        "    </tr>\n",
        "    <tr>\n",
        "      <th>3</th>\n",
        "      <td> -1 '10000679056417042096  </td>\n",
        "      <td> hr 00 </td>\n",
        "      <td> day Tuesday</td>\n",
        "      <td> c3 1005</td>\n",
        "      <td> c4 1</td>\n",
        "      <td> c5 fe8cc448</td>\n",
        "      <td> c6 9166c161</td>\n",
        "      <td> c7 0569f928</td>\n",
        "      <td> c8 ecad2386</td>\n",
        "      <td> c9 7801e8d9</td>\n",
        "      <td>...</td>\n",
        "      <td> c14 1</td>\n",
        "      <td> c15 0</td>\n",
        "      <td> c16 18993</td>\n",
        "      <td> c17 320</td>\n",
        "      <td> c18 50</td>\n",
        "      <td> c19 2161</td>\n",
        "      <td> c20 0</td>\n",
        "      <td>  c21 35</td>\n",
        "      <td>     c22 -1</td>\n",
        "      <td> c23 157</td>\n",
        "    </tr>\n",
        "    <tr>\n",
        "      <th>4</th>\n",
        "      <td> -1 '10000720757801103869  </td>\n",
        "      <td> hr 00 </td>\n",
        "      <td> day Tuesday</td>\n",
        "      <td> c3 1005</td>\n",
        "      <td> c4 0</td>\n",
        "      <td> c5 d6137915</td>\n",
        "      <td> c6 bb1ef334</td>\n",
        "      <td> c7 f028772b</td>\n",
        "      <td> c8 ecad2386</td>\n",
        "      <td> c9 7801e8d9</td>\n",
        "      <td>...</td>\n",
        "      <td> c14 1</td>\n",
        "      <td> c15 0</td>\n",
        "      <td> c16 16920</td>\n",
        "      <td> c17 320</td>\n",
        "      <td> c18 50</td>\n",
        "      <td> c19 1899</td>\n",
        "      <td> c20 0</td>\n",
        "      <td> c21 431</td>\n",
        "      <td> c22 100077</td>\n",
        "      <td> c23 117</td>\n",
        "    </tr>\n",
        "  </tbody>\n",
        "</table>\n",
        "<p>5 rows \u00d7 24 columns</p>\n",
        "</div>"
       ],
       "metadata": {},
       "output_type": "pyout",
       "prompt_number": 31,
       "text": [
        "    -1 '1000009418151094273    hr 00   day Tuesday  c3 1005  c4 0  \\\n",
        "0  -1 '10000169349117863715    hr 00   day Tuesday  c3 1005  c4 0   \n",
        "1  -1 '10000371904215119486    hr 00   day Tuesday  c3 1005  c4 0   \n",
        "2  -1 '10000640724480838376    hr 00   day Tuesday  c3 1005  c4 0   \n",
        "3  -1 '10000679056417042096    hr 00   day Tuesday  c3 1005  c4 1   \n",
        "4  -1 '10000720757801103869    hr 00   day Tuesday  c3 1005  c4 0   \n",
        "\n",
        "   c5 1fbe01fe  c6 f3845767  c7 28905ebd  c8 ecad2386  c9 7801e8d9   ...     \\\n",
        "0  c5 1fbe01fe  c6 f3845767  c7 28905ebd  c8 ecad2386  c9 7801e8d9   ...      \n",
        "1  c5 1fbe01fe  c6 f3845767  c7 28905ebd  c8 ecad2386  c9 7801e8d9   ...      \n",
        "2  c5 1fbe01fe  c6 f3845767  c7 28905ebd  c8 ecad2386  c9 7801e8d9   ...      \n",
        "3  c5 fe8cc448  c6 9166c161  c7 0569f928  c8 ecad2386  c9 7801e8d9   ...      \n",
        "4  c5 d6137915  c6 bb1ef334  c7 f028772b  c8 ecad2386  c9 7801e8d9   ...      \n",
        "\n",
        "   c14 1  c15 2  c16 15706  c17 320  c18 50  c19 1722  c20 0   c21 35  \\\n",
        "0  c14 1  c15 0  c16 15704  c17 320  c18 50  c19 1722  c20 0   c21 35   \n",
        "1  c14 1  c15 0  c16 15704  c17 320  c18 50  c19 1722  c20 0   c21 35   \n",
        "2  c14 1  c15 0  c16 15706  c17 320  c18 50  c19 1722  c20 0   c21 35   \n",
        "3  c14 1  c15 0  c16 18993  c17 320  c18 50  c19 2161  c20 0   c21 35   \n",
        "4  c14 1  c15 0  c16 16920  c17 320  c18 50  c19 1899  c20 0  c21 431   \n",
        "\n",
        "       c22 -1   c23 79  \n",
        "0  c22 100084   c23 79  \n",
        "1  c22 100084   c23 79  \n",
        "2  c22 100084   c23 79  \n",
        "3      c22 -1  c23 157  \n",
        "4  c22 100077  c23 117  \n",
        "\n",
        "[5 rows x 24 columns]"
       ]
      }
     ],
     "prompt_number": 31
    },
    {
     "cell_type": "code",
     "collapsed": false,
     "input": [],
     "language": "python",
     "metadata": {},
     "outputs": []
    }
   ],
   "metadata": {}
  }
 ]
}