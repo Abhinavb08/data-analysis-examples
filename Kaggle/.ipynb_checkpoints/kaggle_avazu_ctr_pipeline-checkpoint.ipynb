{
 "metadata": {
  "name": "",
  "signature": "sha256:c06ba2f77f62d83799be863f2fdc7dd683af75dbeaf03fd870c47166b2682723"
 },
 "nbformat": 3,
 "nbformat_minor": 0,
 "worksheets": [
  {
   "cells": [
    {
     "cell_type": "heading",
     "level": 1,
     "metadata": {},
     "source": [
      "Kaggle Avazu CTR Competition\n"
     ]
    },
    {
     "cell_type": "code",
     "collapsed": false,
     "input": [
      "Ideas: \n",
      "    \n",
      "    Pipeline\n",
      "    http://scikit-learn.org/stable/modules/generated/sklearn.pipeline.Pipeline.html\n",
      "    \n",
      "    FeatureUnion\n",
      "    http://scikit-learn.org/stable/auto_examples/feature_stacker.html\n",
      "    \n",
      "    SelectKBest\n",
      "    http://scikit-learn.org/stable/modules/generated/sklearn.feature_selection.SelectKBest.html#sklearn.feature_selection.SelectKBest"
     ],
     "language": "python",
     "metadata": {},
     "outputs": []
    },
    {
     "cell_type": "code",
     "collapsed": false,
     "input": [
      "import numpy as np\n",
      "import datetime as dt\n",
      "import pandas as pd\n",
      "import matplotlib.pyplot as plt\n",
      "from sklearn.preprocessing import scale, OneHotEncoder, LabelEncoder, StandardScaler\n",
      "from sklearn.cluster import KMeans\n",
      "from sklearn.feature_selection import SelectKBest\n",
      "from sklearn import feature_selection\n",
      "from sklearn.pipeline import Pipeline\n",
      "from sklearn.feature_extraction import DictVectorizer, FeatureHasher\n",
      "from sklearn.feature_extraction.text import TfidfVectorizer\n",
      "from sklearn import metrics  # For stats like\n",
      "from sklearn.neighbors import KNeighborsClassifier\n",
      "from sklearn.linear_model import SGDClassifier, LogisticRegression, LinearRegression\n",
      "from sklearn.grid_search import GridSearchCV\n",
      "from sklearn.cross_validation import cross_val_score, train_test_split, KFold\n",
      "from sklearn.naive_bayes import GaussianNB\n",
      "import statsmodels.api as sm\n",
      "import seaborn as sns\n",
      "#import pyprind as pp\n",
      "#import time\n",
      "\n",
      "%matplotlib inline"
     ],
     "language": "python",
     "metadata": {},
     "outputs": [],
     "prompt_number": 1
    },
    {
     "cell_type": "code",
     "collapsed": false,
     "input": [
      "### Get Path to files\n",
      "print \"Getting path to files...\"\n",
      "train_file = r'/Users/williamliu/Desktop/Kaggle_Avazu/train'\n",
      "test_file = r'/Users/williamliu/Desktop/Kaggle_Avazu/test'"
     ],
     "language": "python",
     "metadata": {},
     "outputs": [
      {
       "output_type": "stream",
       "stream": "stdout",
       "text": [
        "Getting path to files...\n"
       ]
      }
     ]
    },
    {
     "cell_type": "code",
     "collapsed": false,
     "input": [
      "train = pd.read_csv(filepath_or_buffer=train_file,\n",
      "            sep=\",\",\n",
      "            #usecols=['click', 'hour', 'banner_pos', 'C18'],  # Feature Extraction\n",
      "            dtype={\n",
      "                   'click':np.int32,\n",
      "                   'banner_pos':pd.Categorical,\n",
      "                   'hour':np.str,\n",
      "                   'C18':pd.Categorical},\n",
      "            #converters={'hour':make_date},\n",
      "            #parse_dates=['hour']\n",
      "            #low_memory=False\n",
      "            )\n",
      "test = pd.read_csv(filepath_or_buffer=test_file,\n",
      "            sep=\",\",\n",
      "            #usecols=['hour', 'banner_pos', 'C18'],\n",
      "            dtype={\n",
      "                   'banner_pos':pd.Categorical,\n",
      "                   'hour':np.str,\n",
      "                   'C18':pd.Categorical},\n",
      "            #converters={'hour':make_date},\n",
      "            #parse_dates=['hour']\n",
      "            )"
     ],
     "language": "python",
     "metadata": {},
     "outputs": []
    },
    {
     "cell_type": "code",
     "collapsed": false,
     "input": [
      "train.info()"
     ],
     "language": "python",
     "metadata": {},
     "outputs": []
    },
    {
     "cell_type": "code",
     "collapsed": false,
     "input": [
      "test.info()"
     ],
     "language": "python",
     "metadata": {},
     "outputs": []
    },
    {
     "cell_type": "code",
     "collapsed": false,
     "input": [
      "# Make copies of raw data\n",
      "train_data = train\n",
      "test_data = test"
     ],
     "language": "python",
     "metadata": {},
     "outputs": []
    },
    {
     "cell_type": "code",
     "collapsed": false,
     "input": [
      "# Put Day and Hours\n",
      "train_data['time_day'] = train_data['hour'].str[4:6]  # Days: 22-31\n",
      "train_data['time_hour'] = train_data['hour'].str[6:8]  # Hours: 00-23\n",
      "test_data['time_day'] = test_data['hour'].str[4:6]  # Days: 22-31\n",
      "test_data['time_hour'] = test_data['hour'].str[6:8]  # Hours: 00-23\n",
      "\n",
      "train_data.time_day = train_data.time_day.astype(np.int32)\n",
      "train_data.time_hour = train_data.time_hour.astype(np.int32)\n",
      "train_data.banner_pos = train_data.banner_pos.astype(np.int32)\n",
      "train_data.C18 = train_data.C18.astype(np.int32)\n",
      "#train_data.device_conn_type = train_data.device_conn_type.astype(np.int32)\n",
      "\n",
      "test_data.time_day = test_data.time_day.astype(np.int32)\n",
      "test_data.time_hour = test_data.time_hour.astype(np.int32)\n",
      "test_data.banner_pos = test_data.banner_pos.astype(np.int32)\n",
      "test_data.C18 = test_data.C18.astype(np.int32)\n",
      "#test_data.device_conn_type = test_data.device_conn_type.astype(np.int32)"
     ],
     "language": "python",
     "metadata": {},
     "outputs": []
    },
    {
     "cell_type": "code",
     "collapsed": false,
     "input": [
      "my_pipeline = Pipeline([(), (), ()])"
     ],
     "language": "python",
     "metadata": {},
     "outputs": []
    },
    {
     "cell_type": "code",
     "collapsed": false,
     "input": [],
     "language": "python",
     "metadata": {},
     "outputs": []
    },
    {
     "cell_type": "code",
     "collapsed": false,
     "input": [
      "# Only get the fields we're interested in\n",
      "#train_data = train_data[['click', 'time_day', 'time_hour', 'banner_pos', 'C18']]\n",
      "#test_data = test_data[['time_day', 'time_hour', 'banner_pos', 'C18']]"
     ],
     "language": "python",
     "metadata": {},
     "outputs": [],
     "prompt_number": 309
    },
    {
     "cell_type": "code",
     "collapsed": false,
     "input": [
      "#selector = feature_selection.SelectPercentile(percentile=5,\n",
      "#            score_func=feature_selection.f_classif)\n",
      "#train_data_red = selector.fit_transform(train_data[['time_day', 'time_hour', 'C1', 'banner_pos', 'device_type', 'device_conn_type', 'C14',\n",
      "#                                                    'C15', 'C16', 'C17', 'C18', 'C19', 'C20', 'C21']], train_data[['click']])\n",
      "#print \"Original data shape %s, reduced data shape %s\" % (train_data.shape, train_data.red.shape)"
     ],
     "language": "python",
     "metadata": {},
     "outputs": [],
     "prompt_number": 1
    },
    {
     "cell_type": "code",
     "collapsed": false,
     "input": [
      "# Excludes 'site_id', 'site_domain', 'site_category', 'app_id', 'app_domain', 'app_category', 'device_id', 'device_ip', 'device_model', "
     ],
     "language": "python",
     "metadata": {},
     "outputs": []
    },
    {
     "cell_type": "code",
     "collapsed": false,
     "input": [
      "X_train, X_test, y_train, y_test = train_test_split(train_data[['time_day', 'time_hour', 'banner_pos', 'C18']], train_data[['click']], train_size=.6)\n",
      "print \"X train shape is: \", X_train.shape, \"  \", \"X test shape is: \", X_test.shape\n",
      "print \"y train shape is: \", y_train.shape, \"  \", \"y test shape is: \", y_test.shape"
     ],
     "language": "python",
     "metadata": {},
     "outputs": [
      {
       "output_type": "stream",
       "stream": "stdout",
       "text": [
        "X train shape is:  (24257380, 4)    X test shape is:  (16171587, 4)\n",
        "y train shape is:  (24257380, 1)    y test shape is:  (16171587, 1)\n"
       ]
      }
     ],
     "prompt_number": 284
    },
    {
     "cell_type": "code",
     "collapsed": false,
     "input": [
      "print type(X_train)\n",
      "print X_train"
     ],
     "language": "python",
     "metadata": {},
     "outputs": [
      {
       "output_type": "stream",
       "stream": "stdout",
       "text": [
        "<type 'numpy.ndarray'>\n",
        "[[30 13  0  0]\n",
        " [28  7  0  2]\n",
        " [29 10  0  0]\n",
        " ..., \n",
        " [21  7  0  3]\n",
        " [22 11  0  0]\n",
        " [23 21  0  0]]\n"
       ]
      }
     ],
     "prompt_number": 285
    },
    {
     "cell_type": "code",
     "collapsed": false,
     "input": [
      "#enc = OneHotEncoder()\n",
      "#X_train = enc.fit_transform(X_train[['time_day', 'time_hour', 'banner_pos', 'C18', 'device_conn_type']])\n",
      "#X_test = enc.fit_transform(X_test[['time_day', 'time_hour', 'banner_pos', 'C18']])"
     ],
     "language": "python",
     "metadata": {},
     "outputs": [],
     "prompt_number": 286
    },
    {
     "cell_type": "code",
     "collapsed": false,
     "input": [
      "#clf = LogisticRegression()"
     ],
     "language": "python",
     "metadata": {},
     "outputs": [],
     "prompt_number": 287
    },
    {
     "cell_type": "code",
     "collapsed": false,
     "input": [
      "clf = SGDClassifier(loss='log', penalty='l2', n_iter=100,\n",
      "            random_state=1234,\n",
      "            n_jobs=4)"
     ],
     "language": "python",
     "metadata": {},
     "outputs": [],
     "prompt_number": 288
    },
    {
     "cell_type": "code",
     "collapsed": false,
     "input": [
      "clf.fit(X_train, y_train)"
     ],
     "language": "python",
     "metadata": {},
     "outputs": [
      {
       "output_type": "stream",
       "stream": "stderr",
       "text": [
        "/Users/williamliu/anaconda/lib/python2.7/site-packages/sklearn/linear_model/stochastic_gradient.py:321: DataConversionWarning: A column-vector y was passed when a 1d array was expected. Please change the shape of y to (n_samples, ), for example using ravel().\n",
        "  y = column_or_1d(y, warn=True)\n"
       ]
      },
      {
       "metadata": {},
       "output_type": "pyout",
       "prompt_number": 289,
       "text": [
        "SGDClassifier(alpha=0.0001, class_weight=None, epsilon=0.1, eta0=0.0,\n",
        "       fit_intercept=True, l1_ratio=0.15, learning_rate='optimal',\n",
        "       loss='log', n_iter=100, n_jobs=4, penalty='l2', power_t=0.5,\n",
        "       random_state=1234, shuffle=False, verbose=0, warm_start=False)"
       ]
      }
     ],
     "prompt_number": 289
    },
    {
     "cell_type": "code",
     "collapsed": false,
     "input": [
      "clf.score(X_test, y_test)"
     ],
     "language": "python",
     "metadata": {},
     "outputs": [
      {
       "metadata": {},
       "output_type": "pyout",
       "prompt_number": 290,
       "text": [
        "0.83024523196146427"
       ]
      }
     ],
     "prompt_number": 290
    },
    {
     "cell_type": "code",
     "collapsed": false,
     "input": [
      "results = clf.predict_proba(test_data)"
     ],
     "language": "python",
     "metadata": {},
     "outputs": [],
     "prompt_number": 246
    },
    {
     "cell_type": "code",
     "collapsed": false,
     "input": [
      "type(results)"
     ],
     "language": "python",
     "metadata": {},
     "outputs": [
      {
       "metadata": {},
       "output_type": "pyout",
       "prompt_number": 247,
       "text": [
        "numpy.ndarray"
       ]
      }
     ],
     "prompt_number": 247
    },
    {
     "cell_type": "code",
     "collapsed": false,
     "input": [
      "print results"
     ],
     "language": "python",
     "metadata": {},
     "outputs": [
      {
       "output_type": "stream",
       "stream": "stdout",
       "text": [
        "[[ 0.83796369  0.16203631]\n",
        " [ 0.85336507  0.14663493]\n",
        " [ 0.85336507  0.14663493]\n",
        " ..., \n",
        " [ 0.84604776  0.15395224]\n",
        " [ 0.85110521  0.14889479]\n",
        " [ 0.85602478  0.14397522]]\n"
       ]
      }
     ],
     "prompt_number": 248
    },
    {
     "cell_type": "code",
     "collapsed": false,
     "input": [
      "print results[1]"
     ],
     "language": "python",
     "metadata": {},
     "outputs": [
      {
       "output_type": "stream",
       "stream": "stdout",
       "text": [
        "[ 0.85336507  0.14663493]\n"
       ]
      }
     ],
     "prompt_number": 249
    },
    {
     "cell_type": "code",
     "collapsed": false,
     "input": [
      "click = [\"%f\" % x[1] for x in results]"
     ],
     "language": "python",
     "metadata": {},
     "outputs": [],
     "prompt_number": 250
    },
    {
     "cell_type": "code",
     "collapsed": false,
     "input": [
      "len(click)"
     ],
     "language": "python",
     "metadata": {},
     "outputs": [
      {
       "metadata": {},
       "output_type": "pyout",
       "prompt_number": 251,
       "text": [
        "4577464"
       ]
      }
     ],
     "prompt_number": 251
    },
    {
     "cell_type": "code",
     "collapsed": false,
     "input": [
      "test_data.info()"
     ],
     "language": "python",
     "metadata": {},
     "outputs": [
      {
       "output_type": "stream",
       "stream": "stdout",
       "text": [
        "<class 'pandas.core.frame.DataFrame'>\n",
        "Int64Index: 4577464 entries, 0 to 4577463\n",
        "Data columns (total 4 columns):\n",
        "time_day      int32\n",
        "time_hour     int32\n",
        "banner_pos    int32\n",
        "C18           int32\n",
        "dtypes: int32(4)\n",
        "memory usage: 104.8 MB\n"
       ]
      }
     ],
     "prompt_number": 252
    },
    {
     "cell_type": "code",
     "collapsed": false,
     "input": [
      "id = test.id"
     ],
     "language": "python",
     "metadata": {},
     "outputs": [],
     "prompt_number": 253
    },
    {
     "cell_type": "code",
     "collapsed": false,
     "input": [
      "submit = zip(id, click)"
     ],
     "language": "python",
     "metadata": {},
     "outputs": [],
     "prompt_number": 254
    },
    {
     "cell_type": "code",
     "collapsed": false,
     "input": [
      "df_out = pd.DataFrame(data=submit, columns=['id', 'click'])"
     ],
     "language": "python",
     "metadata": {},
     "outputs": [],
     "prompt_number": 255
    },
    {
     "cell_type": "code",
     "collapsed": false,
     "input": [
      "df_out = df_out.set_index('id')"
     ],
     "language": "python",
     "metadata": {},
     "outputs": [],
     "prompt_number": 256
    },
    {
     "cell_type": "code",
     "collapsed": false,
     "input": [
      "df_out.to_csv(r'/Users/williamliu/Desktop/Kaggle_Avazu/will_submission.csv')"
     ],
     "language": "python",
     "metadata": {},
     "outputs": [],
     "prompt_number": 257
    },
    {
     "cell_type": "code",
     "collapsed": false,
     "input": [],
     "language": "python",
     "metadata": {},
     "outputs": []
    }
   ],
   "metadata": {}
  }
 ]
}