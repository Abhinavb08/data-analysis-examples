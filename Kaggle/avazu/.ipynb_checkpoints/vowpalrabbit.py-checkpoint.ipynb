{
 "metadata": {
  "name": "",
  "signature": "sha256:5576df29fc060f79f55c98220c95e323b2baac3d0e8d71b62f3f5176aebe0c31"
 },
 "nbformat": 3,
 "nbformat_minor": 0,
 "worksheets": [
  {
   "cells": [
    {
     "cell_type": "code",
     "collapsed": false,
     "input": [
      "import pandas as pd\n",
      "import numpy as np\n",
      "import string as stri\n",
      "from datetime import datetime\n",
      "import math"
     ],
     "language": "python",
     "metadata": {},
     "outputs": [],
     "prompt_number": 5
    },
    {
     "cell_type": "code",
     "collapsed": false,
     "input": [
      "def csv_to_vw(loc_csv, loc_output, train=True):\n",
      "    start = datetime.now()\n",
      "    print(\"\\nTurning %s into %s. Is_train_set? %s\"%(loc_csv,loc_output,train))\n",
      "    i = open(loc_csv, \"r\")\n",
      "    j = open(loc_output, 'wb')\n",
      "    counter=0\n",
      "    with i as infile:\n",
      "        line_count=0\n",
      "        for line in infile:\n",
      "            # to counter the header\n",
      "            if line_count==0:\n",
      "                line_count=1\n",
      "                continue\n",
      "            # The data has all categorical features\n",
      "            #numerical_features = \"\"\n",
      "            categorical_features = \"\"\n",
      "            counter = counter+1\n",
      "            #print counter\n",
      "            line = line.split(\",\")\n",
      "            if train:\n",
      "                #working on the date column. We will take day , hour\n",
      "                a = line[2]\n",
      "                new_date= datetime(int(\"20\"+a[0:2]),int(a[2:4]),int(a[4:6]))\n",
      "                day = new_date.strftime(\"%A\")\n",
      "                hour= a[6:8]\n",
      "                categorical_features += \" |hr %s\" % hour\n",
      "                categorical_features += \" |day %s\" % day\n",
      "                # 24 columns in data    \n",
      "                for i in range(3,24):\n",
      "                    if line[i] != \"\":\n",
      "                        categorical_features += \"|c%s %s\" % (str(i),line[i])\n",
      "            else:\n",
      "                a = line[1]\n",
      "                new_date= datetime(int(\"20\"+a[0:2]),int(a[2:4]),int(a[4:6]))\n",
      "                day = new_date.strftime(\"%A\")\n",
      "                hour= a[6:8]\n",
      "                categorical_features += \" |hr %s\" % hour\n",
      "                categorical_features += \" |day %s\" % day\n",
      "                for i in range(2,23):\n",
      "                    if line[i] != \"\":\n",
      "                        categorical_features += \" |c%s %s\" % (str(i+1),line[i])\n",
      "  #Creating the labels\n",
      "            #print \"a\"\n",
      "            if train: #we care about labels\n",
      "                if line[1] == \"1\":\n",
      "                    label = 1\n",
      "                else:\n",
      "                    label = -1 #we set negative label to -1\n",
      "                #print (numerical_features)\n",
      "                #print categorical_features\n",
      "                j.write( \"%s '%s %s\\n\" % (label,line[0],categorical_features))\n",
      "\n",
      "            else: #we dont care about labels\n",
      "                #print ( \"1 '%s |i%s |c%s\\n\" % (line[0],numerical_features,categorical_features) )\n",
      "                j.write( \"1 '%s %s\\n\" % (line[0],categorical_features) )\n",
      "\n",
      "  #Reporting progress\n",
      "            #print counter\n",
      "            if counter % 1000000 == 0:\n",
      "                print(\"%s\\t%s\"%(counter, str(datetime.now() - start)))\n",
      "\n",
      "    print(\"\\n %s Task execution time:\\n\\t%s\"%(counter, str(datetime.now() - start)))\n",
      "\n"
     ],
     "language": "python",
     "metadata": {},
     "outputs": [],
     "prompt_number": 6
    },
    {
     "cell_type": "code",
     "collapsed": false,
     "input": [
      "#/Users/williamliu/Desktop/Kaggle_Avazu/train\n",
      "#csv_to_vw(\"/Users/RahulAgarwal/kaggle_cpr/train\", \"/Users/RahulAgarwal/kaggle_cpr/click.train_original_data.vw\",train=True)\n",
      "#csv_to_vw(\"/Users/RahulAgarwal/kaggle_cpr/test\", \"/Users/RahulAgarwal/kaggle_cpr/click.test_original_data.vw\",train=False)\n",
      "csv_to_vw(\"/Users/williamliu/Desktop/Kaggle_Avazu/train\", \"/Users/williamliu/Desktop/Kaggle_Avazu/vw_train/click.train_original_data.vw\",train=True)\n",
      "csv_to_vw(\"/Users/williamliu/Desktop/Kaggle_Avazu/test\", \"/Users/williamliu/Desktop/Kaggle_Avazu/vw_test/click.test_original_data.vw\",train=False)\n"
     ],
     "language": "python",
     "metadata": {},
     "outputs": []
    },
    {
     "cell_type": "code",
     "collapsed": false,
     "input": [
      "def zygmoid(x):\n",
      "    return 1 / (1 + math.exp(-x))\n",
      "\n",
      "with open(\"kaggle.click.submission.csv\",\"wb\") as outfile:\n",
      "    outfile.write(\"id,click\\n\")\n",
      "    for line in open(\"click.preds.txt\"):\n",
      "        \n",
      "        row = line.strip().split(\" \")\n",
      "        try:\n",
      "            outfile.write(\"%s,%f\\n\"%(row[1],zygmoid(float(row[0]))))\n",
      "        except:\n",
      "            pass"
     ],
     "language": "python",
     "metadata": {},
     "outputs": []
    },
    {
     "cell_type": "code",
     "collapsed": false,
     "input": [],
     "language": "python",
     "metadata": {},
     "outputs": []
    }
   ],
   "metadata": {}
  }
 ]
}