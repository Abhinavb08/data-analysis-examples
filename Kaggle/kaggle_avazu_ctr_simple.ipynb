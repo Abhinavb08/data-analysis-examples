{
 "worksheets": [
  {
   "cells": [
    {
     "cell_type": "heading",
     "metadata": {},
     "level": 1,
     "source": [
      "Kaggle Avazu CTR Competition\n"
     ]
    },
    {
     "cell_type": "code",
     "metadata": {},
     "outputs": [],
     "input": [
      "Ideas: \n",
      "    \n",
      "    Pipeline\n",
      "    http://scikit-learn.org/stable/modules/generated/sklearn.pipeline.Pipeline.html\n",
      "    \n",
      "    FeatureUnion\n",
      "    http://scikit-learn.org/stable/auto_examples/feature_stacker.html\n",
      "    \n",
      "    SelectKBest\n",
      "    http://scikit-learn.org/stable/modules/generated/sklearn.feature_selection.SelectKBest.html#sklearn.feature_selection.SelectKBest"
     ],
     "language": "python"
    },
    {
     "cell_type": "code",
     "metadata": {},
     "outputs": [],
     "input": [
      "import numpy as np\n",
      "import datetime as dt\n",
      "import pandas as pd\n",
      "import matplotlib.pyplot as plt\n",
      "from sklearn.preprocessing import scale, OneHotEncoder, LabelEncoder, StandardScaler\n",
      "from sklearn.cluster import KMeans\n",
      "from sklearn import feature_selection\n",
      "from sklearn.pipeline import Pipeline\n",
      "from sklearn.feature_extraction import DictVectorizer, FeatureHasher\n",
      "from sklearn.feature_extraction.text import TfidfVectorizer\n",
      "from sklearn import metrics  # For stats like\n",
      "from sklearn.neighbors import KNeighborsClassifier\n",
      "from sklearn.linear_model import SGDClassifier, LogisticRegression, LinearRegression\n",
      "from sklearn.grid_search import GridSearchCV\n",
      "from sklearn.cross_validation import cross_val_score, train_test_split, KFold\n",
      "from sklearn.naive_bayes import GaussianNB\n",
      "import statsmodels.api as sm\n",
      "import seaborn as sns\n",
      "#import pyprind as pp\n",
      "#import time\n",
      "\n",
      "%matplotlib inline"
     ],
     "language": "python",
     "prompt_number": 2
    },
    {
     "cell_type": "code",
     "metadata": {},
     "outputs": [
      {
       "output_type": "stream",
       "stream": "stdout",
       "text": [
        "Python version 2.7.9 |Anaconda 2.1.0 (x86_64)| (default, Dec 15 2014, 10:37:34) \n",
        "[GCC 4.2.1 (Apple Inc. build 5577)]\n",
        "Pandas version 0.15.2\n"
       ]
      }
     ],
     "input": [
      "import sys\n",
      "print 'Python version ' + sys.version\n",
      "print 'Pandas version ' + pd.__version__"
     ],
     "language": "python",
     "prompt_number": 294
    },
    {
     "cell_type": "code",
     "metadata": {},
     "outputs": [
      {
       "output_type": "stream",
       "stream": "stdout",
       "text": [
        "Getting path to files...\n"
       ]
      }
     ],
     "input": [
      "### Get Path to files\n",
      "print \"Getting path to files...\"\n",
      "train_file = r'/Users/williamliu/Desktop/Kaggle_Avazu/train'\n",
      "test_file = r'/Users/williamliu/Desktop/Kaggle_Avazu/test'"
     ],
     "language": "python",
     "prompt_number": 295
    },
    {
     "cell_type": "code",
     "metadata": {},
     "outputs": [],
     "input": [
      "train = pd.read_csv(filepath_or_buffer=train_file,\n",
      "            sep=\",\",\n",
      "            #usecols=['click', 'hour', 'banner_pos', 'C18'],  # Feature Extraction\n",
      "            dtype={\n",
      "                   'click':np.int32,\n",
      "                   'banner_pos':pd.Categorical,\n",
      "                   'hour':np.str,\n",
      "                   'C18':pd.Categorical},\n",
      "            #converters={'hour':make_date},\n",
      "            #parse_dates=['hour']\n",
      "            #low_memory=False\n",
      "            )\n",
      "test = pd.read_csv(filepath_or_buffer=test_file,\n",
      "            sep=\",\",\n",
      "            #usecols=['hour', 'banner_pos', 'C18'],\n",
      "            dtype={\n",
      "                   'banner_pos':pd.Categorical,\n",
      "                   'hour':np.str,\n",
      "                   'C18':pd.Categorical},\n",
      "            #converters={'hour':make_date},\n",
      "            #parse_dates=['hour']\n",
      "            )"
     ],
     "language": "python",
     "prompt_number": 304
    },
    {
     "cell_type": "code",
     "metadata": {},
     "outputs": [
      {
       "output_type": "stream",
       "stream": "stdout",
       "text": [
        "<class 'pandas.core.frame.DataFrame'>\n",
        "Int64Index: 40428967 entries, 0 to 40428966\n",
        "Data columns (total 24 columns):\n",
        "id                  object\n",
        "click               int32\n",
        "hour                object\n",
        "C1                  int64\n",
        "banner_pos          object\n",
        "site_id             object\n",
        "site_domain         object\n",
        "site_category       object\n",
        "app_id              object\n",
        "app_domain          object\n",
        "app_category        object\n",
        "device_id           object\n",
        "device_ip           object\n",
        "device_model        object\n",
        "device_type         int64\n",
        "device_conn_type    int64\n",
        "C14                 int64\n",
        "C15                 int64\n",
        "C16                 int64\n",
        "C17                 int64\n",
        "C18                 object\n",
        "C19                 int64\n",
        "C20                 int64\n",
        "C21                 int64\n",
        "dtypes: int32(1), int64(10), object(13)\n",
        "memory usage: 7.4+ GB\n"
       ]
      }
     ],
     "input": [
      "train.info()"
     ],
     "language": "python",
     "prompt_number": 305
    },
    {
     "cell_type": "code",
     "metadata": {},
     "outputs": [
      {
       "output_type": "stream",
       "stream": "stdout",
       "text": [
        "<class 'pandas.core.frame.DataFrame'>\n",
        "Int64Index: 4577464 entries, 0 to 4577463\n",
        "Data columns (total 23 columns):\n",
        "id                  object\n",
        "hour                object\n",
        "C1                  int64\n",
        "banner_pos          object\n",
        "site_id             object\n",
        "site_domain         object\n",
        "site_category       object\n",
        "app_id              object\n",
        "app_domain          object\n",
        "app_category        object\n",
        "device_id           object\n",
        "device_ip           object\n",
        "device_model        object\n",
        "device_type         int64\n",
        "device_conn_type    int64\n",
        "C14                 int64\n",
        "C15                 int64\n",
        "C16                 int64\n",
        "C17                 int64\n",
        "C18                 object\n",
        "C19                 int64\n",
        "C20                 int64\n",
        "C21                 int64\n",
        "dtypes: int64(10), object(13)\n",
        "memory usage: 838.2+ MB\n"
       ]
      }
     ],
     "input": [
      "test.info()"
     ],
     "language": "python",
     "prompt_number": 306
    },
    {
     "cell_type": "code",
     "metadata": {},
     "outputs": [],
     "input": [
      "# Make copies of raw data\n",
      "train_data = train\n",
      "test_data = test"
     ],
     "language": "python",
     "prompt_number": 307
    },
    {
     "cell_type": "code",
     "metadata": {},
     "outputs": [],
     "input": [
      "# Put Day and Hours\n",
      "train_data['time_day'] = train_data['hour'].str[4:6]  # Days: 22-31\n",
      "train_data['time_hour'] = train_data['hour'].str[6:8]  # Hours: 00-23\n",
      "test_data['time_day'] = test_data['hour'].str[4:6]  # Days: 22-31\n",
      "test_data['time_hour'] = test_data['hour'].str[6:8]  # Hours: 00-23"
     ],
     "language": "python",
     "prompt_number": 308
    },
    {
     "cell_type": "code",
     "metadata": {},
     "outputs": [],
     "input": [
      "# Only get the fields we're interested in\n",
      "#train_data = train_data[['click', 'time_day', 'time_hour', 'banner_pos', 'C18']]\n",
      "#test_data = test_data[['time_day', 'time_hour', 'banner_pos', 'C18']]"
     ],
     "language": "python",
     "prompt_number": 309
    },
    {
     "cell_type": "code",
     "metadata": {},
     "outputs": [],
     "input": [
      "#type(train_data)\n",
      "#print train_data.describe()\n",
      "#print train_data.info()"
     ],
     "language": "python",
     "prompt_number": 310
    },
    {
     "cell_type": "code",
     "metadata": {},
     "outputs": [],
     "input": [
      "train_data.time_day = train_data.time_day.astype(np.int32)\n",
      "train_data.time_hour = train_data.time_hour.astype(np.int32)\n",
      "train_data.banner_pos = train_data.banner_pos.astype(np.int32)\n",
      "train_data.C18 = train_data.C18.astype(np.int32)\n",
      "#train_data.device_conn_type = train_data.device_conn_type.astype(np.int32)"
     ],
     "language": "python",
     "prompt_number": 311
    },
    {
     "cell_type": "code",
     "metadata": {},
     "outputs": [
      {
       "output_type": "pyout",
       "html": [
        "<div style=\"max-height:1000px;max-width:1500px;overflow:auto;\">\n",
        "<table border=\"1\" class=\"dataframe\">\n",
        "  <thead>\n",
        "    <tr style=\"text-align: right;\">\n",
        "      <th></th>\n",
        "      <th>id</th>\n",
        "      <th>click</th>\n",
        "      <th>hour</th>\n",
        "      <th>C1</th>\n",
        "      <th>banner_pos</th>\n",
        "      <th>site_id</th>\n",
        "      <th>site_domain</th>\n",
        "      <th>site_category</th>\n",
        "      <th>app_id</th>\n",
        "      <th>app_domain</th>\n",
        "      <th>...</th>\n",
        "      <th>C14</th>\n",
        "      <th>C15</th>\n",
        "      <th>C16</th>\n",
        "      <th>C17</th>\n",
        "      <th>C18</th>\n",
        "      <th>C19</th>\n",
        "      <th>C20</th>\n",
        "      <th>C21</th>\n",
        "      <th>time_day</th>\n",
        "      <th>time_hour</th>\n",
        "    </tr>\n",
        "  </thead>\n",
        "  <tbody>\n",
        "    <tr>\n",
        "      <th>40428962</th>\n",
        "      <td> 9998752756639797808</td>\n",
        "      <td> 1</td>\n",
        "      <td> 14103023</td>\n",
        "      <td> 1005</td>\n",
        "      <td> 1</td>\n",
        "      <td> e151e245</td>\n",
        "      <td> 7e091613</td>\n",
        "      <td> f028772b</td>\n",
        "      <td> ecad2386</td>\n",
        "      <td> 7801e8d9</td>\n",
        "      <td>...</td>\n",
        "      <td> 17262</td>\n",
        "      <td> 320</td>\n",
        "      <td> 50</td>\n",
        "      <td> 1872</td>\n",
        "      <td> 3</td>\n",
        "      <td>  39</td>\n",
        "      <td> 100173</td>\n",
        "      <td>  23</td>\n",
        "      <td> 30</td>\n",
        "      <td> 23</td>\n",
        "    </tr>\n",
        "    <tr>\n",
        "      <th>40428963</th>\n",
        "      <td> 9999037534674210613</td>\n",
        "      <td> 0</td>\n",
        "      <td> 14103023</td>\n",
        "      <td> 1005</td>\n",
        "      <td> 0</td>\n",
        "      <td> 85f751fd</td>\n",
        "      <td> c4e18dd6</td>\n",
        "      <td> 50e219e0</td>\n",
        "      <td> 9c13b419</td>\n",
        "      <td> 2347f47a</td>\n",
        "      <td>...</td>\n",
        "      <td> 23160</td>\n",
        "      <td> 320</td>\n",
        "      <td> 50</td>\n",
        "      <td> 2667</td>\n",
        "      <td> 0</td>\n",
        "      <td>  47</td>\n",
        "      <td>     -1</td>\n",
        "      <td> 221</td>\n",
        "      <td> 30</td>\n",
        "      <td> 23</td>\n",
        "    </tr>\n",
        "    <tr>\n",
        "      <th>40428964</th>\n",
        "      <td> 9999585120349625051</td>\n",
        "      <td> 0</td>\n",
        "      <td> 14103023</td>\n",
        "      <td> 1005</td>\n",
        "      <td> 1</td>\n",
        "      <td> f61eaaae</td>\n",
        "      <td> 6b59f079</td>\n",
        "      <td> f028772b</td>\n",
        "      <td> ecad2386</td>\n",
        "      <td> 7801e8d9</td>\n",
        "      <td>...</td>\n",
        "      <td> 20969</td>\n",
        "      <td> 320</td>\n",
        "      <td> 50</td>\n",
        "      <td> 2372</td>\n",
        "      <td> 0</td>\n",
        "      <td> 813</td>\n",
        "      <td>     -1</td>\n",
        "      <td>  46</td>\n",
        "      <td> 30</td>\n",
        "      <td> 23</td>\n",
        "    </tr>\n",
        "    <tr>\n",
        "      <th>40428965</th>\n",
        "      <td> 9999636335882369227</td>\n",
        "      <td> 1</td>\n",
        "      <td> 14103023</td>\n",
        "      <td> 1005</td>\n",
        "      <td> 0</td>\n",
        "      <td> 85f751fd</td>\n",
        "      <td> c4e18dd6</td>\n",
        "      <td> 50e219e0</td>\n",
        "      <td> 3c4b944d</td>\n",
        "      <td> 2347f47a</td>\n",
        "      <td>...</td>\n",
        "      <td> 16859</td>\n",
        "      <td> 320</td>\n",
        "      <td> 50</td>\n",
        "      <td> 1887</td>\n",
        "      <td> 3</td>\n",
        "      <td>  39</td>\n",
        "      <td> 100194</td>\n",
        "      <td>  23</td>\n",
        "      <td> 30</td>\n",
        "      <td> 23</td>\n",
        "    </tr>\n",
        "    <tr>\n",
        "      <th>40428966</th>\n",
        "      <td> 9999746639881208566</td>\n",
        "      <td> 0</td>\n",
        "      <td> 14103023</td>\n",
        "      <td> 1005</td>\n",
        "      <td> 0</td>\n",
        "      <td> 1fbe01fe</td>\n",
        "      <td> f3845767</td>\n",
        "      <td> 28905ebd</td>\n",
        "      <td> ecad2386</td>\n",
        "      <td> 7801e8d9</td>\n",
        "      <td>...</td>\n",
        "      <td> 22257</td>\n",
        "      <td> 320</td>\n",
        "      <td> 50</td>\n",
        "      <td> 2545</td>\n",
        "      <td> 0</td>\n",
        "      <td> 431</td>\n",
        "      <td> 100084</td>\n",
        "      <td> 221</td>\n",
        "      <td> 30</td>\n",
        "      <td> 23</td>\n",
        "    </tr>\n",
        "  </tbody>\n",
        "</table>\n",
        "<p>5 rows × 26 columns</p>\n",
        "</div>"
       ],
       "text": [
        "                           id  click      hour    C1  banner_pos   site_id  \\\n",
        "40428962  9998752756639797808      1  14103023  1005           1  e151e245   \n",
        "40428963  9999037534674210613      0  14103023  1005           0  85f751fd   \n",
        "40428964  9999585120349625051      0  14103023  1005           1  f61eaaae   \n",
        "40428965  9999636335882369227      1  14103023  1005           0  85f751fd   \n",
        "40428966  9999746639881208566      0  14103023  1005           0  1fbe01fe   \n",
        "\n",
        "         site_domain site_category    app_id app_domain    ...        C14  \\\n",
        "40428962    7e091613      f028772b  ecad2386   7801e8d9    ...      17262   \n",
        "40428963    c4e18dd6      50e219e0  9c13b419   2347f47a    ...      23160   \n",
        "40428964    6b59f079      f028772b  ecad2386   7801e8d9    ...      20969   \n",
        "40428965    c4e18dd6      50e219e0  3c4b944d   2347f47a    ...      16859   \n",
        "40428966    f3845767      28905ebd  ecad2386   7801e8d9    ...      22257   \n",
        "\n",
        "          C15 C16   C17  C18  C19     C20  C21  time_day  time_hour  \n",
        "40428962  320  50  1872    3   39  100173   23        30         23  \n",
        "40428963  320  50  2667    0   47      -1  221        30         23  \n",
        "40428964  320  50  2372    0  813      -1   46        30         23  \n",
        "40428965  320  50  1887    3   39  100194   23        30         23  \n",
        "40428966  320  50  2545    0  431  100084  221        30         23  \n",
        "\n",
        "[5 rows x 26 columns]"
       ],
       "metadata": {}
      }
     ],
     "input": [
      "train_data.tail()"
     ],
     "language": "python",
     "prompt_number": 312
    },
    {
     "cell_type": "code",
     "metadata": {},
     "outputs": [],
     "input": [
      "test_data.time_day = test_data.time_day.astype(np.int32)\n",
      "test_data.time_hour = test_data.time_hour.astype(np.int32)\n",
      "test_data.banner_pos = test_data.banner_pos.astype(np.int32)\n",
      "test_data.C18 = test_data.C18.astype(np.int32)\n",
      "#test_data.device_conn_type = test_data.device_conn_type.astype(np.int32)"
     ],
     "language": "python",
     "prompt_number": 313
    },
    {
     "cell_type": "code",
     "metadata": {},
     "outputs": [
      {
       "output_type": "stream",
       "stream": "stdout",
       "text": [
        "<class 'pandas.core.frame.DataFrame'>\n",
        "Int64Index: 4577464 entries, 0 to 4577463\n",
        "Data columns (total 25 columns):\n",
        "id                  object\n",
        "hour                object\n",
        "C1                  int64\n",
        "banner_pos          int32\n",
        "site_id             object\n",
        "site_domain         object\n",
        "site_category       object\n",
        "app_id              object\n",
        "app_domain          object\n",
        "app_category        object\n",
        "device_id           object\n",
        "device_ip           object\n",
        "device_model        object\n",
        "device_type         int64\n",
        "device_conn_type    int64\n",
        "C14                 int64\n",
        "C15                 int64\n",
        "C16                 int64\n",
        "C17                 int64\n",
        "C18                 int32\n",
        "C19                 int64\n",
        "C20                 int64\n",
        "C21                 int64\n",
        "time_day            int32\n",
        "time_hour           int32\n",
        "dtypes: int32(4), int64(10), object(11)\n",
        "memory usage: 838.2+ MB\n"
       ]
      }
     ],
     "input": [
      "test_data.info()"
     ],
     "language": "python",
     "prompt_number": 314
    },
    {
     "cell_type": "code",
     "metadata": {},
     "outputs": [],
     "input": [
      "#selector = feature_selection.SelectPercentile(percentile=5,\n",
      "#            score_func=feature_selection.f_classif)\n",
      "#train_data_red = selector.fit_transform(train_data[['time_day', 'time_hour', 'C1', 'banner_pos', 'device_type', 'device_conn_type', 'C14',\n",
      "#                                                    'C15', 'C16', 'C17', 'C18', 'C19', 'C20', 'C21']], train_data[['click']])\n",
      "#print \"Original data shape %s, reduced data shape %s\" % (train_data.shape, train_data.red.shape)"
     ],
     "language": "python",
     "prompt_number": 1
    },
    {
     "cell_type": "code",
     "metadata": {},
     "outputs": [],
     "input": [
      "# Excludes 'site_id', 'site_domain', 'site_category', 'app_id', 'app_domain', 'app_category', 'device_id', 'device_ip', 'device_model',"
     ],
     "language": "python"
    },
    {
     "cell_type": "code",
     "metadata": {},
     "outputs": [
      {
       "output_type": "stream",
       "stream": "stdout",
       "text": [
        "X train shape is:  (24257380, 4)    X test shape is:  (16171587, 4)\n",
        "y train shape is:  (24257380, 1)    y test shape is:  (16171587, 1)\n"
       ]
      }
     ],
     "input": [
      "X_train, X_test, y_train, y_test = train_test_split(train_data[['time_day', 'time_hour', 'banner_pos', 'C18']], train_data[['click']], train_size=.6)\n",
      "print \"X train shape is: \", X_train.shape, \"  \", \"X test shape is: \", X_test.shape\n",
      "print \"y train shape is: \", y_train.shape, \"  \", \"y test shape is: \", y_test.shape"
     ],
     "language": "python",
     "prompt_number": 284
    },
    {
     "cell_type": "code",
     "metadata": {},
     "outputs": [
      {
       "output_type": "stream",
       "stream": "stdout",
       "text": [
        "<type 'numpy.ndarray'>\n",
        "[[30 13  0  0]\n",
        " [28  7  0  2]\n",
        " [29 10  0  0]\n",
        " ..., \n",
        " [21  7  0  3]\n",
        " [22 11  0  0]\n",
        " [23 21  0  0]]\n"
       ]
      }
     ],
     "input": [
      "print type(X_train)\n",
      "print X_train"
     ],
     "language": "python",
     "prompt_number": 285
    },
    {
     "cell_type": "code",
     "metadata": {},
     "outputs": [],
     "input": [
      "#enc = OneHotEncoder()\n",
      "#X_train = enc.fit_transform(X_train[['time_day', 'time_hour', 'banner_pos', 'C18', 'device_conn_type']])\n",
      "#X_test = enc.fit_transform(X_test[['time_day', 'time_hour', 'banner_pos', 'C18']])"
     ],
     "language": "python",
     "prompt_number": 286
    },
    {
     "cell_type": "code",
     "metadata": {},
     "outputs": [],
     "input": [
      "#clf = LogisticRegression()"
     ],
     "language": "python",
     "prompt_number": 287
    },
    {
     "cell_type": "code",
     "metadata": {},
     "outputs": [],
     "input": [
      "clf = SGDClassifier(loss='log', penalty='l2', n_iter=100,\n",
      "            random_state=1234,\n",
      "            n_jobs=4)"
     ],
     "language": "python",
     "prompt_number": 288
    },
    {
     "cell_type": "code",
     "metadata": {},
     "outputs": [
      {
       "output_type": "stream",
       "stream": "stderr",
       "text": [
        "/Users/williamliu/anaconda/lib/python2.7/site-packages/sklearn/linear_model/stochastic_gradient.py:321: DataConversionWarning: A column-vector y was passed when a 1d array was expected. Please change the shape of y to (n_samples, ), for example using ravel().\n",
        "  y = column_or_1d(y, warn=True)\n"
       ]
      },
      {
       "output_type": "pyout",
       "prompt_number": 289,
       "text": [
        "SGDClassifier(alpha=0.0001, class_weight=None, epsilon=0.1, eta0=0.0,\n",
        "       fit_intercept=True, l1_ratio=0.15, learning_rate='optimal',\n",
        "       loss='log', n_iter=100, n_jobs=4, penalty='l2', power_t=0.5,\n",
        "       random_state=1234, shuffle=False, verbose=0, warm_start=False)"
       ],
       "metadata": {}
      }
     ],
     "input": [
      "clf.fit(X_train, y_train)"
     ],
     "language": "python",
     "prompt_number": 289
    },
    {
     "cell_type": "code",
     "metadata": {},
     "outputs": [
      {
       "output_type": "pyout",
       "prompt_number": 290,
       "text": [
        "0.83024523196146427"
       ],
       "metadata": {}
      }
     ],
     "input": [
      "clf.score(X_test, y_test)"
     ],
     "language": "python",
     "prompt_number": 290
    },
    {
     "cell_type": "code",
     "metadata": {},
     "outputs": [],
     "input": [
      "results = clf.predict_proba(test_data)"
     ],
     "language": "python",
     "prompt_number": 246
    },
    {
     "cell_type": "code",
     "metadata": {},
     "outputs": [
      {
       "output_type": "pyout",
       "prompt_number": 247,
       "text": [
        "numpy.ndarray"
       ],
       "metadata": {}
      }
     ],
     "input": [
      "type(results)"
     ],
     "language": "python",
     "prompt_number": 247
    },
    {
     "cell_type": "code",
     "metadata": {},
     "outputs": [
      {
       "output_type": "stream",
       "stream": "stdout",
       "text": [
        "[[ 0.83796369  0.16203631]\n",
        " [ 0.85336507  0.14663493]\n",
        " [ 0.85336507  0.14663493]\n",
        " ..., \n",
        " [ 0.84604776  0.15395224]\n",
        " [ 0.85110521  0.14889479]\n",
        " [ 0.85602478  0.14397522]]\n"
       ]
      }
     ],
     "input": [
      "print results"
     ],
     "language": "python",
     "prompt_number": 248
    },
    {
     "cell_type": "code",
     "metadata": {},
     "outputs": [
      {
       "output_type": "stream",
       "stream": "stdout",
       "text": [
        "[ 0.85336507  0.14663493]\n"
       ]
      }
     ],
     "input": [
      "print results[1]"
     ],
     "language": "python",
     "prompt_number": 249
    },
    {
     "cell_type": "code",
     "metadata": {},
     "outputs": [],
     "input": [
      "click = [\"%f\" % x[1] for x in results]"
     ],
     "language": "python",
     "prompt_number": 250
    },
    {
     "cell_type": "code",
     "metadata": {},
     "outputs": [
      {
       "output_type": "pyout",
       "prompt_number": 251,
       "text": [
        "4577464"
       ],
       "metadata": {}
      }
     ],
     "input": [
      "len(click)"
     ],
     "language": "python",
     "prompt_number": 251
    },
    {
     "cell_type": "code",
     "metadata": {},
     "outputs": [
      {
       "output_type": "stream",
       "stream": "stdout",
       "text": [
        "<class 'pandas.core.frame.DataFrame'>\n",
        "Int64Index: 4577464 entries, 0 to 4577463\n",
        "Data columns (total 4 columns):\n",
        "time_day      int32\n",
        "time_hour     int32\n",
        "banner_pos    int32\n",
        "C18           int32\n",
        "dtypes: int32(4)\n",
        "memory usage: 104.8 MB\n"
       ]
      }
     ],
     "input": [
      "test_data.info()"
     ],
     "language": "python",
     "prompt_number": 252
    },
    {
     "cell_type": "code",
     "metadata": {},
     "outputs": [],
     "input": [
      "id = test.id"
     ],
     "language": "python",
     "prompt_number": 253
    },
    {
     "cell_type": "code",
     "metadata": {},
     "outputs": [],
     "input": [
      "submit = zip(id, click)"
     ],
     "language": "python",
     "prompt_number": 254
    },
    {
     "cell_type": "code",
     "metadata": {},
     "outputs": [],
     "input": [
      "df_out = pd.DataFrame(data=submit, columns=['id', 'click'])"
     ],
     "language": "python",
     "prompt_number": 255
    },
    {
     "cell_type": "code",
     "metadata": {},
     "outputs": [],
     "input": [
      "df_out = df_out.set_index('id')"
     ],
     "language": "python",
     "prompt_number": 256
    },
    {
     "cell_type": "code",
     "metadata": {},
     "outputs": [],
     "input": [
      "df_out.to_csv(r'/Users/williamliu/Desktop/Kaggle_Avazu/will_submission.csv')"
     ],
     "language": "python",
     "prompt_number": 257
    },
    {
     "cell_type": "code",
     "metadata": {},
     "outputs": [],
     "input": [
      ""
     ],
     "language": "python"
    }
   ]
  }
 ],
 "cells": [],
 "metadata": {
  "name": "",
  "signature": "sha256:d9474d398dce64ebca92963508fceff2bb9719c6ebde34cd131d6a8a6ecff66f"
 },
 "nbformat": 3,
 "nbformat_minor": 0
}