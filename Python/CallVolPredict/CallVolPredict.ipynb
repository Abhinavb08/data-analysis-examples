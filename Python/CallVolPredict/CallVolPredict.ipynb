{
 "metadata": {
  "name": "",
  "signature": "sha256:c3ff7f99b5b65d1543ad3f542510da7c5a08dbfe30f99676b47472f2302d39b6"
 },
 "nbformat": 3,
 "nbformat_minor": 0,
 "worksheets": [
  {
   "cells": [
    {
     "cell_type": "code",
     "collapsed": false,
     "input": [
      "import numpy as np\n",
      "import pandas as pd\n",
      "import matplotlib.pyplot as plt\n",
      "import matplotlib.dates as mdates\n",
      "%matplotlib inline\n",
      "#%pylab inline\n",
      "#plt.xkcd() # Comment out to plot regular graphs instead of xkcd style"
     ],
     "language": "python",
     "metadata": {},
     "outputs": [],
     "prompt_number": 3
    },
    {
     "cell_type": "code",
     "collapsed": false,
     "input": [
      "df = pd.DataFrame.from_csv('C:\\Users\\wliu\\Desktop\\lifelinecalls.csv')"
     ],
     "language": "python",
     "metadata": {},
     "outputs": []
    },
    {
     "cell_type": "code",
     "collapsed": false,
     "input": [
      "mydf = df[['AttemptStatus', 'EasternTime', 'IsVeteransNetwork']]\n",
      "mydf = mydf[mydf['AttemptStatus']=='DC'] # Get Calls Answered only\n",
      "mydf['AttemptStatus'] = [1 if field=='DC' else 0 for field in mydf['AttemptStatus']] # Mark all Calls Answered as 1\n",
      "pd.unique(mydf.AttemptStatus.values.ravel()) # Find unique values in column\n",
      "mydf['EasternTime'] = pd.to_datetime(mydf['EasternTime'])\n"
     ],
     "language": "python",
     "metadata": {},
     "outputs": []
    }
   ],
   "metadata": {}
  }
 ]
}