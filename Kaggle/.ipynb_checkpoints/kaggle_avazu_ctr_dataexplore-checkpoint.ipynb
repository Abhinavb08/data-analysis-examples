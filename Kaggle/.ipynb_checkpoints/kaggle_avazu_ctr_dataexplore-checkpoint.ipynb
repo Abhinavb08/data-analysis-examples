{
 "metadata": {
  "name": "",
  "signature": "sha256:00e9851161d95d5e595044ecc0676e74b7a5aad520e4c717e66c46c425d5e2bf"
 },
 "nbformat": 3,
 "nbformat_minor": 0,
 "worksheets": [
  {
   "cells": [
    {
     "cell_type": "heading",
     "level": 1,
     "metadata": {},
     "source": [
      "Kaggle Avazu CTR Competition\n"
     ]
    },
    {
     "cell_type": "heading",
     "level": 6,
     "metadata": {},
     "source": [
      "Ideas: \n",
      "    \n",
      "    grid_search.GridSearchCV\n",
      "    http://scikit-learn.org/stable/modules/generated/sklearn.grid_search.GridSearchCV.html#sklearn.grid_search.GridSearchCV\n",
      "        \n",
      "    preprocessing.StandardScaler - Scaling with StandardScaler\n",
      "    http://scikit-learn.org/stable/modules/generated/sklearn.preprocessing.StandardScaler.html\n",
      "\n",
      "    preprocessing.onehotencoder - Preprocessing - OneHotEncoder\n",
      "    http://scikit-learn.org/stable/modules/generated/sklearn.preprocessing.OneHotEncoder.html\n",
      "    \n",
      "    pipeline.Pipeline - Pipeline\n",
      "    http://scikit-learn.org/stable/modules/generated/sklearn.pipeline.Pipeline.html\n",
      "        \n",
      "    feature_extraction.FeatureHasher\n",
      "    http://scikit-learn.org/stable/modules/generated/sklearn.feature_extraction.FeatureHasher.html#sklearn.feature_extraction.FeatureHasher\n",
      "    \n",
      "    pipeline.FeatureUnion\n",
      "    http://scikit-learn.org/stable/auto_examples/feature_stacker.html\n",
      "    \n",
      "    feature_selection.SelectKBest\n",
      "    http://scikit-learn.org/stable/modules/generated/sklearn.feature_selection.SelectKBest.html#sklearn.feature_selection.SelectKBest"
     ]
    },
    {
     "cell_type": "code",
     "collapsed": false,
     "input": [
      "import numpy as np\n",
      "import datetime as dt\n",
      "import random\n",
      "import pandas as pd\n",
      "import matplotlib.pyplot as plt\n",
      "from sklearn.preprocessing import scale, OneHotEncoder, LabelEncoder, StandardScaler\n",
      "from sklearn.cluster import KMeans\n",
      "from sklearn import feature_selection\n",
      "from sklearn.pipeline import Pipeline\n",
      "from sklearn.feature_extraction import DictVectorizer, FeatureHasher\n",
      "from sklearn.feature_extraction.text import TfidfVectorizer\n",
      "from sklearn import metrics  # For stats like\n",
      "from sklearn.neighbors import KNeighborsClassifier\n",
      "from sklearn.linear_model import SGDClassifier, LogisticRegression, LinearRegression\n",
      "from sklearn.grid_search import GridSearchCV\n",
      "from sklearn.cross_validation import cross_val_score, train_test_split, KFold\n",
      "from sklearn.naive_bayes import GaussianNB\n",
      "import statsmodels.api as sm\n",
      "import seaborn as sns\n",
      "#import pyprind as pp\n",
      "#import time\n",
      "\n",
      "%matplotlib inline"
     ],
     "language": "python",
     "metadata": {},
     "outputs": [],
     "prompt_number": 1
    },
    {
     "cell_type": "code",
     "collapsed": false,
     "input": [
      "#pd.set_option('display.width', 1200)\n",
      "pd.options.display.max_colwidth = 0\n",
      "pd.set_option('expand_frame_repr', False)\n",
      "pd.set_option('display.precision', 3)"
     ],
     "language": "python",
     "metadata": {},
     "outputs": [],
     "prompt_number": 2
    },
    {
     "cell_type": "code",
     "collapsed": false,
     "input": [
      "### Get Path to files\n",
      "print \"Getting path to files...\"\n",
      "train_file = r'/Users/williamliu/Desktop/Kaggle_Avazu/train'\n",
      "test_file = r'/Users/williamliu/Desktop/Kaggle_Avazu/test'"
     ],
     "language": "python",
     "metadata": {},
     "outputs": [
      {
       "output_type": "stream",
       "stream": "stdout",
       "text": [
        "Getting path to files...\n"
       ]
      }
     ],
     "prompt_number": 3
    },
    {
     "cell_type": "code",
     "collapsed": false,
     "input": [
      "train = pd.read_csv(filepath_or_buffer=train_file,\n",
      "            sep=\",\", #usecols=['click', 'hour', 'banner_pos', 'C18'],  # Feature Selection\n",
      "            dtype={'click':np.int64, 'hour':np.str})\n",
      "test = pd.read_csv(filepath_or_buffer=test_file,\n",
      "            sep=\",\", #usecols=['hour', 'banner_pos', 'C18'],\n",
      "            dtype={'hour':np.str})"
     ],
     "language": "python",
     "metadata": {},
     "outputs": [
      {
       "output_type": "stream",
       "stream": "stderr",
       "text": [
        "/Users/williamliu/envs/data/lib/python2.7/site-packages/pandas/io/parsers.py:1159: DtypeWarning: Columns (0) have mixed types. Specify dtype option on import or set low_memory=False.\n",
        "  data = self._reader.read(nrows)\n"
       ]
      }
     ],
     "prompt_number": 4
    },
    {
     "cell_type": "code",
     "collapsed": false,
     "input": [
      "# Make copies of raw data so we don't have to load again\n",
      "train_data = train\n",
      "test_data = test"
     ],
     "language": "python",
     "metadata": {},
     "outputs": [],
     "prompt_number": 5
    },
    {
     "cell_type": "code",
     "collapsed": false,
     "input": [
      "def feature_engineer(dataset, train):\n",
      "    \"\"\" Feature Engineering; training data has extra 'click' column \"\"\"\n",
      "    if train==True:\n",
      "        dataset['click_yes'] = dataset.click.apply(lambda x: 1 if x==1 else 0)  # 1 if clicked\n",
      "        dataset['click_no'] = dataset.click.apply(lambda x: 1 if x==0 else 0) # 1 if not clicked\n",
      "        \n",
      "    #dataset['count'] = 1  # just a counter\n",
      "    dataset['time_day'] = dataset['hour'].str[4:6]  # Days: 22-31\n",
      "    dataset['time_hour'] = dataset['hour'].str[6:8]  # Hours: 00-23\n",
      "    dataset.time_day = dataset.time_day.astype(np.int64)\n",
      "    dataset.time_hour = dataset.time_hour.astype(np.int64)\n",
      "    dataset['device_type_good'] = dataset.device_type.apply(lambda x: 1 if x in [0,1] else 0)\n",
      "    dataset['device_conn_type_good'] = dataset.device_conn_type.apply(lambda x: 1 if x in [0,2] else 0)\n",
      "    dataset['banner_pos_great'] = dataset.banner_pos.apply(lambda x: 1 if x==7 else 0)\n",
      "    dataset['banner_pos_0'] = dataset.banner_pos.apply(lambda x: 1 if x==0 else 0)\n",
      "    dataset['banner_pos_1'] = dataset.banner_pos.apply(lambda x: 1 if x==1 else 0)\n",
      "    dataset['banner_pos_2'] = dataset.banner_pos.apply(lambda x: 1 if x==2 else 0)\n",
      "    dataset['banner_pos_3'] = dataset.banner_pos.apply(lambda x: 1 if x==3 else 0)\n",
      "    dataset['banner_pos_4'] = dataset.banner_pos.apply(lambda x: 1 if x==4 else 0)\n",
      "    dataset['banner_pos_5'] = dataset.banner_pos.apply(lambda x: 1 if x==5 else 0)\n",
      "\n",
      "    dataset['C1_good'] = dataset.C1.apply(lambda x: 1 if x in [1002, 1005, 1012] else 0)\n",
      "    dataset['C14_bad'] = dataset.C14.apply(lambda x: 1 if x in [21611, 21189, 21191, 19251, 23143,\n",
      "                                                                17875, 19016, 23866, 9478, 21665] else 0)\n",
      "    dataset['C14_good'] = dataset.C14.apply(lambda x: 1 if x in [4687, 20108, 15708, 15707, \n",
      "                                                                 15704, 15703, 15699, 15701, \n",
      "                                                                 15705, 22676, 17614, 17753,\n",
      "                                                                 23438, 20633, 16920, 21790,\n",
      "                                                                 6563, 17653, 17654, 17262,\n",
      "                                                                 20093, 17264, 20251, 20634, 17014] else 0)\n",
      "    dataset['C15_great'] = dataset.C15.apply(lambda x: 1 if x in [300, 768] else 0)\n",
      "    dataset['C15_normal'] = dataset.C15.apply(lambda x: 1 if x in [216, 320] else 0)\n",
      "    dataset['C15_bad'] = dataset.C15.apply(lambda x: 1 if x in [120, 728] else 0)    \n",
      "    dataset['C16_great'] = dataset.C16.apply(lambda x: 1 if x in [250, 1024] else 0)\n",
      "    dataset['C16_good'] = dataset.C16.apply(lambda x: 1 if x in [50, 36, 480, 768, 320] else 0)\n",
      "    dataset['C16_bad'] = dataset.C16.apply(lambda x: 1 if x in [90, 20] else 0)\n",
      "    dataset['C17_good'] = dataset.C17.apply(lambda x: 1 if x in [1722, 2227, 423, 2374, 2545, 1872, 1994, \n",
      "                                                                 2299, 1993, 2647, 2495] else 0)\n",
      "    dataset['C17_bad'] = dataset.C17.apply(lambda x: 1 if x in [2424, 2201, 2036] else 0)\n",
      "\n",
      "    dataset['C18_great'] = dataset.C18.apply(lambda x: 1 if x==2 else 0)\n",
      "    dataset['C18_good'] = dataset.C18.apply(lambda x: 1 if x in [3, 0] else 0)\n",
      "    dataset['C18_bad'] = dataset.C18.apply(lambda x: 1 if x==1 else 0)\n",
      "    dataset['C19_bad'] = dataset.C19.apply(lambda x: 1 if x in [161, 297, 163, 33, 803,\n",
      "                                                                419, 299, 427, 43, 937, \n",
      "                                                                1451] else 0)\n",
      "    dataset['C19_normal'] = dataset.C19.apply(lambda x: 1 if x in [35, 167, 47, 175, 679,\n",
      "                                                                   935, 687, 41, 171, 169,\n",
      "                                                                   34, 547, 815, 38, 1059] else 0)\n",
      "    dataset['C19_great'] = dataset.C19.apply(lambda x: 1 if x in [1327, 1063, 431, 1319,\n",
      "                                                                  303, 291] else 0)\n",
      "    dataset['C20_neg1'] = dataset.C20.apply(lambda x: 1 if x==-1 else 0)\n",
      "    dataset['C20_good'] = dataset.C20.apply(lambda x: 1 if x in [100084, 100148, 100077,\n",
      "                                                                 100075, 100081, 100083] else 0)\n",
      "    dataset['C20_bad'] = dataset.C20.apply(lambda x: 1 if x in [100111, 100193, 100192, 100190,\n",
      "                                                                100003, 100170] else 0)\n",
      "    dataset['C21_bad'] = dataset.C21.apply(lambda x: 1 if x in [61, 71, 212, 43, 229,\n",
      "                                                                156, 246, 76, 110, 204] else 0)\n",
      "    dataset['C21_good'] = dataset.C21.apply(lambda x: 1 if x in [23, 221, 79, 48, 157, 32, 33, 15] else 0)  \n",
      "\n",
      "    #LabelEncoder - change feature's answers to arbitrary numbers (e.g. site_id of '1fbe01fe' to '7339')\n",
      "    label_enc = LabelEncoder()\n",
      "    label_enc.fit(dataset['site_category'])\n",
      "    dataset['site_category_num'] = label_enc.transform(dataset['site_category'])\n",
      "\n",
      "    label_enc.fit(dataset['app_category'])\n",
      "    dataset['app_category_num'] = label_enc.transform(dataset['app_category'])\n",
      "    \n",
      "    return dataset"
     ],
     "language": "python",
     "metadata": {},
     "outputs": [],
     "prompt_number": 6
    },
    {
     "cell_type": "code",
     "collapsed": false,
     "input": [
      "# Really slow here\n",
      "train_data = feature_engineer(train_data, True)\n",
      "#train_data.info()"
     ],
     "language": "python",
     "metadata": {},
     "outputs": [],
     "prompt_number": 7
    },
    {
     "cell_type": "code",
     "collapsed": false,
     "input": [
      "test_data = feature_engineer(test_data, False)"
     ],
     "language": "python",
     "metadata": {},
     "outputs": [],
     "prompt_number": 36
    },
    {
     "cell_type": "heading",
     "level": 3,
     "metadata": {},
     "source": [
      "Train Data"
     ]
    },
    {
     "cell_type": "code",
     "collapsed": false,
     "input": [
      "train_data.head()"
     ],
     "language": "python",
     "metadata": {},
     "outputs": [
      {
       "html": [
        "<div style=\"max-height:1000px;max-width:1500px;overflow:auto;\">\n",
        "<table border=\"1\" class=\"dataframe\">\n",
        "  <thead>\n",
        "    <tr style=\"text-align: right;\">\n",
        "      <th></th>\n",
        "      <th>id</th>\n",
        "      <th>click</th>\n",
        "      <th>hour</th>\n",
        "      <th>C1</th>\n",
        "      <th>banner_pos</th>\n",
        "      <th>site_id</th>\n",
        "      <th>site_domain</th>\n",
        "      <th>site_category</th>\n",
        "      <th>app_id</th>\n",
        "      <th>app_domain</th>\n",
        "      <th>...</th>\n",
        "      <th>C19_bad</th>\n",
        "      <th>C19_normal</th>\n",
        "      <th>C19_great</th>\n",
        "      <th>C20_neg1</th>\n",
        "      <th>C20_good</th>\n",
        "      <th>C20_bad</th>\n",
        "      <th>C21_bad</th>\n",
        "      <th>C21_good</th>\n",
        "      <th>site_category_num</th>\n",
        "      <th>app_category_num</th>\n",
        "    </tr>\n",
        "  </thead>\n",
        "  <tbody>\n",
        "    <tr>\n",
        "      <th>0</th>\n",
        "      <td> 1000009418151094273</td>\n",
        "      <td> 0</td>\n",
        "      <td> 14102100</td>\n",
        "      <td> 1005</td>\n",
        "      <td> 0</td>\n",
        "      <td> 1fbe01fe</td>\n",
        "      <td> f3845767</td>\n",
        "      <td> 28905ebd</td>\n",
        "      <td> ecad2386</td>\n",
        "      <td> 7801e8d9</td>\n",
        "      <td>...</td>\n",
        "      <td> 0</td>\n",
        "      <td> 1</td>\n",
        "      <td> 0</td>\n",
        "      <td> 1</td>\n",
        "      <td> 0</td>\n",
        "      <td> 0</td>\n",
        "      <td> 0</td>\n",
        "      <td> 1</td>\n",
        "      <td> 2</td>\n",
        "      <td> 0</td>\n",
        "    </tr>\n",
        "    <tr>\n",
        "      <th>1</th>\n",
        "      <td> 10000169349117863715</td>\n",
        "      <td> 0</td>\n",
        "      <td> 14102100</td>\n",
        "      <td> 1005</td>\n",
        "      <td> 0</td>\n",
        "      <td> 1fbe01fe</td>\n",
        "      <td> f3845767</td>\n",
        "      <td> 28905ebd</td>\n",
        "      <td> ecad2386</td>\n",
        "      <td> 7801e8d9</td>\n",
        "      <td>...</td>\n",
        "      <td> 0</td>\n",
        "      <td> 1</td>\n",
        "      <td> 0</td>\n",
        "      <td> 0</td>\n",
        "      <td> 1</td>\n",
        "      <td> 0</td>\n",
        "      <td> 0</td>\n",
        "      <td> 1</td>\n",
        "      <td> 2</td>\n",
        "      <td> 0</td>\n",
        "    </tr>\n",
        "    <tr>\n",
        "      <th>2</th>\n",
        "      <td> 10000371904215119486</td>\n",
        "      <td> 0</td>\n",
        "      <td> 14102100</td>\n",
        "      <td> 1005</td>\n",
        "      <td> 0</td>\n",
        "      <td> 1fbe01fe</td>\n",
        "      <td> f3845767</td>\n",
        "      <td> 28905ebd</td>\n",
        "      <td> ecad2386</td>\n",
        "      <td> 7801e8d9</td>\n",
        "      <td>...</td>\n",
        "      <td> 0</td>\n",
        "      <td> 1</td>\n",
        "      <td> 0</td>\n",
        "      <td> 0</td>\n",
        "      <td> 1</td>\n",
        "      <td> 0</td>\n",
        "      <td> 0</td>\n",
        "      <td> 1</td>\n",
        "      <td> 2</td>\n",
        "      <td> 0</td>\n",
        "    </tr>\n",
        "    <tr>\n",
        "      <th>3</th>\n",
        "      <td> 10000640724480838376</td>\n",
        "      <td> 0</td>\n",
        "      <td> 14102100</td>\n",
        "      <td> 1005</td>\n",
        "      <td> 0</td>\n",
        "      <td> 1fbe01fe</td>\n",
        "      <td> f3845767</td>\n",
        "      <td> 28905ebd</td>\n",
        "      <td> ecad2386</td>\n",
        "      <td> 7801e8d9</td>\n",
        "      <td>...</td>\n",
        "      <td> 0</td>\n",
        "      <td> 1</td>\n",
        "      <td> 0</td>\n",
        "      <td> 0</td>\n",
        "      <td> 1</td>\n",
        "      <td> 0</td>\n",
        "      <td> 0</td>\n",
        "      <td> 1</td>\n",
        "      <td> 2</td>\n",
        "      <td> 0</td>\n",
        "    </tr>\n",
        "    <tr>\n",
        "      <th>4</th>\n",
        "      <td> 10000679056417042096</td>\n",
        "      <td> 0</td>\n",
        "      <td> 14102100</td>\n",
        "      <td> 1005</td>\n",
        "      <td> 1</td>\n",
        "      <td> fe8cc448</td>\n",
        "      <td> 9166c161</td>\n",
        "      <td> 0569f928</td>\n",
        "      <td> ecad2386</td>\n",
        "      <td> 7801e8d9</td>\n",
        "      <td>...</td>\n",
        "      <td> 0</td>\n",
        "      <td> 1</td>\n",
        "      <td> 0</td>\n",
        "      <td> 1</td>\n",
        "      <td> 0</td>\n",
        "      <td> 0</td>\n",
        "      <td> 0</td>\n",
        "      <td> 1</td>\n",
        "      <td> 0</td>\n",
        "      <td> 0</td>\n",
        "    </tr>\n",
        "  </tbody>\n",
        "</table>\n",
        "<p>5 rows \u00d7 61 columns</p>\n",
        "</div>"
       ],
       "metadata": {},
       "output_type": "pyout",
       "prompt_number": 8,
       "text": [
        "                     id  click      hour    C1  banner_pos   site_id site_domain site_category    app_id app_domain        ...        C19_bad C19_normal C19_great C20_neg1  C20_good  C20_bad  C21_bad  C21_good  site_category_num  app_category_num\n",
        "0  1000009418151094273   0      14102100  1005  0           1fbe01fe  f3845767    28905ebd      ecad2386  7801e8d9         ...         0       1          0         1        0         0        0        1         2                  0               \n",
        "1  10000169349117863715  0      14102100  1005  0           1fbe01fe  f3845767    28905ebd      ecad2386  7801e8d9         ...         0       1          0         0        1         0        0        1         2                  0               \n",
        "2  10000371904215119486  0      14102100  1005  0           1fbe01fe  f3845767    28905ebd      ecad2386  7801e8d9         ...         0       1          0         0        1         0        0        1         2                  0               \n",
        "3  10000640724480838376  0      14102100  1005  0           1fbe01fe  f3845767    28905ebd      ecad2386  7801e8d9         ...         0       1          0         0        1         0        0        1         2                  0               \n",
        "4  10000679056417042096  0      14102100  1005  1           fe8cc448  9166c161    0569f928      ecad2386  7801e8d9         ...         0       1          0         1        0         0        0        1         0                  0               \n",
        "\n",
        "[5 rows x 61 columns]"
       ]
      }
     ],
     "prompt_number": 8
    },
    {
     "cell_type": "code",
     "collapsed": false,
     "input": [
      "test_data.head()"
     ],
     "language": "python",
     "metadata": {},
     "outputs": [
      {
       "html": [
        "<div style=\"max-height:1000px;max-width:1500px;overflow:auto;\">\n",
        "<table border=\"1\" class=\"dataframe\">\n",
        "  <thead>\n",
        "    <tr style=\"text-align: right;\">\n",
        "      <th></th>\n",
        "      <th>id</th>\n",
        "      <th>hour</th>\n",
        "      <th>C1</th>\n",
        "      <th>banner_pos</th>\n",
        "      <th>site_id</th>\n",
        "      <th>site_domain</th>\n",
        "      <th>site_category</th>\n",
        "      <th>app_id</th>\n",
        "      <th>app_domain</th>\n",
        "      <th>app_category</th>\n",
        "      <th>...</th>\n",
        "      <th>C19_bad</th>\n",
        "      <th>C19_normal</th>\n",
        "      <th>C19_great</th>\n",
        "      <th>C20_neg1</th>\n",
        "      <th>C20_good</th>\n",
        "      <th>C20_bad</th>\n",
        "      <th>C21_bad</th>\n",
        "      <th>C21_good</th>\n",
        "      <th>site_category_num</th>\n",
        "      <th>app_category_num</th>\n",
        "    </tr>\n",
        "  </thead>\n",
        "  <tbody>\n",
        "    <tr>\n",
        "      <th>0</th>\n",
        "      <td> 10000174058809263569</td>\n",
        "      <td> 14103100</td>\n",
        "      <td> 1005</td>\n",
        "      <td> 0</td>\n",
        "      <td> 235ba823</td>\n",
        "      <td> f6ebf28e</td>\n",
        "      <td> f028772b</td>\n",
        "      <td> ecad2386</td>\n",
        "      <td> 7801e8d9</td>\n",
        "      <td> 07d7df22</td>\n",
        "      <td>...</td>\n",
        "      <td> 0</td>\n",
        "      <td> 1</td>\n",
        "      <td> 0</td>\n",
        "      <td> 0</td>\n",
        "      <td> 1</td>\n",
        "      <td> 0</td>\n",
        "      <td> 0</td>\n",
        "      <td> 1</td>\n",
        "      <td> 20</td>\n",
        "      <td> 0</td>\n",
        "    </tr>\n",
        "    <tr>\n",
        "      <th>1</th>\n",
        "      <td> 10000182526920855428</td>\n",
        "      <td> 14103100</td>\n",
        "      <td> 1005</td>\n",
        "      <td> 0</td>\n",
        "      <td> 1fbe01fe</td>\n",
        "      <td> f3845767</td>\n",
        "      <td> 28905ebd</td>\n",
        "      <td> ecad2386</td>\n",
        "      <td> 7801e8d9</td>\n",
        "      <td> 07d7df22</td>\n",
        "      <td>...</td>\n",
        "      <td> 0</td>\n",
        "      <td> 1</td>\n",
        "      <td> 0</td>\n",
        "      <td> 0</td>\n",
        "      <td> 1</td>\n",
        "      <td> 0</td>\n",
        "      <td> 0</td>\n",
        "      <td> 0</td>\n",
        "      <td> 1</td>\n",
        "      <td> 0</td>\n",
        "    </tr>\n",
        "    <tr>\n",
        "      <th>2</th>\n",
        "      <td> 10000554139829213984</td>\n",
        "      <td> 14103100</td>\n",
        "      <td> 1005</td>\n",
        "      <td> 0</td>\n",
        "      <td> 1fbe01fe</td>\n",
        "      <td> f3845767</td>\n",
        "      <td> 28905ebd</td>\n",
        "      <td> ecad2386</td>\n",
        "      <td> 7801e8d9</td>\n",
        "      <td> 07d7df22</td>\n",
        "      <td>...</td>\n",
        "      <td> 0</td>\n",
        "      <td> 1</td>\n",
        "      <td> 0</td>\n",
        "      <td> 0</td>\n",
        "      <td> 1</td>\n",
        "      <td> 0</td>\n",
        "      <td> 0</td>\n",
        "      <td> 0</td>\n",
        "      <td> 1</td>\n",
        "      <td> 0</td>\n",
        "    </tr>\n",
        "    <tr>\n",
        "      <th>3</th>\n",
        "      <td> 10001094637809798845</td>\n",
        "      <td> 14103100</td>\n",
        "      <td> 1005</td>\n",
        "      <td> 0</td>\n",
        "      <td> 85f751fd</td>\n",
        "      <td> c4e18dd6</td>\n",
        "      <td> 50e219e0</td>\n",
        "      <td> 51cedd4e</td>\n",
        "      <td> aefc06bd</td>\n",
        "      <td> 0f2161f8</td>\n",
        "      <td>...</td>\n",
        "      <td> 0</td>\n",
        "      <td> 0</td>\n",
        "      <td> 0</td>\n",
        "      <td> 0</td>\n",
        "      <td> 0</td>\n",
        "      <td> 0</td>\n",
        "      <td> 1</td>\n",
        "      <td> 0</td>\n",
        "      <td> 5</td>\n",
        "      <td> 3</td>\n",
        "    </tr>\n",
        "    <tr>\n",
        "      <th>4</th>\n",
        "      <td> 10001377041558670745</td>\n",
        "      <td> 14103100</td>\n",
        "      <td> 1005</td>\n",
        "      <td> 0</td>\n",
        "      <td> 85f751fd</td>\n",
        "      <td> c4e18dd6</td>\n",
        "      <td> 50e219e0</td>\n",
        "      <td> 9c13b419</td>\n",
        "      <td> 2347f47a</td>\n",
        "      <td> f95efa07</td>\n",
        "      <td>...</td>\n",
        "      <td> 0</td>\n",
        "      <td> 1</td>\n",
        "      <td> 0</td>\n",
        "      <td> 1</td>\n",
        "      <td> 0</td>\n",
        "      <td> 0</td>\n",
        "      <td> 0</td>\n",
        "      <td> 1</td>\n",
        "      <td> 5</td>\n",
        "      <td> 26</td>\n",
        "    </tr>\n",
        "  </tbody>\n",
        "</table>\n",
        "<p>5 rows \u00d7 58 columns</p>\n",
        "</div>"
       ],
       "metadata": {},
       "output_type": "pyout",
       "prompt_number": 37,
       "text": [
        "                     id      hour    C1  banner_pos   site_id site_domain site_category    app_id app_domain app_category        ...        C19_bad C19_normal C19_great  C20_neg1  C20_good  C20_bad  C21_bad  C21_good  site_category_num  app_category_num\n",
        "0  10000174058809263569  14103100  1005  0           235ba823  f6ebf28e    f028772b      ecad2386  7801e8d9   07d7df22           ...         0       1          0         0         1         0        0        1         20                 0               \n",
        "1  10000182526920855428  14103100  1005  0           1fbe01fe  f3845767    28905ebd      ecad2386  7801e8d9   07d7df22           ...         0       1          0         0         1         0        0        0         1                  0               \n",
        "2  10000554139829213984  14103100  1005  0           1fbe01fe  f3845767    28905ebd      ecad2386  7801e8d9   07d7df22           ...         0       1          0         0         1         0        0        0         1                  0               \n",
        "3  10001094637809798845  14103100  1005  0           85f751fd  c4e18dd6    50e219e0      51cedd4e  aefc06bd   0f2161f8           ...         0       0          0         0         0         0        1        0         5                  3               \n",
        "4  10001377041558670745  14103100  1005  0           85f751fd  c4e18dd6    50e219e0      9c13b419  2347f47a   f95efa07           ...         0       1          0         1         0         0        0        1         5                  26              \n",
        "\n",
        "[5 rows x 58 columns]"
       ]
      }
     ],
     "prompt_number": 37
    },
    {
     "cell_type": "code",
     "collapsed": false,
     "input": [
      "\n",
      "#X_train = enc.fit_transform(X_train[['time_day', 'time_hour', 'banner_pos', 'C18', 'device_conn_type']])\n",
      "#X_test = enc.fit_transform(X_test[['time_day', 'time_hour', 'banner_pos', 'C18']])"
     ],
     "language": "python",
     "metadata": {},
     "outputs": [],
     "prompt_number": 75
    },
    {
     "cell_type": "code",
     "collapsed": false,
     "input": [
      "print my_data_test.shape\n",
      "print type(my_data_test)  <type 'numpy.ndarray'>"
     ],
     "language": "python",
     "metadata": {},
     "outputs": [
      {
       "output_type": "stream",
       "stream": "stdout",
       "text": [
        "(40428967,)\n",
        "<type 'numpy.ndarray'>\n"
       ]
      }
     ],
     "prompt_number": 69
    },
    {
     "cell_type": "code",
     "collapsed": false,
     "input": [
      "#OneHotEncoder - change each categorical feature of size m to m binary feature\n",
      "#onehot_enc = OneHotEncoder(sparse=False)\n",
      "#onehot_enc.fit(data)\n",
      "#test = onehot_enc.transform([data])  # shape: (1, 40428967)"
     ],
     "language": "python",
     "metadata": {},
     "outputs": [],
     "prompt_number": 47
    },
    {
     "cell_type": "heading",
     "level": 3,
     "metadata": {},
     "source": [
      "Look at Data"
     ]
    },
    {
     "cell_type": "code",
     "collapsed": false,
     "input": [
      "def peak_data(df, index, percent=1):\n",
      "    \"\"\" Look at a variable, return how often var was clicked or not clicked (either as sum or percent)\"\"\"\n",
      "    temp_yes = pd.pivot_table(df, values='click_yes', index=index, aggfunc=np.sum)\n",
      "    temp_no = pd.pivot_table(train_data, values='click_no', index=index, aggfunc=np.sum)\n",
      "    if percent==0:\n",
      "        df_temp = pd.DataFrame({'yes':temp_yes, 'no':temp_no, 'n_size':(temp_yes+temp_no)})\n",
      "    else:\n",
      "        df_temp = pd.DataFrame({'yes':(temp_yes/(temp_yes+temp_no)), 'no':(temp_no/(temp_yes+temp_no)), 'n_size':(temp_yes+temp_no)})\n",
      "    df_temp = df_temp[['yes', 'no', 'n_size']]\n",
      "    return df_temp"
     ],
     "language": "python",
     "metadata": {},
     "outputs": [],
     "prompt_number": 49
    },
    {
     "cell_type": "code",
     "collapsed": false,
     "input": [
      "# Intereted in fields that have a decent sample size\n",
      "mydata = peak_data(train_data, 'device_ip', 1).sort('n_size', ascending='False')\n",
      "mydata = mydata[mydata.n_size > 1000]  # Needs at least 1000 samples\n",
      "mydata.to_csv('peak_data')"
     ],
     "language": "python",
     "metadata": {},
     "outputs": []
    },
    {
     "cell_type": "code",
     "collapsed": false,
     "input": [
      "#peak_data(train_data, 'C1', 1)  # Definite: separate C1 into (1002, 1005, 1012)\n",
      "#peak_data(train_data, 'app_domain', 1).sort('n_size', ascending='False')"
     ],
     "language": "python",
     "metadata": {},
     "outputs": [],
     "prompt_number": 22
    },
    {
     "cell_type": "heading",
     "level": 3,
     "metadata": {},
     "source": [
      "Plotting"
     ]
    },
    {
     "cell_type": "code",
     "collapsed": false,
     "input": [
      "# Get random sample from train data\n",
      "np.random.seed(1234)\n",
      "rows = np.random.choice(train_data.index.values, 10000)\n",
      "sampled_train_df = train_data.ix[rows]\n",
      "#rows = np.random.choice(test_data.index.values, 10000)\n",
      "#sampled_test_df = test_data.ix[rows]"
     ],
     "language": "python",
     "metadata": {},
     "outputs": [],
     "prompt_number": 9
    },
    {
     "cell_type": "code",
     "collapsed": false,
     "input": [
      "sampled_train_df = feature_engineer(sampled_train_df, True)"
     ],
     "language": "python",
     "metadata": {},
     "outputs": [
      {
       "output_type": "stream",
       "stream": "stderr",
       "text": [
        "-c:4: SettingWithCopyWarning: \n",
        "A value is trying to be set on a copy of a slice from a DataFrame.\n",
        "Try using .loc[row_indexer,col_indexer] = value instead\n",
        "\n",
        "See the the caveats in the documentation: http://pandas.pydata.org/pandas-docs/stable/indexing.html#indexing-view-versus-copy\n",
        "-c:5: SettingWithCopyWarning: \n",
        "A value is trying to be set on a copy of a slice from a DataFrame.\n",
        "Try using .loc[row_indexer,col_indexer] = value instead\n",
        "\n",
        "See the the caveats in the documentation: http://pandas.pydata.org/pandas-docs/stable/indexing.html#indexing-view-versus-copy\n"
       ]
      },
      {
       "output_type": "stream",
       "stream": "stderr",
       "text": [
        "-c:8: SettingWithCopyWarning: \n",
        "A value is trying to be set on a copy of a slice from a DataFrame.\n",
        "Try using .loc[row_indexer,col_indexer] = value instead\n",
        "\n",
        "See the the caveats in the documentation: http://pandas.pydata.org/pandas-docs/stable/indexing.html#indexing-view-versus-copy\n",
        "-c:9: SettingWithCopyWarning: \n",
        "A value is trying to be set on a copy of a slice from a DataFrame.\n",
        "Try using .loc[row_indexer,col_indexer] = value instead\n",
        "\n",
        "See the the caveats in the documentation: http://pandas.pydata.org/pandas-docs/stable/indexing.html#indexing-view-versus-copy\n"
       ]
      },
      {
       "output_type": "stream",
       "stream": "stderr",
       "text": [
        "/Users/williamliu/envs/data/lib/python2.7/site-packages/pandas/core/generic.py:1974: SettingWithCopyWarning: \n",
        "A value is trying to be set on a copy of a slice from a DataFrame.\n",
        "Try using .loc[row_indexer,col_indexer] = value instead\n",
        "\n",
        "See the the caveats in the documentation: http://pandas.pydata.org/pandas-docs/stable/indexing.html#indexing-view-versus-copy\n",
        "  self[name] = value\n",
        "-c:12: SettingWithCopyWarning: \n",
        "A value is trying to be set on a copy of a slice from a DataFrame.\n",
        "Try using .loc[row_indexer,col_indexer] = value instead\n",
        "\n",
        "See the the caveats in the documentation: http://pandas.pydata.org/pandas-docs/stable/indexing.html#indexing-view-versus-copy\n"
       ]
      },
      {
       "output_type": "stream",
       "stream": "stderr",
       "text": [
        "-c:13: SettingWithCopyWarning: \n",
        "A value is trying to be set on a copy of a slice from a DataFrame.\n",
        "Try using .loc[row_indexer,col_indexer] = value instead\n",
        "\n",
        "See the the caveats in the documentation: http://pandas.pydata.org/pandas-docs/stable/indexing.html#indexing-view-versus-copy\n",
        "-c:14: SettingWithCopyWarning: \n",
        "A value is trying to be set on a copy of a slice from a DataFrame.\n",
        "Try using .loc[row_indexer,col_indexer] = value instead\n",
        "\n",
        "See the the caveats in the documentation: http://pandas.pydata.org/pandas-docs/stable/indexing.html#indexing-view-versus-copy\n"
       ]
      },
      {
       "output_type": "stream",
       "stream": "stderr",
       "text": [
        "-c:15: SettingWithCopyWarning: \n",
        "A value is trying to be set on a copy of a slice from a DataFrame.\n",
        "Try using .loc[row_indexer,col_indexer] = value instead\n",
        "\n",
        "See the the caveats in the documentation: http://pandas.pydata.org/pandas-docs/stable/indexing.html#indexing-view-versus-copy\n",
        "-c:16: SettingWithCopyWarning: \n",
        "A value is trying to be set on a copy of a slice from a DataFrame.\n",
        "Try using .loc[row_indexer,col_indexer] = value instead\n",
        "\n",
        "See the the caveats in the documentation: http://pandas.pydata.org/pandas-docs/stable/indexing.html#indexing-view-versus-copy\n"
       ]
      },
      {
       "output_type": "stream",
       "stream": "stderr",
       "text": [
        "-c:17: SettingWithCopyWarning: \n",
        "A value is trying to be set on a copy of a slice from a DataFrame.\n",
        "Try using .loc[row_indexer,col_indexer] = value instead\n",
        "\n",
        "See the the caveats in the documentation: http://pandas.pydata.org/pandas-docs/stable/indexing.html#indexing-view-versus-copy\n",
        "-c:18: SettingWithCopyWarning: \n",
        "A value is trying to be set on a copy of a slice from a DataFrame.\n",
        "Try using .loc[row_indexer,col_indexer] = value instead\n",
        "\n",
        "See the the caveats in the documentation: http://pandas.pydata.org/pandas-docs/stable/indexing.html#indexing-view-versus-copy\n"
       ]
      },
      {
       "output_type": "stream",
       "stream": "stderr",
       "text": [
        "-c:19: SettingWithCopyWarning: \n",
        "A value is trying to be set on a copy of a slice from a DataFrame.\n",
        "Try using .loc[row_indexer,col_indexer] = value instead\n",
        "\n",
        "See the the caveats in the documentation: http://pandas.pydata.org/pandas-docs/stable/indexing.html#indexing-view-versus-copy\n",
        "-c:20: SettingWithCopyWarning: \n",
        "A value is trying to be set on a copy of a slice from a DataFrame.\n",
        "Try using .loc[row_indexer,col_indexer] = value instead\n",
        "\n",
        "See the the caveats in the documentation: http://pandas.pydata.org/pandas-docs/stable/indexing.html#indexing-view-versus-copy\n"
       ]
      },
      {
       "output_type": "stream",
       "stream": "stderr",
       "text": [
        "-c:22: SettingWithCopyWarning: \n",
        "A value is trying to be set on a copy of a slice from a DataFrame.\n",
        "Try using .loc[row_indexer,col_indexer] = value instead\n",
        "\n",
        "See the the caveats in the documentation: http://pandas.pydata.org/pandas-docs/stable/indexing.html#indexing-view-versus-copy\n",
        "-c:23: SettingWithCopyWarning: \n",
        "A value is trying to be set on a copy of a slice from a DataFrame.\n",
        "Try using .loc[row_indexer,col_indexer] = value instead\n",
        "\n",
        "See the the caveats in the documentation: http://pandas.pydata.org/pandas-docs/stable/indexing.html#indexing-view-versus-copy\n"
       ]
      },
      {
       "output_type": "stream",
       "stream": "stderr",
       "text": [
        "-c:25: SettingWithCopyWarning: \n",
        "A value is trying to be set on a copy of a slice from a DataFrame.\n",
        "Try using .loc[row_indexer,col_indexer] = value instead\n",
        "\n",
        "See the the caveats in the documentation: http://pandas.pydata.org/pandas-docs/stable/indexing.html#indexing-view-versus-copy\n",
        "-c:31: SettingWithCopyWarning: \n",
        "A value is trying to be set on a copy of a slice from a DataFrame.\n",
        "Try using .loc[row_indexer,col_indexer] = value instead\n",
        "\n",
        "See the the caveats in the documentation: http://pandas.pydata.org/pandas-docs/stable/indexing.html#indexing-view-versus-copy\n"
       ]
      },
      {
       "output_type": "stream",
       "stream": "stderr",
       "text": [
        "-c:32: SettingWithCopyWarning: \n",
        "A value is trying to be set on a copy of a slice from a DataFrame.\n",
        "Try using .loc[row_indexer,col_indexer] = value instead\n",
        "\n",
        "See the the caveats in the documentation: http://pandas.pydata.org/pandas-docs/stable/indexing.html#indexing-view-versus-copy\n",
        "-c:33: SettingWithCopyWarning: \n",
        "A value is trying to be set on a copy of a slice from a DataFrame.\n",
        "Try using .loc[row_indexer,col_indexer] = value instead\n",
        "\n",
        "See the the caveats in the documentation: http://pandas.pydata.org/pandas-docs/stable/indexing.html#indexing-view-versus-copy\n"
       ]
      },
      {
       "output_type": "stream",
       "stream": "stderr",
       "text": [
        "-c:34: SettingWithCopyWarning: \n",
        "A value is trying to be set on a copy of a slice from a DataFrame.\n",
        "Try using .loc[row_indexer,col_indexer] = value instead\n",
        "\n",
        "See the the caveats in the documentation: http://pandas.pydata.org/pandas-docs/stable/indexing.html#indexing-view-versus-copy\n",
        "-c:35: SettingWithCopyWarning: \n",
        "A value is trying to be set on a copy of a slice from a DataFrame.\n",
        "Try using .loc[row_indexer,col_indexer] = value instead\n",
        "\n",
        "See the the caveats in the documentation: http://pandas.pydata.org/pandas-docs/stable/indexing.html#indexing-view-versus-copy\n"
       ]
      },
      {
       "output_type": "stream",
       "stream": "stderr",
       "text": [
        "-c:36: SettingWithCopyWarning: \n",
        "A value is trying to be set on a copy of a slice from a DataFrame.\n",
        "Try using .loc[row_indexer,col_indexer] = value instead\n",
        "\n",
        "See the the caveats in the documentation: http://pandas.pydata.org/pandas-docs/stable/indexing.html#indexing-view-versus-copy\n",
        "-c:37: SettingWithCopyWarning: \n",
        "A value is trying to be set on a copy of a slice from a DataFrame.\n",
        "Try using .loc[row_indexer,col_indexer] = value instead\n",
        "\n",
        "See the the caveats in the documentation: http://pandas.pydata.org/pandas-docs/stable/indexing.html#indexing-view-versus-copy\n"
       ]
      },
      {
       "output_type": "stream",
       "stream": "stderr",
       "text": [
        "-c:39: SettingWithCopyWarning: \n",
        "A value is trying to be set on a copy of a slice from a DataFrame.\n",
        "Try using .loc[row_indexer,col_indexer] = value instead\n",
        "\n",
        "See the the caveats in the documentation: http://pandas.pydata.org/pandas-docs/stable/indexing.html#indexing-view-versus-copy\n",
        "-c:41: SettingWithCopyWarning: \n",
        "A value is trying to be set on a copy of a slice from a DataFrame.\n",
        "Try using .loc[row_indexer,col_indexer] = value instead\n",
        "\n",
        "See the the caveats in the documentation: http://pandas.pydata.org/pandas-docs/stable/indexing.html#indexing-view-versus-copy\n"
       ]
      },
      {
       "output_type": "stream",
       "stream": "stderr",
       "text": [
        "-c:42: SettingWithCopyWarning: \n",
        "A value is trying to be set on a copy of a slice from a DataFrame.\n",
        "Try using .loc[row_indexer,col_indexer] = value instead\n",
        "\n",
        "See the the caveats in the documentation: http://pandas.pydata.org/pandas-docs/stable/indexing.html#indexing-view-versus-copy\n",
        "-c:43: SettingWithCopyWarning: \n",
        "A value is trying to be set on a copy of a slice from a DataFrame.\n",
        "Try using .loc[row_indexer,col_indexer] = value instead\n",
        "\n",
        "See the the caveats in the documentation: http://pandas.pydata.org/pandas-docs/stable/indexing.html#indexing-view-versus-copy\n"
       ]
      },
      {
       "output_type": "stream",
       "stream": "stderr",
       "text": [
        "-c:44: SettingWithCopyWarning: \n",
        "A value is trying to be set on a copy of a slice from a DataFrame.\n",
        "Try using .loc[row_indexer,col_indexer] = value instead\n",
        "\n",
        "See the the caveats in the documentation: http://pandas.pydata.org/pandas-docs/stable/indexing.html#indexing-view-versus-copy\n",
        "-c:47: SettingWithCopyWarning: \n",
        "A value is trying to be set on a copy of a slice from a DataFrame.\n",
        "Try using .loc[row_indexer,col_indexer] = value instead\n",
        "\n",
        "See the the caveats in the documentation: http://pandas.pydata.org/pandas-docs/stable/indexing.html#indexing-view-versus-copy\n"
       ]
      },
      {
       "output_type": "stream",
       "stream": "stderr",
       "text": [
        "-c:50: SettingWithCopyWarning: \n",
        "A value is trying to be set on a copy of a slice from a DataFrame.\n",
        "Try using .loc[row_indexer,col_indexer] = value instead\n",
        "\n",
        "See the the caveats in the documentation: http://pandas.pydata.org/pandas-docs/stable/indexing.html#indexing-view-versus-copy\n",
        "-c:52: SettingWithCopyWarning: \n",
        "A value is trying to be set on a copy of a slice from a DataFrame.\n",
        "Try using .loc[row_indexer,col_indexer] = value instead\n",
        "\n",
        "See the the caveats in the documentation: http://pandas.pydata.org/pandas-docs/stable/indexing.html#indexing-view-versus-copy\n"
       ]
      },
      {
       "output_type": "stream",
       "stream": "stderr",
       "text": [
        "-c:53: SettingWithCopyWarning: \n",
        "A value is trying to be set on a copy of a slice from a DataFrame.\n",
        "Try using .loc[row_indexer,col_indexer] = value instead\n",
        "\n",
        "See the the caveats in the documentation: http://pandas.pydata.org/pandas-docs/stable/indexing.html#indexing-view-versus-copy\n",
        "-c:55: SettingWithCopyWarning: \n",
        "A value is trying to be set on a copy of a slice from a DataFrame.\n",
        "Try using .loc[row_indexer,col_indexer] = value instead\n",
        "\n",
        "See the the caveats in the documentation: http://pandas.pydata.org/pandas-docs/stable/indexing.html#indexing-view-versus-copy\n"
       ]
      },
      {
       "output_type": "stream",
       "stream": "stderr",
       "text": [
        "-c:57: SettingWithCopyWarning: \n",
        "A value is trying to be set on a copy of a slice from a DataFrame.\n",
        "Try using .loc[row_indexer,col_indexer] = value instead\n",
        "\n",
        "See the the caveats in the documentation: http://pandas.pydata.org/pandas-docs/stable/indexing.html#indexing-view-versus-copy\n",
        "-c:59: SettingWithCopyWarning: \n",
        "A value is trying to be set on a copy of a slice from a DataFrame.\n",
        "Try using .loc[row_indexer,col_indexer] = value instead\n",
        "\n",
        "See the the caveats in the documentation: http://pandas.pydata.org/pandas-docs/stable/indexing.html#indexing-view-versus-copy\n"
       ]
      },
      {
       "output_type": "stream",
       "stream": "stderr",
       "text": [
        "-c:64: SettingWithCopyWarning: \n",
        "A value is trying to be set on a copy of a slice from a DataFrame.\n",
        "Try using .loc[row_indexer,col_indexer] = value instead\n",
        "\n",
        "See the the caveats in the documentation: http://pandas.pydata.org/pandas-docs/stable/indexing.html#indexing-view-versus-copy\n",
        "-c:67: SettingWithCopyWarning: \n",
        "A value is trying to be set on a copy of a slice from a DataFrame.\n",
        "Try using .loc[row_indexer,col_indexer] = value instead\n",
        "\n",
        "See the the caveats in the documentation: http://pandas.pydata.org/pandas-docs/stable/indexing.html#indexing-view-versus-copy\n"
       ]
      }
     ],
     "prompt_number": 10
    },
    {
     "cell_type": "code",
     "collapsed": false,
     "input": [
      "# Correlation Plot\n",
      "sns.set_context(rc={\"figure.figsize\": (30,30)})  # set size\n",
      "sns.corrplot(sampled_train_df, sig_stars=True, cbar=True, method='kendall')  # pearson, kendall, spearman"
     ],
     "language": "python",
     "metadata": {},
     "outputs": [
      {
       "metadata": {},
       "output_type": "pyout",
       "prompt_number": 11,
       "text": [
        "<matplotlib.axes._subplots.AxesSubplot at 0x16351fa10>"
       ]
      },
      {
       "metadata": {},
       "output_type": "display_data",
       "png": "[encoded data removed]",
       "text": [
        "<matplotlib.figure.Figure at 0x16351f2d0>"
       ]
      }
     ],
     "prompt_number": 11
    },
    {
     "cell_type": "code",
     "collapsed": false,
     "input": [
      "#sampled_train_df.columns"
     ],
     "language": "python",
     "metadata": {},
     "outputs": [],
     "prompt_number": 12
    },
    {
     "cell_type": "code",
     "collapsed": false,
     "input": [
      "# List of features\n",
      "all_features = train_data.columns.values  # These are all the columns/features"
     ],
     "language": "python",
     "metadata": {},
     "outputs": [],
     "prompt_number": 12
    },
    {
     "cell_type": "code",
     "collapsed": false,
     "input": [
      "def filter_features(df, training):\n",
      "    \"\"\" If train, then remove columns/features click, click_yes, click_no from the df \"\"\"\n",
      "    if training==1:\n",
      "        return df.drop(['click', 'click_yes', 'click_no'], axis=1)\n",
      "    else:\n",
      "        return df[['click']]"
     ],
     "language": "python",
     "metadata": {},
     "outputs": [],
     "prompt_number": 14
    },
    {
     "cell_type": "code",
     "collapsed": false,
     "input": [
      "# Crashing here\n",
      "#X_data = filter_features(train_data, 1)\n",
      "#X_target = filter_features(train_data, 0)"
     ],
     "language": "python",
     "metadata": {},
     "outputs": [],
     "prompt_number": 15
    },
    {
     "cell_type": "code",
     "collapsed": false,
     "input": [
      "train_data.head()"
     ],
     "language": "python",
     "metadata": {},
     "outputs": [
      {
       "html": [
        "<div style=\"max-height:1000px;max-width:1500px;overflow:auto;\">\n",
        "<table border=\"1\" class=\"dataframe\">\n",
        "  <thead>\n",
        "    <tr style=\"text-align: right;\">\n",
        "      <th></th>\n",
        "      <th>id</th>\n",
        "      <th>click</th>\n",
        "      <th>hour</th>\n",
        "      <th>C1</th>\n",
        "      <th>banner_pos</th>\n",
        "      <th>site_id</th>\n",
        "      <th>site_domain</th>\n",
        "      <th>site_category</th>\n",
        "      <th>app_id</th>\n",
        "      <th>app_domain</th>\n",
        "      <th>...</th>\n",
        "      <th>C19_bad</th>\n",
        "      <th>C19_normal</th>\n",
        "      <th>C19_great</th>\n",
        "      <th>C20_neg1</th>\n",
        "      <th>C20_good</th>\n",
        "      <th>C20_bad</th>\n",
        "      <th>C21_bad</th>\n",
        "      <th>C21_good</th>\n",
        "      <th>site_category_num</th>\n",
        "      <th>app_category_num</th>\n",
        "    </tr>\n",
        "  </thead>\n",
        "  <tbody>\n",
        "    <tr>\n",
        "      <th>0</th>\n",
        "      <td> 1000009418151094273</td>\n",
        "      <td> 0</td>\n",
        "      <td> 14102100</td>\n",
        "      <td> 1005</td>\n",
        "      <td> 0</td>\n",
        "      <td> 1fbe01fe</td>\n",
        "      <td> f3845767</td>\n",
        "      <td> 28905ebd</td>\n",
        "      <td> ecad2386</td>\n",
        "      <td> 7801e8d9</td>\n",
        "      <td>...</td>\n",
        "      <td> 0</td>\n",
        "      <td> 1</td>\n",
        "      <td> 0</td>\n",
        "      <td> 1</td>\n",
        "      <td> 0</td>\n",
        "      <td> 0</td>\n",
        "      <td> 0</td>\n",
        "      <td> 1</td>\n",
        "      <td> 2</td>\n",
        "      <td> 0</td>\n",
        "    </tr>\n",
        "    <tr>\n",
        "      <th>1</th>\n",
        "      <td> 10000169349117863715</td>\n",
        "      <td> 0</td>\n",
        "      <td> 14102100</td>\n",
        "      <td> 1005</td>\n",
        "      <td> 0</td>\n",
        "      <td> 1fbe01fe</td>\n",
        "      <td> f3845767</td>\n",
        "      <td> 28905ebd</td>\n",
        "      <td> ecad2386</td>\n",
        "      <td> 7801e8d9</td>\n",
        "      <td>...</td>\n",
        "      <td> 0</td>\n",
        "      <td> 1</td>\n",
        "      <td> 0</td>\n",
        "      <td> 0</td>\n",
        "      <td> 1</td>\n",
        "      <td> 0</td>\n",
        "      <td> 0</td>\n",
        "      <td> 1</td>\n",
        "      <td> 2</td>\n",
        "      <td> 0</td>\n",
        "    </tr>\n",
        "    <tr>\n",
        "      <th>2</th>\n",
        "      <td> 10000371904215119486</td>\n",
        "      <td> 0</td>\n",
        "      <td> 14102100</td>\n",
        "      <td> 1005</td>\n",
        "      <td> 0</td>\n",
        "      <td> 1fbe01fe</td>\n",
        "      <td> f3845767</td>\n",
        "      <td> 28905ebd</td>\n",
        "      <td> ecad2386</td>\n",
        "      <td> 7801e8d9</td>\n",
        "      <td>...</td>\n",
        "      <td> 0</td>\n",
        "      <td> 1</td>\n",
        "      <td> 0</td>\n",
        "      <td> 0</td>\n",
        "      <td> 1</td>\n",
        "      <td> 0</td>\n",
        "      <td> 0</td>\n",
        "      <td> 1</td>\n",
        "      <td> 2</td>\n",
        "      <td> 0</td>\n",
        "    </tr>\n",
        "    <tr>\n",
        "      <th>3</th>\n",
        "      <td> 10000640724480838376</td>\n",
        "      <td> 0</td>\n",
        "      <td> 14102100</td>\n",
        "      <td> 1005</td>\n",
        "      <td> 0</td>\n",
        "      <td> 1fbe01fe</td>\n",
        "      <td> f3845767</td>\n",
        "      <td> 28905ebd</td>\n",
        "      <td> ecad2386</td>\n",
        "      <td> 7801e8d9</td>\n",
        "      <td>...</td>\n",
        "      <td> 0</td>\n",
        "      <td> 1</td>\n",
        "      <td> 0</td>\n",
        "      <td> 0</td>\n",
        "      <td> 1</td>\n",
        "      <td> 0</td>\n",
        "      <td> 0</td>\n",
        "      <td> 1</td>\n",
        "      <td> 2</td>\n",
        "      <td> 0</td>\n",
        "    </tr>\n",
        "    <tr>\n",
        "      <th>4</th>\n",
        "      <td> 10000679056417042096</td>\n",
        "      <td> 0</td>\n",
        "      <td> 14102100</td>\n",
        "      <td> 1005</td>\n",
        "      <td> 1</td>\n",
        "      <td> fe8cc448</td>\n",
        "      <td> 9166c161</td>\n",
        "      <td> 0569f928</td>\n",
        "      <td> ecad2386</td>\n",
        "      <td> 7801e8d9</td>\n",
        "      <td>...</td>\n",
        "      <td> 0</td>\n",
        "      <td> 1</td>\n",
        "      <td> 0</td>\n",
        "      <td> 1</td>\n",
        "      <td> 0</td>\n",
        "      <td> 0</td>\n",
        "      <td> 0</td>\n",
        "      <td> 1</td>\n",
        "      <td> 0</td>\n",
        "      <td> 0</td>\n",
        "    </tr>\n",
        "  </tbody>\n",
        "</table>\n",
        "<p>5 rows \u00d7 61 columns</p>\n",
        "</div>"
       ],
       "metadata": {},
       "output_type": "pyout",
       "prompt_number": 17,
       "text": [
        "                     id  click      hour    C1  banner_pos   site_id site_domain site_category    app_id app_domain        ...        C19_bad C19_normal C19_great C20_neg1  C20_good  C20_bad  C21_bad  C21_good  site_category_num  app_category_num\n",
        "0  1000009418151094273   0      14102100  1005  0           1fbe01fe  f3845767    28905ebd      ecad2386  7801e8d9         ...         0       1          0         1        0         0        0        1         2                  0               \n",
        "1  10000169349117863715  0      14102100  1005  0           1fbe01fe  f3845767    28905ebd      ecad2386  7801e8d9         ...         0       1          0         0        1         0        0        1         2                  0               \n",
        "2  10000371904215119486  0      14102100  1005  0           1fbe01fe  f3845767    28905ebd      ecad2386  7801e8d9         ...         0       1          0         0        1         0        0        1         2                  0               \n",
        "3  10000640724480838376  0      14102100  1005  0           1fbe01fe  f3845767    28905ebd      ecad2386  7801e8d9         ...         0       1          0         0        1         0        0        1         2                  0               \n",
        "4  10000679056417042096  0      14102100  1005  1           fe8cc448  9166c161    0569f928      ecad2386  7801e8d9         ...         0       1          0         1        0         0        0        1         0                  0               \n",
        "\n",
        "[5 rows x 61 columns]"
       ]
      }
     ],
     "prompt_number": 17
    },
    {
     "cell_type": "code",
     "collapsed": false,
     "input": [
      "X_train, X_test, y_train, y_test = train_test_split(\n",
      "        train_data[['time_day', 'time_hour', 'device_type_good', 'device_conn_type_good',\n",
      "'banner_pos_great', 'C1_good', 'C14_good', 'C16_great', 'C17_good', 'C18_great', 'C19_great', \n",
      "'C20_neg1', 'C20_good', 'C21_good', 'site_category_num', 'app_category_num']], train_data[['click']], train_size=.8)\n",
      "print \"X train shape is: \", X_train.shape, \"  \", \"X test shape is: \", X_test.shape\n",
      "print \"y train shape is: \", y_train.shape, \"  \", \"y test shape is: \", y_test.shape"
     ],
     "language": "python",
     "metadata": {},
     "outputs": [
      {
       "output_type": "stream",
       "stream": "stdout",
       "text": [
        "X train shape is:  (32343173, 16)    X test shape is:  (8085794, 16)\n",
        "y train shape is:  (32343173, 1)    y test shape is:  (8085794, 1)\n"
       ]
      }
     ],
     "prompt_number": 13
    },
    {
     "cell_type": "code",
     "collapsed": false,
     "input": [
      "# Feature Hasher if memory is low\n",
      "#fh = FeatureHasher(n_features=2 ** 18, input_type='pair')\n",
      "\n",
      "# OneHotEncoder if lots of memory\n",
      "# all_classes = np.array([0, 1])  # for partial_fit\n",
      "enc = OneHotEncoder()\n",
      "#enc.fit(X_train)\n",
      "X_cat_train = enc.fit_transform(X_train)"
     ],
     "language": "python",
     "metadata": {},
     "outputs": [],
     "prompt_number": 23
    },
    {
     "cell_type": "code",
     "collapsed": false,
     "input": [
      "print type(X_cat_train)\n",
      "X_cat_train"
     ],
     "language": "python",
     "metadata": {},
     "outputs": [
      {
       "output_type": "stream",
       "stream": "stdout",
       "text": [
        "<class 'scipy.sparse.csr.csr_matrix'>\n"
       ]
      },
      {
       "metadata": {},
       "output_type": "pyout",
       "prompt_number": 24,
       "text": [
        "<32343173x119 sparse matrix of type '<type 'numpy.float64'>'\n",
        "\twith 517490768 stored elements in Compressed Sparse Row format>"
       ]
      }
     ],
     "prompt_number": 24
    },
    {
     "cell_type": "code",
     "collapsed": false,
     "input": [
      "#clf = LogisticRegression(C=.01)\n",
      "clf = SGDClassifier(alpha=0.003, loss='log', penalty='l2', n_iter=35, #n_iter=100,\n",
      "            shuffle=True, n_jobs=-1, verbose=True)"
     ],
     "language": "python",
     "metadata": {},
     "outputs": [],
     "prompt_number": 25
    },
    {
     "cell_type": "code",
     "collapsed": false,
     "input": [
      "clf.fit(X_cat_train, y_train)\n",
      "#clf.fit(X_train, y_train)"
     ],
     "language": "python",
     "metadata": {},
     "outputs": [
      {
       "output_type": "stream",
       "stream": "stdout",
       "text": [
        "-- Epoch 1\n",
        "Norm: 1.16, NNZs: 119, Bias: -0.042103, T: 32343173, Avg. loss: 0.430215"
       ]
      },
      {
       "output_type": "stream",
       "stream": "stdout",
       "text": [
        "\n",
        "Total training time: 17.47 seconds.\n",
        "-- Epoch 2\n",
        "Norm: 1.16, NNZs: 119, Bias: -0.043328, T: 64686346, Avg. loss: 0.430162"
       ]
      },
      {
       "output_type": "stream",
       "stream": "stdout",
       "text": [
        "\n",
        "Total training time: 33.27 seconds.\n",
        "-- Epoch 3\n",
        "Norm: 1.16, NNZs: 119, Bias: -0.044038, T: 97029519, Avg. loss: 0.430146"
       ]
      },
      {
       "output_type": "stream",
       "stream": "stdout",
       "text": [
        "\n",
        "Total training time: 49.09 seconds.\n",
        "-- Epoch 4\n",
        "Norm: 1.16, NNZs: 119, Bias: -0.044547, T: 129372692, Avg. loss: 0.430137"
       ]
      },
      {
       "output_type": "stream",
       "stream": "stdout",
       "text": [
        "\n",
        "Total training time: 64.47 seconds.\n",
        "-- Epoch 5\n",
        "Norm: 1.16, NNZs: 119, Bias: -0.044946, T: 161715865, Avg. loss: 0.430132"
       ]
      },
      {
       "output_type": "stream",
       "stream": "stdout",
       "text": [
        "\n",
        "Total training time: 80.30 seconds.\n",
        "-- Epoch 6\n",
        "Norm: 1.16, NNZs: 119, Bias: -0.045263, T: 194059038, Avg. loss: 0.430128"
       ]
      },
      {
       "output_type": "stream",
       "stream": "stdout",
       "text": [
        "\n",
        "Total training time: 95.79 seconds.\n",
        "-- Epoch 7\n",
        "Norm: 1.16, NNZs: 119, Bias: -0.045533, T: 226402211, Avg. loss: 0.430126"
       ]
      },
      {
       "output_type": "stream",
       "stream": "stdout",
       "text": [
        "\n",
        "Total training time: 111.66 seconds.\n",
        "-- Epoch 8\n",
        "Norm: 1.16, NNZs: 119, Bias: -0.045766, T: 258745384, Avg. loss: 0.430124"
       ]
      },
      {
       "output_type": "stream",
       "stream": "stdout",
       "text": [
        "\n",
        "Total training time: 127.47 seconds.\n",
        "-- Epoch 9\n",
        "Norm: 1.16, NNZs: 119, Bias: -0.045974, T: 291088557, Avg. loss: 0.430122"
       ]
      },
      {
       "output_type": "stream",
       "stream": "stdout",
       "text": [
        "\n",
        "Total training time: 143.14 seconds.\n",
        "-- Epoch 10\n",
        "Norm: 1.16, NNZs: 119, Bias: -0.046163, T: 323431730, Avg. loss: 0.430121"
       ]
      },
      {
       "output_type": "stream",
       "stream": "stdout",
       "text": [
        "\n",
        "Total training time: 159.17 seconds.\n",
        "-- Epoch 11\n",
        "Norm: 1.16, NNZs: 119, Bias: -0.046330, T: 355774903, Avg. loss: 0.430120"
       ]
      },
      {
       "output_type": "stream",
       "stream": "stdout",
       "text": [
        "\n",
        "Total training time: 175.48 seconds.\n",
        "-- Epoch 12\n",
        "Norm: 1.16, NNZs: 119, Bias: -0.046487, T: 388118076, Avg. loss: 0.430119"
       ]
      },
      {
       "output_type": "stream",
       "stream": "stdout",
       "text": [
        "\n",
        "Total training time: 191.84 seconds.\n",
        "-- Epoch 13\n",
        "Norm: 1.16, NNZs: 119, Bias: -0.046625, T: 420461249, Avg. loss: 0.430118"
       ]
      },
      {
       "output_type": "stream",
       "stream": "stdout",
       "text": [
        "\n",
        "Total training time: 208.77 seconds.\n",
        "-- Epoch 14\n",
        "Norm: 1.16, NNZs: 119, Bias: -0.046751, T: 452804422, Avg. loss: 0.430118"
       ]
      },
      {
       "output_type": "stream",
       "stream": "stdout",
       "text": [
        "\n",
        "Total training time: 225.02 seconds.\n",
        "-- Epoch 15\n",
        "Norm: 1.16, NNZs: 119, Bias: -0.046881, T: 485147595, Avg. loss: 0.430117"
       ]
      },
      {
       "output_type": "stream",
       "stream": "stdout",
       "text": [
        "\n",
        "Total training time: 242.06 seconds.\n",
        "-- Epoch 16\n",
        "Norm: 1.16, NNZs: 119, Bias: -0.046990, T: 517490768, Avg. loss: 0.430117"
       ]
      },
      {
       "output_type": "stream",
       "stream": "stdout",
       "text": [
        "\n",
        "Total training time: 257.47 seconds.\n",
        "-- Epoch 17\n",
        "Norm: 1.16, NNZs: 119, Bias: -0.047099, T: 549833941, Avg. loss: 0.430116"
       ]
      },
      {
       "output_type": "stream",
       "stream": "stdout",
       "text": [
        "\n",
        "Total training time: 272.24 seconds.\n",
        "-- Epoch 18\n",
        "Norm: 1.16, NNZs: 119, Bias: -0.047195, T: 582177114, Avg. loss: 0.430116"
       ]
      },
      {
       "output_type": "stream",
       "stream": "stdout",
       "text": [
        "\n",
        "Total training time: 286.80 seconds.\n",
        "-- Epoch 19\n",
        "Norm: 1.16, NNZs: 119, Bias: -0.047292, T: 614520287, Avg. loss: 0.430115"
       ]
      },
      {
       "output_type": "stream",
       "stream": "stdout",
       "text": [
        "\n",
        "Total training time: 301.49 seconds.\n",
        "-- Epoch 20\n",
        "Norm: 1.16, NNZs: 119, Bias: -0.047382, T: 646863460, Avg. loss: 0.430115"
       ]
      },
      {
       "output_type": "stream",
       "stream": "stdout",
       "text": [
        "\n",
        "Total training time: 316.25 seconds.\n",
        "-- Epoch 21\n",
        "Norm: 1.16, NNZs: 119, Bias: -0.047468, T: 679206633, Avg. loss: 0.430115"
       ]
      },
      {
       "output_type": "stream",
       "stream": "stdout",
       "text": [
        "\n",
        "Total training time: 330.92 seconds.\n",
        "-- Epoch 22\n",
        "Norm: 1.16, NNZs: 119, Bias: -0.047549, T: 711549806, Avg. loss: 0.430115"
       ]
      },
      {
       "output_type": "stream",
       "stream": "stdout",
       "text": [
        "\n",
        "Total training time: 345.51 seconds.\n",
        "-- Epoch 23\n",
        "Norm: 1.16, NNZs: 119, Bias: -0.047630, T: 743892979, Avg. loss: 0.430114"
       ]
      },
      {
       "output_type": "stream",
       "stream": "stdout",
       "text": [
        "\n",
        "Total training time: 360.35 seconds.\n",
        "-- Epoch 24\n",
        "Norm: 1.16, NNZs: 119, Bias: -0.047704, T: 776236152, Avg. loss: 0.430114"
       ]
      },
      {
       "output_type": "stream",
       "stream": "stdout",
       "text": [
        "\n",
        "Total training time: 376.63 seconds.\n",
        "-- Epoch 25\n",
        "Norm: 1.16, NNZs: 119, Bias: -0.047773, T: 808579325, Avg. loss: 0.430114"
       ]
      },
      {
       "output_type": "stream",
       "stream": "stdout",
       "text": [
        "\n",
        "Total training time: 394.08 seconds.\n",
        "-- Epoch 26\n",
        "Norm: 1.16, NNZs: 119, Bias: -0.047844, T: 840922498, Avg. loss: 0.430114"
       ]
      },
      {
       "output_type": "stream",
       "stream": "stdout",
       "text": [
        "\n",
        "Total training time: 411.45 seconds.\n",
        "-- Epoch 27\n",
        "Norm: 1.16, NNZs: 119, Bias: -0.047911, T: 873265671, Avg. loss: 0.430114"
       ]
      },
      {
       "output_type": "stream",
       "stream": "stdout",
       "text": [
        "\n",
        "Total training time: 428.79 seconds.\n",
        "-- Epoch 28\n",
        "Norm: 1.16, NNZs: 119, Bias: -0.047975, T: 905608844, Avg. loss: 0.430113"
       ]
      },
      {
       "output_type": "stream",
       "stream": "stdout",
       "text": [
        "\n",
        "Total training time: 446.14 seconds.\n",
        "-- Epoch 29\n",
        "Norm: 1.16, NNZs: 119, Bias: -0.048037, T: 937952017, Avg. loss: 0.430113"
       ]
      },
      {
       "output_type": "stream",
       "stream": "stdout",
       "text": [
        "\n",
        "Total training time: 463.41 seconds.\n",
        "-- Epoch 30\n",
        "Norm: 1.16, NNZs: 119, Bias: -0.048095, T: 970295190, Avg. loss: 0.430113"
       ]
      },
      {
       "output_type": "stream",
       "stream": "stdout",
       "text": [
        "\n",
        "Total training time: 480.83 seconds.\n",
        "-- Epoch 31\n",
        "Norm: 1.16, NNZs: 119, Bias: -0.048151, T: 1002638363, Avg. loss: 0.430113"
       ]
      },
      {
       "output_type": "stream",
       "stream": "stdout",
       "text": [
        "\n",
        "Total training time: 498.31 seconds.\n",
        "-- Epoch 32\n",
        "Norm: 1.16, NNZs: 119, Bias: -0.048208, T: 1034981536, Avg. loss: 0.430113"
       ]
      },
      {
       "output_type": "stream",
       "stream": "stdout",
       "text": [
        "\n",
        "Total training time: 515.54 seconds.\n",
        "-- Epoch 33\n",
        "Norm: 1.16, NNZs: 119, Bias: -0.048262, T: 1067324709, Avg. loss: 0.430113"
       ]
      },
      {
       "output_type": "stream",
       "stream": "stdout",
       "text": [
        "\n",
        "Total training time: 532.78 seconds.\n",
        "-- Epoch 34\n",
        "Norm: 1.16, NNZs: 119, Bias: -0.048314, T: 1099667882, Avg. loss: 0.430113"
       ]
      },
      {
       "output_type": "stream",
       "stream": "stdout",
       "text": [
        "\n",
        "Total training time: 550.06 seconds.\n",
        "-- Epoch 35\n",
        "Norm: 1.16, NNZs: 119, Bias: -0.048366, T: 1132011055, Avg. loss: 0.430113"
       ]
      },
      {
       "output_type": "stream",
       "stream": "stdout",
       "text": [
        "\n",
        "Total training time: 567.29 seconds.\n"
       ]
      },
      {
       "output_type": "stream",
       "stream": "stderr",
       "text": [
        "/Users/williamliu/envs/data/lib/python2.7/site-packages/sklearn/utils/validation.py:341: DataConversionWarning: A column-vector y was passed when a 1d array was expected. Please change the shape of y to (n_samples, ), for example using ravel().\n",
        "  y = column_or_1d(y, warn=True)\n"
       ]
      },
      {
       "metadata": {},
       "output_type": "pyout",
       "prompt_number": 26,
       "text": [
        "SGDClassifier(alpha=0.003, average=False, class_weight=None, epsilon=0.1,\n",
        "       eta0=0.0, fit_intercept=True, l1_ratio=0.15,\n",
        "       learning_rate='optimal', loss='log', n_iter=35, n_jobs=-1,\n",
        "       penalty='l2', power_t=0.5, random_state=None, shuffle=True,\n",
        "       verbose=True, warm_start=False)"
       ]
      }
     ],
     "prompt_number": 26
    },
    {
     "cell_type": "code",
     "collapsed": false,
     "input": [
      "X_cat_test = enc.fit_transform(X_test)"
     ],
     "language": "python",
     "metadata": {},
     "outputs": [],
     "prompt_number": 33
    },
    {
     "cell_type": "code",
     "collapsed": false,
     "input": [
      "#clf.score(X_test, y_test)\n",
      "clf.score(X_cat_test, y_test)"
     ],
     "language": "python",
     "metadata": {},
     "outputs": [
      {
       "ename": "ValueError",
       "evalue": "X has 114 features per sample; expecting 119",
       "output_type": "pyerr",
       "traceback": [
        "\u001b[0;31m---------------------------------------------------------------------------\u001b[0m\n\u001b[0;31mValueError\u001b[0m                                Traceback (most recent call last)",
        "\u001b[0;32m<ipython-input-34-a637b87395d2>\u001b[0m in \u001b[0;36m<module>\u001b[0;34m()\u001b[0m\n\u001b[1;32m      1\u001b[0m \u001b[0;31m#clf.score(X_test, y_test)\u001b[0m\u001b[0;34m\u001b[0m\u001b[0;34m\u001b[0m\u001b[0m\n\u001b[0;32m----> 2\u001b[0;31m \u001b[0mclf\u001b[0m\u001b[0;34m.\u001b[0m\u001b[0mscore\u001b[0m\u001b[0;34m(\u001b[0m\u001b[0mX_cat_test\u001b[0m\u001b[0;34m,\u001b[0m \u001b[0my_test\u001b[0m\u001b[0;34m)\u001b[0m\u001b[0;34m\u001b[0m\u001b[0m\n\u001b[0m",
        "\u001b[0;32m/Users/williamliu/envs/data/lib/python2.7/site-packages/sklearn/base.pyc\u001b[0m in \u001b[0;36mscore\u001b[0;34m(self, X, y, sample_weight)\u001b[0m\n\u001b[1;32m    293\u001b[0m         \"\"\"\n\u001b[1;32m    294\u001b[0m         \u001b[0;32mfrom\u001b[0m \u001b[0;34m.\u001b[0m\u001b[0mmetrics\u001b[0m \u001b[0;32mimport\u001b[0m \u001b[0maccuracy_score\u001b[0m\u001b[0;34m\u001b[0m\u001b[0m\n\u001b[0;32m--> 295\u001b[0;31m         \u001b[0;32mreturn\u001b[0m \u001b[0maccuracy_score\u001b[0m\u001b[0;34m(\u001b[0m\u001b[0my\u001b[0m\u001b[0;34m,\u001b[0m \u001b[0mself\u001b[0m\u001b[0;34m.\u001b[0m\u001b[0mpredict\u001b[0m\u001b[0;34m(\u001b[0m\u001b[0mX\u001b[0m\u001b[0;34m)\u001b[0m\u001b[0;34m,\u001b[0m \u001b[0msample_weight\u001b[0m\u001b[0;34m=\u001b[0m\u001b[0msample_weight\u001b[0m\u001b[0;34m)\u001b[0m\u001b[0;34m\u001b[0m\u001b[0m\n\u001b[0m\u001b[1;32m    296\u001b[0m \u001b[0;34m\u001b[0m\u001b[0m\n\u001b[1;32m    297\u001b[0m \u001b[0;34m\u001b[0m\u001b[0m\n",
        "\u001b[0;32m/Users/williamliu/envs/data/lib/python2.7/site-packages/sklearn/linear_model/base.pyc\u001b[0m in \u001b[0;36mpredict\u001b[0;34m(self, X)\u001b[0m\n\u001b[1;32m    221\u001b[0m             \u001b[0mPredicted\u001b[0m \u001b[0;32mclass\u001b[0m \u001b[0mlabel\u001b[0m \u001b[0mper\u001b[0m \u001b[0msample\u001b[0m\u001b[0;34m.\u001b[0m\u001b[0;34m\u001b[0m\u001b[0m\n\u001b[1;32m    222\u001b[0m         \"\"\"\n\u001b[0;32m--> 223\u001b[0;31m         \u001b[0mscores\u001b[0m \u001b[0;34m=\u001b[0m \u001b[0mself\u001b[0m\u001b[0;34m.\u001b[0m\u001b[0mdecision_function\u001b[0m\u001b[0;34m(\u001b[0m\u001b[0mX\u001b[0m\u001b[0;34m)\u001b[0m\u001b[0;34m\u001b[0m\u001b[0m\n\u001b[0m\u001b[1;32m    224\u001b[0m         \u001b[0;32mif\u001b[0m \u001b[0mlen\u001b[0m\u001b[0;34m(\u001b[0m\u001b[0mscores\u001b[0m\u001b[0;34m.\u001b[0m\u001b[0mshape\u001b[0m\u001b[0;34m)\u001b[0m \u001b[0;34m==\u001b[0m \u001b[0;36m1\u001b[0m\u001b[0;34m:\u001b[0m\u001b[0;34m\u001b[0m\u001b[0m\n\u001b[1;32m    225\u001b[0m             \u001b[0mindices\u001b[0m \u001b[0;34m=\u001b[0m \u001b[0;34m(\u001b[0m\u001b[0mscores\u001b[0m \u001b[0;34m>\u001b[0m \u001b[0;36m0\u001b[0m\u001b[0;34m)\u001b[0m\u001b[0;34m.\u001b[0m\u001b[0mastype\u001b[0m\u001b[0;34m(\u001b[0m\u001b[0mnp\u001b[0m\u001b[0;34m.\u001b[0m\u001b[0mint\u001b[0m\u001b[0;34m)\u001b[0m\u001b[0;34m\u001b[0m\u001b[0m\n",
        "\u001b[0;32m/Users/williamliu/envs/data/lib/python2.7/site-packages/sklearn/linear_model/base.pyc\u001b[0m in \u001b[0;36mdecision_function\u001b[0;34m(self, X)\u001b[0m\n\u001b[1;32m    202\u001b[0m         \u001b[0;32mif\u001b[0m \u001b[0mX\u001b[0m\u001b[0;34m.\u001b[0m\u001b[0mshape\u001b[0m\u001b[0;34m[\u001b[0m\u001b[0;36m1\u001b[0m\u001b[0;34m]\u001b[0m \u001b[0;34m!=\u001b[0m \u001b[0mn_features\u001b[0m\u001b[0;34m:\u001b[0m\u001b[0;34m\u001b[0m\u001b[0m\n\u001b[1;32m    203\u001b[0m             raise ValueError(\"X has %d features per sample; expecting %d\"\n\u001b[0;32m--> 204\u001b[0;31m                              % (X.shape[1], n_features))\n\u001b[0m\u001b[1;32m    205\u001b[0m \u001b[0;34m\u001b[0m\u001b[0m\n\u001b[1;32m    206\u001b[0m         scores = safe_sparse_dot(X, self.coef_.T,\n",
        "\u001b[0;31mValueError\u001b[0m: X has 114 features per sample; expecting 119"
       ]
      }
     ],
     "prompt_number": 34
    },
    {
     "cell_type": "code",
     "collapsed": false,
     "input": [
      "test_clean = test_data[['time_day', 'time_hour', 'device_type_good', 'device_conn_type_good',\n",
      "'banner_pos_great', 'C1_good', 'C14_good', 'C16_great', 'C17_good', 'C18_great', 'C19_great', \n",
      "'C20_neg1', 'C20_good', 'C21_good', 'site_category_num', 'app_category_num']]"
     ],
     "language": "python",
     "metadata": {},
     "outputs": [],
     "prompt_number": 46
    },
    {
     "cell_type": "code",
     "collapsed": false,
     "input": [
      "cat_test_clean = enc.fit_transform(test_clean)"
     ],
     "language": "python",
     "metadata": {},
     "outputs": [],
     "prompt_number": 47
    },
    {
     "cell_type": "code",
     "collapsed": false,
     "input": [
      "results = clf.predict_proba(cat_test_clean)\n",
      "# Make submission\n",
      "click = [\"%f\" % x[1] for x in results]\n",
      "id = test.id\n",
      "submit = zip(id, click)\n",
      "df_out = pd.DataFrame(data=submit, columns=['id', 'click'])\n",
      "df_out = df_out.set_index('id')\n",
      "df_out.to_csv(r'/Users/williamliu/Desktop/Kaggle_Avazu/will_submission.csv')"
     ],
     "language": "python",
     "metadata": {},
     "outputs": [
      {
       "ename": "ValueError",
       "evalue": "X has 99 features per sample; expecting 119",
       "output_type": "pyerr",
       "traceback": [
        "\u001b[0;31m---------------------------------------------------------------------------\u001b[0m\n\u001b[0;31mValueError\u001b[0m                                Traceback (most recent call last)",
        "\u001b[0;32m<ipython-input-48-0ae93d0d6ee0>\u001b[0m in \u001b[0;36m<module>\u001b[0;34m()\u001b[0m\n\u001b[0;32m----> 1\u001b[0;31m \u001b[0mresults\u001b[0m \u001b[0;34m=\u001b[0m \u001b[0mclf\u001b[0m\u001b[0;34m.\u001b[0m\u001b[0mpredict_proba\u001b[0m\u001b[0;34m(\u001b[0m\u001b[0mcat_test_clean\u001b[0m\u001b[0;34m)\u001b[0m\u001b[0;34m\u001b[0m\u001b[0m\n\u001b[0m\u001b[1;32m      2\u001b[0m \u001b[0;31m# Make submission\u001b[0m\u001b[0;34m\u001b[0m\u001b[0;34m\u001b[0m\u001b[0m\n\u001b[1;32m      3\u001b[0m \u001b[0mclick\u001b[0m \u001b[0;34m=\u001b[0m \u001b[0;34m[\u001b[0m\u001b[0;34m\"%f\"\u001b[0m \u001b[0;34m%\u001b[0m \u001b[0mx\u001b[0m\u001b[0;34m[\u001b[0m\u001b[0;36m1\u001b[0m\u001b[0;34m]\u001b[0m \u001b[0;32mfor\u001b[0m \u001b[0mx\u001b[0m \u001b[0;32min\u001b[0m \u001b[0mresults\u001b[0m\u001b[0;34m]\u001b[0m\u001b[0;34m\u001b[0m\u001b[0m\n\u001b[1;32m      4\u001b[0m \u001b[0mid\u001b[0m \u001b[0;34m=\u001b[0m \u001b[0mtest\u001b[0m\u001b[0;34m.\u001b[0m\u001b[0mid\u001b[0m\u001b[0;34m\u001b[0m\u001b[0m\n\u001b[1;32m      5\u001b[0m \u001b[0msubmit\u001b[0m \u001b[0;34m=\u001b[0m \u001b[0mzip\u001b[0m\u001b[0;34m(\u001b[0m\u001b[0mid\u001b[0m\u001b[0;34m,\u001b[0m \u001b[0mclick\u001b[0m\u001b[0;34m)\u001b[0m\u001b[0;34m\u001b[0m\u001b[0m\n",
        "\u001b[0;32m/Users/williamliu/envs/data/lib/python2.7/site-packages/sklearn/linear_model/stochastic_gradient.pyc\u001b[0m in \u001b[0;36m_predict_proba\u001b[0;34m(self, X)\u001b[0m\n\u001b[1;32m    774\u001b[0m     \u001b[0;32mdef\u001b[0m \u001b[0m_predict_proba\u001b[0m\u001b[0;34m(\u001b[0m\u001b[0mself\u001b[0m\u001b[0;34m,\u001b[0m \u001b[0mX\u001b[0m\u001b[0;34m)\u001b[0m\u001b[0;34m:\u001b[0m\u001b[0;34m\u001b[0m\u001b[0m\n\u001b[1;32m    775\u001b[0m         \u001b[0;32mif\u001b[0m \u001b[0mself\u001b[0m\u001b[0;34m.\u001b[0m\u001b[0mloss\u001b[0m \u001b[0;34m==\u001b[0m \u001b[0;34m\"log\"\u001b[0m\u001b[0;34m:\u001b[0m\u001b[0;34m\u001b[0m\u001b[0m\n\u001b[0;32m--> 776\u001b[0;31m             \u001b[0;32mreturn\u001b[0m \u001b[0mself\u001b[0m\u001b[0;34m.\u001b[0m\u001b[0m_predict_proba_lr\u001b[0m\u001b[0;34m(\u001b[0m\u001b[0mX\u001b[0m\u001b[0;34m)\u001b[0m\u001b[0;34m\u001b[0m\u001b[0m\n\u001b[0m\u001b[1;32m    777\u001b[0m \u001b[0;34m\u001b[0m\u001b[0m\n\u001b[1;32m    778\u001b[0m         \u001b[0;32melif\u001b[0m \u001b[0mself\u001b[0m\u001b[0;34m.\u001b[0m\u001b[0mloss\u001b[0m \u001b[0;34m==\u001b[0m \u001b[0;34m\"modified_huber\"\u001b[0m\u001b[0;34m:\u001b[0m\u001b[0;34m\u001b[0m\u001b[0m\n",
        "\u001b[0;32m/Users/williamliu/envs/data/lib/python2.7/site-packages/sklearn/linear_model/base.pyc\u001b[0m in \u001b[0;36m_predict_proba_lr\u001b[0;34m(self, X)\u001b[0m\n\u001b[1;32m    235\u001b[0m         \u001b[0mmulticlass\u001b[0m \u001b[0;32mis\u001b[0m \u001b[0mhandled\u001b[0m \u001b[0mby\u001b[0m \u001b[0mnormalizing\u001b[0m \u001b[0mthat\u001b[0m \u001b[0mover\u001b[0m \u001b[0mall\u001b[0m \u001b[0mclasses\u001b[0m\u001b[0;34m.\u001b[0m\u001b[0;34m\u001b[0m\u001b[0m\n\u001b[1;32m    236\u001b[0m         \"\"\"\n\u001b[0;32m--> 237\u001b[0;31m         \u001b[0mprob\u001b[0m \u001b[0;34m=\u001b[0m \u001b[0mself\u001b[0m\u001b[0;34m.\u001b[0m\u001b[0mdecision_function\u001b[0m\u001b[0;34m(\u001b[0m\u001b[0mX\u001b[0m\u001b[0;34m)\u001b[0m\u001b[0;34m\u001b[0m\u001b[0m\n\u001b[0m\u001b[1;32m    238\u001b[0m         \u001b[0mprob\u001b[0m \u001b[0;34m*=\u001b[0m \u001b[0;34m-\u001b[0m\u001b[0;36m1\u001b[0m\u001b[0;34m\u001b[0m\u001b[0m\n\u001b[1;32m    239\u001b[0m         \u001b[0mnp\u001b[0m\u001b[0;34m.\u001b[0m\u001b[0mexp\u001b[0m\u001b[0;34m(\u001b[0m\u001b[0mprob\u001b[0m\u001b[0;34m,\u001b[0m \u001b[0mprob\u001b[0m\u001b[0;34m)\u001b[0m\u001b[0;34m\u001b[0m\u001b[0m\n",
        "\u001b[0;32m/Users/williamliu/envs/data/lib/python2.7/site-packages/sklearn/linear_model/base.pyc\u001b[0m in \u001b[0;36mdecision_function\u001b[0;34m(self, X)\u001b[0m\n\u001b[1;32m    202\u001b[0m         \u001b[0;32mif\u001b[0m \u001b[0mX\u001b[0m\u001b[0;34m.\u001b[0m\u001b[0mshape\u001b[0m\u001b[0;34m[\u001b[0m\u001b[0;36m1\u001b[0m\u001b[0;34m]\u001b[0m \u001b[0;34m!=\u001b[0m \u001b[0mn_features\u001b[0m\u001b[0;34m:\u001b[0m\u001b[0;34m\u001b[0m\u001b[0m\n\u001b[1;32m    203\u001b[0m             raise ValueError(\"X has %d features per sample; expecting %d\"\n\u001b[0;32m--> 204\u001b[0;31m                              % (X.shape[1], n_features))\n\u001b[0m\u001b[1;32m    205\u001b[0m \u001b[0;34m\u001b[0m\u001b[0m\n\u001b[1;32m    206\u001b[0m         scores = safe_sparse_dot(X, self.coef_.T,\n",
        "\u001b[0;31mValueError\u001b[0m: X has 99 features per sample; expecting 119"
       ]
      }
     ],
     "prompt_number": 48
    },
    {
     "cell_type": "heading",
     "level": 3,
     "metadata": {},
     "source": [
      "Save Classifier"
     ]
    },
    {
     "cell_type": "code",
     "collapsed": false,
     "input": [
      "from joblib import Memory, Parallel, delayed, dump, load"
     ],
     "language": "python",
     "metadata": {},
     "outputs": [],
     "prompt_number": 21
    },
    {
     "cell_type": "code",
     "collapsed": false,
     "input": [
      "print \"Saving Data\"\n",
      "mem = Memory(cachedir='/tmp/joblib/', verbose=0)  # specify temp dir for cache\n",
      "save_me = dump(clf, 'save_me.pk1')  # Dump data"
     ],
     "language": "python",
     "metadata": {},
     "outputs": [
      {
       "output_type": "stream",
       "stream": "stdout",
       "text": [
        "Saving Data\n"
       ]
      }
     ],
     "prompt_number": 22
    },
    {
     "cell_type": "code",
     "collapsed": false,
     "input": [
      "print np.exp(clf.intercept_), np.exp(clf.coef_.ravel())"
     ],
     "language": "python",
     "metadata": {},
     "outputs": [
      {
       "output_type": "stream",
       "stream": "stdout",
       "text": [
        "[ 0.95278524] [ 1.02660492  0.93143033  1.01050704  0.99414155  1.01070231  0.9977413\n",
        "  1.00802979  0.92137423  0.94318229  0.98828511  1.00807174  1.03251736\n",
        "  1.03068388  1.03156602  0.9814013   0.96840588  0.97825569  1.00702658\n",
        "  0.97193219  0.97882184  0.97993598  1.01709763  1.0236119   1.0054089\n",
        "  1.01096452  0.99805405  0.99072234  0.97356303  0.95129727  0.95773977\n",
        "  0.97385669  0.98384199  0.97927305  0.99698618  0.92420009  0.9074105\n",
        "  0.713253    1.17578037  0.77913628  1.07635711  0.91093187  0.92062744\n",
        "  0.81104183  1.03401433  0.63213974  1.32665108  0.93384397  0.89803961\n",
        "  0.71638944  1.17063265  0.75451548  1.11148     0.83312772  1.00660301\n",
        "  0.85445705  0.98147575  0.74518595  1.12539544  0.98529095  0.99999352\n",
        "  1.11926759  0.92798967  1.05469118  1.00164376  1.03851213  0.99967052\n",
        "  0.99999753  0.99608326  0.97774397  0.99999547  0.95383539  0.90339897\n",
        "  0.99333018  0.99975927  0.99999835  0.99271986  0.9994831   0.97886642\n",
        "  0.99996922  0.99995442  1.07334274  0.99946526  1.01595545  0.84701608\n",
        "  1.14446817  1.00231349  0.99973221  1.00001354  0.86725218  1.00135299\n",
        "  0.99994368  0.99852734  0.99990442  1.00087378  0.99998439  1.00042501\n",
        "  0.99991055  0.99999737  0.99975874  0.99999939  0.99117664  0.99982284\n",
        "  0.99999631  0.99603907  0.78917831  1.0018438   0.99728332  1.00012437\n",
        "  1.00022205  0.99999633  0.99999301  0.9999991   0.79409364  0.97063297\n",
        "  1.01052443  0.99999803  0.99999895  1.41514093  0.98191607]\n"
       ]
      }
     ],
     "prompt_number": 29
    },
    {
     "cell_type": "code",
     "collapsed": false,
     "input": [
      "print clf.coef_"
     ],
     "language": "python",
     "metadata": {},
     "outputs": [
      {
       "output_type": "stream",
       "stream": "stdout",
       "text": [
        "[[  2.62571606e-02  -7.10338842e-02   1.04522280e-02  -5.87567462e-03\n",
        "    1.06454480e-02  -2.26125921e-03   7.99772153e-03  -8.18889953e-02\n",
        "   -5.84957111e-02  -1.17840492e-02   8.03933281e-03   3.19998553e-02\n",
        "    3.02225390e-02   3.10780560e-02  -1.87738277e-02  -3.21039818e-02\n",
        "   -2.19842024e-02   7.00200370e-03  -2.84692454e-02  -2.14056343e-02\n",
        "   -2.02680346e-02   1.69531066e-02   2.33374524e-02   5.39432748e-03\n",
        "    1.09048454e-02  -1.94784327e-03  -9.32096216e-03  -2.67927147e-02\n",
        "   -4.99286738e-02  -4.31791744e-02  -2.64911256e-02  -1.62899783e-02\n",
        "   -2.09447701e-02  -3.01836583e-03  -7.88266782e-02  -9.71603373e-02\n",
        "   -3.37919088e-01   1.61932072e-01  -2.49569312e-01   7.35822960e-02\n",
        "   -9.32871700e-02  -8.26998455e-02  -2.09435651e-01   3.34486359e-02\n",
        "   -4.58644798e-01   2.82657782e-01  -6.84459153e-02  -1.07541100e-01\n",
        "   -3.33531343e-01   1.57544327e-01  -2.81679478e-01   1.05692462e-01\n",
        "   -1.82568324e-01   6.58130873e-03  -1.57289045e-01  -1.86979703e-02\n",
        "   -2.94121493e-01   1.18134477e-01  -1.48182984e-02  -6.48368118e-06\n",
        "    1.12674535e-01  -7.47346808e-02   5.32480038e-02   1.64240686e-03\n",
        "    3.77890444e-02  -3.29536923e-04  -2.46520500e-06  -3.92442857e-03\n",
        "   -2.25074337e-02  -4.53187681e-06  -4.72641662e-02  -1.01591001e-01\n",
        "   -6.69215771e-03  -2.40759767e-04  -1.65412873e-06  -7.30676837e-03\n",
        "   -5.17038457e-04  -2.13600943e-02  -3.07826591e-05  -4.55779456e-05\n",
        "    7.07778389e-02  -5.34878322e-04   1.58294953e-02  -1.66035602e-01\n",
        "    1.34940052e-01   2.31082145e-03  -2.67829398e-04   1.35439765e-05\n",
        "   -1.42425485e-01   1.35207831e-03  -5.63225030e-05  -1.47374742e-03\n",
        "   -9.55867201e-05   8.73395812e-04  -1.56129943e-05   4.24919214e-04\n",
        "   -8.94557875e-05  -2.62878278e-06  -2.41284159e-04  -6.10044699e-07\n",
        "   -8.86252121e-03  -1.77175182e-04  -3.68878507e-06  -3.96879136e-03\n",
        "   -2.36762988e-01   1.84210010e-03  -2.72037250e-03   1.24364699e-04\n",
        "    2.22022107e-04  -3.66783560e-06  -6.99486333e-06  -8.98772041e-07\n",
        "   -2.30553886e-01  -2.98068717e-02   1.04694369e-02  -1.96559370e-06\n",
        "   -1.04838987e-06   3.47229121e-01  -1.82494381e-02]]\n"
       ]
      }
     ],
     "prompt_number": 30
    },
    {
     "cell_type": "code",
     "collapsed": false,
     "input": [
      "test_clean = test_data[['time_day', 'time_hour', 'device_type_good', 'device_conn_type_good',\n",
      "'banner_pos_g reat', 'C1_good', 'C14_good', 'C16_great', 'C17_good', 'C18_great', 'C19_great', 'C20_neg1', 'C20_good', 'C21_good']]"
     ],
     "language": "python",
     "metadata": {},
     "outputs": [],
     "prompt_number": 42
    },
    {
     "cell_type": "code",
     "collapsed": false,
     "input": [
      "test_clean = test_data[['time_day', 'time_hour', 'device_type_good', 'device_conn_type_good',\n",
      "'banner_pos_great', 'C1_good', 'C14_good', 'C16_great', 'C17_good', 'C18_great', 'C19_great', \n",
      "'C20_neg1', 'C20_good', 'C21_good', 'site_category_num', 'app_category_num']]"
     ],
     "language": "python",
     "metadata": {},
     "outputs": [
      {
       "ename": "KeyError",
       "evalue": "\"['time_day' 'time_hour' 'device_type_good' 'device_conn_type_good'\\n 'banner_pos_great' 'C1_good' 'C14_good' 'C16_great' 'C17_good' 'C18_great'\\n 'C19_great' 'C20_neg1' 'C20_good' 'C21_good' 'site_category_num'\\n 'app_category_num'] not in index\"",
       "output_type": "pyerr",
       "traceback": [
        "\u001b[0;31m---------------------------------------------------------------------------\u001b[0m\n\u001b[0;31mKeyError\u001b[0m                                  Traceback (most recent call last)",
        "\u001b[0;32m<ipython-input-35-ce4850039590>\u001b[0m in \u001b[0;36m<module>\u001b[0;34m()\u001b[0m\n\u001b[1;32m      1\u001b[0m test_clean = test_data[['time_day', 'time_hour', 'device_type_good', 'device_conn_type_good',\n\u001b[1;32m      2\u001b[0m \u001b[0;34m'banner_pos_great'\u001b[0m\u001b[0;34m,\u001b[0m \u001b[0;34m'C1_good'\u001b[0m\u001b[0;34m,\u001b[0m \u001b[0;34m'C14_good'\u001b[0m\u001b[0;34m,\u001b[0m \u001b[0;34m'C16_great'\u001b[0m\u001b[0;34m,\u001b[0m \u001b[0;34m'C17_good'\u001b[0m\u001b[0;34m,\u001b[0m \u001b[0;34m'C18_great'\u001b[0m\u001b[0;34m,\u001b[0m \u001b[0;34m'C19_great'\u001b[0m\u001b[0;34m,\u001b[0m\u001b[0;34m\u001b[0m\u001b[0m\n\u001b[0;32m----> 3\u001b[0;31m 'C20_neg1', 'C20_good', 'C21_good', 'site_category_num', 'app_category_num']]\n\u001b[0m",
        "\u001b[0;32m/Users/williamliu/envs/data/lib/python2.7/site-packages/pandas/core/frame.pyc\u001b[0m in \u001b[0;36m__getitem__\u001b[0;34m(self, key)\u001b[0m\n\u001b[1;32m   1772\u001b[0m         \u001b[0;32mif\u001b[0m \u001b[0misinstance\u001b[0m\u001b[0;34m(\u001b[0m\u001b[0mkey\u001b[0m\u001b[0;34m,\u001b[0m \u001b[0;34m(\u001b[0m\u001b[0mSeries\u001b[0m\u001b[0;34m,\u001b[0m \u001b[0mnp\u001b[0m\u001b[0;34m.\u001b[0m\u001b[0mndarray\u001b[0m\u001b[0;34m,\u001b[0m \u001b[0mIndex\u001b[0m\u001b[0;34m,\u001b[0m \u001b[0mlist\u001b[0m\u001b[0;34m)\u001b[0m\u001b[0;34m)\u001b[0m\u001b[0;34m:\u001b[0m\u001b[0;34m\u001b[0m\u001b[0m\n\u001b[1;32m   1773\u001b[0m             \u001b[0;31m# either boolean or fancy integer index\u001b[0m\u001b[0;34m\u001b[0m\u001b[0;34m\u001b[0m\u001b[0m\n\u001b[0;32m-> 1774\u001b[0;31m             \u001b[0;32mreturn\u001b[0m \u001b[0mself\u001b[0m\u001b[0;34m.\u001b[0m\u001b[0m_getitem_array\u001b[0m\u001b[0;34m(\u001b[0m\u001b[0mkey\u001b[0m\u001b[0;34m)\u001b[0m\u001b[0;34m\u001b[0m\u001b[0m\n\u001b[0m\u001b[1;32m   1775\u001b[0m         \u001b[0;32melif\u001b[0m \u001b[0misinstance\u001b[0m\u001b[0;34m(\u001b[0m\u001b[0mkey\u001b[0m\u001b[0;34m,\u001b[0m \u001b[0mDataFrame\u001b[0m\u001b[0;34m)\u001b[0m\u001b[0;34m:\u001b[0m\u001b[0;34m\u001b[0m\u001b[0m\n\u001b[1;32m   1776\u001b[0m             \u001b[0;32mreturn\u001b[0m \u001b[0mself\u001b[0m\u001b[0;34m.\u001b[0m\u001b[0m_getitem_frame\u001b[0m\u001b[0;34m(\u001b[0m\u001b[0mkey\u001b[0m\u001b[0;34m)\u001b[0m\u001b[0;34m\u001b[0m\u001b[0m\n",
        "\u001b[0;32m/Users/williamliu/envs/data/lib/python2.7/site-packages/pandas/core/frame.pyc\u001b[0m in \u001b[0;36m_getitem_array\u001b[0;34m(self, key)\u001b[0m\n\u001b[1;32m   1816\u001b[0m             \u001b[0;32mreturn\u001b[0m \u001b[0mself\u001b[0m\u001b[0;34m.\u001b[0m\u001b[0mtake\u001b[0m\u001b[0;34m(\u001b[0m\u001b[0mindexer\u001b[0m\u001b[0;34m,\u001b[0m \u001b[0maxis\u001b[0m\u001b[0;34m=\u001b[0m\u001b[0;36m0\u001b[0m\u001b[0;34m,\u001b[0m \u001b[0mconvert\u001b[0m\u001b[0;34m=\u001b[0m\u001b[0mFalse\u001b[0m\u001b[0;34m)\u001b[0m\u001b[0;34m\u001b[0m\u001b[0m\n\u001b[1;32m   1817\u001b[0m         \u001b[0;32melse\u001b[0m\u001b[0;34m:\u001b[0m\u001b[0;34m\u001b[0m\u001b[0m\n\u001b[0;32m-> 1818\u001b[0;31m             \u001b[0mindexer\u001b[0m \u001b[0;34m=\u001b[0m \u001b[0mself\u001b[0m\u001b[0;34m.\u001b[0m\u001b[0mix\u001b[0m\u001b[0;34m.\u001b[0m\u001b[0m_convert_to_indexer\u001b[0m\u001b[0;34m(\u001b[0m\u001b[0mkey\u001b[0m\u001b[0;34m,\u001b[0m \u001b[0maxis\u001b[0m\u001b[0;34m=\u001b[0m\u001b[0;36m1\u001b[0m\u001b[0;34m)\u001b[0m\u001b[0;34m\u001b[0m\u001b[0m\n\u001b[0m\u001b[1;32m   1819\u001b[0m             \u001b[0;32mreturn\u001b[0m \u001b[0mself\u001b[0m\u001b[0;34m.\u001b[0m\u001b[0mtake\u001b[0m\u001b[0;34m(\u001b[0m\u001b[0mindexer\u001b[0m\u001b[0;34m,\u001b[0m \u001b[0maxis\u001b[0m\u001b[0;34m=\u001b[0m\u001b[0;36m1\u001b[0m\u001b[0;34m,\u001b[0m \u001b[0mconvert\u001b[0m\u001b[0;34m=\u001b[0m\u001b[0mTrue\u001b[0m\u001b[0;34m)\u001b[0m\u001b[0;34m\u001b[0m\u001b[0m\n\u001b[1;32m   1820\u001b[0m \u001b[0;34m\u001b[0m\u001b[0m\n",
        "\u001b[0;32m/Users/williamliu/envs/data/lib/python2.7/site-packages/pandas/core/indexing.pyc\u001b[0m in \u001b[0;36m_convert_to_indexer\u001b[0;34m(self, obj, axis, is_setter)\u001b[0m\n\u001b[1;32m   1141\u001b[0m                     \u001b[0;32mif\u001b[0m \u001b[0misinstance\u001b[0m\u001b[0;34m(\u001b[0m\u001b[0mobj\u001b[0m\u001b[0;34m,\u001b[0m \u001b[0mtuple\u001b[0m\u001b[0;34m)\u001b[0m \u001b[0;32mand\u001b[0m \u001b[0mis_setter\u001b[0m\u001b[0;34m:\u001b[0m\u001b[0;34m\u001b[0m\u001b[0m\n\u001b[1;32m   1142\u001b[0m                         \u001b[0;32mreturn\u001b[0m \u001b[0;34m{\u001b[0m\u001b[0;34m'key'\u001b[0m\u001b[0;34m:\u001b[0m \u001b[0mobj\u001b[0m\u001b[0;34m}\u001b[0m\u001b[0;34m\u001b[0m\u001b[0m\n\u001b[0;32m-> 1143\u001b[0;31m                     \u001b[0;32mraise\u001b[0m \u001b[0mKeyError\u001b[0m\u001b[0;34m(\u001b[0m\u001b[0;34m'%s not in index'\u001b[0m \u001b[0;34m%\u001b[0m \u001b[0mobjarr\u001b[0m\u001b[0;34m[\u001b[0m\u001b[0mmask\u001b[0m\u001b[0;34m]\u001b[0m\u001b[0;34m)\u001b[0m\u001b[0;34m\u001b[0m\u001b[0m\n\u001b[0m\u001b[1;32m   1144\u001b[0m \u001b[0;34m\u001b[0m\u001b[0m\n\u001b[1;32m   1145\u001b[0m                 \u001b[0;32mreturn\u001b[0m \u001b[0m_values_from_object\u001b[0m\u001b[0;34m(\u001b[0m\u001b[0mindexer\u001b[0m\u001b[0;34m)\u001b[0m\u001b[0;34m\u001b[0m\u001b[0m\n",
        "\u001b[0;31mKeyError\u001b[0m: \"['time_day' 'time_hour' 'device_type_good' 'device_conn_type_good'\\n 'banner_pos_great' 'C1_good' 'C14_good' 'C16_great' 'C17_good' 'C18_great'\\n 'C19_great' 'C20_neg1' 'C20_good' 'C21_good' 'site_category_num'\\n 'app_category_num'] not in index\""
       ]
      }
     ],
     "prompt_number": 35
    },
    {
     "cell_type": "code",
     "collapsed": false,
     "input": [
      "results = clf.predict_proba(test_clean)\n",
      "# Make submission\n",
      "click = [\"%f\" % x[1] for x in results]\n",
      "id = test.id\n",
      "submit = zip(id, click)\n",
      "df_out = pd.DataFrame(data=submit, columns=['id', 'click'])\n",
      "df_out = df_out.set_index('id')\n",
      "df_out.to_csv(r'/Users/williamliu/Desktop/Kaggle_Avazu/will_submission.csv')"
     ],
     "language": "python",
     "metadata": {},
     "outputs": [],
     "prompt_number": 41
    },
    {
     "cell_type": "code",
     "collapsed": false,
     "input": [],
     "language": "python",
     "metadata": {},
     "outputs": []
    },
    {
     "cell_type": "code",
     "collapsed": false,
     "input": [],
     "language": "python",
     "metadata": {},
     "outputs": []
    },
    {
     "cell_type": "code",
     "collapsed": false,
     "input": [
      "melted_df = pd.melt(sampled_df, id_vars='hour', var_name='banner_pos', value_name='count')"
     ],
     "language": "python",
     "metadata": {},
     "outputs": [],
     "prompt_number": 30
    },
    {
     "cell_type": "code",
     "collapsed": false,
     "input": [
      "print melted_df"
     ],
     "language": "python",
     "metadata": {},
     "outputs": [],
     "prompt_number": 31
    },
    {
     "cell_type": "code",
     "collapsed": false,
     "input": [
      "sampled_df = sampled_df[['banner_pos', 'click']]"
     ],
     "language": "python",
     "metadata": {},
     "outputs": [],
     "prompt_number": 32
    },
    {
     "cell_type": "code",
     "collapsed": false,
     "input": [
      "\n",
      "        \n",
      "        "
     ],
     "language": "python",
     "metadata": {},
     "outputs": []
    },
    {
     "cell_type": "heading",
     "level": 3,
     "metadata": {},
     "source": [
      "Train and Test"
     ]
    },
    {
     "cell_type": "code",
     "collapsed": false,
     "input": [
      "# Only get the fields we're interested in\n",
      "#train_data = train_data[['click', 'time_day', 'time_hour', 'banner_pos', 'C18']]\n",
      "#test_data = test_data[['time_day', 'time_hour', 'banner_pos', 'C18']]\n",
      "\n",
      "#train_clean = train_data[['click', 'time_day', 'time_hour', 'device_conn_type_good', 'device_conn_type_bad', 'device_type_good',\n",
      "#            'device_type_other', 'banner_pos_good', 'banner_pos_other', 'C1_good', 'C1_other',\n",
      "#            'C16_good', 'C16_other', 'C18_bad', 'C18_other', 'C20_unknown', 'C20_known']]\n",
      "#test_clean = test_data[['time_day', 'time_hour', 'device_conn_type_good', 'device_conn_type_bad', 'device_type_good',\n",
      "#            'device_type_other', 'banner_pos_good', 'banner_pos_other', 'C1_good', 'C1_other',\n",
      "#            'C16_good', 'C16_other', 'C18_bad', 'C18_other', 'C20_unknown', 'C20_known']]\n",
      "\n",
      "train_clean = train_data[['click', 'time_hour', 'device_conn_type_good', 'banner_pos_good', 'C16_good', 'C18_other']]\n",
      "test_clean = test_data[['time_hour', 'device_conn_type_good', 'banner_pos_good', 'C16_good', 'C18_other']]"
     ],
     "language": "python",
     "metadata": {},
     "outputs": [],
     "prompt_number": 55
    },
    {
     "cell_type": "code",
     "collapsed": false,
     "input": [
      "#selector = feature_selection.SelectPercentile(percentile=5,\n",
      "#            score_func=feature_selection.f_classif)\n",
      "#train_data_red = selector.fit_transform(train_data[['time_day', 'time_hour', 'C1', 'banner_pos', 'device_type', 'device_conn_type', 'C14',\n",
      "#                                                    'C15', 'C16', 'C17', 'C18', 'C19', 'C20', 'C21']], train_data[['click']])\n",
      "#print \"Original data shape %s, reduced data shape %s\" % (train_data.shape, train_data.red.shape)"
     ],
     "language": "python",
     "metadata": {},
     "outputs": [],
     "prompt_number": 34
    },
    {
     "cell_type": "code",
     "collapsed": false,
     "input": [
      "X_train, X_test, y_train, y_test = train_test_split(train_clean[['time_hour', 'device_conn_type_good', 'banner_pos_good', 'C16_good', 'C18_other']], train_clean[['click']], train_size=.99)\n",
      "print \"X train shape is: \", X_train.shape, \"  \", \"X test shape is: \", X_test.shape\n",
      "print \"y train shape is: \", y_train.shape, \"  \", \"y test shape is: \", y_test.shape"
     ],
     "language": "python",
     "metadata": {},
     "outputs": [
      {
       "output_type": "stream",
       "stream": "stdout",
       "text": [
        "X train shape is:  (40024677, 5)    X test shape is:  (404290, 5)\n",
        "y train shape is:  (40024677, 1)    y test shape is:  (404290, 1)\n"
       ]
      }
     ],
     "prompt_number": 82
    },
    {
     "cell_type": "code",
     "collapsed": false,
     "input": [
      "print type(X_train)\n",
      "print X_train"
     ],
     "language": "python",
     "metadata": {},
     "outputs": [
      {
       "output_type": "stream",
       "stream": "stdout",
       "text": [
        "<type 'numpy.ndarray'>\n",
        "[[14  1  0  0  1]\n",
        " [ 4  1  0  0  1]\n",
        " [ 1  1  0  0  0]\n",
        " ..., \n",
        " [ 8  1  0  0  1]\n",
        " [17  0  0  0  0]\n",
        " [ 7  1  0  0  1]]\n"
       ]
      }
     ],
     "prompt_number": 83
    },
    {
     "cell_type": "code",
     "collapsed": false,
     "input": [
      "clf = LogisticRegression()"
     ],
     "language": "python",
     "metadata": {},
     "outputs": [],
     "prompt_number": 85
    },
    {
     "cell_type": "code",
     "collapsed": false,
     "input": [
      "clf = SGDClassifier(alpha=0.001, loss='log', penalty='l2', n_iter=30, #n_iter=100,\n",
      "            shuffle=True, n_jobs=-1, verbose=True)"
     ],
     "language": "python",
     "metadata": {},
     "outputs": [],
     "prompt_number": 58
    },
    {
     "cell_type": "code",
     "collapsed": false,
     "input": [
      "clf.fit(X_train, y_train)"
     ],
     "language": "python",
     "metadata": {},
     "outputs": [
      {
       "output_type": "stream",
       "stream": "stderr",
       "text": [
        "/Users/williamliu/anaconda/lib/python2.7/site-packages/sklearn/preprocessing/label.py:125: DataConversionWarning: A column-vector y was passed when a 1d array was expected. Please change the shape of y to (n_samples, ), for example using ravel().\n",
        "  y = column_or_1d(y, warn=True)\n"
       ]
      },
      {
       "metadata": {},
       "output_type": "pyout",
       "prompt_number": 86,
       "text": [
        "LogisticRegression(C=1.0, class_weight=None, dual=False, fit_intercept=True,\n",
        "          intercept_scaling=1, penalty='l2', random_state=None, tol=0.0001)"
       ]
      }
     ],
     "prompt_number": 86
    },
    {
     "cell_type": "code",
     "collapsed": false,
     "input": [
      "#clf.partial_fit(X_train, y_train)"
     ],
     "language": "python",
     "metadata": {},
     "outputs": [],
     "prompt_number": 87
    },
    {
     "cell_type": "code",
     "collapsed": false,
     "input": [
      "clf.score(X_test, y_test)"
     ],
     "language": "python",
     "metadata": {},
     "outputs": [
      {
       "metadata": {},
       "output_type": "pyout",
       "prompt_number": 88,
       "text": [
        "0.82982759900071734"
       ]
      }
     ],
     "prompt_number": 88
    },
    {
     "cell_type": "code",
     "collapsed": false,
     "input": [
      "print clf.coef_  # Classifier's coefficients tell us what are good features and what are bad\n",
      "\n",
      "# 'time_hour', 'device_conn_type_good', 'banner_pos_good', 'C16_good', 'C18_other'\n",
      "# 0.00222154  0.85671533  1.21356126  1.29385058  1.42358669\n",
      "\n",
      "\n",
      "#1 'time_day',  Ignore\n",
      "#2 'time_hour',  Use\n",
      "#3 'device_conn_type_good', Use\n",
      "#4 'device_conn_type_bad',  Ignore\n",
      "#5 'device_type_good',  Ignore\n",
      "#6 'device_type_other',  Ignore\n",
      "#7 'banner_pos_good',  Use\n",
      "#8 'banner_pos_other',  Ignore\n",
      "#9 'C1_good',  # Use\n",
      "#10'C1_other',  # Ignore\n",
      "#11'C16_good',  # Use\n",
      "#12'C16_other',  # Ignore\n",
      "#13'C18_bad',  # Ignore\n",
      "#14'C18_other',  # Use\n",
      "#15'C20_unknown',  # Ignore\n",
      "#16'C20_known'  Ignore"
     ],
     "language": "python",
     "metadata": {},
     "outputs": [
      {
       "output_type": "stream",
       "stream": "stdout",
       "text": [
        "[[ 0.00222154  0.85671533  1.21356126  1.29385058  1.42358669]]\n"
       ]
      }
     ],
     "prompt_number": 81
    },
    {
     "cell_type": "code",
     "collapsed": false,
     "input": [
      "print np.exp(clf.intercept_), np.exp(clf.coef_.ravel())"
     ],
     "language": "python",
     "metadata": {},
     "outputs": [
      {
       "output_type": "stream",
       "stream": "stdout",
       "text": [
        "[ 0.02029758] [ 1.00222805  2.35676968  3.35890336  3.6464525   4.15265017]\n"
       ]
      }
     ],
     "prompt_number": 89
    },
    {
     "cell_type": "code",
     "collapsed": false,
     "input": [
      "results = clf.predict_proba(test_clean)"
     ],
     "language": "python",
     "metadata": {},
     "outputs": [],
     "prompt_number": 65
    },
    {
     "cell_type": "code",
     "collapsed": false,
     "input": [
      "type(results)"
     ],
     "language": "python",
     "metadata": {},
     "outputs": [
      {
       "metadata": {},
       "output_type": "pyout",
       "prompt_number": 66,
       "text": [
        "numpy.ndarray"
       ]
      }
     ],
     "prompt_number": 66
    },
    {
     "cell_type": "code",
     "collapsed": false,
     "input": [
      "print results"
     ],
     "language": "python",
     "metadata": {},
     "outputs": [
      {
       "output_type": "stream",
       "stream": "stdout",
       "text": [
        "[[ 0.83373035  0.16626965]\n",
        " [ 0.83373035  0.16626965]\n",
        " [ 0.83373035  0.16626965]\n",
        " ..., \n",
        " [ 0.58989838  0.41010162]\n",
        " [ 0.96492887  0.03507113]\n",
        " [ 0.82402436  0.17597564]]\n"
       ]
      }
     ],
     "prompt_number": 67
    },
    {
     "cell_type": "code",
     "collapsed": false,
     "input": [
      "print results[1]"
     ],
     "language": "python",
     "metadata": {},
     "outputs": [
      {
       "output_type": "stream",
       "stream": "stdout",
       "text": [
        "[ 0.83373035  0.16626965]\n"
       ]
      }
     ],
     "prompt_number": 68
    },
    {
     "cell_type": "code",
     "collapsed": false,
     "input": [
      "click = [\"%f\" % x[1] for x in results]"
     ],
     "language": "python",
     "metadata": {},
     "outputs": [],
     "prompt_number": 69
    },
    {
     "cell_type": "code",
     "collapsed": false,
     "input": [
      "len(click)"
     ],
     "language": "python",
     "metadata": {},
     "outputs": [
      {
       "metadata": {},
       "output_type": "pyout",
       "prompt_number": 70,
       "text": [
        "4577464"
       ]
      }
     ],
     "prompt_number": 70
    },
    {
     "cell_type": "code",
     "collapsed": false,
     "input": [
      "test_data.info()"
     ],
     "language": "python",
     "metadata": {},
     "outputs": [
      {
       "output_type": "stream",
       "stream": "stdout",
       "text": [
        "<class 'pandas.core.frame.DataFrame'>\n",
        "Int64Index: 4577464 entries, 0 to 4577463\n",
        "Data columns (total 41 columns):\n",
        "id                       object\n",
        "hour                     object\n",
        "C1                       int64\n",
        "banner_pos               int32\n",
        "site_id                  object\n",
        "site_domain              object\n",
        "site_category            object\n",
        "app_id                   object\n",
        "app_domain               object\n",
        "app_category             object\n",
        "device_id                object\n",
        "device_ip                object\n",
        "device_model             object\n",
        "device_type              int64\n",
        "device_conn_type         int32\n",
        "C14                      int64\n",
        "C15                      int64\n",
        "C16                      int64\n",
        "C17                      int64\n",
        "C18                      int32\n",
        "C19                      int64\n",
        "C20                      int64\n",
        "C21                      int64\n",
        "time_day                 int32\n",
        "time_hour                int32\n",
        "device_conn_type_good    int64\n",
        "device_conn_type_bad     int64\n",
        "device_type_good         int64\n",
        "device_type_other        int64\n",
        "banner_pos_good          int64\n",
        "banner_pos_other         int64\n",
        "C1_good                  int64\n",
        "C1_other                 int64\n",
        "C14_bad                  int64\n",
        "C14_other                int64\n",
        "C16_good                 int64\n",
        "C16_other                int64\n",
        "C18_bad                  int64\n",
        "C18_other                int64\n",
        "C20_unknown              int64\n",
        "C20_known                int64\n",
        "dtypes: int32(5), int64(25), object(11)\n",
        "memory usage: 1.3+ GB\n"
       ]
      }
     ],
     "prompt_number": 71
    },
    {
     "cell_type": "code",
     "collapsed": false,
     "input": [
      "id = test.id"
     ],
     "language": "python",
     "metadata": {},
     "outputs": [],
     "prompt_number": 72
    },
    {
     "cell_type": "code",
     "collapsed": false,
     "input": [
      "submit = zip(id, click)"
     ],
     "language": "python",
     "metadata": {},
     "outputs": [],
     "prompt_number": 73
    },
    {
     "cell_type": "code",
     "collapsed": false,
     "input": [
      "df_out = pd.DataFrame(data=submit, columns=['id', 'click'])"
     ],
     "language": "python",
     "metadata": {},
     "outputs": [],
     "prompt_number": 74
    },
    {
     "cell_type": "code",
     "collapsed": false,
     "input": [
      "df_out = df_out.set_index('id')"
     ],
     "language": "python",
     "metadata": {},
     "outputs": [],
     "prompt_number": 75
    },
    {
     "cell_type": "code",
     "collapsed": false,
     "input": [
      "df_out.to_csv(r'/Users/williamliu/Desktop/Kaggle_Avazu/will_submission.csv')"
     ],
     "language": "python",
     "metadata": {},
     "outputs": [],
     "prompt_number": 76
    },
    {
     "cell_type": "heading",
     "level": 3,
     "metadata": {},
     "source": [
      "Feature Hashing"
     ]
    },
    {
     "cell_type": "code",
     "collapsed": false,
     "input": [
      "# Make copies of raw data so we don't have to load again\n",
      "train_data = train\n",
      "test_data = test"
     ],
     "language": "python",
     "metadata": {},
     "outputs": [],
     "prompt_number": 5
    },
    {
     "cell_type": "code",
     "collapsed": false,
     "input": [
      "cols = train_data.columns.astype(str)\n",
      "cols"
     ],
     "language": "python",
     "metadata": {},
     "outputs": [
      {
       "metadata": {},
       "output_type": "pyout",
       "prompt_number": 6,
       "text": [
        "Index([u'id', u'click', u'hour', u'C1', u'banner_pos', u'site_id', u'site_domain', u'site_category', u'app_id', u'app_domain', u'app_category', u'device_id', u'device_ip', u'device_model', u'device_type', u'device_conn_type', u'C14', u'C15', u'C16', u'C17', u'C18', u'C19', u'C20', u'C21'], dtype='object')"
       ]
      }
     ],
     "prompt_number": 6
    },
    {
     "cell_type": "code",
     "collapsed": false,
     "input": [
      "X_train, X_test, y_train, y_test = train_test_split(train_clean[['time_day', 'time_hour', 'C1', 'banner_pos',\n",
      "                          'device_type', 'device_conn_type',\n",
      "                          'C15', 'C16', 'C18']],\n",
      "                                                    train_clean[['click']], train_size=.80)\n",
      "print \"X train shape is: \", X_train.shape, \"  \", \"X test shape is: \", X_test.shape\n",
      "print \"y train shape is: \", y_train.shape, \"  \", \"y test shape is: \", y_test.shape"
     ],
     "language": "python",
     "metadata": {},
     "outputs": [
      {
       "output_type": "stream",
       "stream": "stdout",
       "text": [
        "X train shape is:  (32343173, 9)    X test shape is:  (8085794, 9)\n",
        "y train shape is:  (32343173, 1)    y test shape is:  (8085794, 1)\n"
       ]
      }
     ],
     "prompt_number": 24
    },
    {
     "cell_type": "code",
     "collapsed": false,
     "input": [
      "clf = LogisticRegression()"
     ],
     "language": "python",
     "metadata": {},
     "outputs": [],
     "prompt_number": 25
    },
    {
     "cell_type": "code",
     "collapsed": false,
     "input": [
      "clf.fit(X_train, y_train)"
     ],
     "language": "python",
     "metadata": {},
     "outputs": [
      {
       "output_type": "stream",
       "stream": "stderr",
       "text": [
        "/Users/williamliu/anaconda/lib/python2.7/site-packages/sklearn/preprocessing/label.py:125: DataConversionWarning: A column-vector y was passed when a 1d array was expected. Please change the shape of y to (n_samples, ), for example using ravel().\n",
        "  y = column_or_1d(y, warn=True)\n"
       ]
      },
      {
       "metadata": {},
       "output_type": "pyout",
       "prompt_number": 26,
       "text": [
        "LogisticRegression(C=1.0, class_weight=None, dual=False, fit_intercept=True,\n",
        "          intercept_scaling=1, penalty='l2', random_state=None, tol=0.0001)"
       ]
      }
     ],
     "prompt_number": 26
    },
    {
     "cell_type": "code",
     "collapsed": false,
     "input": [
      "clf.score(X_test, y_test)"
     ],
     "language": "python",
     "metadata": {},
     "outputs": [
      {
       "ename": "ValueError",
       "evalue": "X has 16 features per sample; expecting 119",
       "output_type": "pyerr",
       "traceback": [
        "\u001b[0;31m---------------------------------------------------------------------------\u001b[0m\n\u001b[0;31mValueError\u001b[0m                                Traceback (most recent call last)",
        "\u001b[0;32m<ipython-input-31-79e151d6ca4b>\u001b[0m in \u001b[0;36m<module>\u001b[0;34m()\u001b[0m\n\u001b[0;32m----> 1\u001b[0;31m \u001b[0mclf\u001b[0m\u001b[0;34m.\u001b[0m\u001b[0mscore\u001b[0m\u001b[0;34m(\u001b[0m\u001b[0mX_test\u001b[0m\u001b[0;34m,\u001b[0m \u001b[0my_test\u001b[0m\u001b[0;34m)\u001b[0m\u001b[0;34m\u001b[0m\u001b[0m\n\u001b[0m",
        "\u001b[0;32m/Users/williamliu/envs/data/lib/python2.7/site-packages/sklearn/base.pyc\u001b[0m in \u001b[0;36mscore\u001b[0;34m(self, X, y, sample_weight)\u001b[0m\n\u001b[1;32m    293\u001b[0m         \"\"\"\n\u001b[1;32m    294\u001b[0m         \u001b[0;32mfrom\u001b[0m \u001b[0;34m.\u001b[0m\u001b[0mmetrics\u001b[0m \u001b[0;32mimport\u001b[0m \u001b[0maccuracy_score\u001b[0m\u001b[0;34m\u001b[0m\u001b[0m\n\u001b[0;32m--> 295\u001b[0;31m         \u001b[0;32mreturn\u001b[0m \u001b[0maccuracy_score\u001b[0m\u001b[0;34m(\u001b[0m\u001b[0my\u001b[0m\u001b[0;34m,\u001b[0m \u001b[0mself\u001b[0m\u001b[0;34m.\u001b[0m\u001b[0mpredict\u001b[0m\u001b[0;34m(\u001b[0m\u001b[0mX\u001b[0m\u001b[0;34m)\u001b[0m\u001b[0;34m,\u001b[0m \u001b[0msample_weight\u001b[0m\u001b[0;34m=\u001b[0m\u001b[0msample_weight\u001b[0m\u001b[0;34m)\u001b[0m\u001b[0;34m\u001b[0m\u001b[0m\n\u001b[0m\u001b[1;32m    296\u001b[0m \u001b[0;34m\u001b[0m\u001b[0m\n\u001b[1;32m    297\u001b[0m \u001b[0;34m\u001b[0m\u001b[0m\n",
        "\u001b[0;32m/Users/williamliu/envs/data/lib/python2.7/site-packages/sklearn/linear_model/base.pyc\u001b[0m in \u001b[0;36mpredict\u001b[0;34m(self, X)\u001b[0m\n\u001b[1;32m    221\u001b[0m             \u001b[0mPredicted\u001b[0m \u001b[0;32mclass\u001b[0m \u001b[0mlabel\u001b[0m \u001b[0mper\u001b[0m \u001b[0msample\u001b[0m\u001b[0;34m.\u001b[0m\u001b[0;34m\u001b[0m\u001b[0m\n\u001b[1;32m    222\u001b[0m         \"\"\"\n\u001b[0;32m--> 223\u001b[0;31m         \u001b[0mscores\u001b[0m \u001b[0;34m=\u001b[0m \u001b[0mself\u001b[0m\u001b[0;34m.\u001b[0m\u001b[0mdecision_function\u001b[0m\u001b[0;34m(\u001b[0m\u001b[0mX\u001b[0m\u001b[0;34m)\u001b[0m\u001b[0;34m\u001b[0m\u001b[0m\n\u001b[0m\u001b[1;32m    224\u001b[0m         \u001b[0;32mif\u001b[0m \u001b[0mlen\u001b[0m\u001b[0;34m(\u001b[0m\u001b[0mscores\u001b[0m\u001b[0;34m.\u001b[0m\u001b[0mshape\u001b[0m\u001b[0;34m)\u001b[0m \u001b[0;34m==\u001b[0m \u001b[0;36m1\u001b[0m\u001b[0;34m:\u001b[0m\u001b[0;34m\u001b[0m\u001b[0m\n\u001b[1;32m    225\u001b[0m             \u001b[0mindices\u001b[0m \u001b[0;34m=\u001b[0m \u001b[0;34m(\u001b[0m\u001b[0mscores\u001b[0m \u001b[0;34m>\u001b[0m \u001b[0;36m0\u001b[0m\u001b[0;34m)\u001b[0m\u001b[0;34m.\u001b[0m\u001b[0mastype\u001b[0m\u001b[0;34m(\u001b[0m\u001b[0mnp\u001b[0m\u001b[0;34m.\u001b[0m\u001b[0mint\u001b[0m\u001b[0;34m)\u001b[0m\u001b[0;34m\u001b[0m\u001b[0m\n",
        "\u001b[0;32m/Users/williamliu/envs/data/lib/python2.7/site-packages/sklearn/linear_model/base.pyc\u001b[0m in \u001b[0;36mdecision_function\u001b[0;34m(self, X)\u001b[0m\n\u001b[1;32m    202\u001b[0m         \u001b[0;32mif\u001b[0m \u001b[0mX\u001b[0m\u001b[0;34m.\u001b[0m\u001b[0mshape\u001b[0m\u001b[0;34m[\u001b[0m\u001b[0;36m1\u001b[0m\u001b[0;34m]\u001b[0m \u001b[0;34m!=\u001b[0m \u001b[0mn_features\u001b[0m\u001b[0;34m:\u001b[0m\u001b[0;34m\u001b[0m\u001b[0m\n\u001b[1;32m    203\u001b[0m             raise ValueError(\"X has %d features per sample; expecting %d\"\n\u001b[0;32m--> 204\u001b[0;31m                              % (X.shape[1], n_features))\n\u001b[0m\u001b[1;32m    205\u001b[0m \u001b[0;34m\u001b[0m\u001b[0m\n\u001b[1;32m    206\u001b[0m         scores = safe_sparse_dot(X, self.coef_.T,\n",
        "\u001b[0;31mValueError\u001b[0m: X has 16 features per sample; expecting 119"
       ]
      }
     ],
     "prompt_number": 31
    },
    {
     "cell_type": "code",
     "collapsed": false,
     "input": [
      "print clf.coef_"
     ],
     "language": "python",
     "metadata": {},
     "outputs": []
    },
    {
     "cell_type": "code",
     "collapsed": false,
     "input": [
      "# FeatureHasher\n",
      "raw_X_train = [dict(row[1] for row in X_train.iterrows())]"
     ],
     "language": "python",
     "metadata": {},
     "outputs": [
      {
       "ename": "AttributeError",
       "evalue": "'numpy.ndarray' object has no attribute 'iterrows'",
       "output_type": "pyerr",
       "traceback": [
        "\u001b[0;31m---------------------------------------------------------------------------\u001b[0m\n\u001b[0;31mAttributeError\u001b[0m                            Traceback (most recent call last)",
        "\u001b[0;32m<ipython-input-10-7fdc3003f67d>\u001b[0m in \u001b[0;36m<module>\u001b[0;34m()\u001b[0m\n\u001b[1;32m      1\u001b[0m \u001b[0;31m# FeatureHasher\u001b[0m\u001b[0;34m\u001b[0m\u001b[0;34m\u001b[0m\u001b[0m\n\u001b[0;32m----> 2\u001b[0;31m \u001b[0mraw_X_train\u001b[0m \u001b[0;34m=\u001b[0m \u001b[0;34m[\u001b[0m\u001b[0mdict\u001b[0m\u001b[0;34m(\u001b[0m\u001b[0mrow\u001b[0m\u001b[0;34m[\u001b[0m\u001b[0;36m1\u001b[0m\u001b[0;34m]\u001b[0m \u001b[0;32mfor\u001b[0m \u001b[0mrow\u001b[0m \u001b[0;32min\u001b[0m \u001b[0mX_train\u001b[0m\u001b[0;34m.\u001b[0m\u001b[0miterrows\u001b[0m\u001b[0;34m(\u001b[0m\u001b[0;34m)\u001b[0m\u001b[0;34m)\u001b[0m\u001b[0;34m]\u001b[0m\u001b[0;34m\u001b[0m\u001b[0m\n\u001b[0m",
        "\u001b[0;31mAttributeError\u001b[0m: 'numpy.ndarray' object has no attribute 'iterrows'"
       ]
      }
     ],
     "prompt_number": 10
    },
    {
     "cell_type": "code",
     "collapsed": false,
     "input": [
      "fh = FeatureHasher(n_features=2**18)  #feature_extraction.FeatureHasher"
     ],
     "language": "python",
     "metadata": {},
     "outputs": [],
     "prompt_number": 14
    },
    {
     "cell_type": "code",
     "collapsed": false,
     "input": [
      "X_enc_train = fh.transform(raw_X_train)"
     ],
     "language": "python",
     "metadata": {},
     "outputs": []
    },
    {
     "cell_type": "code",
     "collapsed": false,
     "input": [
      "clf = SGDClassifier(alpha=0.001, loss='log', penalty='l2', n_iter=30, #n_iter=100,\n",
      "            shuffle=True, n_jobs=-1, verbose=True)"
     ],
     "language": "python",
     "metadata": {},
     "outputs": []
    },
    {
     "cell_type": "code",
     "collapsed": false,
     "input": [
      "clf.fit(X_enc_train, y_train)"
     ],
     "language": "python",
     "metadata": {},
     "outputs": []
    },
    {
     "cell_type": "heading",
     "level": 3,
     "metadata": {},
     "source": [
      "Pipelining"
     ]
    },
    {
     "cell_type": "code",
     "collapsed": false,
     "input": [
      "train_pipe = train_data[['click', 'time_day', 'time_hour', 'device_conn_type_good', 'device_conn_type_bad', 'device_type_good',\n",
      "            'device_type_other', 'banner_pos_good', 'banner_pos_other', 'C1_good', 'C1_other',\n",
      "            'C16_good', 'C16_other', 'C18_bad', 'C18_other', 'C20_unknown', 'C20_known']]\n",
      "test_pipe = test_data[['time_day', 'time_hour', 'device_conn_type_good', 'device_conn_type_bad', 'device_type_good',\n",
      "            'device_type_other', 'banner_pos_good', 'banner_pos_other', 'C1_good', 'C1_other',\n",
      "            'C16_good', 'C16_other', 'C18_bad', 'C18_other', 'C20_unknown', 'C20_known']]"
     ],
     "language": "python",
     "metadata": {},
     "outputs": []
    },
    {
     "cell_type": "code",
     "collapsed": false,
     "input": [
      "train_pipe.head()"
     ],
     "language": "python",
     "metadata": {},
     "outputs": []
    },
    {
     "cell_type": "code",
     "collapsed": false,
     "input": [
      "X_train_pipe = train_pipe.iloc[:,1:]\n",
      "y_test_pipe = train_pipe.iloc[:,[0]]"
     ],
     "language": "python",
     "metadata": {},
     "outputs": []
    },
    {
     "cell_type": "code",
     "collapsed": false,
     "input": [
      "X_test_pipe.tail()"
     ],
     "language": "python",
     "metadata": {},
     "outputs": []
    },
    {
     "cell_type": "code",
     "collapsed": false,
     "input": [
      "kf = KFold(n=0, n_folds=4, shuffle=False)  #<class 'sklearn.cross_validation.KFold'>"
     ],
     "language": "python",
     "metadata": {},
     "outputs": [],
     "prompt_number": 461
    },
    {
     "cell_type": "code",
     "collapsed": false,
     "input": [
      "print \"X shape is: \", np.shape(train_pipe)\n",
      "print \"y shape is: \", np.shape(test_pipe)\n",
      "#print \"X shape is: \", np.shape(X_train)\n",
      "#print \"y shape is: \", np.shape(y_train)"
     ],
     "language": "python",
     "metadata": {},
     "outputs": [
      {
       "output_type": "stream",
       "stream": "stdout",
       "text": [
        "X shape is:  (40428967, 17)\n",
        "y shape is:  (4577464, 16)\n"
       ]
      }
     ],
     "prompt_number": 469
    },
    {
     "cell_type": "code",
     "collapsed": false,
     "input": [
      "my_pipeline.set_params().fit(X_train, y_train)\n",
      "#my_pipeline.set_params().fit(X_train, y_train)"
     ],
     "language": "python",
     "metadata": {},
     "outputs": [
      {
       "ename": "ValueError",
       "evalue": "X has a different shape than during fitting.",
       "output_type": "pyerr",
       "traceback": [
        "\u001b[0;31m---------------------------------------------------------------------------\u001b[0m\n\u001b[0;31mValueError\u001b[0m                                Traceback (most recent call last)",
        "\u001b[0;32m<ipython-input-463-4fdf6d7c5734>\u001b[0m in \u001b[0;36m<module>\u001b[0;34m()\u001b[0m\n\u001b[1;32m      1\u001b[0m my_pipeline.set_params().fit(train_clean[['time_day', 'time_hour', 'device_conn_type_good', 'device_conn_type_bad', 'device_type_good',\n\u001b[1;32m      2\u001b[0m             \u001b[0;34m'device_type_other'\u001b[0m\u001b[0;34m,\u001b[0m \u001b[0;34m'banner_pos_good'\u001b[0m\u001b[0;34m,\u001b[0m \u001b[0;34m'banner_pos_other'\u001b[0m\u001b[0;34m,\u001b[0m \u001b[0;34m'C1_good'\u001b[0m\u001b[0;34m,\u001b[0m \u001b[0;34m'C1_other'\u001b[0m\u001b[0;34m,\u001b[0m\u001b[0;34m\u001b[0m\u001b[0m\n\u001b[0;32m----> 3\u001b[0;31m             'C16_good', 'C16_other', 'C18_bad', 'C18_other', 'C20_unknown', 'C20_known']], train_clean[['click']])\n\u001b[0m\u001b[1;32m      4\u001b[0m \u001b[0;31m#my_pipeline.set_params().fit(X_train, y_train)\u001b[0m\u001b[0;34m\u001b[0m\u001b[0;34m\u001b[0m\u001b[0m\n",
        "\u001b[0;32m/Users/williamliu/anaconda/lib/python2.7/site-packages/sklearn/pipeline.pyc\u001b[0m in \u001b[0;36mfit\u001b[0;34m(self, X, y, **fit_params)\u001b[0m\n\u001b[1;32m    127\u001b[0m         \u001b[0mdata\u001b[0m\u001b[0;34m,\u001b[0m \u001b[0mthen\u001b[0m \u001b[0mfit\u001b[0m \u001b[0mthe\u001b[0m \u001b[0mtransformed\u001b[0m \u001b[0mdata\u001b[0m \u001b[0musing\u001b[0m \u001b[0mthe\u001b[0m \u001b[0mfinal\u001b[0m \u001b[0mestimator\u001b[0m\u001b[0;34m.\u001b[0m\u001b[0;34m\u001b[0m\u001b[0m\n\u001b[1;32m    128\u001b[0m         \"\"\"\n\u001b[0;32m--> 129\u001b[0;31m         \u001b[0mXt\u001b[0m\u001b[0;34m,\u001b[0m \u001b[0mfit_params\u001b[0m \u001b[0;34m=\u001b[0m \u001b[0mself\u001b[0m\u001b[0;34m.\u001b[0m\u001b[0m_pre_transform\u001b[0m\u001b[0;34m(\u001b[0m\u001b[0mX\u001b[0m\u001b[0;34m,\u001b[0m \u001b[0my\u001b[0m\u001b[0;34m,\u001b[0m \u001b[0;34m**\u001b[0m\u001b[0mfit_params\u001b[0m\u001b[0;34m)\u001b[0m\u001b[0;34m\u001b[0m\u001b[0m\n\u001b[0m\u001b[1;32m    130\u001b[0m         \u001b[0mself\u001b[0m\u001b[0;34m.\u001b[0m\u001b[0msteps\u001b[0m\u001b[0;34m[\u001b[0m\u001b[0;34m-\u001b[0m\u001b[0;36m1\u001b[0m\u001b[0;34m]\u001b[0m\u001b[0;34m[\u001b[0m\u001b[0;34m-\u001b[0m\u001b[0;36m1\u001b[0m\u001b[0;34m]\u001b[0m\u001b[0;34m.\u001b[0m\u001b[0mfit\u001b[0m\u001b[0;34m(\u001b[0m\u001b[0mXt\u001b[0m\u001b[0;34m,\u001b[0m \u001b[0my\u001b[0m\u001b[0;34m,\u001b[0m \u001b[0;34m**\u001b[0m\u001b[0mfit_params\u001b[0m\u001b[0;34m)\u001b[0m\u001b[0;34m\u001b[0m\u001b[0m\n\u001b[1;32m    131\u001b[0m         \u001b[0;32mreturn\u001b[0m \u001b[0mself\u001b[0m\u001b[0;34m\u001b[0m\u001b[0m\n",
        "\u001b[0;32m/Users/williamliu/anaconda/lib/python2.7/site-packages/sklearn/pipeline.pyc\u001b[0m in \u001b[0;36m_pre_transform\u001b[0;34m(self, X, y, **fit_params)\u001b[0m\n\u001b[1;32m    117\u001b[0m         \u001b[0;32mfor\u001b[0m \u001b[0mname\u001b[0m\u001b[0;34m,\u001b[0m \u001b[0mtransform\u001b[0m \u001b[0;32min\u001b[0m \u001b[0mself\u001b[0m\u001b[0;34m.\u001b[0m\u001b[0msteps\u001b[0m\u001b[0;34m[\u001b[0m\u001b[0;34m:\u001b[0m\u001b[0;34m-\u001b[0m\u001b[0;36m1\u001b[0m\u001b[0;34m]\u001b[0m\u001b[0;34m:\u001b[0m\u001b[0;34m\u001b[0m\u001b[0m\n\u001b[1;32m    118\u001b[0m             \u001b[0;32mif\u001b[0m \u001b[0mhasattr\u001b[0m\u001b[0;34m(\u001b[0m\u001b[0mtransform\u001b[0m\u001b[0;34m,\u001b[0m \u001b[0;34m\"fit_transform\"\u001b[0m\u001b[0;34m)\u001b[0m\u001b[0;34m:\u001b[0m\u001b[0;34m\u001b[0m\u001b[0m\n\u001b[0;32m--> 119\u001b[0;31m                 \u001b[0mXt\u001b[0m \u001b[0;34m=\u001b[0m \u001b[0mtransform\u001b[0m\u001b[0;34m.\u001b[0m\u001b[0mfit_transform\u001b[0m\u001b[0;34m(\u001b[0m\u001b[0mXt\u001b[0m\u001b[0;34m,\u001b[0m \u001b[0my\u001b[0m\u001b[0;34m,\u001b[0m \u001b[0;34m**\u001b[0m\u001b[0mfit_params_steps\u001b[0m\u001b[0;34m[\u001b[0m\u001b[0mname\u001b[0m\u001b[0;34m]\u001b[0m\u001b[0;34m)\u001b[0m\u001b[0;34m\u001b[0m\u001b[0m\n\u001b[0m\u001b[1;32m    120\u001b[0m             \u001b[0;32melse\u001b[0m\u001b[0;34m:\u001b[0m\u001b[0;34m\u001b[0m\u001b[0m\n\u001b[1;32m    121\u001b[0m                 \u001b[0mXt\u001b[0m \u001b[0;34m=\u001b[0m \u001b[0mtransform\u001b[0m\u001b[0;34m.\u001b[0m\u001b[0mfit\u001b[0m\u001b[0;34m(\u001b[0m\u001b[0mXt\u001b[0m\u001b[0;34m,\u001b[0m \u001b[0my\u001b[0m\u001b[0;34m,\u001b[0m \u001b[0;34m**\u001b[0m\u001b[0mfit_params_steps\u001b[0m\u001b[0;34m[\u001b[0m\u001b[0mname\u001b[0m\u001b[0;34m]\u001b[0m\u001b[0;34m)\u001b[0m\u001b[0;31m \u001b[0m\u001b[0;31m\\\u001b[0m\u001b[0;34m\u001b[0m\u001b[0m\n",
        "\u001b[0;32m/Users/williamliu/anaconda/lib/python2.7/site-packages/sklearn/base.pyc\u001b[0m in \u001b[0;36mfit_transform\u001b[0;34m(self, X, y, **fit_params)\u001b[0m\n\u001b[1;32m    427\u001b[0m         \u001b[0;32melse\u001b[0m\u001b[0;34m:\u001b[0m\u001b[0;34m\u001b[0m\u001b[0m\n\u001b[1;32m    428\u001b[0m             \u001b[0;31m# fit method of arity 2 (supervised transformation)\u001b[0m\u001b[0;34m\u001b[0m\u001b[0;34m\u001b[0m\u001b[0m\n\u001b[0;32m--> 429\u001b[0;31m             \u001b[0;32mreturn\u001b[0m \u001b[0mself\u001b[0m\u001b[0;34m.\u001b[0m\u001b[0mfit\u001b[0m\u001b[0;34m(\u001b[0m\u001b[0mX\u001b[0m\u001b[0;34m,\u001b[0m \u001b[0my\u001b[0m\u001b[0;34m,\u001b[0m \u001b[0;34m**\u001b[0m\u001b[0mfit_params\u001b[0m\u001b[0;34m)\u001b[0m\u001b[0;34m.\u001b[0m\u001b[0mtransform\u001b[0m\u001b[0;34m(\u001b[0m\u001b[0mX\u001b[0m\u001b[0;34m)\u001b[0m\u001b[0;34m\u001b[0m\u001b[0m\n\u001b[0m\u001b[1;32m    430\u001b[0m \u001b[0;34m\u001b[0m\u001b[0m\n\u001b[1;32m    431\u001b[0m \u001b[0;34m\u001b[0m\u001b[0m\n",
        "\u001b[0;32m/Users/williamliu/anaconda/lib/python2.7/site-packages/sklearn/feature_selection/base.pyc\u001b[0m in \u001b[0;36mtransform\u001b[0;34m(self, X)\u001b[0m\n\u001b[1;32m     75\u001b[0m         \u001b[0mmask\u001b[0m \u001b[0;34m=\u001b[0m \u001b[0mself\u001b[0m\u001b[0;34m.\u001b[0m\u001b[0mget_support\u001b[0m\u001b[0;34m(\u001b[0m\u001b[0;34m)\u001b[0m\u001b[0;34m\u001b[0m\u001b[0m\n\u001b[1;32m     76\u001b[0m         \u001b[0;32mif\u001b[0m \u001b[0mlen\u001b[0m\u001b[0;34m(\u001b[0m\u001b[0mmask\u001b[0m\u001b[0;34m)\u001b[0m \u001b[0;34m!=\u001b[0m \u001b[0mX\u001b[0m\u001b[0;34m.\u001b[0m\u001b[0mshape\u001b[0m\u001b[0;34m[\u001b[0m\u001b[0;36m1\u001b[0m\u001b[0;34m]\u001b[0m\u001b[0;34m:\u001b[0m\u001b[0;34m\u001b[0m\u001b[0m\n\u001b[0;32m---> 77\u001b[0;31m             \u001b[0;32mraise\u001b[0m \u001b[0mValueError\u001b[0m\u001b[0;34m(\u001b[0m\u001b[0;34m\"X has a different shape than during fitting.\"\u001b[0m\u001b[0;34m)\u001b[0m\u001b[0;34m\u001b[0m\u001b[0m\n\u001b[0m\u001b[1;32m     78\u001b[0m         \u001b[0;32mreturn\u001b[0m \u001b[0matleast2d_or_csr\u001b[0m\u001b[0;34m(\u001b[0m\u001b[0mX\u001b[0m\u001b[0;34m)\u001b[0m\u001b[0;34m[\u001b[0m\u001b[0;34m:\u001b[0m\u001b[0;34m,\u001b[0m \u001b[0msafe_mask\u001b[0m\u001b[0;34m(\u001b[0m\u001b[0mX\u001b[0m\u001b[0;34m,\u001b[0m \u001b[0mmask\u001b[0m\u001b[0;34m)\u001b[0m\u001b[0;34m]\u001b[0m\u001b[0;34m\u001b[0m\u001b[0m\n\u001b[1;32m     79\u001b[0m \u001b[0;34m\u001b[0m\u001b[0m\n",
        "\u001b[0;31mValueError\u001b[0m: X has a different shape than during fitting."
       ]
      }
     ],
     "prompt_number": 463
    },
    {
     "cell_type": "code",
     "collapsed": false,
     "input": [
      "scores=[]\n",
      "for train_index, test_index in kf:\n",
      "    print \"Train: \", train_index, \" Test: \", test_index\n",
      "    X_train, X_test = train_clean[train_index], test_clean[test_index]\n",
      "    #y_train, y_test = y[train_index], y[test_index]\n",
      "    clf = LogisticRegression().fit(X, y)\n",
      "    scores.append(clf.score(X_test, y_test))\n",
      "\n",
      "print(\"Mean(scores)=%.5f\\tStddev(scores)=%.5f\"%(np.mean(scores, np.std(scores)))"
     ],
     "language": "python",
     "metadata": {},
     "outputs": []
    },
    {
     "cell_type": "code",
     "collapsed": false,
     "input": [
      "my_pipeline.set_params().fit(X_train, y_train)"
     ],
     "language": "python",
     "metadata": {},
     "outputs": []
    },
    {
     "cell_type": "heading",
     "level": 3,
     "metadata": {},
     "source": [
      "Look at bias, variance"
     ]
    },
    {
     "cell_type": "code",
     "collapsed": false,
     "input": [
      "from sklearn.metrics import precision_recall_curve\n",
      "#Look at precision, recall, thresholds\n",
      "\n",
      "precision_recall_curve(y_test, clf.predict(X_test)"
     ],
     "language": "python",
     "metadata": {},
     "outputs": []
    },
    {
     "cell_type": "code",
     "collapsed": false,
     "input": [
      "from sklearn.metrics import classification_report\n",
      "print(classification_report(y_test, clf.predict_proba [:,1]>0.63, target_names=[1,2]))"
     ],
     "language": "python",
     "metadata": {},
     "outputs": []
    }
   ],
   "metadata": {}
  }
 ]
}