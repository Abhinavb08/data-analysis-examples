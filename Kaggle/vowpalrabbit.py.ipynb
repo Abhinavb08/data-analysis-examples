{
 "metadata": {
  "name": "",
  "signature": "sha256:4ec348f1d261220ca320dc328a92593c0764871338241230f8ec8b8650db207c"
 },
 "nbformat": 3,
 "nbformat_minor": 0,
 "worksheets": [
  {
   "cells": [
    {
     "cell_type": "code",
     "collapsed": false,
     "input": [
      "import pandas as pd\n",
      "import numpy as np\n",
      "import string as stri\n",
      "from datetime import datetime\n",
      "import math"
     ],
     "language": "python",
     "metadata": {},
     "outputs": [],
     "prompt_number": 1
    },
    {
     "cell_type": "code",
     "collapsed": false,
     "input": [
      "def csv_to_vw(loc_csv, loc_output, train=True):\n",
      "    start = datetime.now()\n",
      "    print(\"\\nTurning %s into %s. Is_train_set? %s\"%(loc_csv,loc_output,train))\n",
      "    i = open(loc_csv, \"r\")\n",
      "    j = open(loc_output, 'wb')\n",
      "    counter=0\n",
      "    with i as infile:\n",
      "        line_count=0\n",
      "        for line in infile:\n",
      "            # to counter the header\n",
      "            if line_count==0:\n",
      "                line_count=1\n",
      "                continue\n",
      "            # The data has all categorical features\n",
      "            #numerical_features = \"\"\n",
      "            categorical_features = \"\"\n",
      "            counter = counter+1\n",
      "            #print counter\n",
      "            line = line.split(\",\")\n",
      "            if train:\n",
      "                #working on the date column. We will take day , hour\n",
      "                a = line[2]\n",
      "                new_date= datetime(int(\"20\"+a[0:2]),int(a[2:4]),int(a[4:6]))\n",
      "                day = new_date.strftime(\"%A\")\n",
      "                hour= a[6:8]\n",
      "                categorical_features += \" |hr %s\" % hour\n",
      "                categorical_features += \" |day %s\" % day\n",
      "                # 24 columns in data    \n",
      "                for i in range(3,24):\n",
      "                    if line[i] != \"\":\n",
      "                        categorical_features += \"|c%s %s\" % (str(i),line[i])\n",
      "            else:\n",
      "                a = line[1]\n",
      "                new_date= datetime(int(\"20\"+a[0:2]),int(a[2:4]),int(a[4:6]))\n",
      "                day = new_date.strftime(\"%A\")\n",
      "                hour= a[6:8]\n",
      "                categorical_features += \" |hr %s\" % hour\n",
      "                categorical_features += \" |day %s\" % day\n",
      "                for i in range(2,23):\n",
      "                    if line[i] != \"\":\n",
      "                        categorical_features += \" |c%s %s\" % (str(i+1),line[i])\n",
      "  #Creating the labels\n",
      "            #print \"a\"\n",
      "            if train: #we care about labels\n",
      "                if line[1] == \"1\":\n",
      "                    label = 1\n",
      "                else:\n",
      "                    label = -1 #we set negative label to -1\n",
      "                #print (numerical_features)\n",
      "                #print categorical_features\n",
      "                j.write( \"%s '%s %s\\n\" % (label,line[0],categorical_features))\n",
      "\n",
      "            else: #we dont care about labels\n",
      "                #print ( \"1 '%s |i%s |c%s\\n\" % (line[0],numerical_features,categorical_features) )\n",
      "                j.write( \"1 '%s %s\\n\" % (line[0],categorical_features) )\n",
      "\n",
      "  #Reporting progress\n",
      "            #print counter\n",
      "            if counter % 1000000 == 0:\n",
      "                print(\"%s\\t%s\"%(counter, str(datetime.now() - start)))\n",
      "\n",
      "    print(\"\\n %s Task execution time:\\n\\t%s\"%(counter, str(datetime.now() - start)))\n",
      "\n"
     ],
     "language": "python",
     "metadata": {},
     "outputs": [],
     "prompt_number": 2
    },
    {
     "cell_type": "code",
     "collapsed": false,
     "input": [
      "#/Users/williamliu/Desktop/Kaggle_Avazu/train\n",
      "#csv_to_vw(\"/Users/RahulAgarwal/kaggle_cpr/train\", \"/Users/RahulAgarwal/kaggle_cpr/click.train_original_data.vw\",train=True)\n",
      "#csv_to_vw(\"/Users/RahulAgarwal/kaggle_cpr/test\", \"/Users/RahulAgarwal/kaggle_cpr/click.test_original_data.vw\",train=False)\n",
      "csv_to_vw(\"/Users/williamliu/Desktop/Kaggle_Avazu/train\", \"/Users/williamliu/Desktop/Kaggle_Avazu/click.train_original_data.vw\",train=True)\n",
      "csv_to_vw(\"/Users/williamliu/Desktop/Kaggle_Avazu/test\", \"/Users/williamliu/Desktop/Kaggle_Avazu/click.test_original_data.vw\",train=False)\n"
     ],
     "language": "python",
     "metadata": {},
     "outputs": [
      {
       "output_type": "stream",
       "stream": "stdout",
       "text": [
        "\n",
        "Turning /Users/williamliu/Desktop/Kaggle_Avazu/train into /Users/williamliu/Desktop/Kaggle_Avazu/click.train_original_data.vw. Is_train_set? True\n",
        "1000000\t0:00:28.364111"
       ]
      },
      {
       "output_type": "stream",
       "stream": "stdout",
       "text": [
        "\n",
        "2000000\t0:00:56.296630"
       ]
      },
      {
       "output_type": "stream",
       "stream": "stdout",
       "text": [
        "\n",
        "3000000\t0:01:23.371541"
       ]
      },
      {
       "output_type": "stream",
       "stream": "stdout",
       "text": [
        "\n",
        "4000000\t0:01:50.284181"
       ]
      },
      {
       "output_type": "stream",
       "stream": "stdout",
       "text": [
        "\n",
        "5000000\t0:02:17.149259"
       ]
      },
      {
       "output_type": "stream",
       "stream": "stdout",
       "text": [
        "\n",
        "6000000\t0:02:43.968238"
       ]
      },
      {
       "output_type": "stream",
       "stream": "stdout",
       "text": [
        "\n",
        "7000000\t0:03:10.986504"
       ]
      },
      {
       "output_type": "stream",
       "stream": "stdout",
       "text": [
        "\n",
        "8000000\t0:03:38.216930"
       ]
      },
      {
       "output_type": "stream",
       "stream": "stdout",
       "text": [
        "\n",
        "9000000\t0:04:05.145004"
       ]
      },
      {
       "output_type": "stream",
       "stream": "stdout",
       "text": [
        "\n",
        "10000000\t0:04:32.645834"
       ]
      },
      {
       "output_type": "stream",
       "stream": "stdout",
       "text": [
        "\n",
        "11000000\t0:05:00.217755"
       ]
      },
      {
       "output_type": "stream",
       "stream": "stdout",
       "text": [
        "\n",
        "12000000\t0:05:27.964880"
       ]
      },
      {
       "output_type": "stream",
       "stream": "stdout",
       "text": [
        "\n",
        "13000000\t0:05:55.335243"
       ]
      },
      {
       "output_type": "stream",
       "stream": "stdout",
       "text": [
        "\n",
        "14000000\t0:06:23.143319"
       ]
      },
      {
       "output_type": "stream",
       "stream": "stdout",
       "text": [
        "\n",
        "15000000\t0:06:50.643870"
       ]
      },
      {
       "output_type": "stream",
       "stream": "stdout",
       "text": [
        "\n",
        "16000000\t0:07:18.006888"
       ]
      },
      {
       "output_type": "stream",
       "stream": "stdout",
       "text": [
        "\n",
        "17000000\t0:07:45.275786"
       ]
      },
      {
       "output_type": "stream",
       "stream": "stdout",
       "text": [
        "\n",
        "18000000\t0:08:13.266424"
       ]
      },
      {
       "output_type": "stream",
       "stream": "stdout",
       "text": [
        "\n",
        "19000000\t0:08:41.780186"
       ]
      },
      {
       "output_type": "stream",
       "stream": "stdout",
       "text": [
        "\n",
        "20000000\t0:09:09.101581"
       ]
      },
      {
       "output_type": "stream",
       "stream": "stdout",
       "text": [
        "\n",
        "21000000\t0:09:36.317096"
       ]
      },
      {
       "output_type": "stream",
       "stream": "stdout",
       "text": [
        "\n",
        "22000000\t0:10:04.623717"
       ]
      },
      {
       "output_type": "stream",
       "stream": "stdout",
       "text": [
        "\n",
        "23000000\t0:10:32.066344"
       ]
      },
      {
       "output_type": "stream",
       "stream": "stdout",
       "text": [
        "\n",
        "24000000\t0:10:59.560568"
       ]
      },
      {
       "output_type": "stream",
       "stream": "stdout",
       "text": [
        "\n",
        "25000000\t0:11:27.662637"
       ]
      },
      {
       "output_type": "stream",
       "stream": "stdout",
       "text": [
        "\n",
        "26000000\t0:11:54.964001"
       ]
      },
      {
       "output_type": "stream",
       "stream": "stdout",
       "text": [
        "\n",
        "27000000\t0:12:22.803899"
       ]
      },
      {
       "output_type": "stream",
       "stream": "stdout",
       "text": [
        "\n",
        "28000000\t0:12:49.996927"
       ]
      },
      {
       "output_type": "stream",
       "stream": "stdout",
       "text": [
        "\n",
        "29000000\t0:13:16.906704"
       ]
      },
      {
       "output_type": "stream",
       "stream": "stdout",
       "text": [
        "\n",
        "30000000\t0:13:44.016323"
       ]
      },
      {
       "output_type": "stream",
       "stream": "stdout",
       "text": [
        "\n",
        "31000000\t0:14:11.133372"
       ]
      },
      {
       "output_type": "stream",
       "stream": "stdout",
       "text": [
        "\n",
        "32000000\t0:14:38.223718"
       ]
      },
      {
       "output_type": "stream",
       "stream": "stdout",
       "text": [
        "\n",
        "33000000\t0:15:05.693857"
       ]
      },
      {
       "output_type": "stream",
       "stream": "stdout",
       "text": [
        "\n",
        "34000000\t0:15:35.113787"
       ]
      },
      {
       "output_type": "stream",
       "stream": "stdout",
       "text": [
        "\n",
        "35000000\t0:16:04.585014"
       ]
      },
      {
       "output_type": "stream",
       "stream": "stdout",
       "text": [
        "\n",
        "36000000\t0:16:31.868917"
       ]
      },
      {
       "output_type": "stream",
       "stream": "stdout",
       "text": [
        "\n",
        "37000000\t0:16:58.926037"
       ]
      },
      {
       "output_type": "stream",
       "stream": "stdout",
       "text": [
        "\n",
        "38000000\t0:17:26.753110"
       ]
      },
      {
       "output_type": "stream",
       "stream": "stdout",
       "text": [
        "\n",
        "39000000\t0:17:54.896630"
       ]
      },
      {
       "output_type": "stream",
       "stream": "stdout",
       "text": [
        "\n",
        "40000000\t0:18:22.523114"
       ]
      },
      {
       "output_type": "stream",
       "stream": "stdout",
       "text": [
        "\n",
        "\n",
        " 40428967 Task execution time:\n",
        "\t0:18:34.010708"
       ]
      },
      {
       "output_type": "stream",
       "stream": "stdout",
       "text": [
        "\n",
        "\n",
        "Turning /Users/williamliu/Desktop/Kaggle_Avazu/test into /Users/williamliu/Desktop/Kaggle_Avazu/click.test_original_data.vw. Is_train_set? False\n",
        "1000000\t0:00:27.934977"
       ]
      },
      {
       "output_type": "stream",
       "stream": "stdout",
       "text": [
        "\n",
        "2000000\t0:00:55.484618"
       ]
      },
      {
       "output_type": "stream",
       "stream": "stdout",
       "text": [
        "\n",
        "3000000\t0:01:23.553624"
       ]
      },
      {
       "output_type": "stream",
       "stream": "stdout",
       "text": [
        "\n",
        "4000000\t0:01:50.935360"
       ]
      },
      {
       "output_type": "stream",
       "stream": "stdout",
       "text": [
        "\n",
        "\n",
        " 4577464 Task execution time:\n",
        "\t0:02:07.125224"
       ]
      },
      {
       "output_type": "stream",
       "stream": "stdout",
       "text": [
        "\n"
       ]
      }
     ],
     "prompt_number": 3
    },
    {
     "cell_type": "code",
     "collapsed": false,
     "input": [
      "def zygmoid(x):\n",
      "    return 1 / (1 + math.exp(-x))\n",
      "\n",
      "with open(\"kaggle.click.submission.csv\",\"wb\") as outfile:\n",
      "    outfile.write(\"id,click\\n\")\n",
      "    for line in open(\"/Users/williamliu/Desktop/Kaggle_Avazu/click.preds.txt\"):\n",
      "        \n",
      "        row = line.strip().split(\" \")\n",
      "        try:\n",
      "            outfile.write(\"%s,%f\\n\"%(row[1],zygmoid(float(row[0]))))\n",
      "        except:\n",
      "            pass"
     ],
     "language": "python",
     "metadata": {},
     "outputs": [],
     "prompt_number": 2
    },
    {
     "cell_type": "code",
     "collapsed": false,
     "input": [],
     "language": "python",
     "metadata": {},
     "outputs": []
    }
   ],
   "metadata": {}
  }
 ]
}