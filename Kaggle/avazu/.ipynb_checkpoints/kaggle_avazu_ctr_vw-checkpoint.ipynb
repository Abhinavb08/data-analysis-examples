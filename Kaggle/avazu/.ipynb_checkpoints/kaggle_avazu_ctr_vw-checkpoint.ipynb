{
 "metadata": {
  "name": "",
  "signature": "sha256:3f60cd15a0440405efc09c0add27cbf6befc744f82e4500e665e44d406f999b8"
 },
 "nbformat": 3,
 "nbformat_minor": 0,
 "worksheets": [
  {
   "cells": [
    {
     "cell_type": "code",
     "collapsed": false,
     "input": [
      "# Load libraries and data\n",
      "import string\n",
      "import math\n",
      "from datetime import datetime\n",
      "\n",
      "import pandas as pd\n",
      "import numpy as np\n",
      "\n",
      "# Dataset too large to fit in memory, switching to Vowpal Wabbit since memory won't affect size of features, one example/line\n",
      "data = pd.read_csv(\"/Users/williamliu/Desktop/Kaggle_Avazu/train\")"
     ],
     "language": "python",
     "metadata": {},
     "outputs": []
    },
    {
     "cell_type": "code",
     "collapsed": false,
     "input": [],
     "language": "python",
     "metadata": {},
     "outputs": []
    }
   ],
   "metadata": {}
  }
 ]
}