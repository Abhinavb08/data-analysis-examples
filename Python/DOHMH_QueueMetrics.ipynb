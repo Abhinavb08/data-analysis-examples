{
 "metadata": {
  "name": "",
  "signature": "sha256:a392cbfe737400595111e29e187e6f5c86ea5b37b3ac782d0d117ff345ef759e"
 },
 "nbformat": 3,
 "nbformat_minor": 0,
 "worksheets": [
  {
   "cells": [
    {
     "cell_type": "code",
     "collapsed": false,
     "input": [
      "\"\"\" Load call data for DOHMH, filter out specific lines \"\"\"\n",
      "import pandas as pd"
     ],
     "language": "python",
     "metadata": {},
     "outputs": [],
     "prompt_number": 2
    },
    {
     "cell_type": "code",
     "collapsed": false,
     "input": [
      "data = pd.from_csv('')"
     ],
     "language": "python",
     "metadata": {},
     "outputs": []
    }
   ],
   "metadata": {}
  }
 ]
}